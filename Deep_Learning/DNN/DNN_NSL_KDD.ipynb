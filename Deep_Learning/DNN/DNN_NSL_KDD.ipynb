{
  "nbformat": 4,
  "nbformat_minor": 0,
  "metadata": {
    "colab": {
      "name": "DNN_NSL_KDD.ipynb",
      "provenance": []
    },
    "kernelspec": {
      "display_name": "Python 3",
      "language": "python",
      "name": "python3"
    },
    "language_info": {
      "codemirror_mode": {
        "name": "ipython",
        "version": 3
      },
      "file_extension": ".py",
      "mimetype": "text/x-python",
      "name": "python",
      "nbconvert_exporter": "python",
      "pygments_lexer": "ipython3",
      "version": "3.6.4"
    }
  },
  "cells": [
    {
      "cell_type": "code",
      "metadata": {
        "colab": {
          "base_uri": "https://localhost:8080/"
        },
        "id": "Noe56VbEffHj",
        "outputId": "dca4c6d9-6840-4c99-b97d-af87ccb1fef7"
      },
      "source": [
        "from google.colab import drive\n",
        "drive.mount('/content/drive')"
      ],
      "execution_count": null,
      "outputs": [
        {
          "output_type": "stream",
          "text": [
            "Mounted at /content/drive\n"
          ],
          "name": "stdout"
        }
      ]
    },
    {
      "cell_type": "code",
      "metadata": {
        "id": "eFqpM_nsfPA-"
      },
      "source": [
        "import numpy as np\n",
        "import pandas as pd\n",
        "import tensorflow as tf\n",
        "from sklearn.preprocessing import Normalizer, StandardScaler\n",
        "from scipy.io import arff\n",
        "from keras.models import Sequential\n",
        "from keras.layers import Dense, Dropout, Activation, Embedding\n",
        "import h5py\n",
        "#from sklearn.metrics import multilabel_confusion_matrix\n",
        "from sklearn.metrics import ConfusionMatrixDisplay\n",
        "from sklearn.metrics import classification_report, confusion_matrix, ConfusionMatrixDisplay\n",
        "from sklearn.metrics import (precision_score, recall_score,f1_score, accuracy_score,mean_squared_error,mean_absolute_error,roc_auc_score,cohen_kappa_score)"
      ],
      "execution_count": null,
      "outputs": []
    },
    {
      "cell_type": "code",
      "metadata": {
        "id": "Kpo736XofPBD"
      },
      "source": [
        "#load training dataset\n",
        "dataTrain = arff.loadarff('/content/drive/My Drive/KDDTrain20MultiClass.arff')\n",
        "traindata = pd.DataFrame(dataTrain[0])\n",
        "dataTest = arff.loadarff('/content/drive/My Drive/KDDTest21MultiClass.arff')\n",
        "testdata = pd.DataFrame(dataTrain[0])"
      ],
      "execution_count": null,
      "outputs": []
    },
    {
      "cell_type": "code",
      "metadata": {
        "colab": {
          "base_uri": "https://localhost:8080/"
        },
        "id": "KqAsQguVByNB",
        "outputId": "e332ef42-dc3d-4579-8182-2b9e38cce24e"
      },
      "source": [
        "testdata.head"
      ],
      "execution_count": null,
      "outputs": [
        {
          "output_type": "execute_result",
          "data": {
            "text/plain": [
              "<bound method NDFrame.head of        duration  src_bytes  dst_bytes  land  ...  protocol_type  service  flag  xAttack\n",
              "0           0.0      491.0        0.0  b'0'  ...           b'1'    b'20'  b'2'     b'5'\n",
              "1           0.0      146.0        0.0  b'0'  ...           b'3'    b'45'  b'2'     b'5'\n",
              "2           0.0        0.0        0.0  b'0'  ...           b'1'    b'50'  b'4'     b'1'\n",
              "3           0.0      232.0     8153.0  b'0'  ...           b'1'    b'25'  b'2'     b'5'\n",
              "4           0.0      199.0      420.0  b'0'  ...           b'1'    b'25'  b'2'     b'5'\n",
              "...         ...        ...        ...   ...  ...            ...      ...   ...      ...\n",
              "25187       0.0        0.0        0.0  b'0'  ...           b'1'    b'18'  b'3'     b'1'\n",
              "25188       0.0      334.0        0.0  b'0'  ...           b'1'    b'20'  b'2'     b'3'\n",
              "25189       0.0        0.0        0.0  b'0'  ...           b'1'    b'50'  b'1'     b'1'\n",
              "25190       0.0        0.0        0.0  b'0'  ...           b'1'    b'42'  b'4'     b'1'\n",
              "25191       0.0        0.0        0.0  b'0'  ...           b'1'    b'19'  b'4'     b'1'\n",
              "\n",
              "[25192 rows x 42 columns]>"
            ]
          },
          "metadata": {
            "tags": []
          },
          "execution_count": 38
        }
      ]
    },
    {
      "cell_type": "code",
      "metadata": {
        "id": "pmMWhdGMC6-7"
      },
      "source": [
        "X_train = traindata.iloc[:, :-1].values\r\n",
        "Y_train = traindata.iloc[:, 41].values\r\n",
        "\r\n",
        "X_test = testdata.iloc[:, :-1].values\r\n",
        "Y_test = testdata.iloc[:, 41].values"
      ],
      "execution_count": null,
      "outputs": []
    },
    {
      "cell_type": "code",
      "metadata": {
        "id": "EzoA5Rx5C-rz"
      },
      "source": [
        "sc = StandardScaler()\r\n",
        "X_train = sc.fit_transform(X_train)\r\n",
        "X_test = sc.transform(X_test)\r\n",
        "\r\n",
        "X_train.shape\r\n",
        "\r\n",
        "X_train = np.reshape(X_train, (X_train.shape[0], X_train.shape[1]))\r\n",
        "X_test = np.reshape(X_test, (X_test.shape[0], X_test.shape[1]))\r\n",
        "\r\n",
        "from keras.utils.np_utils import to_categorical\r\n",
        "\r\n",
        "y_train = np.array(Y_train)\r\n",
        "y_test = np.array(Y_test)\r\n",
        "y_train= to_categorical(y_train)\r\n",
        "y_test= to_categorical(y_test)"
      ],
      "execution_count": null,
      "outputs": []
    },
    {
      "cell_type": "code",
      "metadata": {
        "id": "kA1htA-RfPBH"
      },
      "source": [
        "X = traindata.iloc[:,1:42]\n",
        "Y = traindata.iloc[:,0]\n",
        "C = testdata.iloc[:,0]\n",
        "T = testdata.iloc[:,1:42]\n",
        "\n",
        "scaler = Normalizer().fit(X)\n",
        "trainX = scaler.transform(X)\n",
        "\n",
        "scaler = Normalizer().fit(T)\n",
        "testT = scaler.transform(T)\n",
        "\n",
        "\n",
        "traindata = np.array(trainX)\n",
        "trainlabel = np.array(Y)\n",
        "\n",
        "testdata = np.array(testT)\n",
        "testlabel = np.array(C)"
      ],
      "execution_count": null,
      "outputs": []
    },
    {
      "cell_type": "code",
      "metadata": {
        "colab": {
          "base_uri": "https://localhost:8080/"
        },
        "id": "gQXqJPx6fPBK",
        "outputId": "6656f3cf-fdab-4967-e4e5-6974b5fa0be0"
      },
      "source": [
        "batch_size = 64\n",
        "\n",
        "# 1. define the network\n",
        "model = Sequential()\n",
        "model.add(Dense(800,input_dim=41,activation='relu'))  \n",
        "model.add(Dropout(0.9))\n",
        "model.add(Dense(400, activation='relu'))\n",
        "model.add(Dropout(0.9))\n",
        "model.add(Dense(6))\n",
        "model.add(Activation('softmax'))\n",
        "\n",
        "# compile model\n",
        "model.compile(loss='categorical_crossentropy', optimizer='adam', metrics=['accuracy'])\n",
        "# Fit the model\n",
        "model.fit(X_train, y_train, epochs=100, batch_size=batch_size, verbose=1)\n",
        "# evaluate the model\n",
        "scores = model.evaluate(X_test, y_test, verbose=0)\n",
        "print(\"%s: %.2f%%\" % (model.metrics_names[1], scores[1]*100))\n",
        "# save model and architecture to single file\n",
        "model.save(\"model.h5\")\n",
        "print(\"Saved model to disk\")"
      ],
      "execution_count": null,
      "outputs": [
        {
          "output_type": "stream",
          "text": [
            "Epoch 1/100\n",
            "394/394 [==============================] - 3s 7ms/step - loss: 0.6222 - accuracy: 0.8523\n",
            "Epoch 2/100\n",
            "394/394 [==============================] - 3s 7ms/step - loss: 0.2868 - accuracy: 0.9356\n",
            "Epoch 3/100\n",
            "394/394 [==============================] - 3s 8ms/step - loss: 0.2358 - accuracy: 0.9456\n",
            "Epoch 4/100\n",
            "394/394 [==============================] - 3s 7ms/step - loss: 0.1974 - accuracy: 0.9505\n",
            "Epoch 5/100\n",
            "394/394 [==============================] - 3s 7ms/step - loss: 0.1887 - accuracy: 0.9568\n",
            "Epoch 6/100\n",
            "394/394 [==============================] - 3s 7ms/step - loss: 0.1666 - accuracy: 0.9598\n",
            "Epoch 7/100\n",
            "394/394 [==============================] - 3s 7ms/step - loss: 0.1585 - accuracy: 0.9630\n",
            "Epoch 8/100\n",
            "394/394 [==============================] - 3s 7ms/step - loss: 0.1911 - accuracy: 0.9647\n",
            "Epoch 9/100\n",
            "394/394 [==============================] - 3s 7ms/step - loss: 0.1858 - accuracy: 0.9661\n",
            "Epoch 10/100\n",
            "394/394 [==============================] - 3s 7ms/step - loss: 0.1747 - accuracy: 0.9665\n",
            "Epoch 11/100\n",
            "394/394 [==============================] - 3s 8ms/step - loss: 0.1647 - accuracy: 0.9691\n",
            "Epoch 12/100\n",
            "394/394 [==============================] - 3s 8ms/step - loss: 0.1438 - accuracy: 0.9696\n",
            "Epoch 13/100\n",
            "394/394 [==============================] - 3s 8ms/step - loss: 0.1307 - accuracy: 0.9697\n",
            "Epoch 14/100\n",
            "394/394 [==============================] - 3s 8ms/step - loss: 0.1394 - accuracy: 0.9713\n",
            "Epoch 15/100\n",
            "394/394 [==============================] - 3s 8ms/step - loss: 0.1279 - accuracy: 0.9723\n",
            "Epoch 16/100\n",
            "394/394 [==============================] - 3s 8ms/step - loss: 0.1656 - accuracy: 0.9726\n",
            "Epoch 17/100\n",
            "394/394 [==============================] - 3s 8ms/step - loss: 0.1448 - accuracy: 0.9733\n",
            "Epoch 18/100\n",
            "394/394 [==============================] - 3s 8ms/step - loss: 0.1287 - accuracy: 0.9728\n",
            "Epoch 19/100\n",
            "394/394 [==============================] - 3s 7ms/step - loss: 0.1529 - accuracy: 0.9730\n",
            "Epoch 20/100\n",
            "394/394 [==============================] - 3s 8ms/step - loss: 0.1529 - accuracy: 0.9752\n",
            "Epoch 21/100\n",
            "394/394 [==============================] - 3s 7ms/step - loss: 0.1338 - accuracy: 0.9728\n",
            "Epoch 22/100\n",
            "394/394 [==============================] - 3s 8ms/step - loss: 0.1342 - accuracy: 0.9729\n",
            "Epoch 23/100\n",
            "394/394 [==============================] - 3s 7ms/step - loss: 0.1305 - accuracy: 0.9741\n",
            "Epoch 24/100\n",
            "394/394 [==============================] - 3s 8ms/step - loss: 0.0971 - accuracy: 0.9746\n",
            "Epoch 25/100\n",
            "394/394 [==============================] - 3s 7ms/step - loss: 0.1334 - accuracy: 0.9748\n",
            "Epoch 26/100\n",
            "394/394 [==============================] - 3s 7ms/step - loss: 0.1160 - accuracy: 0.9755\n",
            "Epoch 27/100\n",
            "394/394 [==============================] - 3s 7ms/step - loss: 0.1406 - accuracy: 0.9759\n",
            "Epoch 28/100\n",
            "394/394 [==============================] - 3s 7ms/step - loss: 0.1410 - accuracy: 0.9756\n",
            "Epoch 29/100\n",
            "394/394 [==============================] - 3s 7ms/step - loss: 0.1101 - accuracy: 0.9763\n",
            "Epoch 30/100\n",
            "394/394 [==============================] - 3s 7ms/step - loss: 0.1076 - accuracy: 0.9748\n",
            "Epoch 31/100\n",
            "394/394 [==============================] - 3s 7ms/step - loss: 0.1288 - accuracy: 0.9753\n",
            "Epoch 32/100\n",
            "394/394 [==============================] - 3s 8ms/step - loss: 0.1780 - accuracy: 0.9741\n",
            "Epoch 33/100\n",
            "394/394 [==============================] - 3s 7ms/step - loss: 0.2158 - accuracy: 0.9748\n",
            "Epoch 34/100\n",
            "394/394 [==============================] - 3s 8ms/step - loss: 0.1486 - accuracy: 0.9749\n",
            "Epoch 35/100\n",
            "394/394 [==============================] - 3s 7ms/step - loss: 0.1198 - accuracy: 0.9761\n",
            "Epoch 36/100\n",
            "394/394 [==============================] - 3s 8ms/step - loss: 0.1746 - accuracy: 0.9736\n",
            "Epoch 37/100\n",
            "394/394 [==============================] - 3s 7ms/step - loss: 0.1141 - accuracy: 0.9745\n",
            "Epoch 38/100\n",
            "394/394 [==============================] - 3s 7ms/step - loss: 0.1400 - accuracy: 0.9752\n",
            "Epoch 39/100\n",
            "394/394 [==============================] - 3s 7ms/step - loss: 0.1235 - accuracy: 0.9756\n",
            "Epoch 40/100\n",
            "394/394 [==============================] - 3s 7ms/step - loss: 0.1211 - accuracy: 0.9767\n",
            "Epoch 41/100\n",
            "394/394 [==============================] - 3s 7ms/step - loss: 0.1355 - accuracy: 0.9769\n",
            "Epoch 42/100\n",
            "394/394 [==============================] - 3s 7ms/step - loss: 0.1233 - accuracy: 0.9773\n",
            "Epoch 43/100\n",
            "394/394 [==============================] - 3s 7ms/step - loss: 0.1594 - accuracy: 0.9767\n",
            "Epoch 44/100\n",
            "394/394 [==============================] - 3s 8ms/step - loss: 0.1238 - accuracy: 0.9775\n",
            "Epoch 45/100\n",
            "394/394 [==============================] - 3s 7ms/step - loss: 0.1510 - accuracy: 0.9765\n",
            "Epoch 46/100\n",
            "394/394 [==============================] - 3s 7ms/step - loss: 0.1247 - accuracy: 0.9764\n",
            "Epoch 47/100\n",
            "394/394 [==============================] - 3s 8ms/step - loss: 0.1136 - accuracy: 0.9768\n",
            "Epoch 48/100\n",
            "394/394 [==============================] - 3s 7ms/step - loss: 0.1513 - accuracy: 0.9769\n",
            "Epoch 49/100\n",
            "394/394 [==============================] - 3s 7ms/step - loss: 0.1402 - accuracy: 0.9759\n",
            "Epoch 50/100\n",
            "394/394 [==============================] - 3s 8ms/step - loss: 0.1475 - accuracy: 0.9776\n",
            "Epoch 51/100\n",
            "394/394 [==============================] - 3s 7ms/step - loss: 0.1744 - accuracy: 0.9761\n",
            "Epoch 52/100\n",
            "394/394 [==============================] - 3s 8ms/step - loss: 0.1783 - accuracy: 0.9761\n",
            "Epoch 53/100\n",
            "394/394 [==============================] - 3s 7ms/step - loss: 0.1472 - accuracy: 0.9780\n",
            "Epoch 54/100\n",
            "394/394 [==============================] - 3s 8ms/step - loss: 0.1192 - accuracy: 0.9775\n",
            "Epoch 55/100\n",
            "394/394 [==============================] - 3s 7ms/step - loss: 0.2642 - accuracy: 0.9770\n",
            "Epoch 56/100\n",
            "394/394 [==============================] - 3s 8ms/step - loss: 0.1096 - accuracy: 0.9771\n",
            "Epoch 57/100\n",
            "394/394 [==============================] - 3s 7ms/step - loss: 0.1277 - accuracy: 0.9764\n",
            "Epoch 58/100\n",
            "394/394 [==============================] - 3s 7ms/step - loss: 0.1743 - accuracy: 0.9761\n",
            "Epoch 59/100\n",
            "394/394 [==============================] - 3s 7ms/step - loss: 0.1243 - accuracy: 0.9776\n",
            "Epoch 60/100\n",
            "394/394 [==============================] - 3s 7ms/step - loss: 0.1096 - accuracy: 0.9779\n",
            "Epoch 61/100\n",
            "394/394 [==============================] - 3s 8ms/step - loss: 0.1416 - accuracy: 0.9773\n",
            "Epoch 62/100\n",
            "394/394 [==============================] - 3s 7ms/step - loss: 0.2575 - accuracy: 0.9782\n",
            "Epoch 63/100\n",
            "394/394 [==============================] - 3s 8ms/step - loss: 0.1516 - accuracy: 0.9763\n",
            "Epoch 64/100\n",
            "394/394 [==============================] - 3s 7ms/step - loss: 0.1825 - accuracy: 0.9773\n",
            "Epoch 65/100\n",
            "394/394 [==============================] - 3s 8ms/step - loss: 0.1468 - accuracy: 0.9766\n",
            "Epoch 66/100\n",
            "394/394 [==============================] - 3s 7ms/step - loss: 0.1283 - accuracy: 0.9773\n",
            "Epoch 67/100\n",
            "394/394 [==============================] - 3s 8ms/step - loss: 0.1427 - accuracy: 0.9771\n",
            "Epoch 68/100\n",
            "394/394 [==============================] - 3s 7ms/step - loss: 0.1914 - accuracy: 0.9759\n",
            "Epoch 69/100\n",
            "394/394 [==============================] - 3s 7ms/step - loss: 0.0980 - accuracy: 0.9790\n",
            "Epoch 70/100\n",
            "394/394 [==============================] - 3s 7ms/step - loss: 0.1112 - accuracy: 0.9776\n",
            "Epoch 71/100\n",
            "394/394 [==============================] - 3s 7ms/step - loss: 0.1753 - accuracy: 0.9776\n",
            "Epoch 72/100\n",
            "394/394 [==============================] - 3s 8ms/step - loss: 0.1253 - accuracy: 0.9784\n",
            "Epoch 73/100\n",
            "394/394 [==============================] - 3s 7ms/step - loss: 0.1173 - accuracy: 0.9774\n",
            "Epoch 74/100\n",
            "394/394 [==============================] - 3s 8ms/step - loss: 0.1782 - accuracy: 0.9781\n",
            "Epoch 75/100\n",
            "394/394 [==============================] - 3s 8ms/step - loss: 0.1711 - accuracy: 0.9768\n",
            "Epoch 76/100\n",
            "394/394 [==============================] - 3s 8ms/step - loss: 0.1302 - accuracy: 0.9781\n",
            "Epoch 77/100\n",
            "394/394 [==============================] - 3s 7ms/step - loss: 0.1215 - accuracy: 0.9787\n",
            "Epoch 78/100\n",
            "394/394 [==============================] - 3s 7ms/step - loss: 0.1400 - accuracy: 0.9780\n",
            "Epoch 79/100\n",
            "394/394 [==============================] - 3s 7ms/step - loss: 0.1697 - accuracy: 0.9777\n",
            "Epoch 80/100\n",
            "394/394 [==============================] - 3s 7ms/step - loss: 0.1382 - accuracy: 0.9776\n",
            "Epoch 81/100\n",
            "394/394 [==============================] - 3s 8ms/step - loss: 0.1607 - accuracy: 0.9793\n",
            "Epoch 82/100\n",
            "394/394 [==============================] - 3s 7ms/step - loss: 0.1396 - accuracy: 0.9791\n",
            "Epoch 83/100\n",
            "394/394 [==============================] - 3s 8ms/step - loss: 0.2265 - accuracy: 0.9773\n",
            "Epoch 84/100\n",
            "394/394 [==============================] - 3s 8ms/step - loss: 0.1388 - accuracy: 0.9784\n",
            "Epoch 85/100\n",
            "394/394 [==============================] - 3s 8ms/step - loss: 0.2000 - accuracy: 0.9782\n",
            "Epoch 86/100\n",
            "394/394 [==============================] - 3s 7ms/step - loss: 0.1548 - accuracy: 0.9786\n",
            "Epoch 87/100\n",
            "394/394 [==============================] - 3s 8ms/step - loss: 0.1983 - accuracy: 0.9779\n",
            "Epoch 88/100\n",
            "394/394 [==============================] - 3s 8ms/step - loss: 0.1356 - accuracy: 0.9786\n",
            "Epoch 89/100\n",
            "394/394 [==============================] - 3s 8ms/step - loss: 0.1589 - accuracy: 0.9783\n",
            "Epoch 90/100\n",
            "394/394 [==============================] - 3s 8ms/step - loss: 0.1399 - accuracy: 0.9778\n",
            "Epoch 91/100\n",
            "394/394 [==============================] - 3s 7ms/step - loss: 0.1336 - accuracy: 0.9780\n",
            "Epoch 92/100\n",
            "394/394 [==============================] - 3s 8ms/step - loss: 0.1580 - accuracy: 0.9778\n",
            "Epoch 93/100\n",
            "394/394 [==============================] - 3s 7ms/step - loss: 0.1223 - accuracy: 0.9782\n",
            "Epoch 94/100\n",
            "394/394 [==============================] - 3s 8ms/step - loss: 0.1283 - accuracy: 0.9772\n",
            "Epoch 95/100\n",
            "394/394 [==============================] - 3s 8ms/step - loss: 0.1930 - accuracy: 0.9773\n",
            "Epoch 96/100\n",
            "394/394 [==============================] - 3s 7ms/step - loss: 0.1622 - accuracy: 0.9780\n",
            "Epoch 97/100\n",
            "394/394 [==============================] - 3s 7ms/step - loss: 0.1334 - accuracy: 0.9785\n",
            "Epoch 98/100\n",
            "394/394 [==============================] - 3s 8ms/step - loss: 0.1085 - accuracy: 0.9787\n",
            "Epoch 99/100\n",
            "394/394 [==============================] - 3s 8ms/step - loss: 0.1094 - accuracy: 0.9781\n",
            "Epoch 100/100\n",
            "394/394 [==============================] - 3s 7ms/step - loss: 0.3157 - accuracy: 0.9797\n",
            "accuracy: 98.85%\n",
            "Saved model to disk\n"
          ],
          "name": "stdout"
        }
      ]
    },
    {
      "cell_type": "code",
      "metadata": {
        "id": "8UE99Q7JFQER",
        "colab": {
          "base_uri": "https://localhost:8080/"
        },
        "outputId": "c680dfe7-c5e5-4a9c-a0fc-807ffeaf3047"
      },
      "source": [
        "### train_accuracy\r\n",
        "from sklearn.metrics import classification_report, confusion_matrix, ConfusionMatrixDisplay\r\n",
        "from sklearn.metrics import (precision_score, recall_score,f1_score, accuracy_score,mean_squared_error,mean_absolute_error,roc_auc_score,cohen_kappa_score)\r\n",
        "import sklearn.metrics as metrics\r\n",
        "\r\n",
        "target_names = ['DoS', 'U2R', 'R2L', 'Probe', 'Normal', 'Unknown']\r\n",
        "\r\n",
        "expected = y_train\r\n",
        "predicted = model.predict(X_train)\r\n",
        "data = classification_report(expected,np.round(predicted), target_names=target_names)\r\n",
        "print(data)\r\n",
        "print(\"Accuracy_Train:\",metrics.accuracy_score(expected, np.round(predicted)))\r\n",
        "print(\"Precision_Train:\",metrics.precision_score(expected, np.round(predicted), average='weighted'))\r\n",
        "print(\"Recall_Train:\",metrics.recall_score(expected, np.round(predicted), average='weighted'))\r\n",
        "print(\"f1-score_Train:\",metrics.f1_score(expected, np.round(predicted), average='weighted'))\r\n"
      ],
      "execution_count": null,
      "outputs": [
        {
          "output_type": "stream",
          "text": [
            "              precision    recall  f1-score   support\n",
            "\n",
            "         DoS       0.00      0.00      0.00         0\n",
            "         U2R       1.00      1.00      1.00      9234\n",
            "         R2L       0.00      0.00      0.00        11\n",
            "       Probe       0.97      0.42      0.58       209\n",
            "      Normal       0.99      0.96      0.97      2289\n",
            "     Unknown       0.99      0.99      0.99     13449\n",
            "\n",
            "   micro avg       0.99      0.99      0.99     25192\n",
            "   macro avg       0.66      0.56      0.59     25192\n",
            "weighted avg       0.99      0.99      0.99     25192\n",
            " samples avg       0.99      0.99      0.99     25192\n",
            "\n",
            "Accuracy_Train: 0.9851540171483011\n",
            "Precision_Train: 0.9907676619476649\n",
            "Recall_Train: 0.9851540171483011\n",
            "f1-score_Train: 0.9870371980266983\n"
          ],
          "name": "stdout"
        },
        {
          "output_type": "stream",
          "text": [
            "/usr/local/lib/python3.6/dist-packages/sklearn/metrics/_classification.py:1272: UndefinedMetricWarning: Precision and F-score are ill-defined and being set to 0.0 in labels with no predicted samples. Use `zero_division` parameter to control this behavior.\n",
            "  _warn_prf(average, modifier, msg_start, len(result))\n",
            "/usr/local/lib/python3.6/dist-packages/sklearn/metrics/_classification.py:1272: UndefinedMetricWarning: Recall and F-score are ill-defined and being set to 0.0 in labels with no true samples. Use `zero_division` parameter to control this behavior.\n",
            "  _warn_prf(average, modifier, msg_start, len(result))\n",
            "/usr/local/lib/python3.6/dist-packages/sklearn/metrics/_classification.py:1272: UndefinedMetricWarning: Precision and F-score are ill-defined and being set to 0.0 in samples with no predicted labels. Use `zero_division` parameter to control this behavior.\n",
            "  _warn_prf(average, modifier, msg_start, len(result))\n",
            "/usr/local/lib/python3.6/dist-packages/sklearn/metrics/_classification.py:1272: UndefinedMetricWarning: Precision is ill-defined and being set to 0.0 in labels with no predicted samples. Use `zero_division` parameter to control this behavior.\n",
            "  _warn_prf(average, modifier, msg_start, len(result))\n",
            "/usr/local/lib/python3.6/dist-packages/sklearn/metrics/_classification.py:1272: UndefinedMetricWarning: Recall is ill-defined and being set to 0.0 in labels with no true samples. Use `zero_division` parameter to control this behavior.\n",
            "  _warn_prf(average, modifier, msg_start, len(result))\n",
            "/usr/local/lib/python3.6/dist-packages/sklearn/metrics/_classification.py:1515: UndefinedMetricWarning: F-score is ill-defined and being set to 0.0 in labels with no true nor predicted samples. Use `zero_division` parameter to control this behavior.\n",
            "  average, \"true nor predicted\", 'F-score is', len(true_sum)\n"
          ],
          "name": "stderr"
        }
      ]
    },
    {
      "cell_type": "code",
      "metadata": {
        "colab": {
          "base_uri": "https://localhost:8080/",
          "height": 887
        },
        "id": "GhNWz_R7fPBP",
        "outputId": "15bcd075-7cc6-4942-e173-cc8041ba099a"
      },
      "source": [
        "import sklearn.metrics as metrics\n",
        "\n",
        "expected = y_test\n",
        "predicted = model.predict(X_test)\n",
        "\n",
        "print(\"Accuracy:\",metrics.accuracy_score(expected, np.round(predicted)))\n",
        "print(\"Precision:\",metrics.precision_score(expected, np.round(predicted), average='weighted'))\n",
        "print(\"Recall:\",metrics.recall_score(expected, np.round(predicted), average='weighted'))\n",
        "print(\"f1-score:\",metrics.f1_score(expected, np.round(predicted), average='weighted'))\n",
        "#classification report\n",
        "print(classification_report(expected, np.round(predicted), target_names=target_names))\n",
        "print(\"ROC_AUC:\",metrics.roc_auc_score(expected, predicted,multi_class=\"ovr\",average='weighted'))"
      ],
      "execution_count": null,
      "outputs": [
        {
          "output_type": "stream",
          "text": [
            "Accuracy: 0.9851540171483011\n",
            "Precision: 0.9907676619476649\n",
            "Recall: 0.9851540171483011\n",
            "f1-score: 0.9870371980266983\n",
            "              precision    recall  f1-score   support\n",
            "\n",
            "         DoS       0.00      0.00      0.00         0\n",
            "         U2R       1.00      1.00      1.00      9234\n",
            "         R2L       0.00      0.00      0.00        11\n",
            "       Probe       0.97      0.42      0.58       209\n",
            "      Normal       0.99      0.96      0.97      2289\n",
            "     Unknown       0.99      0.99      0.99     13449\n",
            "\n",
            "   micro avg       0.99      0.99      0.99     25192\n",
            "   macro avg       0.66      0.56      0.59     25192\n",
            "weighted avg       0.99      0.99      0.99     25192\n",
            " samples avg       0.99      0.99      0.99     25192\n",
            "\n"
          ],
          "name": "stdout"
        },
        {
          "output_type": "stream",
          "text": [
            "/usr/local/lib/python3.6/dist-packages/sklearn/metrics/_classification.py:1272: UndefinedMetricWarning: Precision is ill-defined and being set to 0.0 in labels with no predicted samples. Use `zero_division` parameter to control this behavior.\n",
            "  _warn_prf(average, modifier, msg_start, len(result))\n",
            "/usr/local/lib/python3.6/dist-packages/sklearn/metrics/_classification.py:1272: UndefinedMetricWarning: Recall is ill-defined and being set to 0.0 in labels with no true samples. Use `zero_division` parameter to control this behavior.\n",
            "  _warn_prf(average, modifier, msg_start, len(result))\n",
            "/usr/local/lib/python3.6/dist-packages/sklearn/metrics/_classification.py:1515: UndefinedMetricWarning: F-score is ill-defined and being set to 0.0 in labels with no true nor predicted samples. Use `zero_division` parameter to control this behavior.\n",
            "  average, \"true nor predicted\", 'F-score is', len(true_sum)\n",
            "/usr/local/lib/python3.6/dist-packages/sklearn/metrics/_classification.py:1272: UndefinedMetricWarning: Precision and F-score are ill-defined and being set to 0.0 in labels with no predicted samples. Use `zero_division` parameter to control this behavior.\n",
            "  _warn_prf(average, modifier, msg_start, len(result))\n",
            "/usr/local/lib/python3.6/dist-packages/sklearn/metrics/_classification.py:1272: UndefinedMetricWarning: Recall and F-score are ill-defined and being set to 0.0 in labels with no true samples. Use `zero_division` parameter to control this behavior.\n",
            "  _warn_prf(average, modifier, msg_start, len(result))\n",
            "/usr/local/lib/python3.6/dist-packages/sklearn/metrics/_classification.py:1272: UndefinedMetricWarning: Precision and F-score are ill-defined and being set to 0.0 in samples with no predicted labels. Use `zero_division` parameter to control this behavior.\n",
            "  _warn_prf(average, modifier, msg_start, len(result))\n"
          ],
          "name": "stderr"
        },
        {
          "output_type": "error",
          "ename": "ValueError",
          "evalue": "ignored",
          "traceback": [
            "\u001b[0;31m---------------------------------------------------------------------------\u001b[0m",
            "\u001b[0;31mValueError\u001b[0m                                Traceback (most recent call last)",
            "\u001b[0;32m<ipython-input-47-666d7405ef6c>\u001b[0m in \u001b[0;36m<module>\u001b[0;34m()\u001b[0m\n\u001b[1;32m     10\u001b[0m \u001b[0;31m#classification report\u001b[0m\u001b[0;34m\u001b[0m\u001b[0;34m\u001b[0m\u001b[0;34m\u001b[0m\u001b[0m\n\u001b[1;32m     11\u001b[0m \u001b[0mprint\u001b[0m\u001b[0;34m(\u001b[0m\u001b[0mclassification_report\u001b[0m\u001b[0;34m(\u001b[0m\u001b[0mexpected\u001b[0m\u001b[0;34m,\u001b[0m \u001b[0mnp\u001b[0m\u001b[0;34m.\u001b[0m\u001b[0mround\u001b[0m\u001b[0;34m(\u001b[0m\u001b[0mpredicted\u001b[0m\u001b[0;34m)\u001b[0m\u001b[0;34m,\u001b[0m \u001b[0mtarget_names\u001b[0m\u001b[0;34m=\u001b[0m\u001b[0mtarget_names\u001b[0m\u001b[0;34m)\u001b[0m\u001b[0;34m)\u001b[0m\u001b[0;34m\u001b[0m\u001b[0;34m\u001b[0m\u001b[0m\n\u001b[0;32m---> 12\u001b[0;31m \u001b[0mprint\u001b[0m\u001b[0;34m(\u001b[0m\u001b[0;34m\"ROC_AUC:\"\u001b[0m\u001b[0;34m,\u001b[0m\u001b[0mmetrics\u001b[0m\u001b[0;34m.\u001b[0m\u001b[0mroc_auc_score\u001b[0m\u001b[0;34m(\u001b[0m\u001b[0mexpected\u001b[0m\u001b[0;34m,\u001b[0m \u001b[0mpredicted\u001b[0m\u001b[0;34m,\u001b[0m\u001b[0mmulti_class\u001b[0m\u001b[0;34m=\u001b[0m\u001b[0;34m\"ovr\"\u001b[0m\u001b[0;34m,\u001b[0m\u001b[0maverage\u001b[0m\u001b[0;34m=\u001b[0m\u001b[0;34m'weighted'\u001b[0m\u001b[0;34m)\u001b[0m\u001b[0;34m)\u001b[0m\u001b[0;34m\u001b[0m\u001b[0;34m\u001b[0m\u001b[0m\n\u001b[0m",
            "\u001b[0;32m/usr/local/lib/python3.6/dist-packages/sklearn/metrics/_ranking.py\u001b[0m in \u001b[0;36mroc_auc_score\u001b[0;34m(y_true, y_score, average, sample_weight, max_fpr, multi_class, labels)\u001b[0m\n\u001b[1;32m    393\u001b[0m                                              max_fpr=max_fpr),\n\u001b[1;32m    394\u001b[0m                                      \u001b[0my_true\u001b[0m\u001b[0;34m,\u001b[0m \u001b[0my_score\u001b[0m\u001b[0;34m,\u001b[0m \u001b[0maverage\u001b[0m\u001b[0;34m,\u001b[0m\u001b[0;34m\u001b[0m\u001b[0;34m\u001b[0m\u001b[0m\n\u001b[0;32m--> 395\u001b[0;31m                                      sample_weight=sample_weight)\n\u001b[0m\u001b[1;32m    396\u001b[0m \u001b[0;34m\u001b[0m\u001b[0m\n\u001b[1;32m    397\u001b[0m \u001b[0;34m\u001b[0m\u001b[0m\n",
            "\u001b[0;32m/usr/local/lib/python3.6/dist-packages/sklearn/metrics/_base.py\u001b[0m in \u001b[0;36m_average_binary_score\u001b[0;34m(binary_metric, y_true, y_score, average, sample_weight)\u001b[0m\n\u001b[1;32m    118\u001b[0m         \u001b[0my_score_c\u001b[0m \u001b[0;34m=\u001b[0m \u001b[0my_score\u001b[0m\u001b[0;34m.\u001b[0m\u001b[0mtake\u001b[0m\u001b[0;34m(\u001b[0m\u001b[0;34m[\u001b[0m\u001b[0mc\u001b[0m\u001b[0;34m]\u001b[0m\u001b[0;34m,\u001b[0m \u001b[0maxis\u001b[0m\u001b[0;34m=\u001b[0m\u001b[0mnot_average_axis\u001b[0m\u001b[0;34m)\u001b[0m\u001b[0;34m.\u001b[0m\u001b[0mravel\u001b[0m\u001b[0;34m(\u001b[0m\u001b[0;34m)\u001b[0m\u001b[0;34m\u001b[0m\u001b[0;34m\u001b[0m\u001b[0m\n\u001b[1;32m    119\u001b[0m         score[c] = binary_metric(y_true_c, y_score_c,\n\u001b[0;32m--> 120\u001b[0;31m                                  sample_weight=score_weight)\n\u001b[0m\u001b[1;32m    121\u001b[0m \u001b[0;34m\u001b[0m\u001b[0m\n\u001b[1;32m    122\u001b[0m     \u001b[0;31m# Average the results\u001b[0m\u001b[0;34m\u001b[0m\u001b[0;34m\u001b[0m\u001b[0;34m\u001b[0m\u001b[0m\n",
            "\u001b[0;32m/usr/local/lib/python3.6/dist-packages/sklearn/metrics/_ranking.py\u001b[0m in \u001b[0;36m_binary_roc_auc_score\u001b[0;34m(y_true, y_score, sample_weight, max_fpr)\u001b[0m\n\u001b[1;32m    219\u001b[0m     \u001b[0;34m\"\"\"Binary roc auc score\"\"\"\u001b[0m\u001b[0;34m\u001b[0m\u001b[0;34m\u001b[0m\u001b[0m\n\u001b[1;32m    220\u001b[0m     \u001b[0;32mif\u001b[0m \u001b[0mlen\u001b[0m\u001b[0;34m(\u001b[0m\u001b[0mnp\u001b[0m\u001b[0;34m.\u001b[0m\u001b[0munique\u001b[0m\u001b[0;34m(\u001b[0m\u001b[0my_true\u001b[0m\u001b[0;34m)\u001b[0m\u001b[0;34m)\u001b[0m \u001b[0;34m!=\u001b[0m \u001b[0;36m2\u001b[0m\u001b[0;34m:\u001b[0m\u001b[0;34m\u001b[0m\u001b[0;34m\u001b[0m\u001b[0m\n\u001b[0;32m--> 221\u001b[0;31m         raise ValueError(\"Only one class present in y_true. ROC AUC score \"\n\u001b[0m\u001b[1;32m    222\u001b[0m                          \"is not defined in that case.\")\n\u001b[1;32m    223\u001b[0m \u001b[0;34m\u001b[0m\u001b[0m\n",
            "\u001b[0;31mValueError\u001b[0m: Only one class present in y_true. ROC AUC score is not defined in that case."
          ]
        }
      ]
    }
  ]
}