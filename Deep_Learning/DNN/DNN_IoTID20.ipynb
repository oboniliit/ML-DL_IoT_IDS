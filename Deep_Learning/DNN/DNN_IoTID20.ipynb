{
  "nbformat": 4,
  "nbformat_minor": 0,
  "metadata": {
    "colab": {
      "name": "DNN_IoTID20.ipynb",
      "provenance": [],
      "collapsed_sections": []
    },
    "kernelspec": {
      "name": "python3",
      "display_name": "Python 3"
    }
  },
  "cells": [
    {
      "cell_type": "code",
      "metadata": {
        "id": "t7qz8Sy6n3dM",
        "colab": {
          "base_uri": "https://localhost:8080/"
        },
        "outputId": "9b474187-6911-434b-b4ba-d12fdd078586"
      },
      "source": [
        "from google.colab import drive\n",
        "drive.mount('/content/drive')"
      ],
      "execution_count": null,
      "outputs": [
        {
          "output_type": "stream",
          "text": [
            "Mounted at /content/drive\n"
          ],
          "name": "stdout"
        }
      ]
    },
    {
      "cell_type": "code",
      "metadata": {
        "colab": {
          "base_uri": "https://localhost:8080/"
        },
        "id": "XgcV6aqwotaR",
        "outputId": "319e7002-af19-4576-eeca-4924edd97603"
      },
      "source": [
        "!pip install scikit-plot"
      ],
      "execution_count": null,
      "outputs": [
        {
          "output_type": "stream",
          "text": [
            "Collecting scikit-plot\n",
            "  Downloading https://files.pythonhosted.org/packages/7c/47/32520e259340c140a4ad27c1b97050dd3254fdc517b1d59974d47037510e/scikit_plot-0.3.7-py3-none-any.whl\n",
            "Requirement already satisfied: joblib>=0.10 in /usr/local/lib/python3.6/dist-packages (from scikit-plot) (0.17.0)\n",
            "Requirement already satisfied: scipy>=0.9 in /usr/local/lib/python3.6/dist-packages (from scikit-plot) (1.4.1)\n",
            "Requirement already satisfied: matplotlib>=1.4.0 in /usr/local/lib/python3.6/dist-packages (from scikit-plot) (3.2.2)\n",
            "Requirement already satisfied: scikit-learn>=0.18 in /usr/local/lib/python3.6/dist-packages (from scikit-plot) (0.22.2.post1)\n",
            "Requirement already satisfied: numpy>=1.13.3 in /usr/local/lib/python3.6/dist-packages (from scipy>=0.9->scikit-plot) (1.18.5)\n",
            "Requirement already satisfied: pyparsing!=2.0.4,!=2.1.2,!=2.1.6,>=2.0.1 in /usr/local/lib/python3.6/dist-packages (from matplotlib>=1.4.0->scikit-plot) (2.4.7)\n",
            "Requirement already satisfied: python-dateutil>=2.1 in /usr/local/lib/python3.6/dist-packages (from matplotlib>=1.4.0->scikit-plot) (2.8.1)\n",
            "Requirement already satisfied: cycler>=0.10 in /usr/local/lib/python3.6/dist-packages (from matplotlib>=1.4.0->scikit-plot) (0.10.0)\n",
            "Requirement already satisfied: kiwisolver>=1.0.1 in /usr/local/lib/python3.6/dist-packages (from matplotlib>=1.4.0->scikit-plot) (1.3.1)\n",
            "Requirement already satisfied: six>=1.5 in /usr/local/lib/python3.6/dist-packages (from python-dateutil>=2.1->matplotlib>=1.4.0->scikit-plot) (1.15.0)\n",
            "Installing collected packages: scikit-plot\n",
            "Successfully installed scikit-plot-0.3.7\n"
          ],
          "name": "stdout"
        }
      ]
    },
    {
      "cell_type": "code",
      "metadata": {
        "id": "_bvT-Et5pBvN",
        "colab": {
          "base_uri": "https://localhost:8080/"
        },
        "outputId": "86cf1542-5eef-4dc0-fc2a-d1c61c50981f"
      },
      "source": [
        "import pandas as pd\n",
        "import io\n",
        "import matplotlib.pyplot as plt\n",
        "import numpy as np\n",
        "from sklearn.preprocessing import LabelEncoder, StandardScaler\n",
        "from sklearn.preprocessing import Normalizer\n",
        "from sklearn.model_selection import train_test_split\n",
        "from sklearn import preprocessing\n",
        "from sklearn.preprocessing import MinMaxScaler \n",
        "from keras.models import Sequential\n",
        "from keras.layers import Dense\n",
        "from keras.layers import Dropout\n",
        "from keras.layers import Flatten\n",
        "from keras.constraints import maxnorm\n",
        "from keras.utils.vis_utils import plot_model\n",
        "import tensorflow as tf\n",
        "np.random.seed(1337)  # for reproducibility\n",
        "import sklearn.metrics as metrics\n",
        "from sklearn.metrics.classification import accuracy_score\n",
        "from keras.layers import Dense, Dropout, Activation, Embedding, Flatten, LSTM\n",
        "#from dbn.tensorflow import SupervisedDBNClassification\n",
        "import h5py\n",
        "from sklearn.metrics import classification_report, confusion_matrix, ConfusionMatrixDisplay\n",
        "from sklearn.metrics import (precision_score, recall_score,f1_score, accuracy_score,mean_squared_error,mean_absolute_error,roc_auc_score,cohen_kappa_score)\n",
        "from sklearn.model_selection import KFold,cross_val_score\n",
        "import matplotlib.pyplot as plt\n",
        "import scikitplot as skplt\n",
        "kfold=KFold(5,True,3)\n",
        "cvscores = []"
      ],
      "execution_count": null,
      "outputs": [
        {
          "output_type": "stream",
          "text": [
            "/usr/local/lib/python3.6/dist-packages/sklearn/utils/deprecation.py:144: FutureWarning: The sklearn.metrics.classification module is  deprecated in version 0.22 and will be removed in version 0.24. The corresponding classes / functions should instead be imported from sklearn.metrics. Anything that cannot be imported from sklearn.metrics is now part of the private API.\n",
            "  warnings.warn(message, FutureWarning)\n"
          ],
          "name": "stderr"
        }
      ]
    },
    {
      "cell_type": "code",
      "metadata": {
        "id": "3HIy-8V8pae0",
        "colab": {
          "base_uri": "https://localhost:8080/"
        },
        "outputId": "f8bc11f2-7242-47af-c9a2-176f870972ec"
      },
      "source": [
        "#### DNN #######\n",
        "def cleaningdata(df):\n",
        "    assert isinstance(df, pd.DataFrame), \"df needs to be a pd.DataFrame\"\n",
        "    df.dropna(inplace=True)\n",
        "    indices_to_keep = ~df.isin([np.nan, np.inf, -np.inf]).any(1)\n",
        "    return df[indices_to_keep].astype(np.float64)\n",
        "# fetching dataset from path\n",
        "dataset = pd.read_csv('/content/drive/MyDrive/IoT Intrusion Dataset 2020.csv', encoding='utf-8')\n",
        "# for object type data we will label it and transform into apporopriate type fo data after using fit_transform on that colomn to avoid errors\n",
        "for column in dataset.columns:\n",
        "    if dataset[column].dtype == type(object):\n",
        "        le = LabelEncoder()\n",
        "        dataset[column] = le.fit_transform(dataset[column])\n",
        "data = cleaningdata(dataset)\n",
        "\n",
        "# collecting all required colomns in data to X\n",
        "X = data.iloc[:, 0:85].values\n",
        "\n",
        "# collecting our LABEL colomn in y\n",
        "y = data.iloc[:, -2].values\n",
        "\n",
        "from sklearn.preprocessing import label_binarize\n",
        "Y = label_binarize(y, classes=[0, 1, 2, 3, 4])\n",
        "n_classes = Y.shape[1]\n",
        "print(n_classes)\n",
        "\n",
        "for train, test in kfold.split(X,y):\n",
        "   X_train, X_test, y_train, y_test = train_test_split(X, y, test_size=0.20, random_state=52)\n",
        "   from keras.utils.np_utils import to_categorical\n",
        "   sc = StandardScaler()\n",
        "   X_train = sc.fit_transform(X_train)\n",
        "   X_test = sc.transform(X_test)\n",
        "\n",
        "   #X_train.shape\n",
        "\n",
        "   X_train = np.reshape(X_train, (X_train.shape[0], X_train.shape[1]))\n",
        "   X_test = np.reshape(X_test, (X_test.shape[0], X_test.shape[1]))\n",
        "\n",
        "   x_train = np.array(X_train)\n",
        "   x_test = np.array(X_test)\n",
        "   y_train1 = np.array(y_train)\n",
        "   y_test1 = np.array(y_test)\n",
        "\n",
        "   y_train= to_categorical(y_train1)\n",
        "   y_test= to_categorical(y_test1)\n",
        "# 1. define the network\n",
        "   model = Sequential()\n",
        "   model.add(Dense(800, input_dim=85, activation='relu'))\n",
        "   model.add(Dropout(0.8))\n",
        "   model.add(Dense(400, activation='relu'))\n",
        "   model.add(Dropout(0.8))\n",
        "   model.add(Dense(5,activation='softmax'))\n",
        "   model.compile(optimizer='adam', loss = 'categorical_crossentropy', metrics=['accuracy','mae'])\n",
        "   history = model.fit(X_train, y_train, epochs = 10, batch_size=64, verbose=1,shuffle=False)\n",
        "   scores = model.evaluate(X_test, y_test, verbose=1)\n",
        "   print(\"%s: %.2f%%\" % (model.metrics_names[1], scores[1]*100))\n",
        "   cvscores.append(scores[1] * 100)\n",
        "print(\"%.2f%% (+/- %.2f%%)\" % (np.mean(cvscores), np.std(cvscores)))\n"
      ],
      "execution_count": null,
      "outputs": [
        {
          "output_type": "stream",
          "text": [
            "5\n",
            "Epoch 1/10\n",
            "7818/7818 [==============================] - 52s 7ms/step - loss: 0.0535 - accuracy: 0.9913 - mae: 0.0054\n",
            "Epoch 2/10\n",
            "7818/7818 [==============================] - 51s 7ms/step - loss: 0.0307 - accuracy: 0.9979 - mae: 0.0011\n",
            "Epoch 3/10\n",
            "7818/7818 [==============================] - 51s 7ms/step - loss: 0.0294 - accuracy: 0.9981 - mae: 9.0100e-04\n",
            "Epoch 4/10\n",
            "7818/7818 [==============================] - 52s 7ms/step - loss: 0.0253 - accuracy: 0.9983 - mae: 7.9844e-04\n",
            "Epoch 5/10\n",
            "7818/7818 [==============================] - 52s 7ms/step - loss: 0.0190 - accuracy: 0.9986 - mae: 6.7292e-04\n",
            "Epoch 6/10\n",
            "7818/7818 [==============================] - 52s 7ms/step - loss: 0.0229 - accuracy: 0.9986 - mae: 6.6182e-04\n",
            "Epoch 7/10\n",
            "7818/7818 [==============================] - 53s 7ms/step - loss: 0.0330 - accuracy: 0.9985 - mae: 6.6766e-04\n",
            "Epoch 8/10\n",
            "7818/7818 [==============================] - 52s 7ms/step - loss: 0.0231 - accuracy: 0.9987 - mae: 5.8021e-04\n",
            "Epoch 9/10\n",
            "7818/7818 [==============================] - 52s 7ms/step - loss: 0.0249 - accuracy: 0.9988 - mae: 5.5766e-04\n",
            "Epoch 10/10\n",
            "7818/7818 [==============================] - 52s 7ms/step - loss: 0.0229 - accuracy: 0.9987 - mae: 5.8287e-04\n",
            "3909/3909 [==============================] - 7s 2ms/step - loss: 0.0032 - accuracy: 0.9996 - mae: 1.5198e-04\n",
            "accuracy: 99.96%\n",
            "Epoch 1/10\n",
            "7818/7818 [==============================] - 52s 7ms/step - loss: 0.0506 - accuracy: 0.9914 - mae: 0.0053\n",
            "Epoch 2/10\n",
            "7818/7818 [==============================] - 52s 7ms/step - loss: 0.0313 - accuracy: 0.9977 - mae: 0.0011\n",
            "Epoch 3/10\n",
            "7818/7818 [==============================] - 52s 7ms/step - loss: 0.0265 - accuracy: 0.9982 - mae: 8.4870e-04\n",
            "Epoch 4/10\n",
            "7818/7818 [==============================] - 52s 7ms/step - loss: 0.0298 - accuracy: 0.9983 - mae: 7.9644e-04\n",
            "Epoch 5/10\n",
            "7818/7818 [==============================] - 52s 7ms/step - loss: 0.0244 - accuracy: 0.9985 - mae: 7.0854e-04\n",
            "Epoch 6/10\n",
            "7818/7818 [==============================] - 51s 7ms/step - loss: 0.0241 - accuracy: 0.9987 - mae: 6.2941e-04\n",
            "Epoch 7/10\n",
            "7818/7818 [==============================] - 52s 7ms/step - loss: 0.0215 - accuracy: 0.9986 - mae: 6.2977e-04\n",
            "Epoch 8/10\n",
            "7818/7818 [==============================] - 52s 7ms/step - loss: 0.0250 - accuracy: 0.9986 - mae: 6.1744e-04\n",
            "Epoch 9/10\n",
            "7818/7818 [==============================] - 52s 7ms/step - loss: 0.0359 - accuracy: 0.9988 - mae: 5.5710e-04\n",
            "Epoch 10/10\n",
            "7818/7818 [==============================] - 51s 7ms/step - loss: 0.0236 - accuracy: 0.9987 - mae: 5.6769e-04\n",
            "3909/3909 [==============================] - 7s 2ms/step - loss: 0.0042 - accuracy: 0.9995 - mae: 1.9241e-04\n",
            "accuracy: 99.95%\n",
            "Epoch 1/10\n",
            "7818/7818 [==============================] - 52s 7ms/step - loss: 0.0478 - accuracy: 0.9915 - mae: 0.0053\n",
            "Epoch 2/10\n",
            "7818/7818 [==============================] - 52s 7ms/step - loss: 0.0312 - accuracy: 0.9979 - mae: 0.0011\n",
            "Epoch 3/10\n",
            "7818/7818 [==============================] - 51s 7ms/step - loss: 0.0248 - accuracy: 0.9982 - mae: 9.1186e-04\n",
            "Epoch 4/10\n",
            "7818/7818 [==============================] - 53s 7ms/step - loss: 0.0240 - accuracy: 0.9985 - mae: 7.5385e-04\n",
            "Epoch 5/10\n",
            "7818/7818 [==============================] - 52s 7ms/step - loss: 0.0248 - accuracy: 0.9986 - mae: 6.8827e-04\n",
            "Epoch 6/10\n",
            "7818/7818 [==============================] - 51s 7ms/step - loss: 0.0265 - accuracy: 0.9986 - mae: 6.5395e-04\n",
            "Epoch 7/10\n",
            "7818/7818 [==============================] - 52s 7ms/step - loss: 0.0218 - accuracy: 0.9987 - mae: 6.2217e-04\n",
            "Epoch 8/10\n",
            "7818/7818 [==============================] - 52s 7ms/step - loss: 0.0189 - accuracy: 0.9987 - mae: 5.8943e-04\n",
            "Epoch 9/10\n",
            "7818/7818 [==============================] - 52s 7ms/step - loss: 0.0239 - accuracy: 0.9988 - mae: 5.7015e-04\n",
            "Epoch 10/10\n",
            "7818/7818 [==============================] - 53s 7ms/step - loss: 0.0207 - accuracy: 0.9987 - mae: 5.7889e-04\n",
            "3909/3909 [==============================] - 7s 2ms/step - loss: 0.0040 - accuracy: 0.9996 - mae: 1.6438e-04\n",
            "accuracy: 99.96%\n",
            "Epoch 1/10\n",
            "7818/7818 [==============================] - 52s 7ms/step - loss: 0.0492 - accuracy: 0.9916 - mae: 0.0052\n",
            "Epoch 2/10\n",
            "7818/7818 [==============================] - 52s 7ms/step - loss: 0.0300 - accuracy: 0.9977 - mae: 0.0011\n",
            "Epoch 3/10\n",
            "7818/7818 [==============================] - 53s 7ms/step - loss: 0.0309 - accuracy: 0.9981 - mae: 8.9880e-04\n",
            "Epoch 4/10\n",
            "7818/7818 [==============================] - 52s 7ms/step - loss: 0.0230 - accuracy: 0.9985 - mae: 7.1664e-04\n",
            "Epoch 5/10\n",
            "7818/7818 [==============================] - 53s 7ms/step - loss: 0.0228 - accuracy: 0.9985 - mae: 6.9905e-04\n",
            "Epoch 6/10\n",
            "7818/7818 [==============================] - 52s 7ms/step - loss: 0.0211 - accuracy: 0.9986 - mae: 6.7190e-04\n",
            "Epoch 7/10\n",
            "7818/7818 [==============================] - 52s 7ms/step - loss: 0.0243 - accuracy: 0.9986 - mae: 6.7647e-04\n",
            "Epoch 8/10\n",
            "7818/7818 [==============================] - 52s 7ms/step - loss: 0.0328 - accuracy: 0.9987 - mae: 6.0032e-04\n",
            "Epoch 9/10\n",
            "7818/7818 [==============================] - 52s 7ms/step - loss: 0.0248 - accuracy: 0.9987 - mae: 6.1081e-04\n",
            "Epoch 10/10\n",
            "7818/7818 [==============================] - 52s 7ms/step - loss: 0.0306 - accuracy: 0.9987 - mae: 5.9480e-04\n",
            "3909/3909 [==============================] - 7s 2ms/step - loss: 0.0063 - accuracy: 0.9996 - mae: 1.8019e-04\n",
            "accuracy: 99.96%\n",
            "Epoch 1/10\n",
            "7818/7818 [==============================] - 52s 7ms/step - loss: 0.0505 - accuracy: 0.9917 - mae: 0.0052\n",
            "Epoch 2/10\n",
            "7818/7818 [==============================] - 52s 7ms/step - loss: 0.0369 - accuracy: 0.9978 - mae: 0.0011\n",
            "Epoch 3/10\n",
            "7818/7818 [==============================] - 52s 7ms/step - loss: 0.0254 - accuracy: 0.9982 - mae: 8.9136e-04\n",
            "Epoch 4/10\n",
            "7818/7818 [==============================] - 52s 7ms/step - loss: 0.0327 - accuracy: 0.9983 - mae: 7.9696e-04\n",
            "Epoch 5/10\n",
            "7818/7818 [==============================] - 52s 7ms/step - loss: 0.0258 - accuracy: 0.9985 - mae: 6.9775e-04\n",
            "Epoch 6/10\n",
            "7818/7818 [==============================] - 52s 7ms/step - loss: 0.0262 - accuracy: 0.9987 - mae: 6.4704e-04\n",
            "Epoch 7/10\n",
            "7818/7818 [==============================] - 52s 7ms/step - loss: 0.0240 - accuracy: 0.9987 - mae: 6.3416e-04\n",
            "Epoch 8/10\n",
            "7818/7818 [==============================] - 52s 7ms/step - loss: 0.0301 - accuracy: 0.9986 - mae: 6.4283e-04\n",
            "Epoch 9/10\n",
            "7818/7818 [==============================] - 52s 7ms/step - loss: 0.0188 - accuracy: 0.9987 - mae: 5.9699e-04\n",
            "Epoch 10/10\n",
            "7818/7818 [==============================] - 52s 7ms/step - loss: 0.0309 - accuracy: 0.9987 - mae: 6.2306e-04\n",
            "3909/3909 [==============================] - 7s 2ms/step - loss: 0.0050 - accuracy: 0.9995 - mae: 1.9269e-04\n",
            "accuracy: 99.95%\n",
            "99.96% (+/- 0.00%)\n"
          ],
          "name": "stdout"
        }
      ]
    },
    {
      "cell_type": "code",
      "metadata": {
        "id": "SaPiC01LpKUM"
      },
      "source": [
        "target_names = ['Mirai', 'DoS', 'Scan', 'Normal', 'MITM_ARP_Spoofing']"
      ],
      "execution_count": null,
      "outputs": []
    },
    {
      "cell_type": "code",
      "metadata": {
        "colab": {
          "base_uri": "https://localhost:8080/"
        },
        "id": "8UE99Q7JFQER",
        "outputId": "81b36994-d289-4016-8e44-2f6d28b3e53b"
      },
      "source": [
        "### train_accuracy\r\n",
        "from sklearn.metrics import classification_report, confusion_matrix, ConfusionMatrixDisplay\r\n",
        "from sklearn.metrics import (precision_score, recall_score,f1_score, accuracy_score,mean_squared_error,mean_absolute_error,roc_auc_score,cohen_kappa_score)\r\n",
        "import sklearn.metrics as metrics\r\n",
        "\r\n",
        "expected = y_train\r\n",
        "predicted = model.predict(X_train)\r\n",
        "data = classification_report(expected,np.round(predicted), target_names=target_names)\r\n",
        "print(data)\r\n",
        "\r\n",
        "\r\n",
        "print(\"Accuracy_Train:\",metrics.accuracy_score(expected, np.round(predicted)))\r\n",
        "print(\"Precision_Train:\",metrics.precision_score(expected, np.round(predicted), average='weighted'))\r\n",
        "print(\"Recall_Train:\",metrics.recall_score(expected, np.round(predicted), average='weighted'))\r\n",
        "print(\"f1-score_Train:\",metrics.f1_score(expected, np.round(predicted), average='weighted'))\r\n",
        "print(\"ROC_AUC_Train:\",metrics.roc_auc_score(expected, predicted,multi_class=\"ovr\",average='weighted'))"
      ],
      "execution_count": null,
      "outputs": [
        {
          "output_type": "stream",
          "text": [
            "                   precision    recall  f1-score   support\n",
            "\n",
            "            Mirai       1.00      1.00      1.00     47576\n",
            "              DoS       1.00      1.00      1.00     28268\n",
            "             Scan       1.00      1.00      1.00    332252\n",
            "           Normal       1.00      1.00      1.00     32013\n",
            "MITM_ARP_Spoofing       1.00      1.00      1.00     60223\n",
            "\n",
            "        micro avg       1.00      1.00      1.00    500332\n",
            "        macro avg       1.00      1.00      1.00    500332\n",
            "     weighted avg       1.00      1.00      1.00    500332\n",
            "      samples avg       1.00      1.00      1.00    500332\n",
            "\n",
            "Accuracy_Train: 0.9995902720593526\n",
            "Precision_Train: 0.9995905328397802\n",
            "Recall_Train: 0.9995902720593526\n",
            "f1-score_Train: 0.9995902550170359\n",
            "ROC_AUC_Train: 0.9998935576179743\n"
          ],
          "name": "stdout"
        }
      ]
    },
    {
      "cell_type": "code",
      "metadata": {
        "id": "5-Gk8pJ2m0n4",
        "colab": {
          "base_uri": "https://localhost:8080/"
        },
        "outputId": "db2f5a7a-10fb-4262-bae2-590d821f6a6b"
      },
      "source": [
        "expected = y_test\n",
        "predicted = model.predict(X_test)\n",
        "data = classification_report(expected,np.round(predicted), target_names=target_names)\n",
        "print(data)\n",
        "\n",
        "\n",
        "print(\"Accuracy:\",metrics.accuracy_score(expected, np.round(predicted)))\n",
        "print(\"Precision:\",metrics.precision_score(expected, np.round(predicted), average='weighted'))\n",
        "print(\"Recall:\",metrics.recall_score(expected, np.round(predicted), average='weighted'))\n",
        "print(\"f1-score:\",metrics.f1_score(expected, np.round(predicted), average='weighted'))\n",
        "print(\"ROC_AUC:\",metrics.roc_auc_score(expected, predicted,multi_class=\"ovr\",average='weighted'))"
      ],
      "execution_count": null,
      "outputs": [
        {
          "output_type": "stream",
          "text": [
            "                   precision    recall  f1-score   support\n",
            "\n",
            "            Mirai       1.00      1.00      1.00     11815\n",
            "              DoS       1.00      1.00      1.00      7109\n",
            "             Scan       1.00      1.00      1.00     83057\n",
            "           Normal       1.00      1.00      1.00      8060\n",
            "MITM_ARP_Spoofing       1.00      1.00      1.00     15042\n",
            "\n",
            "        micro avg       1.00      1.00      1.00    125083\n",
            "        macro avg       1.00      1.00      1.00    125083\n",
            "     weighted avg       1.00      1.00      1.00    125083\n",
            "      samples avg       1.00      1.00      1.00    125083\n",
            "\n",
            "Accuracy: 0.99953630789156\n",
            "Precision: 0.9995368440848069\n",
            "Recall: 0.99953630789156\n",
            "f1-score: 0.9995363126395711\n",
            "ROC_AUC: 0.9999021783115638\n"
          ],
          "name": "stdout"
        }
      ]
    },
    {
      "cell_type": "code",
      "metadata": {
        "id": "9HnSgTbY6b4W"
      },
      "source": [
        ""
      ],
      "execution_count": null,
      "outputs": []
    }
  ]
}