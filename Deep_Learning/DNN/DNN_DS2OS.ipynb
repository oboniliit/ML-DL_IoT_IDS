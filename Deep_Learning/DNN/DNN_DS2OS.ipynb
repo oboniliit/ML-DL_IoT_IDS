{
  "nbformat": 4,
  "nbformat_minor": 0,
  "metadata": {
    "kernelspec": {
      "display_name": "Python 3",
      "language": "python",
      "name": "python3"
    },
    "language_info": {
      "codemirror_mode": {
        "name": "ipython",
        "version": 3
      },
      "file_extension": ".py",
      "mimetype": "text/x-python",
      "name": "python",
      "nbconvert_exporter": "python",
      "pygments_lexer": "ipython3",
      "version": "3.6.4"
    },
    "colab": {
      "name": "DNN_DS2OS.ipynb",
      "provenance": [],
      "collapsed_sections": []
    }
  },
  "cells": [
    {
      "cell_type": "code",
      "metadata": {
        "id": "6lGV5Wk4D4r5",
        "colab": {
          "base_uri": "https://localhost:8080/"
        },
        "outputId": "aad9061c-eb05-4a7a-ff07-a3476c0c7b60"
      },
      "source": [
        "from google.colab import drive\n",
        "drive.mount('/content/drive')"
      ],
      "execution_count": null,
      "outputs": [
        {
          "output_type": "stream",
          "text": [
            "Mounted at /content/drive\n"
          ],
          "name": "stdout"
        }
      ]
    },
    {
      "cell_type": "code",
      "metadata": {
        "id": "mOovmJM4Dxef"
      },
      "source": [
        "import numpy as np\n",
        "import pandas as pd\n",
        "import tensorflow as tf\n",
        "from sklearn.preprocessing import Normalizer, StandardScaler\n",
        "from scipy.io import arff\n",
        "from keras.models import Sequential\n",
        "from keras.layers import Dense\n",
        "from keras.layers import Dense, Dropout, Activation, Embedding\n",
        "from sklearn.preprocessing import label_binarize\n",
        "import sklearn.metrics as metrics\n",
        "import matplotlib.pyplot as plt\n",
        "import h5py\n",
        "from sklearn.model_selection import train_test_split\n",
        "from sklearn.metrics import  roc_curve, auc, roc_auc_score, classification_report, confusion_matrix, ConfusionMatrixDisplay\n",
        "from sklearn.metrics import (precision_score, recall_score,f1_score, accuracy_score,mean_squared_error,mean_absolute_error,roc_auc_score,cohen_kappa_score)\n",
        "from sklearn.model_selection import KFold,cross_val_score\n",
        "from scipy import interp\n",
        "from itertools import cycle\n",
        "kfold=KFold(5,True,3)\n",
        "cvscores = []"
      ],
      "execution_count": null,
      "outputs": []
    },
    {
      "cell_type": "code",
      "metadata": {
        "id": "TpNzTuLMDxe6",
        "colab": {
          "base_uri": "https://localhost:8080/",
          "height": 204
        },
        "outputId": "443bb12d-a126-4a47-a86f-c886fa2ba54e"
      },
      "source": [
        "ds= pd.read_csv('/content/drive/MyDrive/Code/dataset/df_spark.csv')\n",
        "ds.head()"
      ],
      "execution_count": null,
      "outputs": [
        {
          "output_type": "execute_result",
          "data": {
            "text/html": [
              "<div>\n",
              "<style scoped>\n",
              "    .dataframe tbody tr th:only-of-type {\n",
              "        vertical-align: middle;\n",
              "    }\n",
              "\n",
              "    .dataframe tbody tr th {\n",
              "        vertical-align: top;\n",
              "    }\n",
              "\n",
              "    .dataframe thead th {\n",
              "        text-align: right;\n",
              "    }\n",
              "</style>\n",
              "<table border=\"1\" class=\"dataframe\">\n",
              "  <thead>\n",
              "    <tr style=\"text-align: right;\">\n",
              "      <th></th>\n",
              "      <th>Unnamed: 0</th>\n",
              "      <th>0</th>\n",
              "      <th>1</th>\n",
              "      <th>2</th>\n",
              "      <th>3</th>\n",
              "      <th>4</th>\n",
              "      <th>5</th>\n",
              "      <th>6</th>\n",
              "      <th>7</th>\n",
              "      <th>8</th>\n",
              "      <th>9</th>\n",
              "      <th>10</th>\n",
              "      <th>11</th>\n",
              "    </tr>\n",
              "  </thead>\n",
              "  <tbody>\n",
              "    <tr>\n",
              "      <th>0</th>\n",
              "      <td>0</td>\n",
              "      <td>7.0</td>\n",
              "      <td>21.0</td>\n",
              "      <td>30.0</td>\n",
              "      <td>2.0</td>\n",
              "      <td>3.0</td>\n",
              "      <td>30.0</td>\n",
              "      <td>2.0</td>\n",
              "      <td>3.0</td>\n",
              "      <td>59.0</td>\n",
              "      <td>7.0</td>\n",
              "      <td>2.0</td>\n",
              "      <td>0.0</td>\n",
              "    </tr>\n",
              "    <tr>\n",
              "      <th>1</th>\n",
              "      <td>1</td>\n",
              "      <td>7.0</td>\n",
              "      <td>32.0</td>\n",
              "      <td>70.0</td>\n",
              "      <td>2.0</td>\n",
              "      <td>4.0</td>\n",
              "      <td>68.0</td>\n",
              "      <td>2.0</td>\n",
              "      <td>4.0</td>\n",
              "      <td>134.0</td>\n",
              "      <td>7.0</td>\n",
              "      <td>2.0</td>\n",
              "      <td>0.0</td>\n",
              "    </tr>\n",
              "    <tr>\n",
              "      <th>2</th>\n",
              "      <td>2</td>\n",
              "      <td>7.0</td>\n",
              "      <td>15.0</td>\n",
              "      <td>1.0</td>\n",
              "      <td>2.0</td>\n",
              "      <td>2.0</td>\n",
              "      <td>0.0</td>\n",
              "      <td>2.0</td>\n",
              "      <td>2.0</td>\n",
              "      <td>0.0</td>\n",
              "      <td>7.0</td>\n",
              "      <td>2.0</td>\n",
              "      <td>0.0</td>\n",
              "    </tr>\n",
              "    <tr>\n",
              "      <th>3</th>\n",
              "      <td>3</td>\n",
              "      <td>7.0</td>\n",
              "      <td>33.0</td>\n",
              "      <td>77.0</td>\n",
              "      <td>2.0</td>\n",
              "      <td>7.0</td>\n",
              "      <td>73.0</td>\n",
              "      <td>2.0</td>\n",
              "      <td>7.0</td>\n",
              "      <td>144.0</td>\n",
              "      <td>7.0</td>\n",
              "      <td>2.0</td>\n",
              "      <td>0.0</td>\n",
              "    </tr>\n",
              "    <tr>\n",
              "      <th>4</th>\n",
              "      <td>4</td>\n",
              "      <td>7.0</td>\n",
              "      <td>55.0</td>\n",
              "      <td>78.0</td>\n",
              "      <td>3.0</td>\n",
              "      <td>7.0</td>\n",
              "      <td>74.0</td>\n",
              "      <td>3.0</td>\n",
              "      <td>7.0</td>\n",
              "      <td>146.0</td>\n",
              "      <td>8.0</td>\n",
              "      <td>2.0</td>\n",
              "      <td>0.0</td>\n",
              "    </tr>\n",
              "  </tbody>\n",
              "</table>\n",
              "</div>"
            ],
            "text/plain": [
              "   Unnamed: 0    0     1     2    3    4     5    6    7      8    9   10   11\n",
              "0           0  7.0  21.0  30.0  2.0  3.0  30.0  2.0  3.0   59.0  7.0  2.0  0.0\n",
              "1           1  7.0  32.0  70.0  2.0  4.0  68.0  2.0  4.0  134.0  7.0  2.0  0.0\n",
              "2           2  7.0  15.0   1.0  2.0  2.0   0.0  2.0  2.0    0.0  7.0  2.0  0.0\n",
              "3           3  7.0  33.0  77.0  2.0  7.0  73.0  2.0  7.0  144.0  7.0  2.0  0.0\n",
              "4           4  7.0  55.0  78.0  3.0  7.0  74.0  3.0  7.0  146.0  8.0  2.0  0.0"
            ]
          },
          "metadata": {
            "tags": []
          },
          "execution_count": 44
        }
      ]
    },
    {
      "cell_type": "code",
      "metadata": {
        "id": "NoCK32PXAdnY",
        "colab": {
          "base_uri": "https://localhost:8080/",
          "height": 204
        },
        "outputId": "1d5dfcf2-153b-4c6b-9dab-e49dc009b39b"
      },
      "source": [
        "ds = ds.drop(columns=\"Unnamed: 0\")\n",
        "ds.head()"
      ],
      "execution_count": null,
      "outputs": [
        {
          "output_type": "execute_result",
          "data": {
            "text/html": [
              "<div>\n",
              "<style scoped>\n",
              "    .dataframe tbody tr th:only-of-type {\n",
              "        vertical-align: middle;\n",
              "    }\n",
              "\n",
              "    .dataframe tbody tr th {\n",
              "        vertical-align: top;\n",
              "    }\n",
              "\n",
              "    .dataframe thead th {\n",
              "        text-align: right;\n",
              "    }\n",
              "</style>\n",
              "<table border=\"1\" class=\"dataframe\">\n",
              "  <thead>\n",
              "    <tr style=\"text-align: right;\">\n",
              "      <th></th>\n",
              "      <th>0</th>\n",
              "      <th>1</th>\n",
              "      <th>2</th>\n",
              "      <th>3</th>\n",
              "      <th>4</th>\n",
              "      <th>5</th>\n",
              "      <th>6</th>\n",
              "      <th>7</th>\n",
              "      <th>8</th>\n",
              "      <th>9</th>\n",
              "      <th>10</th>\n",
              "      <th>11</th>\n",
              "    </tr>\n",
              "  </thead>\n",
              "  <tbody>\n",
              "    <tr>\n",
              "      <th>0</th>\n",
              "      <td>7.0</td>\n",
              "      <td>21.0</td>\n",
              "      <td>30.0</td>\n",
              "      <td>2.0</td>\n",
              "      <td>3.0</td>\n",
              "      <td>30.0</td>\n",
              "      <td>2.0</td>\n",
              "      <td>3.0</td>\n",
              "      <td>59.0</td>\n",
              "      <td>7.0</td>\n",
              "      <td>2.0</td>\n",
              "      <td>0.0</td>\n",
              "    </tr>\n",
              "    <tr>\n",
              "      <th>1</th>\n",
              "      <td>7.0</td>\n",
              "      <td>32.0</td>\n",
              "      <td>70.0</td>\n",
              "      <td>2.0</td>\n",
              "      <td>4.0</td>\n",
              "      <td>68.0</td>\n",
              "      <td>2.0</td>\n",
              "      <td>4.0</td>\n",
              "      <td>134.0</td>\n",
              "      <td>7.0</td>\n",
              "      <td>2.0</td>\n",
              "      <td>0.0</td>\n",
              "    </tr>\n",
              "    <tr>\n",
              "      <th>2</th>\n",
              "      <td>7.0</td>\n",
              "      <td>15.0</td>\n",
              "      <td>1.0</td>\n",
              "      <td>2.0</td>\n",
              "      <td>2.0</td>\n",
              "      <td>0.0</td>\n",
              "      <td>2.0</td>\n",
              "      <td>2.0</td>\n",
              "      <td>0.0</td>\n",
              "      <td>7.0</td>\n",
              "      <td>2.0</td>\n",
              "      <td>0.0</td>\n",
              "    </tr>\n",
              "    <tr>\n",
              "      <th>3</th>\n",
              "      <td>7.0</td>\n",
              "      <td>33.0</td>\n",
              "      <td>77.0</td>\n",
              "      <td>2.0</td>\n",
              "      <td>7.0</td>\n",
              "      <td>73.0</td>\n",
              "      <td>2.0</td>\n",
              "      <td>7.0</td>\n",
              "      <td>144.0</td>\n",
              "      <td>7.0</td>\n",
              "      <td>2.0</td>\n",
              "      <td>0.0</td>\n",
              "    </tr>\n",
              "    <tr>\n",
              "      <th>4</th>\n",
              "      <td>7.0</td>\n",
              "      <td>55.0</td>\n",
              "      <td>78.0</td>\n",
              "      <td>3.0</td>\n",
              "      <td>7.0</td>\n",
              "      <td>74.0</td>\n",
              "      <td>3.0</td>\n",
              "      <td>7.0</td>\n",
              "      <td>146.0</td>\n",
              "      <td>8.0</td>\n",
              "      <td>2.0</td>\n",
              "      <td>0.0</td>\n",
              "    </tr>\n",
              "  </tbody>\n",
              "</table>\n",
              "</div>"
            ],
            "text/plain": [
              "     0     1     2    3    4     5    6    7      8    9   10   11\n",
              "0  7.0  21.0  30.0  2.0  3.0  30.0  2.0  3.0   59.0  7.0  2.0  0.0\n",
              "1  7.0  32.0  70.0  2.0  4.0  68.0  2.0  4.0  134.0  7.0  2.0  0.0\n",
              "2  7.0  15.0   1.0  2.0  2.0   0.0  2.0  2.0    0.0  7.0  2.0  0.0\n",
              "3  7.0  33.0  77.0  2.0  7.0  73.0  2.0  7.0  144.0  7.0  2.0  0.0\n",
              "4  7.0  55.0  78.0  3.0  7.0  74.0  3.0  7.0  146.0  8.0  2.0  0.0"
            ]
          },
          "metadata": {
            "tags": []
          },
          "execution_count": 45
        }
      ]
    },
    {
      "cell_type": "code",
      "metadata": {
        "id": "JNh9C57cAhI-",
        "colab": {
          "base_uri": "https://localhost:8080/"
        },
        "outputId": "11e3fa52-a633-4bac-a786-ccb6e655a4ce"
      },
      "source": [
        "y = ds.iloc[:,0].values\n",
        "X = ds.iloc[:,1:].values\n",
        "y = label_binarize(y, classes=[0, 1, 2, 3, 4, 5, 6, 7])\n",
        "n_classes = y.shape[1]\n",
        "n_classes\n",
        "# X_train, X_test, y_train, y_test = train_test_split(X,y, test_size=0.2,random_state=101)\n",
        "\n"
      ],
      "execution_count": null,
      "outputs": [
        {
          "output_type": "execute_result",
          "data": {
            "text/plain": [
              "8"
            ]
          },
          "metadata": {
            "tags": []
          },
          "execution_count": 46
        }
      ]
    },
    {
      "cell_type": "code",
      "metadata": {
        "id": "YFOi6uud1WsR"
      },
      "source": [
        "target_names = ['DoS', 'Probing',\t'MaliciousControl', 'MaliciousOperation', 'Scan', 'Spying', 'WrongSetup', 'Normal']"
      ],
      "execution_count": null,
      "outputs": []
    },
    {
      "cell_type": "code",
      "metadata": {
        "colab": {
          "base_uri": "https://localhost:8080/"
        },
        "id": "cbnhQ6dyQs8j",
        "outputId": "2205a8b9-7161-4466-fe91-117003782bc8"
      },
      "source": [
        "sc = StandardScaler()\r\n",
        "\r\n",
        "    #X_train = np.reshape(X_train, (X_train.shape[0],1,X_train.shape[1]))\r\n",
        "    #X_test = np.reshape(X_test, (X_test.shape[0],1,X_test.shape[1]))\r\n",
        "    #X_train.shape\r\n",
        "\r\n",
        "for train, test in kfold.split(X,y):\r\n",
        "\r\n",
        "    X_train, X_test, y_train, y_test = train_test_split(X,y, test_size = 0.2, random_state = 0)\r\n",
        "    X_train = sc.fit_transform(X_train)\r\n",
        "    X_test = sc.transform(X_test)\r\n",
        "    # X_train = np.reshape(X_train, (X_train.shape[0], 1, X_train.shape[1]))\r\n",
        "    # X_test = np.reshape(X_test, (X_test.shape[0], 1, X_test.shape[1]))\r\n",
        "\r\n",
        "    x_train = np.array(X_train)\r\n",
        "    x_test = np.array(X_test)\r\n",
        "    y_train1 = np.array(y_train)\r\n",
        "    y_test1 = np.array(y_test)\r\n",
        "\r\n",
        "    model = Sequential()\r\n",
        "    model.add(Dense(800, input_dim=11, activation='relu'))\r\n",
        "    model.add(Dropout(0.8))\r\n",
        "    model.add(Dense(400, activation='relu'))\r\n",
        "    model.add(Dropout(0.9))\r\n",
        "    model.add(Dense(8,activation='softmax'))\r\n",
        "\r\n",
        "    # compile model\r\n",
        "    model.compile(optimizer='adam', loss = 'categorical_crossentropy', metrics=['accuracy','mae'])\r\n",
        "    history = model.fit(X_train, y_train, epochs = 10, batch_size=64, verbose=1,shuffle=False)\r\n",
        "    scores = model.evaluate(X_test, y_test, verbose=1)\r\n",
        "    print(\"%s: %.2f%%\" % (model.metrics_names[1], scores[1]*100))\r\n",
        "    cvscores.append(scores[1] * 100)\r\n",
        "print(\"%.2f%% (+/- %.2f%%)\" % (np.mean(cvscores), np.std(cvscores)))"
      ],
      "execution_count": null,
      "outputs": [
        {
          "output_type": "stream",
          "text": [
            "Epoch 1/10\n",
            "4475/4475 [==============================] - 35s 8ms/step - loss: 0.0951 - accuracy: 0.9807 - mae: 0.0083\n",
            "Epoch 2/10\n",
            "4475/4475 [==============================] - 35s 8ms/step - loss: 0.0646 - accuracy: 0.9850 - mae: 0.0060\n",
            "Epoch 3/10\n",
            "4475/4475 [==============================] - 35s 8ms/step - loss: 0.0596 - accuracy: 0.9855 - mae: 0.0057\n",
            "Epoch 4/10\n",
            "4475/4475 [==============================] - 35s 8ms/step - loss: 0.0574 - accuracy: 0.9854 - mae: 0.0056\n",
            "Epoch 5/10\n",
            "4475/4475 [==============================] - 35s 8ms/step - loss: 0.0547 - accuracy: 0.9860 - mae: 0.0053\n",
            "Epoch 6/10\n",
            "4475/4475 [==============================] - 35s 8ms/step - loss: 0.0540 - accuracy: 0.9861 - mae: 0.0053\n",
            "Epoch 7/10\n",
            "4475/4475 [==============================] - 35s 8ms/step - loss: 0.0557 - accuracy: 0.9862 - mae: 0.0053\n",
            "Epoch 8/10\n",
            "4475/4475 [==============================] - 34s 8ms/step - loss: 0.0555 - accuracy: 0.9865 - mae: 0.0052\n",
            "Epoch 9/10\n",
            "4475/4475 [==============================] - 34s 8ms/step - loss: 0.0530 - accuracy: 0.9864 - mae: 0.0053\n",
            "Epoch 10/10\n",
            "4475/4475 [==============================] - 35s 8ms/step - loss: 0.0552 - accuracy: 0.9866 - mae: 0.0052\n",
            "2238/2238 [==============================] - 5s 2ms/step - loss: 0.0269 - accuracy: 0.9907 - mae: 0.0029\n",
            "accuracy: 99.07%\n",
            "Epoch 1/10\n",
            "4475/4475 [==============================] - 35s 8ms/step - loss: 0.0948 - accuracy: 0.9809 - mae: 0.0083\n",
            "Epoch 2/10\n",
            "4475/4475 [==============================] - 35s 8ms/step - loss: 0.0641 - accuracy: 0.9853 - mae: 0.0059\n",
            "Epoch 3/10\n",
            "4475/4475 [==============================] - 35s 8ms/step - loss: 0.0588 - accuracy: 0.9859 - mae: 0.0056\n",
            "Epoch 4/10\n",
            "4475/4475 [==============================] - 36s 8ms/step - loss: 0.0545 - accuracy: 0.9862 - mae: 0.0053\n",
            "Epoch 5/10\n",
            "4475/4475 [==============================] - 35s 8ms/step - loss: 0.0527 - accuracy: 0.9863 - mae: 0.0052\n",
            "Epoch 6/10\n",
            "4475/4475 [==============================] - 36s 8ms/step - loss: 0.0560 - accuracy: 0.9864 - mae: 0.0052\n",
            "Epoch 7/10\n",
            "4475/4475 [==============================] - 36s 8ms/step - loss: 0.0568 - accuracy: 0.9864 - mae: 0.0051\n",
            "Epoch 8/10\n",
            "4475/4475 [==============================] - 36s 8ms/step - loss: 0.0501 - accuracy: 0.9871 - mae: 0.0049\n",
            "Epoch 9/10\n",
            "4475/4475 [==============================] - 37s 8ms/step - loss: 0.0542 - accuracy: 0.9865 - mae: 0.0051\n",
            "Epoch 10/10\n",
            "4475/4475 [==============================] - 36s 8ms/step - loss: 0.0502 - accuracy: 0.9872 - mae: 0.0049\n",
            "2238/2238 [==============================] - 5s 2ms/step - loss: 0.0272 - accuracy: 0.9905 - mae: 0.0030\n",
            "accuracy: 99.05%\n",
            "Epoch 1/10\n",
            "4475/4475 [==============================] - 35s 8ms/step - loss: 0.0962 - accuracy: 0.9806 - mae: 0.0084\n",
            "Epoch 2/10\n",
            "4475/4475 [==============================] - 35s 8ms/step - loss: 0.0646 - accuracy: 0.9853 - mae: 0.0060\n",
            "Epoch 3/10\n",
            "4475/4475 [==============================] - 36s 8ms/step - loss: 0.0586 - accuracy: 0.9860 - mae: 0.0056\n",
            "Epoch 4/10\n",
            "4475/4475 [==============================] - 34s 8ms/step - loss: 0.0552 - accuracy: 0.9859 - mae: 0.0054\n",
            "Epoch 5/10\n",
            "4475/4475 [==============================] - 35s 8ms/step - loss: 0.0534 - accuracy: 0.9861 - mae: 0.0052\n",
            "Epoch 6/10\n",
            "4475/4475 [==============================] - 37s 8ms/step - loss: 0.0543 - accuracy: 0.9865 - mae: 0.0051\n",
            "Epoch 7/10\n",
            "4475/4475 [==============================] - 36s 8ms/step - loss: 0.0517 - accuracy: 0.9868 - mae: 0.0050\n",
            "Epoch 8/10\n",
            "4475/4475 [==============================] - 35s 8ms/step - loss: 0.0536 - accuracy: 0.9868 - mae: 0.0051\n",
            "Epoch 9/10\n",
            "4475/4475 [==============================] - 36s 8ms/step - loss: 0.0504 - accuracy: 0.9870 - mae: 0.0049\n",
            "Epoch 10/10\n",
            "4475/4475 [==============================] - 36s 8ms/step - loss: 0.0540 - accuracy: 0.9870 - mae: 0.0051\n",
            "2238/2238 [==============================] - 5s 2ms/step - loss: 0.0279 - accuracy: 0.9905 - mae: 0.0030\n",
            "accuracy: 99.05%\n",
            "Epoch 1/10\n",
            "4475/4475 [==============================] - 35s 8ms/step - loss: 0.0942 - accuracy: 0.9809 - mae: 0.0083\n",
            "Epoch 2/10\n",
            "4475/4475 [==============================] - 37s 8ms/step - loss: 0.0633 - accuracy: 0.9854 - mae: 0.0059\n",
            "Epoch 3/10\n",
            "4475/4475 [==============================] - 35s 8ms/step - loss: 0.0581 - accuracy: 0.9857 - mae: 0.0055\n",
            "Epoch 4/10\n",
            "4475/4475 [==============================] - 36s 8ms/step - loss: 0.0540 - accuracy: 0.9863 - mae: 0.0053\n",
            "Epoch 5/10\n",
            "4475/4475 [==============================] - 35s 8ms/step - loss: 0.0523 - accuracy: 0.9864 - mae: 0.0051\n",
            "Epoch 6/10\n",
            "4475/4475 [==============================] - 36s 8ms/step - loss: 0.0510 - accuracy: 0.9867 - mae: 0.0050\n",
            "Epoch 7/10\n",
            "4475/4475 [==============================] - 35s 8ms/step - loss: 0.0503 - accuracy: 0.9868 - mae: 0.0050\n",
            "Epoch 8/10\n",
            "4475/4475 [==============================] - 35s 8ms/step - loss: 0.0515 - accuracy: 0.9870 - mae: 0.0050\n",
            "Epoch 9/10\n",
            "4475/4475 [==============================] - 35s 8ms/step - loss: 0.0505 - accuracy: 0.9872 - mae: 0.0048\n",
            "Epoch 10/10\n",
            "4475/4475 [==============================] - 35s 8ms/step - loss: 0.0505 - accuracy: 0.9872 - mae: 0.0050\n",
            "2238/2238 [==============================] - 5s 2ms/step - loss: 0.0269 - accuracy: 0.9913 - mae: 0.0028\n",
            "accuracy: 99.13%\n",
            "Epoch 1/10\n",
            "4475/4475 [==============================] - 37s 8ms/step - loss: 0.0961 - accuracy: 0.9807 - mae: 0.0084\n",
            "Epoch 2/10\n",
            "4475/4475 [==============================] - 36s 8ms/step - loss: 0.0648 - accuracy: 0.9854 - mae: 0.0060\n",
            "Epoch 3/10\n",
            "4475/4475 [==============================] - 35s 8ms/step - loss: 0.0590 - accuracy: 0.9859 - mae: 0.0056\n",
            "Epoch 4/10\n",
            "4475/4475 [==============================] - 36s 8ms/step - loss: 0.0555 - accuracy: 0.9860 - mae: 0.0054\n",
            "Epoch 5/10\n",
            "4475/4475 [==============================] - 35s 8ms/step - loss: 0.0528 - accuracy: 0.9863 - mae: 0.0052\n",
            "Epoch 6/10\n",
            "4475/4475 [==============================] - 35s 8ms/step - loss: 0.0531 - accuracy: 0.9863 - mae: 0.0052\n",
            "Epoch 7/10\n",
            "4475/4475 [==============================] - 35s 8ms/step - loss: 0.0531 - accuracy: 0.9864 - mae: 0.0051\n",
            "Epoch 8/10\n",
            "4475/4475 [==============================] - 35s 8ms/step - loss: 0.0505 - accuracy: 0.9871 - mae: 0.0050\n",
            "Epoch 9/10\n",
            "4475/4475 [==============================] - 35s 8ms/step - loss: 0.0531 - accuracy: 0.9871 - mae: 0.0050\n",
            "Epoch 10/10\n",
            "4475/4475 [==============================] - 35s 8ms/step - loss: 0.0512 - accuracy: 0.9874 - mae: 0.0049\n",
            "2238/2238 [==============================] - 4s 2ms/step - loss: 0.0275 - accuracy: 0.9906 - mae: 0.0032\n",
            "accuracy: 99.06%\n",
            "99.07% (+/- 0.03%)\n"
          ],
          "name": "stdout"
        }
      ]
    },
    {
      "cell_type": "code",
      "metadata": {
        "id": "Zj37WyU3Dxfe",
        "colab": {
          "base_uri": "https://localhost:8080/"
        },
        "outputId": "16af8762-e499-495a-cc55-c5b38c371400"
      },
      "source": [
        "#test accuracy\n",
        "expected_test = y_test\n",
        "predicted_test = model.predict(X_test)\n",
        "print(\"Test_Accuracy:\",metrics.accuracy_score(expected_test, np.round(predicted_test)))\n",
        "print(\"Test_Precision:\",metrics.precision_score(expected_test, np.round(predicted_test), average='weighted'))\n",
        "print(\"Test_Recall:\",metrics.recall_score(expected_test, np.round(predicted_test), average='weighted'))\n",
        "print(\"Test_f1-score:\",metrics.f1_score(expected_test, np.round(predicted_test), average='weighted'))\n",
        "data = classification_report(expected_test,np.round(predicted_test),target_names=target_names)\n",
        "print(data)\n",
        "\n",
        "#train accuracy\n",
        "expected_train = y_train\n",
        "predicted_train = model.predict(X_train)\n",
        "print(\"Train_Accuracy:\",metrics.accuracy_score(expected_train, np.round(predicted_train)))\n",
        "print(\"Train_Precision:\",metrics.precision_score(expected_train, np.round(predicted_train), average='weighted'))\n",
        "print(\"Train_Recall:\",metrics.recall_score(expected_train, np.round(predicted_train), average='weighted'))\n",
        "print(\"Train_f1-score:\",metrics.f1_score(expected_train, np.round(predicted_train), average='weighted'))\n",
        "data = classification_report(expected_train,np.round(predicted_train),target_names=target_names)\n",
        "print(data)\n"
      ],
      "execution_count": null,
      "outputs": [
        {
          "output_type": "stream",
          "text": [
            "Test_Accuracy: 0.987875232228415\n",
            "Test_Precision: 0.9863663941797798\n",
            "Test_Recall: 0.987875232228415\n"
          ],
          "name": "stdout"
        },
        {
          "output_type": "stream",
          "text": [
            "/usr/local/lib/python3.6/dist-packages/sklearn/metrics/_classification.py:1272: UndefinedMetricWarning: Precision is ill-defined and being set to 0.0 in labels with no predicted samples. Use `zero_division` parameter to control this behavior.\n",
            "  _warn_prf(average, modifier, msg_start, len(result))\n"
          ],
          "name": "stderr"
        },
        {
          "output_type": "stream",
          "text": [
            "Test_f1-score: 0.9861196192933487\n",
            "                    precision    recall  f1-score   support\n",
            "\n",
            "               DoS       0.96      0.63      0.77      1158\n",
            "           Probing       1.00      0.62      0.77        85\n",
            "  MaliciousControl       1.00      0.83      0.91       183\n",
            "MaliciousOperation       1.00      0.49      0.66       160\n",
            "              Scan       1.00      0.64      0.78       298\n",
            "            Spying       0.00      0.00      0.00       123\n",
            "        WrongSetup       0.00      0.00      0.00        22\n",
            "            Normal       0.99      1.00      0.99     69560\n",
            "\n",
            "         micro avg       0.99      0.99      0.99     71589\n",
            "         macro avg       0.74      0.53      0.61     71589\n",
            "      weighted avg       0.99      0.99      0.99     71589\n",
            "       samples avg       0.99      0.99      0.99     71589\n",
            "\n"
          ],
          "name": "stdout"
        },
        {
          "output_type": "stream",
          "text": [
            "/usr/local/lib/python3.6/dist-packages/sklearn/metrics/_classification.py:1272: UndefinedMetricWarning: Precision and F-score are ill-defined and being set to 0.0 in labels with no predicted samples. Use `zero_division` parameter to control this behavior.\n",
            "  _warn_prf(average, modifier, msg_start, len(result))\n",
            "/usr/local/lib/python3.6/dist-packages/sklearn/metrics/_classification.py:1272: UndefinedMetricWarning: Precision and F-score are ill-defined and being set to 0.0 in samples with no predicted labels. Use `zero_division` parameter to control this behavior.\n",
            "  _warn_prf(average, modifier, msg_start, len(result))\n"
          ],
          "name": "stderr"
        },
        {
          "output_type": "stream",
          "text": [
            "Train_Accuracy: 0.9886887467173269\n",
            "Train_Precision: 0.9875066603296132\n",
            "Train_Recall: 0.9886887467173269\n",
            "Train_f1-score: 0.9872017318614681\n",
            "                    precision    recall  f1-score   support\n",
            "\n",
            "               DoS       0.96      0.66      0.78      4622\n",
            "           Probing       1.00      0.57      0.73       257\n",
            "  MaliciousControl       1.00      0.89      0.94       706\n",
            "MaliciousOperation       1.00      0.48      0.65       645\n",
            "              Scan       1.00      0.66      0.80      1249\n",
            "            Spying       0.00      0.00      0.00       409\n",
            "        WrongSetup       0.00      0.00      0.00       100\n",
            "            Normal       0.99      1.00      0.99    278364\n",
            "\n",
            "         micro avg       0.99      0.99      0.99    286352\n",
            "         macro avg       0.74      0.53      0.61    286352\n",
            "      weighted avg       0.99      0.99      0.99    286352\n",
            "       samples avg       0.99      0.99      0.99    286352\n",
            "\n"
          ],
          "name": "stdout"
        }
      ]
    }
  ]
}