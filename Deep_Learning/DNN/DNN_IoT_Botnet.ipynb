{
  "nbformat": 4,
  "nbformat_minor": 0,
  "metadata": {
    "colab": {
      "name": "DNN_IoT_Botnet.ipynb",
      "provenance": [],
      "collapsed_sections": []
    },
    "kernelspec": {
      "name": "python3",
      "display_name": "Python 3"
    }
  },
  "cells": [
    {
      "cell_type": "code",
      "metadata": {
        "id": "t7qz8Sy6n3dM",
        "colab": {
          "base_uri": "https://localhost:8080/"
        },
        "outputId": "1f21ad48-0dd0-441d-a97b-892af0e296ee"
      },
      "source": [
        "from google.colab import drive\n",
        "drive.mount('/content/drive')"
      ],
      "execution_count": null,
      "outputs": [
        {
          "output_type": "stream",
          "text": [
            "Mounted at /content/drive\n"
          ],
          "name": "stdout"
        }
      ]
    },
    {
      "cell_type": "code",
      "metadata": {
        "colab": {
          "base_uri": "https://localhost:8080/"
        },
        "id": "XgcV6aqwotaR",
        "outputId": "dc6b4cfd-8103-4b30-ae5a-b194ba14d9c8"
      },
      "source": [
        "!pip install scikit-plot"
      ],
      "execution_count": null,
      "outputs": [
        {
          "output_type": "stream",
          "text": [
            "Collecting scikit-plot\n",
            "  Downloading https://files.pythonhosted.org/packages/7c/47/32520e259340c140a4ad27c1b97050dd3254fdc517b1d59974d47037510e/scikit_plot-0.3.7-py3-none-any.whl\n",
            "Requirement already satisfied: scipy>=0.9 in /usr/local/lib/python3.6/dist-packages (from scikit-plot) (1.4.1)\n",
            "Requirement already satisfied: scikit-learn>=0.18 in /usr/local/lib/python3.6/dist-packages (from scikit-plot) (0.22.2.post1)\n",
            "Requirement already satisfied: matplotlib>=1.4.0 in /usr/local/lib/python3.6/dist-packages (from scikit-plot) (3.2.2)\n",
            "Requirement already satisfied: joblib>=0.10 in /usr/local/lib/python3.6/dist-packages (from scikit-plot) (0.17.0)\n",
            "Requirement already satisfied: numpy>=1.13.3 in /usr/local/lib/python3.6/dist-packages (from scipy>=0.9->scikit-plot) (1.18.5)\n",
            "Requirement already satisfied: python-dateutil>=2.1 in /usr/local/lib/python3.6/dist-packages (from matplotlib>=1.4.0->scikit-plot) (2.8.1)\n",
            "Requirement already satisfied: pyparsing!=2.0.4,!=2.1.2,!=2.1.6,>=2.0.1 in /usr/local/lib/python3.6/dist-packages (from matplotlib>=1.4.0->scikit-plot) (2.4.7)\n",
            "Requirement already satisfied: kiwisolver>=1.0.1 in /usr/local/lib/python3.6/dist-packages (from matplotlib>=1.4.0->scikit-plot) (1.3.1)\n",
            "Requirement already satisfied: cycler>=0.10 in /usr/local/lib/python3.6/dist-packages (from matplotlib>=1.4.0->scikit-plot) (0.10.0)\n",
            "Requirement already satisfied: six>=1.5 in /usr/local/lib/python3.6/dist-packages (from python-dateutil>=2.1->matplotlib>=1.4.0->scikit-plot) (1.15.0)\n",
            "Installing collected packages: scikit-plot\n",
            "Successfully installed scikit-plot-0.3.7\n"
          ],
          "name": "stdout"
        }
      ]
    },
    {
      "cell_type": "code",
      "metadata": {
        "id": "_bvT-Et5pBvN",
        "colab": {
          "base_uri": "https://localhost:8080/"
        },
        "outputId": "00ce0c7f-9023-45ac-ffdc-2778c51dae50"
      },
      "source": [
        "import pandas as pd\n",
        "import io\n",
        "import matplotlib.pyplot as plt\n",
        "import numpy as np\n",
        "from sklearn.preprocessing import LabelEncoder, StandardScaler\n",
        "from sklearn.preprocessing import Normalizer\n",
        "from sklearn.model_selection import train_test_split\n",
        "from sklearn import preprocessing\n",
        "from sklearn.preprocessing import MinMaxScaler \n",
        "from keras.models import Sequential\n",
        "from keras.layers import Dense\n",
        "from keras.layers import Dropout\n",
        "from keras.layers import Flatten\n",
        "from keras.constraints import maxnorm\n",
        "from keras.utils.vis_utils import plot_model\n",
        "import tensorflow as tf\n",
        "np.random.seed(1337)  # for reproducibility\n",
        "import sklearn.metrics as metrics\n",
        "from sklearn.metrics.classification import accuracy_score\n",
        "from keras.layers import Dense, Dropout, Activation, Embedding, Flatten, LSTM\n",
        "#from dbn.tensorflow import SupervisedDBNClassification\n",
        "import h5py\n",
        "from sklearn.metrics import classification_report, confusion_matrix, ConfusionMatrixDisplay\n",
        "from sklearn.metrics import (precision_score, recall_score,f1_score, accuracy_score,mean_squared_error,mean_absolute_error,roc_auc_score,cohen_kappa_score)\n",
        "from sklearn.model_selection import KFold,cross_val_score\n",
        "import matplotlib.pyplot as plt\n",
        "import scikitplot as skplt\n",
        "kfold=KFold(5,True,3)\n",
        "cvscores = []"
      ],
      "execution_count": null,
      "outputs": [
        {
          "output_type": "stream",
          "text": [
            "/usr/local/lib/python3.6/dist-packages/sklearn/utils/deprecation.py:144: FutureWarning: The sklearn.metrics.classification module is  deprecated in version 0.22 and will be removed in version 0.24. The corresponding classes / functions should instead be imported from sklearn.metrics. Anything that cannot be imported from sklearn.metrics is now part of the private API.\n",
            "  warnings.warn(message, FutureWarning)\n"
          ],
          "name": "stderr"
        }
      ]
    },
    {
      "cell_type": "code",
      "metadata": {
        "id": "s3YO-Z3-pbu-"
      },
      "source": [
        "#### DNN #######\r\n",
        "def cleaningdata(df):\r\n",
        "    assert isinstance(df, pd.DataFrame), \"df needs to be a pd.DataFrame\"\r\n",
        "    df.dropna(inplace=True)\r\n",
        "    indices_to_keep = ~df.isin([np.nan, np.inf, -np.inf]).any(1)\r\n",
        "    return df[indices_to_keep].astype(np.float64)\r\n",
        "# fetching dataset from path\r\n",
        "dataset = pd.read_csv('/content/drive/MyDrive/Code/dataset/IoT-BoT.csv', encoding='utf-8')\r\n",
        "# for object type data we will label it and transform into apporopriate type fo data after using fit_transform on that colomn to avoid errors\r\n",
        "for column in dataset.columns:\r\n",
        "    if dataset[column].dtype == type(object):\r\n",
        "        le = LabelEncoder()\r\n",
        "        dataset[column] = le.fit_transform(dataset[column])\r\n",
        "data = cleaningdata(dataset)\r\n",
        "\r\n",
        "# collecting all required colomns in data to X\r\n",
        "X = data.iloc[:, 0:85].values\r\n",
        "\r\n",
        "# collecting our LABEL colomn in y\r\n",
        "y = data.iloc[:, -2].values"
      ],
      "execution_count": null,
      "outputs": []
    },
    {
      "cell_type": "code",
      "metadata": {
        "id": "3HIy-8V8pae0",
        "colab": {
          "base_uri": "https://localhost:8080/"
        },
        "outputId": "f0c963a2-40a6-466e-fea9-9546697ea348"
      },
      "source": [
        "from sklearn.preprocessing import label_binarize\n",
        "Y = label_binarize(y, classes=[0, 1, 2, 3, 4])\n",
        "n_classes = Y.shape[1]\n",
        "print(n_classes)\n",
        "\n",
        "for train, test in kfold.split(X,y):\n",
        "   X_train, X_test, y_train, y_test = train_test_split(X, y, test_size=0.20, random_state=52)\n",
        "   from keras.utils.np_utils import to_categorical\n",
        "   sc = StandardScaler()\n",
        "   X_train = sc.fit_transform(X_train)\n",
        "   X_test = sc.transform(X_test)\n",
        "\n",
        "   #X_train.shape\n",
        "\n",
        "   X_train = np.reshape(X_train, (X_train.shape[0], X_train.shape[1]))\n",
        "   X_test = np.reshape(X_test, (X_test.shape[0], X_test.shape[1]))\n",
        "\n",
        "   x_train = np.array(X_train)\n",
        "   x_test = np.array(X_test)\n",
        "   y_train1 = np.array(y_train)\n",
        "   y_test1 = np.array(y_test)\n",
        "\n",
        "   y_train= to_categorical(y_train1)\n",
        "   y_test= to_categorical(y_test1)\n",
        "# 1. define the network\n",
        "   model = Sequential()\n",
        "   model.add(Dense(800, input_dim=85, activation='relu'))\n",
        "   model.add(Dropout(0.8))\n",
        "   model.add(Dense(400, activation='relu'))\n",
        "   model.add(Dropout(0.8))\n",
        "   model.add(Dense(5,activation='softmax'))\n",
        "   model.compile(optimizer='adam', loss = 'categorical_crossentropy', metrics=['accuracy','mae'])\n",
        "   history = model.fit(X_train, y_train, epochs = 10, batch_size=64, verbose=1,shuffle=False)\n",
        "   scores = model.evaluate(X_test, y_test, verbose=1)\n",
        "   print(\"%s: %.2f%%\" % (model.metrics_names[1], scores[1]*100))\n",
        "   cvscores.append(scores[1] * 100)\n",
        "print(\"%.2f%% (+/- %.2f%%)\" % (np.mean(cvscores), np.std(cvscores)))\n"
      ],
      "execution_count": null,
      "outputs": [
        {
          "output_type": "stream",
          "text": [
            "5\n",
            "Epoch 1/10\n",
            "24255/24255 [==============================] - 208s 9ms/step - loss: 0.0457 - accuracy: 0.9954 - mae: 0.0025\n",
            "Epoch 2/10\n",
            "24255/24255 [==============================] - 208s 9ms/step - loss: 0.0338 - accuracy: 0.9986 - mae: 6.0917e-04\n",
            "Epoch 3/10\n",
            "24255/24255 [==============================] - 207s 9ms/step - loss: 0.0682 - accuracy: 0.9989 - mae: 4.5863e-04\n",
            "Epoch 4/10\n",
            "24255/24255 [==============================] - 204s 8ms/step - loss: 0.0630 - accuracy: 0.9991 - mae: 3.7177e-04\n",
            "Epoch 5/10\n",
            "24255/24255 [==============================] - 210s 9ms/step - loss: 0.0530 - accuracy: 0.9992 - mae: 3.2800e-04\n",
            "Epoch 6/10\n",
            "24255/24255 [==============================] - 200s 8ms/step - loss: 0.0536 - accuracy: 0.9992 - mae: 3.1930e-04\n",
            "Epoch 7/10\n",
            "24255/24255 [==============================] - 206s 8ms/step - loss: 0.0577 - accuracy: 0.9993 - mae: 2.7861e-04\n",
            "Epoch 8/10\n",
            "24255/24255 [==============================] - 203s 8ms/step - loss: 0.0613 - accuracy: 0.9993 - mae: 2.9856e-04\n",
            "Epoch 9/10\n",
            "24255/24255 [==============================] - 204s 8ms/step - loss: 0.0614 - accuracy: 0.9993 - mae: 2.6822e-04\n",
            "Epoch 10/10\n",
            "24255/24255 [==============================] - 206s 8ms/step - loss: 0.0682 - accuracy: 0.9994 - mae: 2.5856e-04\n",
            "12128/12128 [==============================] - 24s 2ms/step - loss: 0.0036 - accuracy: 0.9998 - mae: 6.9195e-05\n",
            "accuracy: 99.98%\n",
            "Epoch 1/10\n",
            "24255/24255 [==============================] - 201s 8ms/step - loss: 0.0442 - accuracy: 0.9954 - mae: 0.0025\n",
            "Epoch 2/10\n",
            "24255/24255 [==============================] - 197s 8ms/step - loss: 0.0408 - accuracy: 0.9985 - mae: 6.3272e-04\n",
            "Epoch 3/10\n",
            "24255/24255 [==============================] - 206s 8ms/step - loss: 0.0531 - accuracy: 0.9989 - mae: 4.5493e-04\n",
            "Epoch 4/10\n",
            "24255/24255 [==============================] - 202s 8ms/step - loss: 0.0524 - accuracy: 0.9990 - mae: 3.9918e-04\n",
            "Epoch 5/10\n",
            "24255/24255 [==============================] - 198s 8ms/step - loss: 0.0577 - accuracy: 0.9992 - mae: 3.4237e-04\n",
            "Epoch 6/10\n",
            "24255/24255 [==============================] - 201s 8ms/step - loss: 0.0779 - accuracy: 0.9992 - mae: 3.2903e-04\n",
            "Epoch 7/10\n",
            "24255/24255 [==============================] - 197s 8ms/step - loss: 0.0553 - accuracy: 0.9993 - mae: 2.8818e-04\n",
            "Epoch 8/10\n",
            "24255/24255 [==============================] - 198s 8ms/step - loss: 0.0727 - accuracy: 0.9993 - mae: 2.9099e-04\n",
            "Epoch 9/10\n",
            "24255/24255 [==============================] - 198s 8ms/step - loss: 0.0663 - accuracy: 0.9993 - mae: 2.9591e-04\n",
            "Epoch 10/10\n",
            "24255/24255 [==============================] - 202s 8ms/step - loss: 0.0667 - accuracy: 0.9993 - mae: 2.7795e-04\n",
            "12128/12128 [==============================] - 25s 2ms/step - loss: 0.0023 - accuracy: 0.9998 - mae: 9.7204e-05\n",
            "accuracy: 99.98%\n",
            "Epoch 1/10\n",
            "24255/24255 [==============================] - 199s 8ms/step - loss: 0.0435 - accuracy: 0.9954 - mae: 0.0025\n",
            "Epoch 2/10\n",
            "24255/24255 [==============================] - 199s 8ms/step - loss: 0.0533 - accuracy: 0.9986 - mae: 5.9345e-04\n",
            "Epoch 3/10\n",
            "24255/24255 [==============================] - 196s 8ms/step - loss: 0.0545 - accuracy: 0.9989 - mae: 4.4744e-04\n",
            "Epoch 4/10\n",
            "24255/24255 [==============================] - 197s 8ms/step - loss: 0.0509 - accuracy: 0.9990 - mae: 3.9749e-04\n",
            "Epoch 5/10\n",
            "24255/24255 [==============================] - 196s 8ms/step - loss: 0.0725 - accuracy: 0.9991 - mae: 3.5450e-04\n",
            "Epoch 6/10\n",
            "24255/24255 [==============================] - 197s 8ms/step - loss: 0.0633 - accuracy: 0.9992 - mae: 3.4047e-04\n",
            "Epoch 7/10\n",
            "24255/24255 [==============================] - 199s 8ms/step - loss: 0.0677 - accuracy: 0.9993 - mae: 2.9676e-04\n",
            "Epoch 8/10\n",
            "24255/24255 [==============================] - 204s 8ms/step - loss: 0.0756 - accuracy: 0.9993 - mae: 3.0529e-04\n",
            "Epoch 9/10\n",
            "24255/24255 [==============================] - 200s 8ms/step - loss: 0.0869 - accuracy: 0.9993 - mae: 2.6641e-04\n",
            "Epoch 10/10\n",
            "24255/24255 [==============================] - 200s 8ms/step - loss: 0.0573 - accuracy: 0.9993 - mae: 2.7597e-04\n",
            "12128/12128 [==============================] - 23s 2ms/step - loss: 0.0029 - accuracy: 0.9998 - mae: 7.7537e-05\n",
            "accuracy: 99.98%\n",
            "Epoch 1/10\n",
            "24255/24255 [==============================] - 199s 8ms/step - loss: 0.0454 - accuracy: 0.9953 - mae: 0.0026\n",
            "Epoch 2/10\n",
            "24255/24255 [==============================] - 196s 8ms/step - loss: 0.0480 - accuracy: 0.9986 - mae: 6.1290e-04\n",
            "Epoch 3/10\n",
            "24255/24255 [==============================] - 199s 8ms/step - loss: 0.0485 - accuracy: 0.9989 - mae: 4.6437e-04\n",
            "Epoch 4/10\n",
            "24255/24255 [==============================] - 198s 8ms/step - loss: 0.0515 - accuracy: 0.9991 - mae: 3.8032e-04\n",
            "Epoch 5/10\n",
            "24255/24255 [==============================] - 198s 8ms/step - loss: 0.0581 - accuracy: 0.9992 - mae: 3.3925e-04\n",
            "Epoch 6/10\n",
            "24255/24255 [==============================] - 196s 8ms/step - loss: 0.0565 - accuracy: 0.9992 - mae: 3.3408e-04\n",
            "Epoch 7/10\n",
            "24255/24255 [==============================] - 195s 8ms/step - loss: 0.0491 - accuracy: 0.9992 - mae: 3.0776e-04\n",
            "Epoch 8/10\n",
            "24255/24255 [==============================] - 195s 8ms/step - loss: 0.0761 - accuracy: 0.9993 - mae: 2.9395e-04\n",
            "Epoch 9/10\n",
            "24255/24255 [==============================] - 194s 8ms/step - loss: 0.0587 - accuracy: 0.9993 - mae: 2.6845e-04\n",
            "Epoch 10/10\n",
            "24255/24255 [==============================] - 196s 8ms/step - loss: 0.0623 - accuracy: 0.9994 - mae: 2.6316e-04\n",
            "12128/12128 [==============================] - 24s 2ms/step - loss: 0.0031 - accuracy: 0.9998 - mae: 7.4100e-05\n",
            "accuracy: 99.98%\n",
            "Epoch 1/10\n",
            "24255/24255 [==============================] - 200s 8ms/step - loss: 0.0480 - accuracy: 0.9953 - mae: 0.0026\n",
            "Epoch 2/10\n",
            "24255/24255 [==============================] - 199s 8ms/step - loss: 0.0499 - accuracy: 0.9986 - mae: 6.1451e-04\n",
            "Epoch 3/10\n",
            "24255/24255 [==============================] - 197s 8ms/step - loss: 0.0632 - accuracy: 0.9989 - mae: 4.6936e-04\n",
            "Epoch 4/10\n",
            "24255/24255 [==============================] - 197s 8ms/step - loss: 0.0488 - accuracy: 0.9991 - mae: 3.8357e-04\n",
            "Epoch 5/10\n",
            "24255/24255 [==============================] - 196s 8ms/step - loss: 0.0452 - accuracy: 0.9992 - mae: 3.4559e-04\n",
            "Epoch 6/10\n",
            "24255/24255 [==============================] - 199s 8ms/step - loss: 0.0711 - accuracy: 0.9992 - mae: 3.2673e-04\n",
            "Epoch 7/10\n",
            "24255/24255 [==============================] - 200s 8ms/step - loss: 0.0731 - accuracy: 0.9992 - mae: 3.2143e-04\n",
            "Epoch 8/10\n",
            "24255/24255 [==============================] - 199s 8ms/step - loss: 0.0556 - accuracy: 0.9992 - mae: 3.1646e-04\n",
            "Epoch 9/10\n",
            "24255/24255 [==============================] - 199s 8ms/step - loss: 0.0851 - accuracy: 0.9993 - mae: 2.8183e-04\n",
            "Epoch 10/10\n",
            "24255/24255 [==============================] - 204s 8ms/step - loss: 0.0644 - accuracy: 0.9993 - mae: 2.6602e-04\n",
            "12128/12128 [==============================] - 25s 2ms/step - loss: 0.0027 - accuracy: 0.9998 - mae: 8.1122e-05\n",
            "accuracy: 99.98%\n",
            "99.98% (+/- 0.00%)\n"
          ],
          "name": "stdout"
        }
      ]
    },
    {
      "cell_type": "code",
      "metadata": {
        "id": "SaPiC01LpKUM"
      },
      "source": [
        "target_names = ['DoS', 'DDOS', 'Reconnaissance', 'Normal','Theft']"
      ],
      "execution_count": null,
      "outputs": []
    },
    {
      "cell_type": "code",
      "metadata": {
        "id": "8UE99Q7JFQER",
        "colab": {
          "base_uri": "https://localhost:8080/"
        },
        "outputId": "090fb7fa-c112-4037-cb58-30dae49ba889"
      },
      "source": [
        "### train_accuracy\r\n",
        "from sklearn.metrics import classification_report, confusion_matrix, ConfusionMatrixDisplay\r\n",
        "from sklearn.metrics import (precision_score, recall_score,f1_score, accuracy_score,mean_squared_error,mean_absolute_error,roc_auc_score,cohen_kappa_score)\r\n",
        "import sklearn.metrics as metrics\r\n",
        "\r\n",
        "expected = y_train\r\n",
        "predicted = model.predict(X_train)\r\n",
        "data = classification_report(expected,np.round(predicted), target_names=target_names)\r\n",
        "print(data)\r\n",
        "\r\n",
        "print(\"Accuracy_Train:\",metrics.accuracy_score(expected, np.round(predicted)))\r\n",
        "print(\"Precision_Train:\",metrics.precision_score(expected, np.round(predicted), average='weighted'))\r\n",
        "print(\"Recall_Train:\",metrics.recall_score(expected, np.round(predicted), average='weighted'))\r\n",
        "print(\"f1-score_Train:\",metrics.f1_score(expected, np.round(predicted), average='weighted'))\r\n",
        "#print(\"Cohens kappa:\",metrics.cohen_kappa_score(expected, predicted))\r\n",
        "print(\"ROC_AUC_Train:\",metrics.roc_auc_score(expected, predicted,multi_class=\"ovr\",average='weighted'))"
      ],
      "execution_count": null,
      "outputs": [
        {
          "output_type": "stream",
          "text": [
            "/usr/local/lib/python3.6/dist-packages/sklearn/metrics/_classification.py:1272: UndefinedMetricWarning: Precision and F-score are ill-defined and being set to 0.0 in samples with no predicted labels. Use `zero_division` parameter to control this behavior.\n",
            "  _warn_prf(average, modifier, msg_start, len(result))\n"
          ],
          "name": "stderr"
        },
        {
          "output_type": "stream",
          "text": [
            "                precision    recall  f1-score   support\n",
            "\n",
            "           DoS       1.00      1.00      1.00    508847\n",
            "          DDOS       1.00      1.00      1.00    521139\n",
            "Reconnaissance       1.00      1.00      1.00     77830\n",
            "        Normal       1.00      1.00      1.00    444081\n",
            "         Theft       0.95      0.94      0.95       414\n",
            "\n",
            "     micro avg       1.00      1.00      1.00   1552311\n",
            "     macro avg       0.99      0.99      0.99   1552311\n",
            "  weighted avg       1.00      1.00      1.00   1552311\n",
            "   samples avg       1.00      1.00      1.00   1552311\n",
            "\n",
            "Accuracy_Train: 0.9998499012118062\n",
            "Precision_Train: 0.9998505547916599\n",
            "Recall_Train: 0.9998499012118062\n",
            "f1-score_Train: 0.9998502094965062\n",
            "ROC_AUC_Train: 0.9999967264205893\n"
          ],
          "name": "stdout"
        }
      ]
    },
    {
      "cell_type": "code",
      "metadata": {
        "id": "5-Gk8pJ2m0n4",
        "colab": {
          "base_uri": "https://localhost:8080/"
        },
        "outputId": "27c3247a-855f-497d-8522-7d45ea19797a"
      },
      "source": [
        "expected = y_test\n",
        "predicted = model.predict(X_test)\n",
        "data = classification_report(expected,np.round(predicted), target_names=target_names)\n",
        "print(data)\n",
        "print(\"Accuracy:\",metrics.accuracy_score(expected, np.round(predicted)))\n",
        "print(\"Precision:\",metrics.precision_score(expected, np.round(predicted), average='weighted'))\n",
        "print(\"Recall:\",metrics.recall_score(expected, np.round(predicted), average='weighted'))\n",
        "print(\"f1-score:\",metrics.f1_score(expected, np.round(predicted), average='weighted'))\n",
        "print(\"ROC_AUC_Test:\",metrics.roc_auc_score(expected, predicted,multi_class=\"ovr\",average='weighted'))\n"
      ],
      "execution_count": null,
      "outputs": [
        {
          "output_type": "stream",
          "text": [
            "                precision    recall  f1-score   support\n",
            "\n",
            "           DoS       1.00      1.00      1.00    127692\n",
            "          DDOS       1.00      1.00      1.00    129983\n",
            "Reconnaissance       1.00      1.00      1.00     19367\n",
            "        Normal       1.00      1.00      1.00    110930\n",
            "         Theft       0.92      0.92      0.92       106\n",
            "\n",
            "     micro avg       1.00      1.00      1.00    388078\n",
            "     macro avg       0.98      0.98      0.98    388078\n",
            "  weighted avg       1.00      1.00      1.00    388078\n",
            "   samples avg       1.00      1.00      1.00    388078\n",
            "\n",
            "Accuracy: 0.9998041630806178\n",
            "Precision: 0.9998042437040416\n",
            "Recall: 0.9998041630806178\n",
            "f1-score: 0.99980417217909\n",
            "ROC_AUC_Test: 0.9999961792384175\n"
          ],
          "name": "stdout"
        }
      ]
    }
  ]
}