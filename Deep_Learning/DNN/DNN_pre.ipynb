{
  "nbformat": 4,
  "nbformat_minor": 0,
  "metadata": {
    "kernelspec": {
      "display_name": "Python 3",
      "language": "python",
      "name": "python3"
    },
    "language_info": {
      "codemirror_mode": {
        "name": "ipython",
        "version": 3
      },
      "file_extension": ".py",
      "mimetype": "text/x-python",
      "name": "python",
      "nbconvert_exporter": "python",
      "pygments_lexer": "ipython3",
      "version": "3.8.3"
    },
    "colab": {
      "name": "DNN_pre.ipynb",
      "provenance": []
    }
  },
  "cells": [
    {
      "cell_type": "code",
      "metadata": {
        "id": "XZMvH3jeLnYb",
        "colab": {
          "base_uri": "https://localhost:8080/"
        },
        "outputId": "48e0e594-75e9-4fb5-d712-28f07186363f"
      },
      "source": [
        "from google.colab import drive\n",
        "drive.mount('/content/drive')"
      ],
      "execution_count": null,
      "outputs": [
        {
          "output_type": "stream",
          "text": [
            "Mounted at /content/drive\n"
          ],
          "name": "stdout"
        }
      ]
    },
    {
      "cell_type": "code",
      "metadata": {
        "id": "E1F1hGbTOY7P",
        "colab": {
          "base_uri": "https://localhost:8080/"
        },
        "outputId": "4994d465-a7cd-4dd5-b389-79db48b6d71a"
      },
      "source": [
        "!pip install scikit-plot "
      ],
      "execution_count": null,
      "outputs": [
        {
          "output_type": "stream",
          "text": [
            "Collecting scikit-plot\n",
            "  Downloading https://files.pythonhosted.org/packages/7c/47/32520e259340c140a4ad27c1b97050dd3254fdc517b1d59974d47037510e/scikit_plot-0.3.7-py3-none-any.whl\n",
            "Requirement already satisfied: matplotlib>=1.4.0 in /usr/local/lib/python3.6/dist-packages (from scikit-plot) (3.2.2)\n",
            "Requirement already satisfied: joblib>=0.10 in /usr/local/lib/python3.6/dist-packages (from scikit-plot) (0.17.0)\n",
            "Requirement already satisfied: scikit-learn>=0.18 in /usr/local/lib/python3.6/dist-packages (from scikit-plot) (0.22.2.post1)\n",
            "Requirement already satisfied: scipy>=0.9 in /usr/local/lib/python3.6/dist-packages (from scikit-plot) (1.4.1)\n",
            "Requirement already satisfied: kiwisolver>=1.0.1 in /usr/local/lib/python3.6/dist-packages (from matplotlib>=1.4.0->scikit-plot) (1.3.1)\n",
            "Requirement already satisfied: pyparsing!=2.0.4,!=2.1.2,!=2.1.6,>=2.0.1 in /usr/local/lib/python3.6/dist-packages (from matplotlib>=1.4.0->scikit-plot) (2.4.7)\n",
            "Requirement already satisfied: numpy>=1.11 in /usr/local/lib/python3.6/dist-packages (from matplotlib>=1.4.0->scikit-plot) (1.18.5)\n",
            "Requirement already satisfied: python-dateutil>=2.1 in /usr/local/lib/python3.6/dist-packages (from matplotlib>=1.4.0->scikit-plot) (2.8.1)\n",
            "Requirement already satisfied: cycler>=0.10 in /usr/local/lib/python3.6/dist-packages (from matplotlib>=1.4.0->scikit-plot) (0.10.0)\n",
            "Requirement already satisfied: six>=1.5 in /usr/local/lib/python3.6/dist-packages (from python-dateutil>=2.1->matplotlib>=1.4.0->scikit-plot) (1.15.0)\n",
            "Installing collected packages: scikit-plot\n",
            "Successfully installed scikit-plot-0.3.7\n"
          ],
          "name": "stdout"
        }
      ]
    },
    {
      "cell_type": "code",
      "metadata": {
        "id": "L3MQjKUNGGfP"
      },
      "source": [
        "import numpy as np\n",
        "import pandas as pd\n",
        "import tensorflow as tf\n",
        "from sklearn.preprocessing import Normalizer, StandardScaler\n",
        "from scipy.io import arff\n",
        "from keras.models import Sequential\n",
        "from keras.layers import Dense\n",
        "from keras.layers import Dense, Dropout, Activation, Embedding\n",
        "from sklearn.preprocessing import label_binarize\n",
        "import sklearn.metrics as metrics\n",
        "import matplotlib.pyplot as plt\n",
        "import h5py\n",
        "from sklearn.model_selection import train_test_split\n",
        "from sklearn.metrics import  roc_curve, auc, roc_auc_score, classification_report, confusion_matrix, ConfusionMatrixDisplay\n",
        "from sklearn.metrics import (precision_score, recall_score,f1_score, accuracy_score,mean_squared_error,mean_absolute_error,roc_auc_score,cohen_kappa_score)\n",
        "from sklearn.model_selection import KFold,cross_val_score\n",
        "from scipy import interp\n",
        "from itertools import cycle\n",
        "kfold=KFold(5,True,3)\n",
        "cvscores = []"
      ],
      "execution_count": null,
      "outputs": []
    },
    {
      "cell_type": "code",
      "metadata": {
        "id": "SVvznchSGGfd",
        "colab": {
          "base_uri": "https://localhost:8080/"
        },
        "outputId": "78d7685c-75aa-4b8c-aa27-50f09f529043"
      },
      "source": [
        "# Read the Dataset and Rename the Column\n",
        "df = pd.read_csv(\"/content/drive/MyDrive/Code/dataset/Preprocessed_data.csv\",header=0,names=columns_to_named)\n",
        "y = df.iloc[:,-1].values\n",
        "X = df.iloc[:,1:].values\n",
        "from sklearn.preprocessing import label_binarize\n",
        "y = label_binarize(y, classes=[0, 1, 2, 3, 4, 5])\n",
        "n_classes = y.shape[1]\n",
        "print(n_classes)"
      ],
      "execution_count": null,
      "outputs": [
        {
          "output_type": "stream",
          "text": [
            "6\n"
          ],
          "name": "stdout"
        }
      ]
    },
    {
      "cell_type": "code",
      "metadata": {
        "colab": {
          "base_uri": "https://localhost:8080/"
        },
        "id": "Wq_qjlPu3sBZ",
        "outputId": "d910fd7e-1316-4095-93ef-ff6c8ca51693"
      },
      "source": [
        "sc = StandardScaler()\n",
        "for train, test in kfold.split(X,y):\n",
        "    X_train, X_test, y_train, y_test = train_test_split(X,y, test_size=0.2,random_state=101)\n",
        "    X_train = sc.fit_transform(X_train)\n",
        "    X_test = sc.transform(X_test)\n",
        "    \n",
        "    y_train = np.array(y_train)\n",
        "    y_test = np.array(y_test)\n",
        "    model = Sequential()\n",
        "    model.add(Dense(800, input_dim=13, activation='relu'))\n",
        "    model.add(Dropout(0.9))\n",
        "    model.add(Dense(400, activation='relu'))\n",
        "    model.add(Dropout(0.9))\n",
        "    model.add(Dense(6,activation='softmax'))\n",
        "\n",
        "    # compile model\n",
        "    model.compile(optimizer='adam', loss = 'categorical_crossentropy', metrics=['accuracy','mae'])\n",
        "    history = model.fit(X_train, y_train, epochs = 10, batch_size=64, verbose=1,shuffle=False)\n",
        "    scores = model.evaluate(X_test, y_test, verbose=1)\n",
        "    print(\"%s: %.2f%%\" % (model.metrics_names[1], scores[1]*100))\n",
        "    cvscores.append(scores[1] * 100)\n",
        "print(\"%.2f%% (+/- %.2f%%)\" % (np.mean(cvscores), np.std(cvscores)))"
      ],
      "execution_count": null,
      "outputs": [
        {
          "output_type": "stream",
          "text": [
            "Epoch 1/10\n",
            "5968/5968 [==============================] - 43s 7ms/step - loss: 0.1096 - accuracy: 0.9740 - mae: 0.0144\n",
            "Epoch 2/10\n",
            "5968/5968 [==============================] - 43s 7ms/step - loss: 0.0561 - accuracy: 0.9958 - mae: 0.0026\n",
            "Epoch 3/10\n",
            "5968/5968 [==============================] - 43s 7ms/step - loss: 0.0203 - accuracy: 0.9967 - mae: 0.0019\n",
            "Epoch 4/10\n",
            "5968/5968 [==============================] - 43s 7ms/step - loss: 0.0194 - accuracy: 0.9969 - mae: 0.0017\n",
            "Epoch 5/10\n",
            "5968/5968 [==============================] - 43s 7ms/step - loss: 0.0270 - accuracy: 0.9969 - mae: 0.0017\n",
            "Epoch 6/10\n",
            "5968/5968 [==============================] - 44s 7ms/step - loss: 0.0220 - accuracy: 0.9971 - mae: 0.0016\n",
            "Epoch 7/10\n",
            "5968/5968 [==============================] - 45s 8ms/step - loss: 0.1321 - accuracy: 0.9972 - mae: 0.0015\n",
            "Epoch 8/10\n",
            "5968/5968 [==============================] - 44s 7ms/step - loss: 0.0408 - accuracy: 0.9974 - mae: 0.0013\n",
            "Epoch 9/10\n",
            "5968/5968 [==============================] - 44s 7ms/step - loss: 0.0285 - accuracy: 0.9975 - mae: 0.0013\n",
            "Epoch 10/10\n",
            "5968/5968 [==============================] - 43s 7ms/step - loss: 0.0273 - accuracy: 0.9974 - mae: 0.0012\n",
            "2984/2984 [==============================] - 5s 2ms/step - loss: 0.0028 - accuracy: 0.9993 - mae: 2.3877e-04\n",
            "accuracy: 99.93%\n",
            "Epoch 1/10\n",
            "5968/5968 [==============================] - 43s 7ms/step - loss: 0.1097 - accuracy: 0.9746 - mae: 0.0143\n",
            "Epoch 2/10\n",
            "5968/5968 [==============================] - 43s 7ms/step - loss: 0.0237 - accuracy: 0.9961 - mae: 0.0025\n",
            "Epoch 3/10\n",
            "5968/5968 [==============================] - 44s 7ms/step - loss: 0.0206 - accuracy: 0.9966 - mae: 0.0020\n",
            "Epoch 4/10\n",
            "5968/5968 [==============================] - 44s 7ms/step - loss: 0.0560 - accuracy: 0.9970 - mae: 0.0017\n",
            "Epoch 5/10\n",
            "5968/5968 [==============================] - 43s 7ms/step - loss: 0.0317 - accuracy: 0.9967 - mae: 0.0017\n",
            "Epoch 6/10\n",
            "5968/5968 [==============================] - 43s 7ms/step - loss: 0.0218 - accuracy: 0.9972 - mae: 0.0015\n",
            "Epoch 7/10\n",
            "5968/5968 [==============================] - 43s 7ms/step - loss: 0.0556 - accuracy: 0.9970 - mae: 0.0015\n",
            "Epoch 8/10\n",
            "5968/5968 [==============================] - 44s 7ms/step - loss: 0.0278 - accuracy: 0.9972 - mae: 0.0014\n",
            "Epoch 9/10\n",
            "5968/5968 [==============================] - 43s 7ms/step - loss: 0.0265 - accuracy: 0.9970 - mae: 0.0015\n",
            "Epoch 10/10\n",
            "5968/5968 [==============================] - 44s 7ms/step - loss: 0.0863 - accuracy: 0.9973 - mae: 0.0013\n",
            "2984/2984 [==============================] - 5s 2ms/step - loss: 0.0042 - accuracy: 0.9992 - mae: 2.5489e-04\n",
            "accuracy: 99.92%\n",
            "Epoch 1/10\n",
            "5968/5968 [==============================] - 44s 7ms/step - loss: 0.1017 - accuracy: 0.9738 - mae: 0.0145\n",
            "Epoch 2/10\n",
            "5968/5968 [==============================] - 44s 7ms/step - loss: 0.0251 - accuracy: 0.9959 - mae: 0.0025\n",
            "Epoch 3/10\n",
            "5968/5968 [==============================] - 43s 7ms/step - loss: 0.0233 - accuracy: 0.9965 - mae: 0.0019\n",
            "Epoch 4/10\n",
            "5968/5968 [==============================] - 43s 7ms/step - loss: 0.0394 - accuracy: 0.9968 - mae: 0.0017\n",
            "Epoch 5/10\n",
            "5968/5968 [==============================] - 43s 7ms/step - loss: 0.0206 - accuracy: 0.9970 - mae: 0.0016\n",
            "Epoch 6/10\n",
            "5968/5968 [==============================] - 43s 7ms/step - loss: 0.0218 - accuracy: 0.9970 - mae: 0.0015\n",
            "Epoch 7/10\n",
            "5968/5968 [==============================] - 44s 7ms/step - loss: 0.0245 - accuracy: 0.9971 - mae: 0.0015\n",
            "Epoch 8/10\n",
            "5968/5968 [==============================] - 45s 8ms/step - loss: 0.0902 - accuracy: 0.9972 - mae: 0.0014\n",
            "Epoch 9/10\n",
            "5968/5968 [==============================] - 44s 7ms/step - loss: 0.0221 - accuracy: 0.9974 - mae: 0.0013\n",
            "Epoch 10/10\n",
            "5968/5968 [==============================] - 44s 7ms/step - loss: 0.0476 - accuracy: 0.9975 - mae: 0.0012\n",
            "2984/2984 [==============================] - 5s 2ms/step - loss: 0.0096 - accuracy: 0.9992 - mae: 2.7440e-04\n",
            "accuracy: 99.92%\n",
            "Epoch 1/10\n",
            "5968/5968 [==============================] - 44s 7ms/step - loss: 0.1172 - accuracy: 0.9739 - mae: 0.0145\n",
            "Epoch 2/10\n",
            "5968/5968 [==============================] - 44s 7ms/step - loss: 0.0315 - accuracy: 0.9957 - mae: 0.0026\n",
            "Epoch 3/10\n",
            "5968/5968 [==============================] - 44s 7ms/step - loss: 0.0220 - accuracy: 0.9964 - mae: 0.0020\n",
            "Epoch 4/10\n",
            "5968/5968 [==============================] - 44s 7ms/step - loss: 0.0190 - accuracy: 0.9968 - mae: 0.0017\n",
            "Epoch 5/10\n",
            "5968/5968 [==============================] - 44s 7ms/step - loss: 0.0204 - accuracy: 0.9969 - mae: 0.0016\n",
            "Epoch 6/10\n",
            "5968/5968 [==============================] - 44s 7ms/step - loss: 0.0772 - accuracy: 0.9971 - mae: 0.0015\n",
            "Epoch 7/10\n",
            "5968/5968 [==============================] - 43s 7ms/step - loss: 0.0221 - accuracy: 0.9974 - mae: 0.0014\n",
            "Epoch 8/10\n",
            "5968/5968 [==============================] - 43s 7ms/step - loss: 0.0692 - accuracy: 0.9972 - mae: 0.0013\n",
            "Epoch 9/10\n",
            "5968/5968 [==============================] - 44s 7ms/step - loss: 0.0715 - accuracy: 0.9974 - mae: 0.0013\n",
            "Epoch 10/10\n",
            "5968/5968 [==============================] - 44s 7ms/step - loss: 0.0558 - accuracy: 0.9975 - mae: 0.0012\n",
            "2984/2984 [==============================] - 5s 2ms/step - loss: 0.0052 - accuracy: 0.9992 - mae: 2.0683e-04\n",
            "accuracy: 99.92%\n",
            "Epoch 1/10\n",
            "5968/5968 [==============================] - 44s 7ms/step - loss: 0.1166 - accuracy: 0.9742 - mae: 0.0144\n",
            "Epoch 2/10\n",
            "5968/5968 [==============================] - 43s 7ms/step - loss: 0.0269 - accuracy: 0.9960 - mae: 0.0025\n",
            "Epoch 3/10\n",
            "5968/5968 [==============================] - 44s 7ms/step - loss: 0.0270 - accuracy: 0.9967 - mae: 0.0019\n",
            "Epoch 4/10\n",
            "5968/5968 [==============================] - 43s 7ms/step - loss: 0.0165 - accuracy: 0.9969 - mae: 0.0018\n",
            "Epoch 5/10\n",
            "5968/5968 [==============================] - 44s 7ms/step - loss: 0.0502 - accuracy: 0.9971 - mae: 0.0016\n",
            "Epoch 6/10\n",
            "5968/5968 [==============================] - 44s 7ms/step - loss: 0.0759 - accuracy: 0.9971 - mae: 0.0015\n",
            "Epoch 7/10\n",
            "5968/5968 [==============================] - 44s 7ms/step - loss: 0.0397 - accuracy: 0.9973 - mae: 0.0014\n",
            "Epoch 8/10\n",
            "5968/5968 [==============================] - 44s 7ms/step - loss: 0.0723 - accuracy: 0.9973 - mae: 0.0013\n",
            "Epoch 9/10\n",
            "5968/5968 [==============================] - 44s 7ms/step - loss: 0.0572 - accuracy: 0.9975 - mae: 0.0012\n",
            "Epoch 10/10\n",
            "5968/5968 [==============================] - 44s 7ms/step - loss: 0.0422 - accuracy: 0.9974 - mae: 0.0012\n",
            "2984/2984 [==============================] - 5s 2ms/step - loss: 0.0090 - accuracy: 0.9991 - mae: 2.8378e-04\n",
            "accuracy: 99.91%\n",
            "99.92% (+/- 0.01%)\n"
          ],
          "name": "stdout"
        }
      ]
    },
    {
      "cell_type": "code",
      "metadata": {
        "id": "E7SIdTKjsMps"
      },
      "source": [
        "target_names = ['Normal', 'WrongSetup', 'DDoS', 'Probing', 'Scan', 'MITM']"
      ],
      "execution_count": null,
      "outputs": []
    },
    {
      "cell_type": "code",
      "metadata": {
        "colab": {
          "base_uri": "https://localhost:8080/"
        },
        "id": "GlfWYc5kMckI",
        "outputId": "6729fc67-5f43-4a2c-b45d-086cf2776625"
      },
      "source": [
        "#test accuracy\r\n",
        "expected_test = y_test\r\n",
        "predicted_test = model.predict(X_test)\r\n",
        "print(\"Test_Accuracy:\",metrics.accuracy_score(expected_test, np.round(predicted_test)))\r\n",
        "print(\"Test_Precision:\",metrics.precision_score(expected_test, np.round(predicted_test), average='weighted'))\r\n",
        "print(\"Test_Recall:\",metrics.recall_score(expected_test, np.round(predicted_test), average='weighted'))\r\n",
        "print(\"Test_f1-score:\",metrics.f1_score(expected_test, np.round(predicted_test), average='weighted'))\r\n",
        "data = classification_report(expected_test,np.round(predicted_test),target_names=target_names)\r\n",
        "print(data)\r\n",
        "\r\n",
        "#train accuracy\r\n",
        "expected_train = y_train\r\n",
        "predicted_train = model.predict(X_train)\r\n",
        "print(\"Train_Accuracy:\",metrics.accuracy_score(expected_train, np.round(predicted_train)))\r\n",
        "print(\"Train_Precision:\",metrics.precision_score(expected_train, np.round(predicted_train), average='weighted'))\r\n",
        "print(\"Train_Recall:\",metrics.recall_score(expected_train, np.round(predicted_train), average='weighted'))\r\n",
        "print(\"Train_f1-score:\",metrics.f1_score(expected_train, np.round(predicted_train), average='weighted'))\r\n",
        "data = classification_report(expected_train,np.round(predicted_train),target_names=target_names)\r\n",
        "print(data)\r\n"
      ],
      "execution_count": null,
      "outputs": [
        {
          "output_type": "stream",
          "text": [
            "Test_Accuracy: 0.9990993444065098\n",
            "Test_Precision: 0.9991025037769024\n",
            "Test_Recall: 0.9990993444065098\n",
            "Test_f1-score: 0.9990989125518646\n",
            "              precision    recall  f1-score   support\n",
            "\n",
            "      Normal       1.00      0.99      1.00     15873\n",
            "  WrongSetup       1.00      1.00      1.00     16377\n",
            "        DDoS       1.00      1.00      1.00     15790\n",
            "     Probing       1.00      1.00      1.00     15819\n",
            "        Scan       1.00      1.00      1.00     15728\n",
            "        MITM       1.00      1.00      1.00     15899\n",
            "\n",
            "   micro avg       1.00      1.00      1.00     95486\n",
            "   macro avg       1.00      1.00      1.00     95486\n",
            "weighted avg       1.00      1.00      1.00     95486\n",
            " samples avg       1.00      1.00      1.00     95486\n",
            "\n",
            "Train_Accuracy: 0.9989972246949783\n",
            "Train_Precision: 0.9990036564525343\n",
            "Train_Recall: 0.9989972246949783\n",
            "Train_f1-score: 0.9989979644595448\n",
            "              precision    recall  f1-score   support\n",
            "\n",
            "      Normal       1.00      0.99      1.00     63162\n",
            "  WrongSetup       1.00      1.00      1.00     65908\n",
            "        DDoS       1.00      1.00      1.00     63230\n",
            "     Probing       1.00      1.00      1.00     63183\n",
            "        Scan       1.00      1.00      1.00     63324\n",
            "        MITM       1.00      1.00      1.00     63133\n",
            "\n",
            "   micro avg       1.00      1.00      1.00    381940\n",
            "   macro avg       1.00      1.00      1.00    381940\n",
            "weighted avg       1.00      1.00      1.00    381940\n",
            " samples avg       1.00      1.00      1.00    381940\n",
            "\n"
          ],
          "name": "stdout"
        },
        {
          "output_type": "stream",
          "text": [
            "/usr/local/lib/python3.6/dist-packages/sklearn/metrics/_classification.py:1272: UndefinedMetricWarning: Precision and F-score are ill-defined and being set to 0.0 in samples with no predicted labels. Use `zero_division` parameter to control this behavior.\n",
            "  _warn_prf(average, modifier, msg_start, len(result))\n"
          ],
          "name": "stderr"
        }
      ]
    }
  ]
}