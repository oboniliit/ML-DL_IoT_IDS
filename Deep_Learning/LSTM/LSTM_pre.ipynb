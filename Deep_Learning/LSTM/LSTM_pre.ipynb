{
  "nbformat": 4,
  "nbformat_minor": 0,
  "metadata": {
    "colab": {
      "name": "LSTM_pre.ipynb",
      "provenance": [],
      "collapsed_sections": []
    },
    "kernelspec": {
      "display_name": "Python 3",
      "language": "python",
      "name": "python3"
    },
    "language_info": {
      "codemirror_mode": {
        "name": "ipython",
        "version": 3
      },
      "file_extension": ".py",
      "mimetype": "text/x-python",
      "name": "python",
      "nbconvert_exporter": "python",
      "pygments_lexer": "ipython3",
      "version": "3.6.4"
    }
  },
  "cells": [
    {
      "cell_type": "code",
      "metadata": {
        "id": "ATjQKNxcyQWM"
      },
      "source": [
        "from __future__ import print_function\n",
        "from sklearn.model_selection import train_test_split\n",
        "import pandas as pd\n",
        "from sklearn import preprocessing\n",
        "import numpy as np\n",
        "np.random.seed(1337)  # for reproducibility\n",
        "from keras.preprocessing import sequence\n",
        "from keras.utils import np_utils\n",
        "from keras.models import Sequential\n",
        "from keras.layers import Dense, Dropout, Activation, Embedding\n",
        "from keras.layers import LSTM, SimpleRNN, GRU\n",
        "from keras.datasets import imdb\n",
        "from keras.utils.np_utils import to_categorical\n",
        "from sklearn.metrics import (precision_score, recall_score,f1_score, accuracy_score,mean_squared_error,mean_absolute_error)\n",
        "from sklearn import metrics\n",
        "from sklearn.preprocessing import Normalizer\n",
        "import h5py\n",
        "from keras import callbacks\n",
        "from keras.callbacks import ModelCheckpoint, EarlyStopping, ReduceLROnPlateau, CSVLogger\n",
        "import h5py\n",
        "from sklearn.metrics import classification_report, confusion_matrix\n",
        "import seaborn as sns\n",
        "from sklearn.model_selection import KFold,cross_val_score\n",
        "kfold=KFold(5,True,3)\n",
        "cvscores = []\n"
      ],
      "execution_count": null,
      "outputs": []
    },
    {
      "cell_type": "code",
      "metadata": {
        "id": "YKMmn0n7JPRK",
        "colab": {
          "base_uri": "https://localhost:8080/"
        },
        "outputId": "9469f95c-2e9e-435a-d848-46eb189b9ab3"
      },
      "source": [
        "from google.colab import drive\n",
        "drive.mount('/content/drive')"
      ],
      "execution_count": null,
      "outputs": [
        {
          "output_type": "stream",
          "text": [
            "Mounted at /content/drive\n"
          ],
          "name": "stdout"
        }
      ]
    },
    {
      "cell_type": "code",
      "metadata": {
        "id": "AVr0Q9_N6izd"
      },
      "source": [
        "#load training dataset\n",
        "# Name for the column  or Features Map\n",
        "columns_to_named = [\"frameNumber\", \"frameTime\", \"frameLen\", \"ethSrc\", \"ethDst\",\n",
        "       \"ipSrc\", \"ipDst\", \"ipProto\", \"ipLen\", \"tcpLen\", \"tcpSrcport\",\n",
        "       \"tcpDstport\", \"Value\", \"normality\"]\n",
        "    \n",
        "    # Read the Dataset and Rename the Column\n",
        "df = pd.read_csv(\"/content/drive/My Drive/Preprocessed_data.csv\", header=0,names=columns_to_named)\n",
        "\n",
        "col_norm = ['frameNumber', 'frameTime', 'frameLen', 'ethSrc', 'ethDst',\n",
        "       'ipSrc', 'ipDst', 'ipProto', 'ipLen', 'tcpLen', 'tcpSrcport',\n",
        "       'tcpDstport', 'Value']\n",
        "    \n",
        "X = df[col_norm]\n",
        "Y = df['normality']    "
      ],
      "execution_count": null,
      "outputs": []
    },
    {
      "cell_type": "code",
      "metadata": {
        "colab": {
          "base_uri": "https://localhost:8080/",
          "height": 224
        },
        "id": "VCZ-b1rFr7n0",
        "outputId": "eb4d2edf-f354-4129-f64a-0f62f3fdfb9d"
      },
      "source": [
        "df.head()"
      ],
      "execution_count": null,
      "outputs": [
        {
          "output_type": "execute_result",
          "data": {
            "text/html": [
              "<div>\n",
              "<style scoped>\n",
              "    .dataframe tbody tr th:only-of-type {\n",
              "        vertical-align: middle;\n",
              "    }\n",
              "\n",
              "    .dataframe tbody tr th {\n",
              "        vertical-align: top;\n",
              "    }\n",
              "\n",
              "    .dataframe thead th {\n",
              "        text-align: right;\n",
              "    }\n",
              "</style>\n",
              "<table border=\"1\" class=\"dataframe\">\n",
              "  <thead>\n",
              "    <tr style=\"text-align: right;\">\n",
              "      <th></th>\n",
              "      <th>frameNumber</th>\n",
              "      <th>frameTime</th>\n",
              "      <th>frameLen</th>\n",
              "      <th>ethSrc</th>\n",
              "      <th>ethDst</th>\n",
              "      <th>ipSrc</th>\n",
              "      <th>ipDst</th>\n",
              "      <th>ipProto</th>\n",
              "      <th>ipLen</th>\n",
              "      <th>tcpLen</th>\n",
              "      <th>tcpSrcport</th>\n",
              "      <th>tcpDstport</th>\n",
              "      <th>Value</th>\n",
              "      <th>normality</th>\n",
              "    </tr>\n",
              "  </thead>\n",
              "  <tbody>\n",
              "    <tr>\n",
              "      <th>0</th>\n",
              "      <td>1</td>\n",
              "      <td>1.237230e+14</td>\n",
              "      <td>54</td>\n",
              "      <td>8.797200e+13</td>\n",
              "      <td>1.672760e+14</td>\n",
              "      <td>1.921680e+08</td>\n",
              "      <td>1.921680e+09</td>\n",
              "      <td>6</td>\n",
              "      <td>40.0</td>\n",
              "      <td>0.0</td>\n",
              "      <td>49279.0</td>\n",
              "      <td>80</td>\n",
              "      <td>-99.0</td>\n",
              "      <td>0</td>\n",
              "    </tr>\n",
              "    <tr>\n",
              "      <th>1</th>\n",
              "      <td>2</td>\n",
              "      <td>1.237230e+14</td>\n",
              "      <td>62</td>\n",
              "      <td>8.797200e+13</td>\n",
              "      <td>1.672760e+14</td>\n",
              "      <td>1.921680e+08</td>\n",
              "      <td>1.921680e+09</td>\n",
              "      <td>6</td>\n",
              "      <td>48.0</td>\n",
              "      <td>0.0</td>\n",
              "      <td>56521.0</td>\n",
              "      <td>80</td>\n",
              "      <td>-99.0</td>\n",
              "      <td>0</td>\n",
              "    </tr>\n",
              "    <tr>\n",
              "      <th>2</th>\n",
              "      <td>3</td>\n",
              "      <td>1.237230e+14</td>\n",
              "      <td>62</td>\n",
              "      <td>1.672760e+14</td>\n",
              "      <td>8.797200e+13</td>\n",
              "      <td>1.921680e+09</td>\n",
              "      <td>1.921680e+08</td>\n",
              "      <td>6</td>\n",
              "      <td>48.0</td>\n",
              "      <td>0.0</td>\n",
              "      <td>80.0</td>\n",
              "      <td>56521</td>\n",
              "      <td>-99.0</td>\n",
              "      <td>0</td>\n",
              "    </tr>\n",
              "    <tr>\n",
              "      <th>3</th>\n",
              "      <td>4</td>\n",
              "      <td>1.237230e+14</td>\n",
              "      <td>54</td>\n",
              "      <td>1.672760e+14</td>\n",
              "      <td>8.797200e+13</td>\n",
              "      <td>1.921680e+09</td>\n",
              "      <td>1.921680e+08</td>\n",
              "      <td>6</td>\n",
              "      <td>40.0</td>\n",
              "      <td>0.0</td>\n",
              "      <td>80.0</td>\n",
              "      <td>49279</td>\n",
              "      <td>-99.0</td>\n",
              "      <td>0</td>\n",
              "    </tr>\n",
              "    <tr>\n",
              "      <th>4</th>\n",
              "      <td>5</td>\n",
              "      <td>1.237230e+14</td>\n",
              "      <td>54</td>\n",
              "      <td>8.797200e+13</td>\n",
              "      <td>1.672760e+14</td>\n",
              "      <td>1.921680e+08</td>\n",
              "      <td>1.921680e+09</td>\n",
              "      <td>6</td>\n",
              "      <td>40.0</td>\n",
              "      <td>0.0</td>\n",
              "      <td>56521.0</td>\n",
              "      <td>80</td>\n",
              "      <td>-99.0</td>\n",
              "      <td>0</td>\n",
              "    </tr>\n",
              "  </tbody>\n",
              "</table>\n",
              "</div>"
            ],
            "text/plain": [
              "   frameNumber     frameTime  frameLen  ...  tcpDstport  Value  normality\n",
              "0            1  1.237230e+14        54  ...          80  -99.0          0\n",
              "1            2  1.237230e+14        62  ...          80  -99.0          0\n",
              "2            3  1.237230e+14        62  ...       56521  -99.0          0\n",
              "3            4  1.237230e+14        54  ...       49279  -99.0          0\n",
              "4            5  1.237230e+14        54  ...          80  -99.0          0\n",
              "\n",
              "[5 rows x 14 columns]"
            ]
          },
          "metadata": {
            "tags": []
          },
          "execution_count": 7
        }
      ]
    },
    {
      "cell_type": "code",
      "metadata": {
        "colab": {
          "base_uri": "https://localhost:8080/"
        },
        "id": "INeYXADXqJJS",
        "outputId": "559dc881-ea3f-4eed-d639-0bcc3822f6b7"
      },
      "source": [
        "from sklearn.preprocessing import label_binarize\n",
        "\n",
        "y = label_binarize(Y, classes=[0, 1, 2, 3, 4, 5])\n",
        "n_classes = y.shape[1]\n",
        "n_classes"
      ],
      "execution_count": null,
      "outputs": [
        {
          "output_type": "execute_result",
          "data": {
            "text/plain": [
              "6"
            ]
          },
          "metadata": {
            "tags": []
          },
          "execution_count": 10
        }
      ]
    },
    {
      "cell_type": "code",
      "metadata": {
        "id": "pDBAiB-PqHCF"
      },
      "source": [
        "target_names = ['Normal', 'WrongSetup', 'DDoS', 'Probing', 'Scan', 'MITM']"
      ],
      "execution_count": null,
      "outputs": []
    },
    {
      "cell_type": "code",
      "metadata": {
        "id": "GuGo7h-U0M_e",
        "colab": {
          "base_uri": "https://localhost:8080/"
        },
        "outputId": "8ccac1f3-bc48-42da-ead9-79ec54307110"
      },
      "source": [
        "from sklearn.preprocessing import StandardScaler\n",
        "sc = StandardScaler()\n",
        "\n",
        "for train, test in kfold.split(X,Y):\n",
        "\n",
        "    X_train, X_test, y_train, y_test = train_test_split(X,Y, test_size = 0.2, random_state = 0)\n",
        "    X_train = sc.fit_transform(X_train)\n",
        "    X_test = sc.transform(X_test)\n",
        "    X_train = np.reshape(X_train, (X_train.shape[0], 1, X_train.shape[1]))\n",
        "    X_test = np.reshape(X_test, (X_test.shape[0], 1, X_test.shape[1]))\n",
        "\n",
        "    x_train = np.array(X_train)\n",
        "    x_test = np.array(X_test)\n",
        "    y_train1 = np.array(y_train)\n",
        "    y_test1 = np.array(y_test)\n",
        "\n",
        "    y_train= to_categorical(y_train1)\n",
        "    y_test= to_categorical(y_test1)\n",
        "\n",
        "    model = Sequential()\n",
        "    model.add(LSTM(4, input_dim=13))  # try using a GRU instead, for fun\n",
        "    model.add(Dropout(0.6))\n",
        "    model.add(Dense(6))\n",
        "    model.add(Activation('softmax'))\n",
        "    #model.summary()\n",
        "\n",
        "    model.compile(optimizer='adam', loss = 'categorical_crossentropy', metrics=['accuracy','mae'])\n",
        "    history = model.fit(X_train, y_train, epochs = 10, batch_size=64, verbose=1,shuffle=False)\n",
        "    scores = model.evaluate(X_test, y_test, verbose=1)\n",
        "    print(\"%s: %.2f%%\" % (model.metrics_names[1], scores[1]*100))\n",
        "    cvscores.append(scores[1] * 100)\n",
        "print(\"%.2f%% (+/- %.2f%%)\" % (np.mean(cvscores), np.std(cvscores)))"
      ],
      "execution_count": null,
      "outputs": [
        {
          "output_type": "stream",
          "text": [
            "Epoch 1/10\n",
            "5968/5968 [==============================] - 10s 2ms/step - loss: 0.9976 - accuracy: 0.5263 - mae: 0.1851\n",
            "Epoch 2/10\n",
            "5968/5968 [==============================] - 9s 2ms/step - loss: 0.8401 - accuracy: 0.5962 - mae: 0.1572\n",
            "Epoch 3/10\n",
            "5968/5968 [==============================] - 9s 2ms/step - loss: 0.8072 - accuracy: 0.6456 - mae: 0.1495\n",
            "Epoch 4/10\n",
            "5968/5968 [==============================] - 10s 2ms/step - loss: 0.7852 - accuracy: 0.6573 - mae: 0.1438\n",
            "Epoch 5/10\n",
            "5968/5968 [==============================] - 9s 2ms/step - loss: 0.7741 - accuracy: 0.6569 - mae: 0.1410\n",
            "Epoch 6/10\n",
            "5968/5968 [==============================] - 9s 2ms/step - loss: 0.7627 - accuracy: 0.6597 - mae: 0.1384\n",
            "Epoch 7/10\n",
            "5968/5968 [==============================] - 9s 2ms/step - loss: 0.7496 - accuracy: 0.6706 - mae: 0.1361\n",
            "Epoch 8/10\n",
            "5968/5968 [==============================] - 9s 2ms/step - loss: 0.7345 - accuracy: 0.7001 - mae: 0.1332\n",
            "Epoch 9/10\n",
            "5968/5968 [==============================] - 9s 2ms/step - loss: 0.7317 - accuracy: 0.7098 - mae: 0.1319\n",
            "Epoch 10/10\n",
            "5968/5968 [==============================] - 9s 2ms/step - loss: 0.7265 - accuracy: 0.7121 - mae: 0.1306\n",
            "2984/2984 [==============================] - 3s 980us/step - loss: 0.2102 - accuracy: 0.9624 - mae: 0.0545\n",
            "accuracy: 96.24%\n",
            "Epoch 1/10\n",
            "5968/5968 [==============================] - 9s 2ms/step - loss: 1.0141 - accuracy: 0.5304 - mae: 0.1864\n",
            "Epoch 2/10\n",
            "5968/5968 [==============================] - 9s 2ms/step - loss: 0.8589 - accuracy: 0.6127 - mae: 0.1606\n",
            "Epoch 3/10\n",
            "5968/5968 [==============================] - 9s 2ms/step - loss: 0.8313 - accuracy: 0.6323 - mae: 0.1547\n",
            "Epoch 4/10\n",
            "5968/5968 [==============================] - 9s 2ms/step - loss: 0.8157 - accuracy: 0.6618 - mae: 0.1516\n",
            "Epoch 5/10\n",
            "5968/5968 [==============================] - 9s 2ms/step - loss: 0.8028 - accuracy: 0.6951 - mae: 0.1480\n",
            "Epoch 6/10\n",
            "5968/5968 [==============================] - 9s 2ms/step - loss: 0.7883 - accuracy: 0.7075 - mae: 0.1445\n",
            "Epoch 7/10\n",
            "5968/5968 [==============================] - 9s 2ms/step - loss: 0.7804 - accuracy: 0.7094 - mae: 0.1426\n",
            "Epoch 8/10\n",
            "5968/5968 [==============================] - 9s 2ms/step - loss: 0.7749 - accuracy: 0.7121 - mae: 0.1411\n",
            "Epoch 9/10\n",
            "5968/5968 [==============================] - 9s 2ms/step - loss: 0.7691 - accuracy: 0.7139 - mae: 0.1399\n",
            "Epoch 10/10\n",
            "5968/5968 [==============================] - 9s 2ms/step - loss: 0.7584 - accuracy: 0.7181 - mae: 0.1384\n",
            "2984/2984 [==============================] - 3s 977us/step - loss: 0.2211 - accuracy: 0.9608 - mae: 0.0581\n",
            "accuracy: 96.08%\n",
            "Epoch 1/10\n",
            "5968/5968 [==============================] - 9s 2ms/step - loss: 1.0141 - accuracy: 0.5087 - mae: 0.1870\n",
            "Epoch 2/10\n",
            "5968/5968 [==============================] - 9s 2ms/step - loss: 0.8502 - accuracy: 0.6316 - mae: 0.1594\n",
            "Epoch 3/10\n",
            "5968/5968 [==============================] - 9s 2ms/step - loss: 0.8117 - accuracy: 0.6649 - mae: 0.1524\n",
            "Epoch 4/10\n",
            "5968/5968 [==============================] - 10s 2ms/step - loss: 0.7850 - accuracy: 0.7025 - mae: 0.1466\n",
            "Epoch 5/10\n",
            "5968/5968 [==============================] - 9s 2ms/step - loss: 0.7652 - accuracy: 0.7197 - mae: 0.1418\n",
            "Epoch 6/10\n",
            "5968/5968 [==============================] - 9s 2ms/step - loss: 0.7535 - accuracy: 0.7282 - mae: 0.1390\n",
            "Epoch 7/10\n",
            "5968/5968 [==============================] - 9s 2ms/step - loss: 0.7450 - accuracy: 0.7329 - mae: 0.1369\n",
            "Epoch 8/10\n",
            "5968/5968 [==============================] - 10s 2ms/step - loss: 0.7382 - accuracy: 0.7353 - mae: 0.1353\n",
            "Epoch 9/10\n",
            "5968/5968 [==============================] - 9s 2ms/step - loss: 0.7292 - accuracy: 0.7381 - mae: 0.1333\n",
            "Epoch 10/10\n",
            "5968/5968 [==============================] - 9s 2ms/step - loss: 0.7265 - accuracy: 0.7378 - mae: 0.1324\n",
            "2984/2984 [==============================] - 3s 1ms/step - loss: 0.1887 - accuracy: 0.9633 - mae: 0.0477\n",
            "accuracy: 96.33%\n",
            "Epoch 1/10\n",
            "5968/5968 [==============================] - 10s 2ms/step - loss: 0.9747 - accuracy: 0.5370 - mae: 0.1801\n",
            "Epoch 2/10\n",
            "5968/5968 [==============================] - 10s 2ms/step - loss: 0.8256 - accuracy: 0.6040 - mae: 0.1545\n",
            "Epoch 3/10\n",
            "5968/5968 [==============================] - 9s 2ms/step - loss: 0.8048 - accuracy: 0.6020 - mae: 0.1493\n",
            "Epoch 4/10\n",
            "5968/5968 [==============================] - 9s 2ms/step - loss: 0.7907 - accuracy: 0.5883 - mae: 0.1460\n",
            "Epoch 5/10\n",
            "5968/5968 [==============================] - 9s 2ms/step - loss: 0.7770 - accuracy: 0.5963 - mae: 0.1430\n",
            "Epoch 6/10\n",
            "5968/5968 [==============================] - 9s 2ms/step - loss: 0.7646 - accuracy: 0.6037 - mae: 0.1408\n",
            "Epoch 7/10\n",
            "5968/5968 [==============================] - 9s 2ms/step - loss: 0.7537 - accuracy: 0.6064 - mae: 0.1386\n",
            "Epoch 8/10\n",
            "5968/5968 [==============================] - 9s 2ms/step - loss: 0.7473 - accuracy: 0.6174 - mae: 0.1371\n",
            "Epoch 9/10\n",
            "5968/5968 [==============================] - 9s 2ms/step - loss: 0.7422 - accuracy: 0.6218 - mae: 0.1357\n",
            "Epoch 10/10\n",
            "5968/5968 [==============================] - 9s 2ms/step - loss: 0.7352 - accuracy: 0.6262 - mae: 0.1344\n",
            "2984/2984 [==============================] - 3s 979us/step - loss: 0.1398 - accuracy: 0.9942 - mae: 0.0360\n",
            "accuracy: 99.42%\n",
            "Epoch 1/10\n",
            "5968/5968 [==============================] - 9s 2ms/step - loss: 0.9876 - accuracy: 0.5513 - mae: 0.1797\n",
            "Epoch 2/10\n",
            "5968/5968 [==============================] - 9s 2ms/step - loss: 0.8345 - accuracy: 0.6310 - mae: 0.1549\n",
            "Epoch 3/10\n",
            "5968/5968 [==============================] - 9s 2ms/step - loss: 0.7996 - accuracy: 0.6791 - mae: 0.1479\n",
            "Epoch 4/10\n",
            "5968/5968 [==============================] - 9s 2ms/step - loss: 0.7785 - accuracy: 0.6731 - mae: 0.1435\n",
            "Epoch 5/10\n",
            "5968/5968 [==============================] - 9s 2ms/step - loss: 0.7593 - accuracy: 0.6818 - mae: 0.1398\n",
            "Epoch 6/10\n",
            "5968/5968 [==============================] - 9s 2ms/step - loss: 0.7501 - accuracy: 0.6858 - mae: 0.1379\n",
            "Epoch 7/10\n",
            "5968/5968 [==============================] - 9s 2ms/step - loss: 0.7435 - accuracy: 0.6858 - mae: 0.1363\n",
            "Epoch 8/10\n",
            "5968/5968 [==============================] - 9s 2ms/step - loss: 0.7389 - accuracy: 0.6888 - mae: 0.1351\n",
            "Epoch 9/10\n",
            "5968/5968 [==============================] - 9s 2ms/step - loss: 0.7346 - accuracy: 0.6812 - mae: 0.1345\n",
            "Epoch 10/10\n",
            "5968/5968 [==============================] - 10s 2ms/step - loss: 0.7277 - accuracy: 0.6880 - mae: 0.1329\n",
            "2984/2984 [==============================] - 3s 975us/step - loss: 0.1400 - accuracy: 0.9938 - mae: 0.0365\n",
            "accuracy: 99.38%\n",
            "97.49% (+/- 1.56%)\n"
          ],
          "name": "stdout"
        }
      ]
    },
    {
      "cell_type": "code",
      "metadata": {
        "colab": {
          "base_uri": "https://localhost:8080/"
        },
        "id": "Hku5I-24xEtQ",
        "outputId": "8b9041b3-c90a-4d14-92aa-16aabd250231"
      },
      "source": [
        "### train_accuracy\n",
        "import sklearn.metrics as metrics\n",
        "expected = y_train\n",
        "predicted = model.predict(X_train)\n",
        "data = classification_report(expected,np.round(predicted), target_names=target_names)\n",
        "print(data)\n",
        "\n",
        "print(\"Accuracy:\",metrics.accuracy_score(expected, np.round(predicted)))\n",
        "print(\"Precision:\",metrics.precision_score(expected, np.round(predicted), average='weighted'))\n",
        "print(\"Recall:\",metrics.recall_score(expected, np.round(predicted), average='weighted'))\n",
        "print(\"f1-score:\",metrics.f1_score(expected, np.round(predicted), average='weighted'))\n",
        "print(\"ROC_AUC:\",metrics.roc_auc_score(expected, predicted,multi_class=\"ovr\",average='weighted'))"
      ],
      "execution_count": null,
      "outputs": [
        {
          "output_type": "stream",
          "text": [
            "/usr/local/lib/python3.6/dist-packages/sklearn/metrics/_classification.py:1272: UndefinedMetricWarning: Precision and F-score are ill-defined and being set to 0.0 in samples with no predicted labels. Use `zero_division` parameter to control this behavior.\n",
            "  _warn_prf(average, modifier, msg_start, len(result))\n"
          ],
          "name": "stderr"
        },
        {
          "output_type": "stream",
          "text": [
            "              precision    recall  f1-score   support\n",
            "\n",
            "      Normal       1.00      0.98      0.99     63266\n",
            "  WrongSetup       0.99      1.00      0.99     65753\n",
            "        DDoS       1.00      1.00      1.00     63212\n",
            "     Probing       1.00      0.99      1.00     63179\n",
            "        Scan       1.00      0.99      0.99     63278\n",
            "        MITM       0.99      1.00      0.99     63252\n",
            "\n",
            "   micro avg       1.00      0.99      0.99    381940\n",
            "   macro avg       1.00      0.99      0.99    381940\n",
            "weighted avg       1.00      0.99      0.99    381940\n",
            " samples avg       0.99      0.99      0.99    381940\n",
            "\n",
            "Accuracy: 0.9936508352097188\n",
            "Precision: 0.9950900177960984\n",
            "Recall: 0.9936508352097188\n",
            "f1-score: 0.9943348109286005\n",
            "ROC_AUC: 0.9983805142281816\n"
          ],
          "name": "stdout"
        }
      ]
    },
    {
      "cell_type": "code",
      "metadata": {
        "id": "LfoJHRYMSk4v",
        "colab": {
          "base_uri": "https://localhost:8080/"
        },
        "outputId": "5152166b-4238-4542-a6bc-bcfacae77859"
      },
      "source": [
        "###for test accuracy\n",
        "expected = y_test\n",
        "predicted = model.predict(X_test)\n",
        "data = classification_report(expected, np.round(predicted), target_names=target_names)\n",
        "print(data)\n",
        "\n",
        "print(\"Accuracy:\",metrics.accuracy_score(expected, np.round(predicted)))\n",
        "print(\"Precision:\",metrics.precision_score(expected, np.round(predicted), average='weighted'))\n",
        "print(\"Recall:\",metrics.recall_score(expected, np.round(predicted), average='weighted'))\n",
        "print(\"f1-score:\",metrics.f1_score(expected, np.round(predicted), average='weighted'))\n",
        "print(\"ROC_AUC:\",metrics.roc_auc_score(expected, predicted,multi_class=\"ovr\",average='weighted'))"
      ],
      "execution_count": null,
      "outputs": [
        {
          "output_type": "stream",
          "text": [
            "/usr/local/lib/python3.6/dist-packages/sklearn/metrics/_classification.py:1272: UndefinedMetricWarning: Precision and F-score are ill-defined and being set to 0.0 in samples with no predicted labels. Use `zero_division` parameter to control this behavior.\n",
            "  _warn_prf(average, modifier, msg_start, len(result))\n"
          ],
          "name": "stderr"
        },
        {
          "output_type": "stream",
          "text": [
            "              precision    recall  f1-score   support\n",
            "\n",
            "      Normal       1.00      0.98      0.99     15769\n",
            "  WrongSetup       0.99      1.00      0.99     16532\n",
            "        DDoS       1.00      1.00      1.00     15808\n",
            "     Probing       1.00      0.99      1.00     15823\n",
            "        Scan       1.00      0.99      0.99     15774\n",
            "        MITM       0.99      1.00      0.99     15780\n",
            "\n",
            "   micro avg       1.00      0.99      0.99     95486\n",
            "   macro avg       1.00      0.99      0.99     95486\n",
            "weighted avg       1.00      0.99      0.99     95486\n",
            " samples avg       0.99      0.99      0.99     95486\n",
            "\n",
            "Accuracy: 0.9937163563244874\n",
            "Precision: 0.9953216038945082\n",
            "Recall: 0.9937163563244874\n",
            "f1-score: 0.9944857548766625\n",
            "ROC_AUC: 0.9984061239515216\n"
          ],
          "name": "stdout"
        }
      ]
    }
  ]
}