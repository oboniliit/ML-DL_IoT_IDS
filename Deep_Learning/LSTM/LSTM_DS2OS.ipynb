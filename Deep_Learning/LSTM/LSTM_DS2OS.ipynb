{
  "nbformat": 4,
  "nbformat_minor": 0,
  "metadata": {
    "colab": {
      "name": "LSTM_DS2OS.ipynb",
      "provenance": [],
      "collapsed_sections": []
    },
    "kernelspec": {
      "display_name": "Python 3",
      "language": "python",
      "name": "python3"
    },
    "language_info": {
      "codemirror_mode": {
        "name": "ipython",
        "version": 3
      },
      "file_extension": ".py",
      "mimetype": "text/x-python",
      "name": "python",
      "nbconvert_exporter": "python",
      "pygments_lexer": "ipython3",
      "version": "3.6.4"
    }
  },
  "cells": [
    {
      "cell_type": "code",
      "metadata": {
        "id": "T2KX9a7e01Ya",
        "colab": {
          "base_uri": "https://localhost:8080/"
        },
        "outputId": "d0e71892-462d-43c8-e296-53f70cbe4044"
      },
      "source": [
        "from google.colab import drive\n",
        "drive.mount('/content/drive')"
      ],
      "execution_count": null,
      "outputs": [
        {
          "output_type": "stream",
          "text": [
            "Drive already mounted at /content/drive; to attempt to forcibly remount, call drive.mount(\"/content/drive\", force_remount=True).\n"
          ],
          "name": "stdout"
        }
      ]
    },
    {
      "cell_type": "code",
      "metadata": {
        "id": "T7fMXwTj0Gpc"
      },
      "source": [
        "import numpy as np\n",
        "import pandas as pd\n",
        "import tensorflow as tf\n",
        "from sklearn.preprocessing import Normalizer\n",
        "from scipy.io import arff\n",
        "from keras.models import Sequential\n",
        "from keras.layers import Dense\n",
        "from keras.layers import Dense, Dropout, Activation, Embedding, Flatten, LSTM\n",
        "import h5py\n",
        "from sklearn.model_selection import train_test_split\n",
        "from sklearn.metrics import classification_report, confusion_matrix, ConfusionMatrixDisplay\n",
        "from sklearn.metrics import (precision_score, recall_score,f1_score, accuracy_score,mean_squared_error,mean_absolute_error,roc_auc_score,cohen_kappa_score)\n",
        "from sklearn.model_selection import KFold,cross_val_score\n",
        "kfold=KFold(5,True,3)\n",
        "cvscores = []"
      ],
      "execution_count": null,
      "outputs": []
    },
    {
      "cell_type": "code",
      "metadata": {
        "id": "gwZqtDNh1uDP",
        "colab": {
          "base_uri": "https://localhost:8080/",
          "height": 204
        },
        "outputId": "e78f93d0-9ccb-4b93-9804-1e98810189e9"
      },
      "source": [
        "ds= pd.read_csv('/content/drive/My Drive/code/dataset/df_spark.csv')\n",
        "ds.shape\n",
        "ds = ds.drop(columns=\"Unnamed: 0\")\n",
        "ds.head()"
      ],
      "execution_count": null,
      "outputs": [
        {
          "output_type": "execute_result",
          "data": {
            "text/html": [
              "<div>\n",
              "<style scoped>\n",
              "    .dataframe tbody tr th:only-of-type {\n",
              "        vertical-align: middle;\n",
              "    }\n",
              "\n",
              "    .dataframe tbody tr th {\n",
              "        vertical-align: top;\n",
              "    }\n",
              "\n",
              "    .dataframe thead th {\n",
              "        text-align: right;\n",
              "    }\n",
              "</style>\n",
              "<table border=\"1\" class=\"dataframe\">\n",
              "  <thead>\n",
              "    <tr style=\"text-align: right;\">\n",
              "      <th></th>\n",
              "      <th>0</th>\n",
              "      <th>1</th>\n",
              "      <th>2</th>\n",
              "      <th>3</th>\n",
              "      <th>4</th>\n",
              "      <th>5</th>\n",
              "      <th>6</th>\n",
              "      <th>7</th>\n",
              "      <th>8</th>\n",
              "      <th>9</th>\n",
              "      <th>10</th>\n",
              "      <th>11</th>\n",
              "    </tr>\n",
              "  </thead>\n",
              "  <tbody>\n",
              "    <tr>\n",
              "      <th>0</th>\n",
              "      <td>7.0</td>\n",
              "      <td>21.0</td>\n",
              "      <td>30.0</td>\n",
              "      <td>2.0</td>\n",
              "      <td>3.0</td>\n",
              "      <td>30.0</td>\n",
              "      <td>2.0</td>\n",
              "      <td>3.0</td>\n",
              "      <td>59.0</td>\n",
              "      <td>7.0</td>\n",
              "      <td>2.0</td>\n",
              "      <td>0.0</td>\n",
              "    </tr>\n",
              "    <tr>\n",
              "      <th>1</th>\n",
              "      <td>7.0</td>\n",
              "      <td>32.0</td>\n",
              "      <td>70.0</td>\n",
              "      <td>2.0</td>\n",
              "      <td>4.0</td>\n",
              "      <td>68.0</td>\n",
              "      <td>2.0</td>\n",
              "      <td>4.0</td>\n",
              "      <td>134.0</td>\n",
              "      <td>7.0</td>\n",
              "      <td>2.0</td>\n",
              "      <td>0.0</td>\n",
              "    </tr>\n",
              "    <tr>\n",
              "      <th>2</th>\n",
              "      <td>7.0</td>\n",
              "      <td>15.0</td>\n",
              "      <td>1.0</td>\n",
              "      <td>2.0</td>\n",
              "      <td>2.0</td>\n",
              "      <td>0.0</td>\n",
              "      <td>2.0</td>\n",
              "      <td>2.0</td>\n",
              "      <td>0.0</td>\n",
              "      <td>7.0</td>\n",
              "      <td>2.0</td>\n",
              "      <td>0.0</td>\n",
              "    </tr>\n",
              "    <tr>\n",
              "      <th>3</th>\n",
              "      <td>7.0</td>\n",
              "      <td>33.0</td>\n",
              "      <td>77.0</td>\n",
              "      <td>2.0</td>\n",
              "      <td>7.0</td>\n",
              "      <td>73.0</td>\n",
              "      <td>2.0</td>\n",
              "      <td>7.0</td>\n",
              "      <td>144.0</td>\n",
              "      <td>7.0</td>\n",
              "      <td>2.0</td>\n",
              "      <td>0.0</td>\n",
              "    </tr>\n",
              "    <tr>\n",
              "      <th>4</th>\n",
              "      <td>7.0</td>\n",
              "      <td>55.0</td>\n",
              "      <td>78.0</td>\n",
              "      <td>3.0</td>\n",
              "      <td>7.0</td>\n",
              "      <td>74.0</td>\n",
              "      <td>3.0</td>\n",
              "      <td>7.0</td>\n",
              "      <td>146.0</td>\n",
              "      <td>8.0</td>\n",
              "      <td>2.0</td>\n",
              "      <td>0.0</td>\n",
              "    </tr>\n",
              "  </tbody>\n",
              "</table>\n",
              "</div>"
            ],
            "text/plain": [
              "     0     1     2    3    4     5    6    7      8    9   10   11\n",
              "0  7.0  21.0  30.0  2.0  3.0  30.0  2.0  3.0   59.0  7.0  2.0  0.0\n",
              "1  7.0  32.0  70.0  2.0  4.0  68.0  2.0  4.0  134.0  7.0  2.0  0.0\n",
              "2  7.0  15.0   1.0  2.0  2.0   0.0  2.0  2.0    0.0  7.0  2.0  0.0\n",
              "3  7.0  33.0  77.0  2.0  7.0  73.0  2.0  7.0  144.0  7.0  2.0  0.0\n",
              "4  7.0  55.0  78.0  3.0  7.0  74.0  3.0  7.0  146.0  8.0  2.0  0.0"
            ]
          },
          "metadata": {
            "tags": []
          },
          "execution_count": 4
        }
      ]
    },
    {
      "cell_type": "code",
      "metadata": {
        "id": "4fCuMwKZ12Yt",
        "colab": {
          "base_uri": "https://localhost:8080/"
        },
        "outputId": "93dbecdb-b96c-4266-c9b8-8b9408d10855"
      },
      "source": [
        "y = ds.iloc[:,0].values\n",
        "X = ds.iloc[:,1:].values\n",
        "\n",
        "from sklearn.preprocessing import label_binarize\n",
        "\n",
        "y = label_binarize(y, classes=[0, 1, 2, 3, 4, 5, 6, 7])\n",
        "n_classes = y.shape[1]\n",
        "n_classes"
      ],
      "execution_count": null,
      "outputs": [
        {
          "output_type": "execute_result",
          "data": {
            "text/plain": [
              "8"
            ]
          },
          "metadata": {
            "tags": []
          },
          "execution_count": 5
        }
      ]
    },
    {
      "cell_type": "code",
      "metadata": {
        "id": "FiyUPAlqN7BZ",
        "colab": {
          "base_uri": "https://localhost:8080/"
        },
        "outputId": "3dbc6000-0d6d-427a-e11b-af6c813d2b43"
      },
      "source": [
        "from sklearn.preprocessing import StandardScaler\n",
        "sc = StandardScaler()\n",
        "\n",
        "for train, test in kfold.split(X,y):\n",
        "\n",
        "    X_train, X_test, y_train, y_test = train_test_split(X,y, test_size = 0.2, random_state = 0)\n",
        "    X_train = sc.fit_transform(X_train)\n",
        "    X_test = sc.transform(X_test)\n",
        "    X_train = np.reshape(X_train, (X_train.shape[0], 1, X_train.shape[1]))\n",
        "    X_test = np.reshape(X_test, (X_test.shape[0], 1, X_test.shape[1]))\n",
        "\n",
        "    x_train = np.array(X_train)\n",
        "    x_test = np.array(X_test)\n",
        "    y_train1 = np.array(y_train)\n",
        "    y_test1 = np.array(y_test)\n",
        "\n",
        "    model = Sequential()\n",
        "    model.add(LSTM(4, input_dim=11))  # try using a GRU instead, for fun\n",
        "    model.add(Dropout(0.6))\n",
        "    model.add(Dense(8))\n",
        "    model.add(Activation('softmax'))\n",
        "    #model.summary()\n",
        "\n",
        "    model.compile(optimizer='adam', loss = 'categorical_crossentropy', metrics=['accuracy','mae'])\n",
        "    history = model.fit(X_train, y_train, epochs = 10, batch_size=64, verbose=1,shuffle=False)\n",
        "    scores = model.evaluate(X_test, y_test, verbose=1)\n",
        "    print(\"%s: %.2f%%\" % (model.metrics_names[1], scores[1]*100))\n",
        "    cvscores.append(scores[1] * 100)\n",
        "print(\"%.2f%% (+/- %.2f%%)\" % (np.mean(cvscores), np.std(cvscores)))"
      ],
      "execution_count": null,
      "outputs": [
        {
          "output_type": "stream",
          "text": [
            "Epoch 1/10\n",
            "4475/4475 [==============================] - 8s 2ms/step - loss: 0.3850 - accuracy: 0.9639 - mae: 0.0520\n",
            "Epoch 2/10\n",
            "4475/4475 [==============================] - 8s 2ms/step - loss: 0.1210 - accuracy: 0.9784 - mae: 0.0120\n",
            "Epoch 3/10\n",
            "4475/4475 [==============================] - 8s 2ms/step - loss: 0.1068 - accuracy: 0.9795 - mae: 0.0096\n",
            "Epoch 4/10\n",
            "4475/4475 [==============================] - 8s 2ms/step - loss: 0.1011 - accuracy: 0.9800 - mae: 0.0091\n",
            "Epoch 5/10\n",
            "4475/4475 [==============================] - 8s 2ms/step - loss: 0.0979 - accuracy: 0.9803 - mae: 0.0088\n",
            "Epoch 6/10\n",
            "4475/4475 [==============================] - 8s 2ms/step - loss: 0.0953 - accuracy: 0.9808 - mae: 0.0086\n",
            "Epoch 7/10\n",
            "4475/4475 [==============================] - 8s 2ms/step - loss: 0.0933 - accuracy: 0.9810 - mae: 0.0085\n",
            "Epoch 8/10\n",
            "4475/4475 [==============================] - 8s 2ms/step - loss: 0.0932 - accuracy: 0.9810 - mae: 0.0085\n",
            "Epoch 9/10\n",
            "4475/4475 [==============================] - 8s 2ms/step - loss: 0.0919 - accuracy: 0.9811 - mae: 0.0084\n",
            "Epoch 10/10\n",
            "4475/4475 [==============================] - 8s 2ms/step - loss: 0.0920 - accuracy: 0.9810 - mae: 0.0084\n",
            "2238/2238 [==============================] - 3s 1ms/step - loss: 0.0632 - accuracy: 0.9833 - mae: 0.0054\n",
            "accuracy: 98.33%\n",
            "Epoch 1/10\n",
            "4475/4475 [==============================] - 8s 2ms/step - loss: 0.3849 - accuracy: 0.9617 - mae: 0.0522\n",
            "Epoch 2/10\n",
            "4475/4475 [==============================] - 8s 2ms/step - loss: 0.1177 - accuracy: 0.9778 - mae: 0.0120\n",
            "Epoch 3/10\n",
            "4475/4475 [==============================] - 8s 2ms/step - loss: 0.1050 - accuracy: 0.9783 - mae: 0.0097\n",
            "Epoch 4/10\n",
            "4475/4475 [==============================] - 8s 2ms/step - loss: 0.1001 - accuracy: 0.9789 - mae: 0.0093\n",
            "Epoch 5/10\n",
            "4475/4475 [==============================] - 8s 2ms/step - loss: 0.0960 - accuracy: 0.9795 - mae: 0.0091\n",
            "Epoch 6/10\n",
            "4475/4475 [==============================] - 8s 2ms/step - loss: 0.0943 - accuracy: 0.9796 - mae: 0.0089\n",
            "Epoch 7/10\n",
            "4475/4475 [==============================] - 8s 2ms/step - loss: 0.0923 - accuracy: 0.9797 - mae: 0.0088\n",
            "Epoch 8/10\n",
            "4475/4475 [==============================] - 9s 2ms/step - loss: 0.0910 - accuracy: 0.9799 - mae: 0.0087\n",
            "Epoch 9/10\n",
            "4475/4475 [==============================] - 9s 2ms/step - loss: 0.0892 - accuracy: 0.9802 - mae: 0.0085\n",
            "Epoch 10/10\n",
            "4475/4475 [==============================] - 8s 2ms/step - loss: 0.0879 - accuracy: 0.9806 - mae: 0.0084\n",
            "2238/2238 [==============================] - 3s 1ms/step - loss: 0.0556 - accuracy: 0.9834 - mae: 0.0056\n",
            "accuracy: 98.34%\n",
            "Epoch 1/10\n",
            "4475/4475 [==============================] - 8s 2ms/step - loss: 0.3936 - accuracy: 0.9618 - mae: 0.0529\n",
            "Epoch 2/10\n",
            "4475/4475 [==============================] - 8s 2ms/step - loss: 0.1212 - accuracy: 0.9774 - mae: 0.0122\n",
            "Epoch 3/10\n",
            "4475/4475 [==============================] - 8s 2ms/step - loss: 0.1064 - accuracy: 0.9789 - mae: 0.0099\n",
            "Epoch 4/10\n",
            "4475/4475 [==============================] - 8s 2ms/step - loss: 0.1017 - accuracy: 0.9796 - mae: 0.0094\n",
            "Epoch 5/10\n",
            "4475/4475 [==============================] - 8s 2ms/step - loss: 0.0984 - accuracy: 0.9798 - mae: 0.0091\n",
            "Epoch 6/10\n",
            "4475/4475 [==============================] - 8s 2ms/step - loss: 0.0974 - accuracy: 0.9799 - mae: 0.0090\n",
            "Epoch 7/10\n",
            "4475/4475 [==============================] - 8s 2ms/step - loss: 0.0966 - accuracy: 0.9801 - mae: 0.0089\n",
            "Epoch 8/10\n",
            "4475/4475 [==============================] - 8s 2ms/step - loss: 0.0955 - accuracy: 0.9799 - mae: 0.0088\n",
            "Epoch 9/10\n",
            "4475/4475 [==============================] - 8s 2ms/step - loss: 0.0942 - accuracy: 0.9802 - mae: 0.0088\n",
            "Epoch 10/10\n",
            "4475/4475 [==============================] - 8s 2ms/step - loss: 0.0936 - accuracy: 0.9801 - mae: 0.0087\n",
            "2238/2238 [==============================] - 3s 1ms/step - loss: 0.0638 - accuracy: 0.9827 - mae: 0.0061\n",
            "accuracy: 98.27%\n",
            "Epoch 1/10\n",
            "4475/4475 [==============================] - 8s 2ms/step - loss: 0.3949 - accuracy: 0.9623 - mae: 0.0535\n",
            "Epoch 2/10\n",
            "4475/4475 [==============================] - 8s 2ms/step - loss: 0.1211 - accuracy: 0.9780 - mae: 0.0123\n",
            "Epoch 3/10\n",
            "4475/4475 [==============================] - 8s 2ms/step - loss: 0.1093 - accuracy: 0.9787 - mae: 0.0100\n",
            "Epoch 4/10\n",
            "4475/4475 [==============================] - 9s 2ms/step - loss: 0.1057 - accuracy: 0.9792 - mae: 0.0096\n",
            "Epoch 5/10\n",
            "4475/4475 [==============================] - 8s 2ms/step - loss: 0.1031 - accuracy: 0.9793 - mae: 0.0094\n",
            "Epoch 6/10\n",
            "4475/4475 [==============================] - 8s 2ms/step - loss: 0.1013 - accuracy: 0.9795 - mae: 0.0093\n",
            "Epoch 7/10\n",
            "4475/4475 [==============================] - 9s 2ms/step - loss: 0.0998 - accuracy: 0.9797 - mae: 0.0092\n",
            "Epoch 8/10\n",
            "4475/4475 [==============================] - 9s 2ms/step - loss: 0.0984 - accuracy: 0.9799 - mae: 0.0090\n",
            "Epoch 9/10\n",
            "4475/4475 [==============================] - 9s 2ms/step - loss: 0.0979 - accuracy: 0.9797 - mae: 0.0090\n",
            "Epoch 10/10\n",
            "4475/4475 [==============================] - 9s 2ms/step - loss: 0.0980 - accuracy: 0.9799 - mae: 0.0090\n",
            "2238/2238 [==============================] - 3s 1ms/step - loss: 0.0658 - accuracy: 0.9818 - mae: 0.0060\n",
            "accuracy: 98.18%\n",
            "Epoch 1/10\n",
            "4475/4475 [==============================] - 9s 2ms/step - loss: 0.3907 - accuracy: 0.9646 - mae: 0.0529\n",
            "Epoch 2/10\n",
            "4475/4475 [==============================] - 9s 2ms/step - loss: 0.1144 - accuracy: 0.9782 - mae: 0.0119\n",
            "Epoch 3/10\n",
            "4475/4475 [==============================] - 9s 2ms/step - loss: 0.1021 - accuracy: 0.9797 - mae: 0.0095\n",
            "Epoch 4/10\n",
            "4475/4475 [==============================] - 9s 2ms/step - loss: 0.0990 - accuracy: 0.9798 - mae: 0.0092\n",
            "Epoch 5/10\n",
            "4475/4475 [==============================] - 9s 2ms/step - loss: 0.0961 - accuracy: 0.9799 - mae: 0.0089\n",
            "Epoch 6/10\n",
            "4475/4475 [==============================] - 9s 2ms/step - loss: 0.0945 - accuracy: 0.9800 - mae: 0.0088\n",
            "Epoch 7/10\n",
            "4475/4475 [==============================] - 8s 2ms/step - loss: 0.0938 - accuracy: 0.9800 - mae: 0.0088\n",
            "Epoch 8/10\n",
            "4475/4475 [==============================] - 9s 2ms/step - loss: 0.0921 - accuracy: 0.9805 - mae: 0.0086\n",
            "Epoch 9/10\n",
            "4475/4475 [==============================] - 8s 2ms/step - loss: 0.0907 - accuracy: 0.9808 - mae: 0.0085\n",
            "Epoch 10/10\n",
            "4475/4475 [==============================] - 8s 2ms/step - loss: 0.0900 - accuracy: 0.9808 - mae: 0.0085\n",
            "2238/2238 [==============================] - 3s 1ms/step - loss: 0.0582 - accuracy: 0.9829 - mae: 0.0058\n",
            "accuracy: 98.29%\n",
            "98.28% (+/- 0.06%)\n"
          ],
          "name": "stdout"
        }
      ]
    },
    {
      "cell_type": "code",
      "metadata": {
        "id": "HXhujkyYm2JT"
      },
      "source": [
        "target_names = ['DoS', 'Probing',\t'MaliciousControl', 'MaliciousOperation', 'Scan', 'Spying', 'WrongSetup', 'Normal']"
      ],
      "execution_count": null,
      "outputs": []
    },
    {
      "cell_type": "code",
      "metadata": {
        "colab": {
          "base_uri": "https://localhost:8080/"
        },
        "id": "WIAkijLBtCJC",
        "outputId": "bb4d70c0-8b6f-4377-cc34-ad2b7ffbdc11"
      },
      "source": [
        "### train_accuracy\n",
        "import sklearn.metrics as metrics\n",
        "expected = y_train\n",
        "predicted = model.predict(X_train)\n",
        "data = classification_report(expected,np.round(predicted), target_names=target_names)\n",
        "print(data)\n",
        "\n",
        "print(\"Accuracy:\",metrics.accuracy_score(expected, np.round(predicted)))\n",
        "print(\"Precision:\",metrics.precision_score(expected, np.round(predicted), average='weighted'))\n",
        "print(\"Recall:\",metrics.recall_score(expected, np.round(predicted), average='weighted'))\n",
        "print(\"f1-score:\",metrics.f1_score(expected, np.round(predicted), average='weighted'))\n",
        "#print(\"Cohens kappa:\",metrics.cohen_kappa_score(expected, predicted))\n",
        "print(\"ROC_AUC:\",metrics.roc_auc_score(expected, predicted,multi_class=\"ovr\",average='weighted'))"
      ],
      "execution_count": null,
      "outputs": [
        {
          "output_type": "stream",
          "text": [
            "/usr/local/lib/python3.6/dist-packages/sklearn/metrics/_classification.py:1272: UndefinedMetricWarning: Precision and F-score are ill-defined and being set to 0.0 in labels with no predicted samples. Use `zero_division` parameter to control this behavior.\n",
            "  _warn_prf(average, modifier, msg_start, len(result))\n",
            "/usr/local/lib/python3.6/dist-packages/sklearn/metrics/_classification.py:1272: UndefinedMetricWarning: Precision and F-score are ill-defined and being set to 0.0 in samples with no predicted labels. Use `zero_division` parameter to control this behavior.\n",
            "  _warn_prf(average, modifier, msg_start, len(result))\n"
          ],
          "name": "stderr"
        },
        {
          "output_type": "stream",
          "text": [
            "                    precision    recall  f1-score   support\n",
            "\n",
            "               DoS       0.91      0.66      0.77      4622\n",
            "           Probing       0.00      0.00      0.00       257\n",
            "  MaliciousControl       1.00      0.44      0.61       706\n",
            "MaliciousOperation       0.00      0.00      0.00       645\n",
            "              Scan       0.00      0.00      0.00      1249\n",
            "            Spying       0.00      0.00      0.00       409\n",
            "        WrongSetup       0.00      0.00      0.00       100\n",
            "            Normal       0.99      1.00      0.99    278364\n",
            "\n",
            "         micro avg       0.99      0.98      0.99    286352\n",
            "         macro avg       0.36      0.26      0.30    286352\n",
            "      weighted avg       0.98      0.98      0.98    286352\n",
            "       samples avg       0.98      0.98      0.98    286352\n",
            "\n",
            "Accuracy: 0.983621556685478\n"
          ],
          "name": "stdout"
        },
        {
          "output_type": "stream",
          "text": [
            "/usr/local/lib/python3.6/dist-packages/sklearn/metrics/_classification.py:1272: UndefinedMetricWarning: Precision is ill-defined and being set to 0.0 in labels with no predicted samples. Use `zero_division` parameter to control this behavior.\n",
            "  _warn_prf(average, modifier, msg_start, len(result))\n"
          ],
          "name": "stderr"
        },
        {
          "output_type": "stream",
          "text": [
            "Precision: 0.9778162268310965\n",
            "Recall: 0.983621556685478\n",
            "f1-score: 0.9800857538679428\n",
            "ROC_AUC: 0.9851914792851493\n"
          ],
          "name": "stdout"
        }
      ]
    },
    {
      "cell_type": "code",
      "metadata": {
        "id": "8GV-oE2ZWwgw",
        "colab": {
          "base_uri": "https://localhost:8080/"
        },
        "outputId": "010fbd15-2a5d-4c45-88a9-b2158030070b"
      },
      "source": [
        "#### test accuracy\n",
        "import sklearn.metrics as metrics\n",
        "expected = y_test\n",
        "predicted = model.predict(X_test)\n",
        "data = classification_report(expected,np.round(predicted), target_names=target_names)\n",
        "print(data)\n",
        "# conmat = confusion_matrix(expected,predicted)\n",
        "# print(conmat)\n",
        "\n",
        "print(\"Accuracy:\",metrics.accuracy_score(expected, np.round(predicted)))\n",
        "print(\"Precision:\",metrics.precision_score(expected, np.round(predicted), average='weighted'))\n",
        "print(\"Recall:\",metrics.recall_score(expected, np.round(predicted), average='weighted'))\n",
        "print(\"f1-score:\",metrics.f1_score(expected, np.round(predicted), average='weighted'))\n",
        "#print(\"Cohens kappa:\",metrics.cohen_kappa_score(expected, predicted))\n",
        "print(\"ROC_AUC:\",metrics.roc_auc_score(expected, predicted,multi_class=\"ovr\",average='weighted'))\n"
      ],
      "execution_count": null,
      "outputs": [
        {
          "output_type": "stream",
          "text": [
            "/usr/local/lib/python3.6/dist-packages/sklearn/metrics/_classification.py:1272: UndefinedMetricWarning: Precision and F-score are ill-defined and being set to 0.0 in labels with no predicted samples. Use `zero_division` parameter to control this behavior.\n",
            "  _warn_prf(average, modifier, msg_start, len(result))\n",
            "/usr/local/lib/python3.6/dist-packages/sklearn/metrics/_classification.py:1272: UndefinedMetricWarning: Precision and F-score are ill-defined and being set to 0.0 in samples with no predicted labels. Use `zero_division` parameter to control this behavior.\n",
            "  _warn_prf(average, modifier, msg_start, len(result))\n",
            "/usr/local/lib/python3.6/dist-packages/sklearn/metrics/_classification.py:1272: UndefinedMetricWarning: Precision is ill-defined and being set to 0.0 in labels with no predicted samples. Use `zero_division` parameter to control this behavior.\n",
            "  _warn_prf(average, modifier, msg_start, len(result))\n"
          ],
          "name": "stderr"
        },
        {
          "output_type": "stream",
          "text": [
            "                    precision    recall  f1-score   support\n",
            "\n",
            "               DoS       0.91      0.63      0.75      1158\n",
            "           Probing       0.00      0.00      0.00        85\n",
            "  MaliciousControl       1.00      0.43      0.60       183\n",
            "MaliciousOperation       0.00      0.00      0.00       160\n",
            "              Scan       0.00      0.00      0.00       298\n",
            "            Spying       0.00      0.00      0.00       123\n",
            "        WrongSetup       0.00      0.00      0.00        22\n",
            "            Normal       0.99      1.00      0.99     69560\n",
            "\n",
            "         micro avg       0.99      0.98      0.98     71589\n",
            "         macro avg       0.36      0.26      0.29     71589\n",
            "      weighted avg       0.98      0.98      0.98     71589\n",
            "       samples avg       0.98      0.98      0.98     71589\n",
            "\n",
            "Accuracy: 0.9828744639539594\n",
            "Precision: 0.9765337930201862\n",
            "Recall: 0.9828744639539594\n",
            "f1-score: 0.9789687156267497\n",
            "ROC_AUC: 0.9857196179450827\n"
          ],
          "name": "stdout"
        }
      ]
    }
  ]
}