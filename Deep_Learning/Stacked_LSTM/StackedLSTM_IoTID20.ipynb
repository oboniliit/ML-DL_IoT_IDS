{
  "nbformat": 4,
  "nbformat_minor": 0,
  "metadata": {
    "colab": {
      "name": "StackedLSTM_IoTID20.ipynb",
      "provenance": [],
      "collapsed_sections": []
    },
    "kernelspec": {
      "name": "python3",
      "display_name": "Python 3"
    }
  },
  "cells": [
    {
      "cell_type": "code",
      "metadata": {
        "id": "t7qz8Sy6n3dM",
        "colab": {
          "base_uri": "https://localhost:8080/"
        },
        "outputId": "6c6533b5-b458-40da-e5fd-166455181dd8"
      },
      "source": [
        "from google.colab import drive\n",
        "drive.mount('/content/drive')"
      ],
      "execution_count": null,
      "outputs": [
        {
          "output_type": "stream",
          "text": [
            "Mounted at /content/drive\n"
          ],
          "name": "stdout"
        }
      ]
    },
    {
      "cell_type": "code",
      "metadata": {
        "colab": {
          "base_uri": "https://localhost:8080/"
        },
        "id": "XgcV6aqwotaR",
        "outputId": "6055086c-96d3-42e9-e034-7947af7cb27b"
      },
      "source": [
        "!pip install scikit-plot"
      ],
      "execution_count": null,
      "outputs": [
        {
          "output_type": "stream",
          "text": [
            "Collecting scikit-plot\n",
            "  Downloading https://files.pythonhosted.org/packages/7c/47/32520e259340c140a4ad27c1b97050dd3254fdc517b1d59974d47037510e/scikit_plot-0.3.7-py3-none-any.whl\n",
            "Requirement already satisfied: scikit-learn>=0.18 in /usr/local/lib/python3.6/dist-packages (from scikit-plot) (0.22.2.post1)\n",
            "Requirement already satisfied: joblib>=0.10 in /usr/local/lib/python3.6/dist-packages (from scikit-plot) (0.17.0)\n",
            "Requirement already satisfied: matplotlib>=1.4.0 in /usr/local/lib/python3.6/dist-packages (from scikit-plot) (3.2.2)\n",
            "Requirement already satisfied: scipy>=0.9 in /usr/local/lib/python3.6/dist-packages (from scikit-plot) (1.4.1)\n",
            "Requirement already satisfied: numpy>=1.11.0 in /usr/local/lib/python3.6/dist-packages (from scikit-learn>=0.18->scikit-plot) (1.18.5)\n",
            "Requirement already satisfied: python-dateutil>=2.1 in /usr/local/lib/python3.6/dist-packages (from matplotlib>=1.4.0->scikit-plot) (2.8.1)\n",
            "Requirement already satisfied: kiwisolver>=1.0.1 in /usr/local/lib/python3.6/dist-packages (from matplotlib>=1.4.0->scikit-plot) (1.3.1)\n",
            "Requirement already satisfied: cycler>=0.10 in /usr/local/lib/python3.6/dist-packages (from matplotlib>=1.4.0->scikit-plot) (0.10.0)\n",
            "Requirement already satisfied: pyparsing!=2.0.4,!=2.1.2,!=2.1.6,>=2.0.1 in /usr/local/lib/python3.6/dist-packages (from matplotlib>=1.4.0->scikit-plot) (2.4.7)\n",
            "Requirement already satisfied: six>=1.5 in /usr/local/lib/python3.6/dist-packages (from python-dateutil>=2.1->matplotlib>=1.4.0->scikit-plot) (1.15.0)\n",
            "Installing collected packages: scikit-plot\n",
            "Successfully installed scikit-plot-0.3.7\n"
          ],
          "name": "stdout"
        }
      ]
    },
    {
      "cell_type": "code",
      "metadata": {
        "id": "_bvT-Et5pBvN"
      },
      "source": [
        "import pandas as pd\n",
        "import io\n",
        "import matplotlib.pyplot as plt\n",
        "import numpy as np\n",
        "from sklearn.preprocessing import LabelEncoder, StandardScaler\n",
        "from sklearn.preprocessing import Normalizer\n",
        "from sklearn.model_selection import train_test_split\n",
        "from sklearn import preprocessing\n",
        "from sklearn.preprocessing import MinMaxScaler \n",
        "from keras.models import Sequential\n",
        "from keras.layers import Dense\n",
        "from keras.layers import Dropout\n",
        "from keras.layers import Flatten\n",
        "from keras.constraints import maxnorm\n",
        "from keras.utils.vis_utils import plot_model\n",
        "import tensorflow as tf\n",
        "np.random.seed(1337)  # for reproducibility\n",
        "import sklearn.metrics as metrics\n",
        "from sklearn.metrics.classification import accuracy_score\n",
        "from keras.layers import Dense, Dropout, Activation, Embedding, Flatten, LSTM\n",
        "#from dbn.tensorflow import SupervisedDBNClassification\n",
        "import h5py\n",
        "from sklearn.metrics import classification_report, confusion_matrix, ConfusionMatrixDisplay\n",
        "from sklearn.metrics import (precision_score, recall_score,f1_score, accuracy_score,mean_squared_error,mean_absolute_error,roc_auc_score,cohen_kappa_score)\n",
        "from sklearn.model_selection import KFold,cross_val_score\n",
        "import matplotlib.pyplot as plt\n",
        "import scikitplot as skplt\n",
        "kfold=KFold(5,True,3)\n",
        "cvscores = []"
      ],
      "execution_count": null,
      "outputs": []
    },
    {
      "cell_type": "code",
      "metadata": {
        "id": "3HIy-8V8pae0",
        "colab": {
          "base_uri": "https://localhost:8080/"
        },
        "outputId": "a09298c1-ef64-426c-d0a1-3fbc6c58344d"
      },
      "source": [
        "#### LSTM #######\n",
        "def cleaningdata(df):\n",
        "    assert isinstance(df, pd.DataFrame), \"df needs to be a pd.DataFrame\"\n",
        "    df.dropna(inplace=True)\n",
        "    indices_to_keep = ~df.isin([np.nan, np.inf, -np.inf]).any(1)\n",
        "    return df[indices_to_keep].astype(np.float64)\n",
        "# fetching dataset from path\n",
        "dataset = pd.read_csv('/content/drive/MyDrive/IoT Intrusion Dataset 2020.csv', encoding='utf-8')\n",
        "# for object type data we will label it and transform into apporopriate type fo data after using fit_transform on that colomn to avoid errors\n",
        "for column in dataset.columns:\n",
        "    if dataset[column].dtype == type(object):\n",
        "        le = LabelEncoder()\n",
        "        dataset[column] = le.fit_transform(dataset[column])\n",
        "data = cleaningdata(dataset)\n",
        "\n",
        "# collecting all required colomns in data to X\n",
        "X = data.iloc[:, 0:85].values\n",
        "\n",
        "# collecting our LABEL colomn in y\n",
        "y = data.iloc[:, -2].values\n",
        "\n",
        "from sklearn.preprocessing import label_binarize\n",
        "\n",
        "Y = label_binarize(y, classes=[0, 1, 2, 3, 4])\n",
        "n_classes = Y.shape[1]\n",
        "print(n_classes)\n",
        "\n",
        "for train, test in kfold.split(X,y):\n",
        "   X_train, X_test, y_train, y_test = train_test_split(X, y, test_size=0.20, random_state=52)\n",
        "   from keras.utils.np_utils import to_categorical\n",
        "   sc = StandardScaler()\n",
        "   X_train = sc.fit_transform(X_train)\n",
        "   X_test = sc.transform(X_test)\n",
        "\n",
        "   #X_train.shape\n",
        "\n",
        "   X_train = np.reshape(X_train, (X_train.shape[0], 1, X_train.shape[1]))\n",
        "   X_test = np.reshape(X_test, (X_test.shape[0], 1, X_test.shape[1]))\n",
        "\n",
        "   x_train = np.array(X_train)\n",
        "   x_test = np.array(X_test)\n",
        "   y_train1 = np.array(y_train)\n",
        "   y_test1 = np.array(y_test)\n",
        "\n",
        "   y_train= to_categorical(y_train1)\n",
        "   y_test= to_categorical(y_test1)\n",
        "# 1. define the network\n",
        "   model = Sequential()\n",
        "   model.add(LSTM(16,input_dim=85, return_sequences=True))  # try using a GRU instead, for fun\n",
        "   model.add(Dropout(0.4))\n",
        "   model.add(LSTM(16, return_sequences=True))  # try using a GRU instead, for fun\n",
        "   model.add(Dropout(0.4))\n",
        "   model.add(LSTM(16, return_sequences=False))  # try using a GRU instead, for fun\n",
        "   model.add(Dropout(0.4))\n",
        "   model.add(Dense(5))\n",
        "   model.add(Activation('softmax'))\n",
        "   model.compile(optimizer='adam', loss = 'categorical_crossentropy', metrics=['accuracy','mae'])\n",
        "   history = model.fit(X_train, y_train, epochs = 10, batch_size=64, verbose=1,shuffle=False)\n",
        "   scores = model.evaluate(X_test, y_test, verbose=1)\n",
        "   print(\"%s: %.2f%%\" % (model.metrics_names[1], scores[1]*100))\n",
        "   cvscores.append(scores[1] * 100)\n",
        "print(\"%.2f%% (+/- %.2f%%)\" % (np.mean(cvscores), np.std(cvscores)))\n"
      ],
      "execution_count": null,
      "outputs": [
        {
          "output_type": "stream",
          "text": [
            "5\n",
            "Epoch 1/10\n",
            "7818/7818 [==============================] - 33s 4ms/step - loss: 0.0934 - accuracy: 0.9726 - mae: 0.0217\n",
            "Epoch 2/10\n",
            "7818/7818 [==============================] - 32s 4ms/step - loss: 0.0124 - accuracy: 0.9967 - mae: 0.0028\n",
            "Epoch 3/10\n",
            "7818/7818 [==============================] - 33s 4ms/step - loss: 0.0094 - accuracy: 0.9974 - mae: 0.0021\n",
            "Epoch 4/10\n",
            "7818/7818 [==============================] - 33s 4ms/step - loss: 0.0091 - accuracy: 0.9974 - mae: 0.0019\n",
            "Epoch 5/10\n",
            "7818/7818 [==============================] - 32s 4ms/step - loss: 0.0078 - accuracy: 0.9979 - mae: 0.0017\n",
            "Epoch 6/10\n",
            "7818/7818 [==============================] - 32s 4ms/step - loss: 0.0071 - accuracy: 0.9980 - mae: 0.0015\n",
            "Epoch 7/10\n",
            "7818/7818 [==============================] - 33s 4ms/step - loss: 0.0066 - accuracy: 0.9982 - mae: 0.0014\n",
            "Epoch 8/10\n",
            "7818/7818 [==============================] - 33s 4ms/step - loss: 0.0063 - accuracy: 0.9983 - mae: 0.0013\n",
            "Epoch 9/10\n",
            "7818/7818 [==============================] - 32s 4ms/step - loss: 0.0056 - accuracy: 0.9984 - mae: 0.0012\n",
            "Epoch 10/10\n",
            "7818/7818 [==============================] - 32s 4ms/step - loss: 0.0058 - accuracy: 0.9984 - mae: 0.0012\n",
            "3909/3909 [==============================] - 6s 1ms/step - loss: 5.2349e-04 - accuracy: 0.9999 - mae: 6.5110e-05\n",
            "accuracy: 99.99%\n",
            "Epoch 1/10\n",
            "7818/7818 [==============================] - 35s 4ms/step - loss: 0.1038 - accuracy: 0.9691 - mae: 0.0240\n",
            "Epoch 2/10\n",
            "7818/7818 [==============================] - 32s 4ms/step - loss: 0.0135 - accuracy: 0.9963 - mae: 0.0031\n",
            "Epoch 3/10\n",
            "7818/7818 [==============================] - 32s 4ms/step - loss: 0.0103 - accuracy: 0.9970 - mae: 0.0023\n",
            "Epoch 4/10\n",
            "7818/7818 [==============================] - 34s 4ms/step - loss: 0.0090 - accuracy: 0.9977 - mae: 0.0019\n",
            "Epoch 5/10\n",
            "7818/7818 [==============================] - 33s 4ms/step - loss: 0.0079 - accuracy: 0.9978 - mae: 0.0017\n",
            "Epoch 6/10\n",
            "7818/7818 [==============================] - 32s 4ms/step - loss: 0.0069 - accuracy: 0.9981 - mae: 0.0015\n",
            "Epoch 7/10\n",
            "7818/7818 [==============================] - 33s 4ms/step - loss: 0.0070 - accuracy: 0.9981 - mae: 0.0015\n",
            "Epoch 8/10\n",
            "7818/7818 [==============================] - 33s 4ms/step - loss: 0.0065 - accuracy: 0.9983 - mae: 0.0013\n",
            "Epoch 9/10\n",
            "7818/7818 [==============================] - 33s 4ms/step - loss: 0.0064 - accuracy: 0.9983 - mae: 0.0013\n",
            "Epoch 10/10\n",
            "7818/7818 [==============================] - 32s 4ms/step - loss: 0.0061 - accuracy: 0.9983 - mae: 0.0013\n",
            "3909/3909 [==============================] - 6s 1ms/step - loss: 5.5759e-04 - accuracy: 0.9999 - mae: 7.8485e-05\n",
            "accuracy: 99.99%\n",
            "Epoch 1/10\n",
            "7818/7818 [==============================] - 33s 4ms/step - loss: 0.1024 - accuracy: 0.9698 - mae: 0.0237\n",
            "Epoch 2/10\n",
            "7818/7818 [==============================] - 34s 4ms/step - loss: 0.0124 - accuracy: 0.9967 - mae: 0.0028\n",
            "Epoch 3/10\n",
            "7818/7818 [==============================] - 34s 4ms/step - loss: 0.0096 - accuracy: 0.9975 - mae: 0.0021\n",
            "Epoch 4/10\n",
            "7818/7818 [==============================] - 34s 4ms/step - loss: 0.0079 - accuracy: 0.9979 - mae: 0.0018\n",
            "Epoch 5/10\n",
            "7818/7818 [==============================] - 33s 4ms/step - loss: 0.0074 - accuracy: 0.9981 - mae: 0.0016\n",
            "Epoch 6/10\n",
            "7818/7818 [==============================] - 33s 4ms/step - loss: 0.0064 - accuracy: 0.9983 - mae: 0.0014\n",
            "Epoch 7/10\n",
            "7818/7818 [==============================] - 33s 4ms/step - loss: 0.0064 - accuracy: 0.9983 - mae: 0.0013\n",
            "Epoch 8/10\n",
            "7818/7818 [==============================] - 34s 4ms/step - loss: 0.0058 - accuracy: 0.9984 - mae: 0.0013\n",
            "Epoch 9/10\n",
            "7818/7818 [==============================] - 36s 5ms/step - loss: 0.0060 - accuracy: 0.9985 - mae: 0.0012\n",
            "Epoch 10/10\n",
            "7818/7818 [==============================] - 33s 4ms/step - loss: 0.0050 - accuracy: 0.9986 - mae: 0.0011\n",
            "3909/3909 [==============================] - 6s 1ms/step - loss: 0.0010 - accuracy: 0.9998 - mae: 8.7754e-05\n",
            "accuracy: 99.98%\n",
            "Epoch 1/10\n",
            "7818/7818 [==============================] - 33s 4ms/step - loss: 0.0945 - accuracy: 0.9734 - mae: 0.0226\n",
            "Epoch 2/10\n",
            "7818/7818 [==============================] - 33s 4ms/step - loss: 0.0124 - accuracy: 0.9969 - mae: 0.0028\n",
            "Epoch 3/10\n",
            "7818/7818 [==============================] - 33s 4ms/step - loss: 0.0097 - accuracy: 0.9974 - mae: 0.0022\n",
            "Epoch 4/10\n",
            "7818/7818 [==============================] - 33s 4ms/step - loss: 0.0083 - accuracy: 0.9978 - mae: 0.0018\n",
            "Epoch 5/10\n",
            "7818/7818 [==============================] - 33s 4ms/step - loss: 0.0078 - accuracy: 0.9979 - mae: 0.0017\n",
            "Epoch 6/10\n",
            "7818/7818 [==============================] - 33s 4ms/step - loss: 0.0070 - accuracy: 0.9981 - mae: 0.0015\n",
            "Epoch 7/10\n",
            "7818/7818 [==============================] - 33s 4ms/step - loss: 0.0069 - accuracy: 0.9982 - mae: 0.0014\n",
            "Epoch 8/10\n",
            "7818/7818 [==============================] - 33s 4ms/step - loss: 0.0065 - accuracy: 0.9983 - mae: 0.0013\n",
            "Epoch 9/10\n",
            "7818/7818 [==============================] - 33s 4ms/step - loss: 0.0061 - accuracy: 0.9984 - mae: 0.0013\n",
            "Epoch 10/10\n",
            "7818/7818 [==============================] - 33s 4ms/step - loss: 0.0052 - accuracy: 0.9986 - mae: 0.0012\n",
            "3909/3909 [==============================] - 6s 1ms/step - loss: 0.0010 - accuracy: 0.9998 - mae: 8.4293e-05\n",
            "accuracy: 99.98%\n",
            "Epoch 1/10\n",
            "7818/7818 [==============================] - 33s 4ms/step - loss: 0.1126 - accuracy: 0.9658 - mae: 0.0262\n",
            "Epoch 2/10\n",
            "7818/7818 [==============================] - 33s 4ms/step - loss: 0.0156 - accuracy: 0.9966 - mae: 0.0032\n",
            "Epoch 3/10\n",
            "7818/7818 [==============================] - 33s 4ms/step - loss: 0.0112 - accuracy: 0.9975 - mae: 0.0023\n",
            "Epoch 4/10\n",
            "7818/7818 [==============================] - 33s 4ms/step - loss: 0.0092 - accuracy: 0.9980 - mae: 0.0018\n",
            "Epoch 5/10\n",
            "7818/7818 [==============================] - 33s 4ms/step - loss: 0.0091 - accuracy: 0.9980 - mae: 0.0017\n",
            "Epoch 6/10\n",
            "7818/7818 [==============================] - 35s 5ms/step - loss: 0.0082 - accuracy: 0.9982 - mae: 0.0015\n",
            "Epoch 7/10\n",
            "7818/7818 [==============================] - 33s 4ms/step - loss: 0.0072 - accuracy: 0.9984 - mae: 0.0014\n",
            "Epoch 8/10\n",
            "7818/7818 [==============================] - 33s 4ms/step - loss: 0.0073 - accuracy: 0.9985 - mae: 0.0013\n",
            "Epoch 9/10\n",
            "7818/7818 [==============================] - 33s 4ms/step - loss: 0.0066 - accuracy: 0.9987 - mae: 0.0012\n",
            "Epoch 10/10\n",
            "7818/7818 [==============================] - 34s 4ms/step - loss: 0.0069 - accuracy: 0.9987 - mae: 0.0012\n",
            "3909/3909 [==============================] - 6s 1ms/step - loss: 0.0026 - accuracy: 0.9997 - mae: 1.0529e-04\n",
            "accuracy: 99.97%\n",
            "99.98% (+/- 0.00%)\n"
          ],
          "name": "stdout"
        }
      ]
    },
    {
      "cell_type": "code",
      "metadata": {
        "id": "SaPiC01LpKUM"
      },
      "source": [
        "target_names = ['Mirai', 'DoS', 'Scan', 'Normal', 'MITM_ARP_Spoofing']"
      ],
      "execution_count": null,
      "outputs": []
    },
    {
      "cell_type": "code",
      "metadata": {
        "colab": {
          "base_uri": "https://localhost:8080/"
        },
        "id": "8UE99Q7JFQER",
        "outputId": "2b9b1136-b7eb-4463-df53-995151fe634f"
      },
      "source": [
        "### train_accuracy\r\n",
        "from sklearn.metrics import classification_report, confusion_matrix, ConfusionMatrixDisplay\r\n",
        "from sklearn.metrics import (precision_score, recall_score,f1_score, accuracy_score,mean_squared_error,mean_absolute_error,roc_auc_score,cohen_kappa_score)\r\n",
        "import sklearn.metrics as metrics\r\n",
        "\r\n",
        "expected = y_train\r\n",
        "predicted = model.predict(X_train)\r\n",
        "data = classification_report(expected,np.round(predicted), target_names=target_names)\r\n",
        "print(data)\r\n",
        "\r\n",
        "print(\"Accuracy_Train:\",metrics.accuracy_score(expected, np.round(predicted)))\r\n",
        "print(\"Precision_Train:\",metrics.precision_score(expected, np.round(predicted), average='weighted'))\r\n",
        "print(\"Recall_Train:\",metrics.recall_score(expected, np.round(predicted), average='weighted'))\r\n",
        "print(\"f1-score_Train:\",metrics.f1_score(expected, np.round(predicted), average='weighted'))\r\n",
        "print(\"ROC_AUC_Train:\",metrics.roc_auc_score(expected, predicted,multi_class=\"ovr\",average='weighted'))"
      ],
      "execution_count": null,
      "outputs": [
        {
          "output_type": "stream",
          "text": [
            "                   precision    recall  f1-score   support\n",
            "\n",
            "            Mirai       1.00      1.00      1.00     47576\n",
            "              DoS       1.00      1.00      1.00     28268\n",
            "             Scan       1.00      1.00      1.00    332252\n",
            "           Normal       1.00      1.00      1.00     32013\n",
            "MITM_ARP_Spoofing       1.00      1.00      1.00     60223\n",
            "\n",
            "        micro avg       1.00      1.00      1.00    500332\n",
            "        macro avg       1.00      1.00      1.00    500332\n",
            "     weighted avg       1.00      1.00      1.00    500332\n",
            "      samples avg       1.00      1.00      1.00    500332\n",
            "\n",
            "Accuracy_Train: 0.9998680875898404\n",
            "Precision_Train: 0.9998681025772682\n",
            "Recall_Train: 0.9998680875898404\n",
            "f1-score_Train: 0.9998680849884757\n",
            "ROC_AUC_Train: 0.9999877382004934\n"
          ],
          "name": "stdout"
        }
      ]
    },
    {
      "cell_type": "code",
      "metadata": {
        "id": "5-Gk8pJ2m0n4",
        "colab": {
          "base_uri": "https://localhost:8080/"
        },
        "outputId": "88d63478-62c5-45cd-9486-fbf5bb60875d"
      },
      "source": [
        "### test_accuracy\n",
        "expected = y_test\n",
        "predicted = model.predict(X_test)\n",
        "data = classification_report(expected,np.round(predicted), target_names=target_names)\n",
        "print(data)\n",
        "\n",
        "print(\"Accuracy:\",metrics.accuracy_score(expected, np.round(predicted)))\n",
        "print(\"Precision:\",metrics.precision_score(expected, np.round(predicted), average='weighted'))\n",
        "print(\"Recall:\",metrics.recall_score(expected, np.round(predicted), average='weighted'))\n",
        "print(\"f1-score:\",metrics.f1_score(expected, np.round(predicted), average='weighted'))\n",
        "print(\"ROC_AUC:\",metrics.roc_auc_score(expected, predicted,multi_class=\"ovr\",average='weighted'))\n"
      ],
      "execution_count": null,
      "outputs": [
        {
          "output_type": "stream",
          "text": [
            "                   precision    recall  f1-score   support\n",
            "\n",
            "            Mirai       1.00      1.00      1.00     11815\n",
            "              DoS       1.00      1.00      1.00      7109\n",
            "             Scan       1.00      1.00      1.00     83057\n",
            "           Normal       1.00      1.00      1.00      8060\n",
            "MITM_ARP_Spoofing       1.00      1.00      1.00     15042\n",
            "\n",
            "        micro avg       1.00      1.00      1.00    125083\n",
            "        macro avg       1.00      1.00      1.00    125083\n",
            "     weighted avg       1.00      1.00      1.00    125083\n",
            "      samples avg       1.00      1.00      1.00    125083\n",
            "\n",
            "Accuracy: 0.9997441698712055\n",
            "Precision: 0.9997442303352954\n",
            "Recall: 0.9997441698712055\n",
            "f1-score: 0.9997441484697706\n",
            "ROC_AUC: 0.9999518952332054\n"
          ],
          "name": "stdout"
        }
      ]
    }
  ]
}