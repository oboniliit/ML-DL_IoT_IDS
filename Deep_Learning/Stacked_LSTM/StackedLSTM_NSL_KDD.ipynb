{
  "nbformat": 4,
  "nbformat_minor": 0,
  "metadata": {
    "kernelspec": {
      "display_name": "Python 3",
      "language": "python",
      "name": "python3"
    },
    "language_info": {
      "codemirror_mode": {
        "name": "ipython",
        "version": 3
      },
      "file_extension": ".py",
      "mimetype": "text/x-python",
      "name": "python",
      "nbconvert_exporter": "python",
      "pygments_lexer": "ipython3",
      "version": "3.6.4"
    },
    "colab": {
      "name": "StackedLSTM_NSL_KDD.ipynb",
      "provenance": [],
      "collapsed_sections": []
    }
  },
  "cells": [
    {
      "cell_type": "code",
      "metadata": {
        "id": "sBEh4pZEF0Vn",
        "colab": {
          "base_uri": "https://localhost:8080/"
        },
        "outputId": "de75d451-4b3c-4d34-8bf3-2faa77061b89"
      },
      "source": [
        "from google.colab import drive\n",
        "drive.mount('/content/drive')"
      ],
      "execution_count": null,
      "outputs": [
        {
          "output_type": "stream",
          "text": [
            "Mounted at /content/drive\n"
          ],
          "name": "stdout"
        }
      ]
    },
    {
      "cell_type": "code",
      "metadata": {
        "id": "VUe0Zc1sFu7D"
      },
      "source": [
        "\n",
        "from __future__ import print_function\n",
        "from sklearn.model_selection import train_test_split\n",
        "import pandas as pd\n",
        "from sklearn import preprocessing\n",
        "from sklearn.preprocessing import Normalizer\n",
        "import h5py\n",
        "from keras import callbacks\n",
        "from scipy.io import arff\n",
        "from keras.callbacks import ModelCheckpoint, EarlyStopping, ReduceLROnPlateau, CSVLogger\n",
        "import numpy as np\n",
        "np.random.seed(1337)  # for reproducibility\n",
        "from keras.preprocessing import sequence\n",
        "from keras.utils import np_utils\n",
        "from keras.models import Sequential\n",
        "from keras.layers import Dense, Dropout, Activation, Embedding\n",
        "from keras.layers import LSTM, SimpleRNN, GRU\n",
        "from keras.datasets import imdb\n",
        "from keras.utils.np_utils import to_categorical\n",
        "from sklearn.metrics import classification_report, confusion_matrix\n",
        "from sklearn.metrics import (precision_score, recall_score,f1_score, accuracy_score,mean_squared_error,mean_absolute_error)\n",
        "from sklearn import metrics\n",
        "from sklearn.preprocessing import Normalizer\n",
        "import h5py\n",
        "from keras import callbacks\n",
        "from keras.callbacks import ModelCheckpoint, EarlyStopping, ReduceLROnPlateau, CSVLogger\n",
        "import h5py\n"
      ],
      "execution_count": null,
      "outputs": []
    },
    {
      "cell_type": "code",
      "metadata": {
        "id": "jCuvvNKoFu7J"
      },
      "source": [
        " #load training dataset\n",
        "dataTrain = arff.loadarff('/content/drive/My Drive/KDDTrain20MultiClass.arff')\n",
        "dataset_train = pd.DataFrame(dataTrain[0])\n",
        "dataTest = arff.loadarff('/content/drive/My Drive/KDDTest21MultiClass.arff')\n",
        "dataset_test= pd.DataFrame(dataTrain[0])\n",
        "\n",
        "X_train = dataset_train.iloc[:, :-2].values\n",
        "Y_train = dataset_train.iloc[:, 41].values\n",
        "\n",
        "X_test = dataset_test.iloc[:, :-2].values\n",
        "Y_test = dataset_test.iloc[:, 41].values     "
      ],
      "execution_count": null,
      "outputs": []
    },
    {
      "cell_type": "code",
      "metadata": {
        "id": "g-gj-GL39OBW"
      },
      "source": [
        "classes=[0,1,2,3,4,5]\r\n",
        "n_classes = 6"
      ],
      "execution_count": null,
      "outputs": []
    },
    {
      "cell_type": "code",
      "metadata": {
        "id": "2Ndl8IL4S_nc"
      },
      "source": [
        "#X_train = np.reshape(X_train, (X_train.shape[0], 1, X_train.shape[1]))\n",
        "#X_test = np.reshape(X_test, (X_test.shape[0], 1, X_test.shape[1]))\n",
        "from sklearn.preprocessing import StandardScaler\n",
        "sc = StandardScaler()\n",
        "X_train = sc.fit_transform(X_train)\n",
        "X_test = sc.transform(X_test)\n",
        "\n",
        "X_train.shape\n",
        "\n",
        "X_train = np.reshape(X_train, (X_train.shape[0], 1, X_train.shape[1]))\n",
        "X_test = np.reshape(X_test, (X_test.shape[0], 1, X_test.shape[1]))\n",
        "\n",
        "x_train = np.array(X_train)\n",
        "x_test = np.array(X_test)\n",
        "y_train1 = np.array(Y_train)\n",
        "y_test1 = np.array(Y_test)\n",
        "\n",
        "y_train= to_categorical(y_train1)\n",
        "y_test= to_categorical(y_test1)"
      ],
      "execution_count": null,
      "outputs": []
    },
    {
      "cell_type": "code",
      "metadata": {
        "id": "qJ5BlST2ILT3",
        "colab": {
          "base_uri": "https://localhost:8080/"
        },
        "outputId": "13a1dfa9-c4ae-4126-aa75-78fd14498ad8"
      },
      "source": [
        "# 1. define stacked LSTM when dropout is 0.4\n",
        "model = Sequential()\n",
        "model.add(LSTM(16,input_dim=40, return_sequences=True))  # try using a GRU instead, for fun\n",
        "model.add(Dropout(0.4))\n",
        "model.add(LSTM(16, return_sequences=True))  # try using a GRU instead, for fun\n",
        "model.add(Dropout(0.4))\n",
        "model.add(LSTM(16))  # try using a GRU instead, for fun\n",
        "model.add(Dropout(0.4))\n",
        "model.add(Dense(6))\n",
        "model.add(Activation('softmax'))\n",
        "model.summary()\n",
        "\n",
        "model.compile(optimizer='adam', loss = 'categorical_crossentropy', metrics=['accuracy'])\n",
        "history = model.fit(X_train, y_train, epochs = 10, batch_size=32, validation_data = (X_test, y_test), verbose=1)\n",
        "\n",
        "scores = model.evaluate(X_test, y_test, verbose=0)\n",
        "print(\"%s: %.2f%%\" % (model.metrics_names[1], scores[1]*100))\n",
        "# save model and architecture to single file\n",
        "model.save(\"model.h5\")\n",
        "print(\"Saved model to disk\")"
      ],
      "execution_count": null,
      "outputs": [
        {
          "output_type": "stream",
          "text": [
            "Model: \"sequential\"\n",
            "_________________________________________________________________\n",
            "Layer (type)                 Output Shape              Param #   \n",
            "=================================================================\n",
            "lstm (LSTM)                  (None, None, 16)          3648      \n",
            "_________________________________________________________________\n",
            "dropout (Dropout)            (None, None, 16)          0         \n",
            "_________________________________________________________________\n",
            "lstm_1 (LSTM)                (None, None, 16)          2112      \n",
            "_________________________________________________________________\n",
            "dropout_1 (Dropout)          (None, None, 16)          0         \n",
            "_________________________________________________________________\n",
            "lstm_2 (LSTM)                (None, 16)                2112      \n",
            "_________________________________________________________________\n",
            "dropout_2 (Dropout)          (None, 16)                0         \n",
            "_________________________________________________________________\n",
            "dense (Dense)                (None, 6)                 102       \n",
            "_________________________________________________________________\n",
            "activation (Activation)      (None, 6)                 0         \n",
            "=================================================================\n",
            "Total params: 7,974\n",
            "Trainable params: 7,974\n",
            "Non-trainable params: 0\n",
            "_________________________________________________________________\n",
            "Epoch 1/10\n",
            "788/788 [==============================] - 5s 6ms/step - loss: 0.6230 - accuracy: 0.8309 - val_loss: 0.2219 - val_accuracy: 0.9557\n",
            "Epoch 2/10\n",
            "788/788 [==============================] - 4s 5ms/step - loss: 0.2120 - accuracy: 0.9534 - val_loss: 0.1183 - val_accuracy: 0.9689\n",
            "Epoch 3/10\n",
            "788/788 [==============================] - 4s 5ms/step - loss: 0.1470 - accuracy: 0.9620 - val_loss: 0.0780 - val_accuracy: 0.9798\n",
            "Epoch 4/10\n",
            "788/788 [==============================] - 4s 5ms/step - loss: 0.1211 - accuracy: 0.9681 - val_loss: 0.0684 - val_accuracy: 0.9815\n",
            "Epoch 5/10\n",
            "788/788 [==============================] - 4s 5ms/step - loss: 0.1077 - accuracy: 0.9728 - val_loss: 0.0635 - val_accuracy: 0.9811\n",
            "Epoch 6/10\n",
            "788/788 [==============================] - 4s 4ms/step - loss: 0.0978 - accuracy: 0.9728 - val_loss: 0.0584 - val_accuracy: 0.9826\n",
            "Epoch 7/10\n",
            "788/788 [==============================] - 4s 5ms/step - loss: 0.0949 - accuracy: 0.9730 - val_loss: 0.0565 - val_accuracy: 0.9825\n",
            "Epoch 8/10\n",
            "788/788 [==============================] - 3s 4ms/step - loss: 0.0894 - accuracy: 0.9755 - val_loss: 0.0527 - val_accuracy: 0.9838\n",
            "Epoch 9/10\n",
            "788/788 [==============================] - 4s 5ms/step - loss: 0.0858 - accuracy: 0.9757 - val_loss: 0.0502 - val_accuracy: 0.9832\n",
            "Epoch 10/10\n",
            "788/788 [==============================] - 4s 5ms/step - loss: 0.0829 - accuracy: 0.9761 - val_loss: 0.0478 - val_accuracy: 0.9834\n",
            "accuracy: 98.34%\n",
            "Saved model to disk\n"
          ],
          "name": "stdout"
        }
      ]
    },
    {
      "cell_type": "code",
      "metadata": {
        "id": "y-OvTZWv8tdI"
      },
      "source": [
        "target_names = ['DoS', 'U2R', 'R2L', 'Probe','Normal','Unknown']"
      ],
      "execution_count": null,
      "outputs": []
    },
    {
      "cell_type": "code",
      "metadata": {
        "colab": {
          "base_uri": "https://localhost:8080/"
        },
        "id": "pZmi69ou8tOG",
        "outputId": "15eca35c-7a4d-42b3-f078-d4e810d2dc6a"
      },
      "source": [
        "### train_accuracy\r\n",
        "from sklearn.metrics import confusion_matrix\r\n",
        "from sklearn.metrics import (precision_score, recall_score,f1_score, accuracy_score,mean_squared_error,mean_absolute_error)\r\n",
        "import sklearn.metrics as metrics\r\n",
        "expected = y_train\r\n",
        "predicted = model.predict(X_train)\r\n",
        "data = classification_report(expected,np.round(predicted), target_names=target_names)\r\n",
        "print(data)\r\n",
        "\r\n",
        "print(\"Accuracy_Train:\",metrics.accuracy_score(expected, np.round(predicted)))\r\n",
        "print(\"Precision_Train:\",metrics.precision_score(expected, np.round(predicted), average='weighted'))\r\n",
        "print(\"Recall_Train:\",metrics.recall_score(expected, np.round(predicted), average='weighted'))\r\n",
        "print(\"f1-score_Train:\",metrics.f1_score(expected, np.round(predicted), average='weighted'))\r\n"
      ],
      "execution_count": null,
      "outputs": [
        {
          "output_type": "stream",
          "text": [
            "              precision    recall  f1-score   support\n",
            "\n",
            "         DoS       0.00      0.00      0.00         0\n",
            "         U2R       1.00      1.00      1.00      9234\n",
            "         R2L       0.00      0.00      0.00        11\n",
            "       Probe       0.00      0.00      0.00       209\n",
            "      Normal       0.97      0.95      0.96      2289\n",
            "     Unknown       0.98      0.99      0.99     13449\n",
            "\n",
            "   micro avg       0.99      0.98      0.98     25192\n",
            "   macro avg       0.49      0.49      0.49     25192\n",
            "weighted avg       0.98      0.98      0.98     25192\n",
            " samples avg       0.98      0.98      0.98     25192\n",
            "\n",
            "Accuracy_Train: 0.98193871070181\n",
            "Precision_Train: 0.9787573011681868\n",
            "Recall_Train: 0.98193871070181\n",
            "f1-score_Train: 0.9803202821353763\n"
          ],
          "name": "stdout"
        },
        {
          "output_type": "stream",
          "text": [
            "/usr/local/lib/python3.6/dist-packages/sklearn/metrics/_classification.py:1272: UndefinedMetricWarning: Precision and F-score are ill-defined and being set to 0.0 in labels with no predicted samples. Use `zero_division` parameter to control this behavior.\n",
            "  _warn_prf(average, modifier, msg_start, len(result))\n",
            "/usr/local/lib/python3.6/dist-packages/sklearn/metrics/_classification.py:1272: UndefinedMetricWarning: Recall and F-score are ill-defined and being set to 0.0 in labels with no true samples. Use `zero_division` parameter to control this behavior.\n",
            "  _warn_prf(average, modifier, msg_start, len(result))\n",
            "/usr/local/lib/python3.6/dist-packages/sklearn/metrics/_classification.py:1272: UndefinedMetricWarning: Precision and F-score are ill-defined and being set to 0.0 in samples with no predicted labels. Use `zero_division` parameter to control this behavior.\n",
            "  _warn_prf(average, modifier, msg_start, len(result))\n",
            "/usr/local/lib/python3.6/dist-packages/sklearn/metrics/_classification.py:1272: UndefinedMetricWarning: Precision is ill-defined and being set to 0.0 in labels with no predicted samples. Use `zero_division` parameter to control this behavior.\n",
            "  _warn_prf(average, modifier, msg_start, len(result))\n",
            "/usr/local/lib/python3.6/dist-packages/sklearn/metrics/_classification.py:1272: UndefinedMetricWarning: Recall is ill-defined and being set to 0.0 in labels with no true samples. Use `zero_division` parameter to control this behavior.\n",
            "  _warn_prf(average, modifier, msg_start, len(result))\n",
            "/usr/local/lib/python3.6/dist-packages/sklearn/metrics/_classification.py:1515: UndefinedMetricWarning: F-score is ill-defined and being set to 0.0 in labels with no true nor predicted samples. Use `zero_division` parameter to control this behavior.\n",
            "  average, \"true nor predicted\", 'F-score is', len(true_sum)\n"
          ],
          "name": "stderr"
        }
      ]
    },
    {
      "cell_type": "code",
      "metadata": {
        "colab": {
          "base_uri": "https://localhost:8080/"
        },
        "id": "9lkkv0IY82K-",
        "outputId": "eec4377a-6148-4ec2-d1d1-81459c72b90e"
      },
      "source": [
        "###test_accuracy\r\n",
        "expected = y_test\r\n",
        "predicted = model.predict(X_test)\r\n",
        "data = classification_report(expected, np.round(predicted), target_names=target_names)\r\n",
        "print(data)\r\n",
        "\r\n",
        "print(\"Accuracy:\",metrics.accuracy_score(expected, np.round(predicted)))\r\n",
        "print(\"Precision:\",metrics.precision_score(expected, np.round(predicted), average='weighted'))\r\n",
        "print(\"Recall:\",metrics.recall_score(expected, np.round(predicted), average='weighted'))\r\n",
        "print(\"f1-score:\",metrics.f1_score(expected, np.round(predicted), average='weighted'))\r\n"
      ],
      "execution_count": null,
      "outputs": [
        {
          "output_type": "stream",
          "text": [
            "              precision    recall  f1-score   support\n",
            "\n",
            "         DoS       0.00      0.00      0.00         0\n",
            "         U2R       1.00      1.00      1.00      9234\n",
            "         R2L       0.00      0.00      0.00        11\n",
            "       Probe       0.00      0.00      0.00       209\n",
            "      Normal       0.97      0.95      0.96      2289\n",
            "     Unknown       0.98      0.99      0.99     13449\n",
            "\n",
            "   micro avg       0.99      0.98      0.98     25192\n",
            "   macro avg       0.49      0.49      0.49     25192\n",
            "weighted avg       0.98      0.98      0.98     25192\n",
            " samples avg       0.98      0.98      0.98     25192\n",
            "\n",
            "Accuracy: 0.98193871070181\n",
            "Precision: 0.9787573011681868\n",
            "Recall: 0.98193871070181\n",
            "f1-score: 0.9803202821353763\n"
          ],
          "name": "stdout"
        },
        {
          "output_type": "stream",
          "text": [
            "/usr/local/lib/python3.6/dist-packages/sklearn/metrics/_classification.py:1272: UndefinedMetricWarning: Precision and F-score are ill-defined and being set to 0.0 in labels with no predicted samples. Use `zero_division` parameter to control this behavior.\n",
            "  _warn_prf(average, modifier, msg_start, len(result))\n",
            "/usr/local/lib/python3.6/dist-packages/sklearn/metrics/_classification.py:1272: UndefinedMetricWarning: Recall and F-score are ill-defined and being set to 0.0 in labels with no true samples. Use `zero_division` parameter to control this behavior.\n",
            "  _warn_prf(average, modifier, msg_start, len(result))\n",
            "/usr/local/lib/python3.6/dist-packages/sklearn/metrics/_classification.py:1272: UndefinedMetricWarning: Precision and F-score are ill-defined and being set to 0.0 in samples with no predicted labels. Use `zero_division` parameter to control this behavior.\n",
            "  _warn_prf(average, modifier, msg_start, len(result))\n",
            "/usr/local/lib/python3.6/dist-packages/sklearn/metrics/_classification.py:1272: UndefinedMetricWarning: Precision is ill-defined and being set to 0.0 in labels with no predicted samples. Use `zero_division` parameter to control this behavior.\n",
            "  _warn_prf(average, modifier, msg_start, len(result))\n",
            "/usr/local/lib/python3.6/dist-packages/sklearn/metrics/_classification.py:1272: UndefinedMetricWarning: Recall is ill-defined and being set to 0.0 in labels with no true samples. Use `zero_division` parameter to control this behavior.\n",
            "  _warn_prf(average, modifier, msg_start, len(result))\n",
            "/usr/local/lib/python3.6/dist-packages/sklearn/metrics/_classification.py:1515: UndefinedMetricWarning: F-score is ill-defined and being set to 0.0 in labels with no true nor predicted samples. Use `zero_division` parameter to control this behavior.\n",
            "  average, \"true nor predicted\", 'F-score is', len(true_sum)\n"
          ],
          "name": "stderr"
        }
      ]
    }
  ]
}