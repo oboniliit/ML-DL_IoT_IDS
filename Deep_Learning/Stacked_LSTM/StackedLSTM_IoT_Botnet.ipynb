{
  "nbformat": 4,
  "nbformat_minor": 0,
  "metadata": {
    "colab": {
      "name": "StackedLSTM_IotBotnet.ipynb",
      "provenance": []
    },
    "kernelspec": {
      "display_name": "Python 3",
      "name": "python3"
    }
  },
  "cells": [
    {
      "cell_type": "code",
      "metadata": {
        "colab": {
          "base_uri": "https://localhost:8080/"
        },
        "id": "QIifZvS0sl_a",
        "outputId": "c44572c4-937e-4cfe-a3d0-1b974e215ffb"
      },
      "source": [
        "from google.colab import drive\n",
        "drive.mount('/content/drive')"
      ],
      "execution_count": null,
      "outputs": [
        {
          "output_type": "stream",
          "text": [
            "Mounted at /content/drive\n"
          ],
          "name": "stdout"
        }
      ]
    },
    {
      "cell_type": "code",
      "metadata": {
        "id": "SPZ-5YtvaEaF"
      },
      "source": [
        "import pandas as pd\n",
        "import io\n",
        "import matplotlib.pyplot as plt\n",
        "import numpy as np\n",
        "from sklearn.preprocessing import LabelEncoder, StandardScaler\n",
        "from sklearn.model_selection import train_test_split\n",
        "from sklearn import preprocessing\n",
        "from keras.models import Sequential\n",
        "from keras.layers import Dense\n",
        "from keras.layers import Dropout\n",
        "from keras.layers import Flatten\n",
        "from keras.constraints import maxnorm\n",
        "from keras.utils.vis_utils import plot_model\n",
        "from keras.layers import Dense, Dropout, Activation, Embedding, Flatten, LSTM\n",
        "from sklearn.metrics import classification_report, confusion_matrix, ConfusionMatrixDisplay\n",
        "from sklearn.metrics import (precision_score, recall_score,f1_score, accuracy_score,mean_squared_error,mean_absolute_error,roc_auc_score,cohen_kappa_score)\n",
        "from sklearn.model_selection import KFold,cross_val_score\n",
        "kfold=KFold(5,True,3)\n",
        "cvscores = []"
      ],
      "execution_count": null,
      "outputs": []
    },
    {
      "cell_type": "code",
      "metadata": {
        "id": "4enXWSDiaUkW",
        "colab": {
          "base_uri": "https://localhost:8080/"
        },
        "outputId": "fed3fe22-778c-4c28-9464-4b9ed9232648"
      },
      "source": [
        "# data is being refined, Here we fist get our data to be converted into pandas dataframae\n",
        "# then we drop empty spaces and eradicate useless indices and getting data in float type\n",
        "def cleaningdata(df):\n",
        "    assert isinstance(df, pd.DataFrame), \"df needs to be a pd.DataFrame\"\n",
        "    df.dropna(inplace=True)\n",
        "    indices_to_keep = ~df.isin([np.nan, np.inf, -np.inf]).any(1)\n",
        "    return df[indices_to_keep].astype(np.float64)\n",
        "# fetching dataset from path\n",
        "dataset = pd.read_csv('/content/drive/MyDrive/Code/dataset/IoT-BoT.csv', encoding='utf-8')\n",
        "# for object type data we will label it and transform into apporopriate type fo data after using fit_transform on that colomn to avoid errors\n",
        "for column in dataset.columns:\n",
        "    if dataset[column].dtype == type(object):\n",
        "        le = LabelEncoder()\n",
        "        dataset[column] = le.fit_transform(dataset[column])\n",
        "data = cleaningdata(dataset)\n",
        "\n",
        "# collecting all required colomns in data to X\n",
        "X = data.iloc[:, 0:85].values\n",
        "\n",
        "# collecting our LABEL colomn in y\n",
        "y = data.iloc[:, -2].values\n",
        "\n",
        "from sklearn.preprocessing import label_binarize\n",
        "\n",
        "Y = label_binarize(y, classes=[0, 1, 2, 3, 4])\n",
        "n_classes = Y.shape[1]\n",
        "print(n_classes)"
      ],
      "execution_count": null,
      "outputs": [
        {
          "output_type": "stream",
          "text": [
            "5\n"
          ],
          "name": "stdout"
        }
      ]
    },
    {
      "cell_type": "code",
      "metadata": {
        "id": "IT0orzBkaUqV",
        "colab": {
          "base_uri": "https://localhost:8080/"
        },
        "outputId": "950dd194-5639-4c13-d29b-7347d0b248e5"
      },
      "source": [
        "from sklearn.preprocessing import StandardScaler\n",
        "sc = StandardScaler()\n",
        "from keras.utils.np_utils import to_categorical\n",
        "\n",
        "for train, test in kfold.split(X,y):\n",
        "\n",
        "    X_train, X_test, y_train, y_test = train_test_split(X, y, test_size = 0.2, random_state = 0)\n",
        "    X_train = sc.fit_transform(X_train)\n",
        "    X_test = sc.transform(X_test)\n",
        "    X_train = np.reshape(X_train, (X_train.shape[0], 1, X_train.shape[1]))\n",
        "    X_test = np.reshape(X_test, (X_test.shape[0], 1, X_test.shape[1]))\n",
        "\n",
        "    x_train = np.array(X_train)\n",
        "    x_test = np.array(X_test)\n",
        "    y_train1 = np.array(y_train)\n",
        "    y_test1 = np.array(y_test)\n",
        "\n",
        "    y_train= to_categorical(y_train1)\n",
        "    y_test= to_categorical(y_test1)\n",
        "\n",
        "    model = Sequential()\n",
        "    model.add(LSTM(16,input_dim=85, return_sequences=True))  \n",
        "    model.add(Dropout(0.6))\n",
        "    model.add(LSTM(16, return_sequences=True))  \n",
        "    model.add(Dropout(0.6))\n",
        "    model.add(LSTM(16, return_sequences=False)) \n",
        "    model.add(Dropout(0.6))\n",
        "    model.add(Dense(5))\n",
        "    model.add(Activation('softmax'))\n",
        "    model.compile(optimizer='adam', loss = 'categorical_crossentropy', metrics=['accuracy','mae'])\n",
        "    history = model.fit(X_train, y_train, epochs = 10, batch_size=64, verbose=1,shuffle=False)\n",
        "    scores = model.evaluate(X_test, y_test, verbose=1)\n",
        "    print(\"%s: %.2f%%\" % (model.metrics_names[1], scores[1]*100))\n",
        "    cvscores.append(scores[1] * 100)\n",
        "print(\"%.2f%% (+/- %.2f%%)\" % (np.mean(cvscores), np.std(cvscores)))\n"
      ],
      "execution_count": null,
      "outputs": [
        {
          "output_type": "stream",
          "text": [
            "Epoch 1/10\n",
            "24255/24255 [==============================] - 92s 4ms/step - loss: 0.1068 - accuracy: 0.9656 - mae: 0.0251\n",
            "Epoch 2/10\n",
            "24255/24255 [==============================] - 89s 4ms/step - loss: 0.0462 - accuracy: 0.9886 - mae: 0.0097\n",
            "Epoch 3/10\n",
            "24255/24255 [==============================] - 87s 4ms/step - loss: 0.0411 - accuracy: 0.9907 - mae: 0.0081\n",
            "Epoch 4/10\n",
            "24255/24255 [==============================] - 89s 4ms/step - loss: 0.0372 - accuracy: 0.9913 - mae: 0.0070\n",
            "Epoch 5/10\n",
            "24255/24255 [==============================] - 88s 4ms/step - loss: 0.0347 - accuracy: 0.9922 - mae: 0.0065\n",
            "Epoch 6/10\n",
            "24255/24255 [==============================] - 90s 4ms/step - loss: 0.0338 - accuracy: 0.9928 - mae: 0.0062\n",
            "Epoch 7/10\n",
            "24255/24255 [==============================] - 92s 4ms/step - loss: 0.0328 - accuracy: 0.9921 - mae: 0.0060\n",
            "Epoch 8/10\n",
            "24255/24255 [==============================] - 90s 4ms/step - loss: 0.0348 - accuracy: 0.9927 - mae: 0.0061\n",
            "Epoch 9/10\n",
            "24255/24255 [==============================] - 90s 4ms/step - loss: 0.0321 - accuracy: 0.9939 - mae: 0.0057\n",
            "Epoch 10/10\n",
            "24255/24255 [==============================] - 87s 4ms/step - loss: 0.0339 - accuracy: 0.9939 - mae: 0.0057\n",
            "12128/12128 [==============================] - 16s 1ms/step - loss: 0.0052 - accuracy: 0.9991 - mae: 5.0996e-04\n",
            "accuracy: 99.91%\n",
            "Epoch 1/10\n",
            "24255/24255 [==============================] - 89s 4ms/step - loss: 0.1166 - accuracy: 0.9536 - mae: 0.0283\n",
            "Epoch 2/10\n",
            "24255/24255 [==============================] - 89s 4ms/step - loss: 0.0538 - accuracy: 0.9792 - mae: 0.0123\n",
            "Epoch 3/10\n",
            "24255/24255 [==============================] - 89s 4ms/step - loss: 0.0491 - accuracy: 0.9807 - mae: 0.0111\n",
            "Epoch 4/10\n",
            "24255/24255 [==============================] - 88s 4ms/step - loss: 0.0466 - accuracy: 0.9821 - mae: 0.0104\n",
            "Epoch 5/10\n",
            "24255/24255 [==============================] - 89s 4ms/step - loss: 0.0450 - accuracy: 0.9840 - mae: 0.0099\n",
            "Epoch 6/10\n",
            "24255/24255 [==============================] - 90s 4ms/step - loss: 0.0421 - accuracy: 0.9858 - mae: 0.0091\n",
            "Epoch 7/10\n",
            "24255/24255 [==============================] - 91s 4ms/step - loss: 0.0425 - accuracy: 0.9865 - mae: 0.0088\n",
            "Epoch 8/10\n",
            "24255/24255 [==============================] - 90s 4ms/step - loss: 0.0406 - accuracy: 0.9868 - mae: 0.0086\n",
            "Epoch 9/10\n",
            "24255/24255 [==============================] - 89s 4ms/step - loss: 0.0404 - accuracy: 0.9869 - mae: 0.0084\n",
            "Epoch 10/10\n",
            "24255/24255 [==============================] - 87s 4ms/step - loss: 0.0396 - accuracy: 0.9871 - mae: 0.0083\n",
            "12128/12128 [==============================] - 16s 1ms/step - loss: 0.0038 - accuracy: 0.9996 - mae: 2.2156e-04\n",
            "accuracy: 99.96%\n",
            "Epoch 1/10\n",
            "24255/24255 [==============================] - 87s 4ms/step - loss: 0.1033 - accuracy: 0.9627 - mae: 0.0249\n",
            "Epoch 2/10\n",
            "24255/24255 [==============================] - 91s 4ms/step - loss: 0.0491 - accuracy: 0.9821 - mae: 0.0111\n",
            "Epoch 3/10\n",
            "24255/24255 [==============================] - 92s 4ms/step - loss: 0.0455 - accuracy: 0.9839 - mae: 0.0100\n",
            "Epoch 4/10\n",
            "24255/24255 [==============================] - 90s 4ms/step - loss: 0.0416 - accuracy: 0.9857 - mae: 0.0091\n",
            "Epoch 5/10\n",
            "24255/24255 [==============================] - 89s 4ms/step - loss: 0.0401 - accuracy: 0.9863 - mae: 0.0086\n",
            "Epoch 6/10\n",
            "24255/24255 [==============================] - 89s 4ms/step - loss: 0.0395 - accuracy: 0.9867 - mae: 0.0083\n",
            "Epoch 7/10\n",
            "24255/24255 [==============================] - 89s 4ms/step - loss: 0.0375 - accuracy: 0.9877 - mae: 0.0079\n",
            "Epoch 8/10\n",
            "24255/24255 [==============================] - 89s 4ms/step - loss: 0.0384 - accuracy: 0.9877 - mae: 0.0079\n",
            "Epoch 9/10\n",
            "24255/24255 [==============================] - 88s 4ms/step - loss: 0.0395 - accuracy: 0.9880 - mae: 0.0078\n",
            "Epoch 10/10\n",
            "24255/24255 [==============================] - 89s 4ms/step - loss: 0.0394 - accuracy: 0.9881 - mae: 0.0078\n",
            "12128/12128 [==============================] - 16s 1ms/step - loss: 0.0042 - accuracy: 0.9995 - mae: 2.1702e-04\n",
            "accuracy: 99.95%\n",
            "Epoch 1/10\n",
            "24255/24255 [==============================] - 91s 4ms/step - loss: 0.1106 - accuracy: 0.9612 - mae: 0.0261\n",
            "Epoch 2/10\n",
            "24255/24255 [==============================] - 92s 4ms/step - loss: 0.0478 - accuracy: 0.9846 - mae: 0.0104\n",
            "Epoch 3/10\n",
            "24255/24255 [==============================] - 91s 4ms/step - loss: 0.0417 - accuracy: 0.9874 - mae: 0.0089\n",
            "Epoch 4/10\n",
            "24255/24255 [==============================] - 90s 4ms/step - loss: 0.0402 - accuracy: 0.9882 - mae: 0.0084\n",
            "Epoch 5/10\n",
            "24255/24255 [==============================] - 91s 4ms/step - loss: 0.0406 - accuracy: 0.9885 - mae: 0.0083\n",
            "Epoch 6/10\n",
            "24255/24255 [==============================] - 91s 4ms/step - loss: 0.0394 - accuracy: 0.9888 - mae: 0.0082\n",
            "Epoch 7/10\n",
            "24255/24255 [==============================] - 90s 4ms/step - loss: 0.0371 - accuracy: 0.9891 - mae: 0.0078\n",
            "Epoch 8/10\n",
            "24255/24255 [==============================] - 89s 4ms/step - loss: 0.0368 - accuracy: 0.9891 - mae: 0.0077\n",
            "Epoch 9/10\n",
            "24255/24255 [==============================] - 92s 4ms/step - loss: 0.0353 - accuracy: 0.9894 - mae: 0.0074\n",
            "Epoch 10/10\n",
            "24255/24255 [==============================] - 91s 4ms/step - loss: 0.0356 - accuracy: 0.9891 - mae: 0.0074\n",
            "12128/12128 [==============================] - 16s 1ms/step - loss: 0.0025 - accuracy: 0.9996 - mae: 1.6276e-04\n",
            "accuracy: 99.96%\n",
            "Epoch 1/10\n",
            "24255/24255 [==============================] - 95s 4ms/step - loss: 0.1239 - accuracy: 0.9529 - mae: 0.0295\n",
            "Epoch 2/10\n",
            "24255/24255 [==============================] - 90s 4ms/step - loss: 0.0537 - accuracy: 0.9815 - mae: 0.0117\n",
            "Epoch 3/10\n",
            "24255/24255 [==============================] - 92s 4ms/step - loss: 0.0479 - accuracy: 0.9833 - mae: 0.0103\n",
            "Epoch 4/10\n",
            "24255/24255 [==============================] - 92s 4ms/step - loss: 0.0461 - accuracy: 0.9838 - mae: 0.0099\n",
            "Epoch 5/10\n",
            "24255/24255 [==============================] - 91s 4ms/step - loss: 0.0420 - accuracy: 0.9853 - mae: 0.0089\n",
            "Epoch 6/10\n",
            "24255/24255 [==============================] - 93s 4ms/step - loss: 0.0411 - accuracy: 0.9858 - mae: 0.0087\n",
            "Epoch 7/10\n",
            "24255/24255 [==============================] - 94s 4ms/step - loss: 0.0393 - accuracy: 0.9864 - mae: 0.0083\n",
            "Epoch 8/10\n",
            "24255/24255 [==============================] - 96s 4ms/step - loss: 0.0386 - accuracy: 0.9866 - mae: 0.0081\n",
            "Epoch 9/10\n",
            "24255/24255 [==============================] - 93s 4ms/step - loss: 0.0382 - accuracy: 0.9870 - mae: 0.0080\n",
            "Epoch 10/10\n",
            "24255/24255 [==============================] - 92s 4ms/step - loss: 0.0390 - accuracy: 0.9870 - mae: 0.0080\n",
            "12128/12128 [==============================] - 16s 1ms/step - loss: 0.0029 - accuracy: 0.9997 - mae: 2.1188e-04\n",
            "accuracy: 99.97%\n",
            "99.95% (+/- 0.02%)\n"
          ],
          "name": "stdout"
        }
      ]
    },
    {
      "cell_type": "code",
      "metadata": {
        "id": "LfWEvhZrkBM6"
      },
      "source": [
        "target_names = ['DoS', 'DDOS', 'Reconnaissance', 'Normal','Theft']"
      ],
      "execution_count": null,
      "outputs": []
    },
    {
      "cell_type": "code",
      "metadata": {
        "id": "8UE99Q7JFQER",
        "colab": {
          "base_uri": "https://localhost:8080/"
        },
        "outputId": "ceee9e5a-b79a-41a6-d7de-4e0b10c0da43"
      },
      "source": [
        "### train_accuracy\r\n",
        "from sklearn.metrics import classification_report, confusion_matrix, ConfusionMatrixDisplay\r\n",
        "from sklearn.metrics import (precision_score, recall_score,f1_score, accuracy_score,mean_squared_error,mean_absolute_error,roc_auc_score,cohen_kappa_score)\r\n",
        "import sklearn.metrics as metrics\r\n",
        "\r\n",
        "expected = y_train\r\n",
        "predicted = model.predict(X_train)\r\n",
        "data = classification_report(expected,np.round(predicted), target_names=target_names)\r\n",
        "print(data)\r\n",
        "\r\n",
        "print(\"Accuracy_Train:\",metrics.accuracy_score(expected, np.round(predicted)))\r\n",
        "print(\"Precision_Train:\",metrics.precision_score(expected, np.round(predicted), average='weighted'))\r\n",
        "print(\"Recall_Train:\",metrics.recall_score(expected, np.round(predicted), average='weighted'))\r\n",
        "print(\"f1-score_Train:\",metrics.f1_score(expected, np.round(predicted), average='weighted'))\r\n",
        "print(\"ROC_AUC_Train:\",metrics.roc_auc_score(expected, predicted,multi_class=\"ovr\",average='weighted'))"
      ],
      "execution_count": null,
      "outputs": [
        {
          "output_type": "stream",
          "text": [
            "/usr/local/lib/python3.6/dist-packages/sklearn/metrics/_classification.py:1272: UndefinedMetricWarning: Precision and F-score are ill-defined and being set to 0.0 in labels with no predicted samples. Use `zero_division` parameter to control this behavior.\n",
            "  _warn_prf(average, modifier, msg_start, len(result))\n"
          ],
          "name": "stderr"
        },
        {
          "output_type": "stream",
          "text": [
            "                precision    recall  f1-score   support\n",
            "\n",
            "           DoS       1.00      1.00      1.00    509191\n",
            "          DDOS       1.00      1.00      1.00    520809\n",
            "Reconnaissance       1.00      1.00      1.00     77702\n",
            "        Normal       1.00      1.00      1.00    444203\n",
            "         Theft       0.00      0.00      0.00       406\n",
            "\n",
            "     micro avg       1.00      1.00      1.00   1552311\n",
            "     macro avg       0.80      0.80      0.80   1552311\n",
            "  weighted avg       1.00      1.00      1.00   1552311\n",
            "   samples avg       1.00      1.00      1.00   1552311\n",
            "\n",
            "Accuracy_Train: 0.9996901394114968\n"
          ],
          "name": "stdout"
        },
        {
          "output_type": "stream",
          "text": [
            "/usr/local/lib/python3.6/dist-packages/sklearn/metrics/_classification.py:1272: UndefinedMetricWarning: Precision is ill-defined and being set to 0.0 in labels with no predicted samples. Use `zero_division` parameter to control this behavior.\n",
            "  _warn_prf(average, modifier, msg_start, len(result))\n"
          ],
          "name": "stderr"
        },
        {
          "output_type": "stream",
          "text": [
            "Precision_Train: 0.9994288439320177\n",
            "Recall_Train: 0.9996901394114968\n",
            "f1-score_Train: 0.9995594321342535\n",
            "ROC_AUC_Train: 0.9999946998055369\n"
          ],
          "name": "stdout"
        }
      ]
    },
    {
      "cell_type": "code",
      "metadata": {
        "id": "HPIsC-nvaUtb",
        "colab": {
          "base_uri": "https://localhost:8080/"
        },
        "outputId": "9c19ed3c-0617-4214-9112-3cc043b9348f"
      },
      "source": [
        "### test_accuracy\n",
        "import sklearn.metrics as metrics\n",
        "expected_test = y_test\n",
        "predicted_test = model.predict(X_test)\n",
        "data = classification_report(expected_test,np.round(predicted_test),target_names=target_names)\n",
        "print(data)\n",
        "\n",
        "print(\"Accuracy:\",metrics.accuracy_score(expected_test, np.round(predicted_test)))\n",
        "print(\"Precision:\",metrics.precision_score(expected_test, np.round(predicted_test), average='weighted'))\n",
        "print(\"Recall:\",metrics.recall_score(expected_test, np.round(predicted_test), average='weighted'))\n",
        "print(\"f1-score:\",metrics.f1_score(expected_test, np.round(predicted_test), average='weighted'))\n",
        "print(\"ROC_AUC:\",metrics.roc_auc_score(expected_test, predicted_test,multi_class=\"ovr\",average='weighted'))"
      ],
      "execution_count": null,
      "outputs": [
        {
          "output_type": "stream",
          "text": [
            "/usr/local/lib/python3.6/dist-packages/sklearn/metrics/_classification.py:1272: UndefinedMetricWarning: Precision and F-score are ill-defined and being set to 0.0 in labels with no predicted samples. Use `zero_division` parameter to control this behavior.\n",
            "  _warn_prf(average, modifier, msg_start, len(result))\n"
          ],
          "name": "stderr"
        },
        {
          "output_type": "stream",
          "text": [
            "                precision    recall  f1-score   support\n",
            "\n",
            "           DoS       1.00      1.00      1.00    127348\n",
            "          DDOS       1.00      1.00      1.00    130313\n",
            "Reconnaissance       1.00      1.00      1.00     19495\n",
            "        Normal       1.00      1.00      1.00    110808\n",
            "         Theft       0.00      0.00      0.00       114\n",
            "\n",
            "     micro avg       1.00      1.00      1.00    388078\n",
            "     macro avg       0.80      0.80      0.80    388078\n",
            "  weighted avg       1.00      1.00      1.00    388078\n",
            "   samples avg       1.00      1.00      1.00    388078\n",
            "\n",
            "Accuracy: 0.9996521317879395\n"
          ],
          "name": "stdout"
        },
        {
          "output_type": "stream",
          "text": [
            "/usr/local/lib/python3.6/dist-packages/sklearn/metrics/_classification.py:1272: UndefinedMetricWarning: Precision is ill-defined and being set to 0.0 in labels with no predicted samples. Use `zero_division` parameter to control this behavior.\n",
            "  _warn_prf(average, modifier, msg_start, len(result))\n"
          ],
          "name": "stderr"
        },
        {
          "output_type": "stream",
          "text": [
            "Precision: 0.9993586794735433\n",
            "Recall: 0.9996521317879395\n",
            "f1-score: 0.99950533657904\n",
            "ROC_AUC: 0.9999945549305275\n"
          ],
          "name": "stdout"
        }
      ]
    }
  ]
}