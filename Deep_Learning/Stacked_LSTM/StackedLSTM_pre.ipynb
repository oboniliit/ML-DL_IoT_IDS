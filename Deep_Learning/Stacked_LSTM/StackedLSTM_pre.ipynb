{
  "nbformat": 4,
  "nbformat_minor": 0,
  "metadata": {
    "colab": {
      "name": "StackedLSTM_pre.ipynb",
      "provenance": [],
      "collapsed_sections": []
    },
    "kernelspec": {
      "display_name": "Python 3",
      "language": "python",
      "name": "python3"
    },
    "language_info": {
      "codemirror_mode": {
        "name": "ipython",
        "version": 3
      },
      "file_extension": ".py",
      "mimetype": "text/x-python",
      "name": "python",
      "nbconvert_exporter": "python",
      "pygments_lexer": "ipython3",
      "version": "3.6.4"
    }
  },
  "cells": [
    {
      "cell_type": "code",
      "metadata": {
        "id": "YKMmn0n7JPRK",
        "colab": {
          "base_uri": "https://localhost:8080/"
        },
        "outputId": "5ff2198f-2ff4-4c01-ac13-a1a52dcc8f26"
      },
      "source": [
        "from google.colab import drive\n",
        "drive.mount('/content/drive')"
      ],
      "execution_count": null,
      "outputs": [
        {
          "output_type": "stream",
          "text": [
            "Mounted at /content/drive\n"
          ],
          "name": "stdout"
        }
      ]
    },
    {
      "cell_type": "code",
      "metadata": {
        "id": "ATjQKNxcyQWM",
        "colab": {
          "base_uri": "https://localhost:8080/"
        },
        "outputId": "ae060c7d-6fb9-4010-c18b-06c5c284b8c7"
      },
      "source": [
        "!pip install scikit-plot"
      ],
      "execution_count": null,
      "outputs": [
        {
          "output_type": "stream",
          "text": [
            "Collecting scikit-plot\n",
            "  Downloading https://files.pythonhosted.org/packages/7c/47/32520e259340c140a4ad27c1b97050dd3254fdc517b1d59974d47037510e/scikit_plot-0.3.7-py3-none-any.whl\n",
            "Requirement already satisfied: joblib>=0.10 in /usr/local/lib/python3.6/dist-packages (from scikit-plot) (0.17.0)\n",
            "Requirement already satisfied: scipy>=0.9 in /usr/local/lib/python3.6/dist-packages (from scikit-plot) (1.4.1)\n",
            "Requirement already satisfied: matplotlib>=1.4.0 in /usr/local/lib/python3.6/dist-packages (from scikit-plot) (3.2.2)\n",
            "Requirement already satisfied: scikit-learn>=0.18 in /usr/local/lib/python3.6/dist-packages (from scikit-plot) (0.22.2.post1)\n",
            "Requirement already satisfied: numpy>=1.13.3 in /usr/local/lib/python3.6/dist-packages (from scipy>=0.9->scikit-plot) (1.18.5)\n",
            "Requirement already satisfied: pyparsing!=2.0.4,!=2.1.2,!=2.1.6,>=2.0.1 in /usr/local/lib/python3.6/dist-packages (from matplotlib>=1.4.0->scikit-plot) (2.4.7)\n",
            "Requirement already satisfied: kiwisolver>=1.0.1 in /usr/local/lib/python3.6/dist-packages (from matplotlib>=1.4.0->scikit-plot) (1.3.1)\n",
            "Requirement already satisfied: python-dateutil>=2.1 in /usr/local/lib/python3.6/dist-packages (from matplotlib>=1.4.0->scikit-plot) (2.8.1)\n",
            "Requirement already satisfied: cycler>=0.10 in /usr/local/lib/python3.6/dist-packages (from matplotlib>=1.4.0->scikit-plot) (0.10.0)\n",
            "Requirement already satisfied: six>=1.5 in /usr/local/lib/python3.6/dist-packages (from python-dateutil>=2.1->matplotlib>=1.4.0->scikit-plot) (1.15.0)\n",
            "Installing collected packages: scikit-plot\n",
            "Successfully installed scikit-plot-0.3.7\n"
          ],
          "name": "stdout"
        }
      ]
    },
    {
      "cell_type": "code",
      "metadata": {
        "id": "3925PCqloa6V"
      },
      "source": [
        "from __future__ import print_function\n",
        "from sklearn.model_selection import train_test_split\n",
        "import pandas as pd\n",
        "from sklearn import preprocessing\n",
        "import numpy as np\n",
        "np.random.seed(1337)  # for reproducibility\n",
        "from keras.preprocessing import sequence\n",
        "from keras.utils import np_utils\n",
        "from keras.models import Sequential\n",
        "from keras.layers import Dense, Dropout, Activation, Embedding\n",
        "from keras.layers import LSTM, SimpleRNN, GRU\n",
        "from keras.datasets import imdb\n",
        "from keras.utils.np_utils import to_categorical\n",
        "from sklearn.metrics import (precision_score, recall_score,f1_score, accuracy_score,mean_squared_error,mean_absolute_error)\n",
        "from sklearn import metrics\n",
        "from sklearn.preprocessing import Normalizer, StandardScaler\n",
        "import h5py\n",
        "from keras import callbacks\n",
        "from sklearn.metrics import plot_confusion_matrix, classification_report\n",
        "import matplotlib.pyplot as plt\n",
        "import scikitplot as skplt\n",
        "from keras.callbacks import ModelCheckpoint, EarlyStopping, ReduceLROnPlateau, CSVLogger\n",
        "import h5py\n",
        "from sklearn.model_selection import KFold,cross_val_score\n",
        "kfold=KFold(5,True,3)\n",
        "cvscores = []"
      ],
      "execution_count": null,
      "outputs": []
    },
    {
      "cell_type": "code",
      "metadata": {
        "id": "AVr0Q9_N6izd",
        "colab": {
          "base_uri": "https://localhost:8080/"
        },
        "outputId": "9feed04a-32cc-4a64-89f2-4923d9894863"
      },
      "source": [
        "#load training dataset\n",
        "# Name for the column  or Features Map\n",
        "columns_to_named = [\"frameNumber\", \"frameTime\", \"frameLen\", \"ethSrc\", \"ethDst\",\n",
        "       \"ipSrc\", \"ipDst\", \"ipProto\", \"ipLen\", \"tcpLen\", \"tcpSrcport\",\n",
        "       \"tcpDstport\", \"Value\", \"normality\"]\n",
        "    \n",
        "    # Read the Dataset and Rename the Column\n",
        "df = pd.read_csv(\"/content/drive/MyDrive/Preprocessed_data.csv\", header=0,names=columns_to_named)\n",
        "\n",
        "col_norm = ['frameNumber', 'frameTime', 'frameLen', 'ethSrc', 'ethDst',\n",
        "       'ipSrc', 'ipDst', 'ipProto', 'ipLen', 'tcpLen', 'tcpSrcport',\n",
        "       'tcpDstport', 'Value']\n",
        "    \n",
        "    # Normalization using Custom Lambda Function or Min-max \n",
        "\n",
        "X = df[col_norm]\n",
        "y = df['normality']\n",
        "print(X.shape)\n",
        "print(y.shape)\n",
        "\n",
        "from sklearn.preprocessing import label_binarize\n",
        "Y = label_binarize(y, classes=[0, 1, 2, 3, 4, 5])\n",
        "n_classes = Y.shape[1]\n",
        "print(n_classes)"
      ],
      "execution_count": null,
      "outputs": [
        {
          "output_type": "stream",
          "text": [
            "(477426, 13)\n",
            "(477426,)\n",
            "6\n"
          ],
          "name": "stdout"
        }
      ]
    },
    {
      "cell_type": "code",
      "metadata": {
        "colab": {
          "base_uri": "https://localhost:8080/"
        },
        "id": "o5N4sLZlmdSp",
        "outputId": "90476c34-fa1a-4175-b4c8-b808c9745d98"
      },
      "source": [
        "sc = StandardScaler()\n",
        "for train, test in kfold.split(X,y):\n",
        "\n",
        "    X_train, X_test, y_train, y_test = train_test_split(X,y, test_size = 0.2, random_state = 0)\n",
        "    X_train = sc.fit_transform(X_train)\n",
        "    X_test = sc.transform(X_test)\n",
        "    X_train = np.reshape(X_train, (X_train.shape[0], 1, X_train.shape[1]))\n",
        "    X_test = np.reshape(X_test, (X_test.shape[0], 1, X_test.shape[1]))\n",
        "\n",
        "    x_train = np.array(X_train)\n",
        "    x_test = np.array(X_test)\n",
        "    y_train1 = np.array(y_train)\n",
        "    y_test1 = np.array(y_test)\n",
        "\n",
        "    y_train= to_categorical(y_train1)\n",
        "    y_test= to_categorical(y_test1)\n",
        "\n",
        "    model = Sequential()\n",
        "    model.add(LSTM(16,input_dim=13, return_sequences=True))  # try using a GRU instead, for fun\n",
        "    model.add(Dropout(0.4))\n",
        "    model.add(LSTM(16, return_sequences=True))  # try using a GRU instead, for fun\n",
        "    model.add(Dropout(0.4))\n",
        "    model.add(LSTM(16, return_sequences=False))  # try using a GRU instead, for fun\n",
        "    model.add(Dropout(0.4))\n",
        "    model.add(Dense(6))\n",
        "    model.add(Activation('softmax'))\n",
        "    #model.summary()\n",
        "\n",
        "    model.compile(optimizer='adam', loss = 'categorical_crossentropy', metrics=['accuracy','mae'])\n",
        "    history = model.fit(X_train, y_train, epochs = 10, batch_size=64, verbose=1,shuffle=False)\n",
        "    scores = model.evaluate(X_test, y_test, verbose=1)\n",
        "    print(\"%s: %.2f%%\" % (model.metrics_names[1], scores[1]*100)) \n",
        "    cvscores.append(scores[1] * 100)\n",
        "print(\"%.2f%% (+/- %.2f%%)\" % (np.mean(cvscores), np.std(cvscores)))"
      ],
      "execution_count": null,
      "outputs": [
        {
          "output_type": "stream",
          "text": [
            "Epoch 1/10\n",
            "5968/5968 [==============================] - 30s 5ms/step - loss: 0.4179 - accuracy: 0.7840 - mae: 0.0875\n",
            "Epoch 2/10\n",
            "5968/5968 [==============================] - 29s 5ms/step - loss: 0.2781 - accuracy: 0.8595 - mae: 0.0592\n",
            "Epoch 3/10\n",
            "5968/5968 [==============================] - 29s 5ms/step - loss: 0.2297 - accuracy: 0.9094 - mae: 0.0465\n",
            "Epoch 4/10\n",
            "5968/5968 [==============================] - 28s 5ms/step - loss: 0.1963 - accuracy: 0.9299 - mae: 0.0381\n",
            "Epoch 5/10\n",
            "5968/5968 [==============================] - 30s 5ms/step - loss: 0.1549 - accuracy: 0.9549 - mae: 0.0275\n",
            "Epoch 6/10\n",
            "5968/5968 [==============================] - 28s 5ms/step - loss: 0.1347 - accuracy: 0.9614 - mae: 0.0234\n",
            "Epoch 7/10\n",
            "5968/5968 [==============================] - 29s 5ms/step - loss: 0.1227 - accuracy: 0.9649 - mae: 0.0211\n",
            "Epoch 8/10\n",
            "5968/5968 [==============================] - 28s 5ms/step - loss: 0.1117 - accuracy: 0.9682 - mae: 0.0189\n",
            "Epoch 9/10\n",
            "5968/5968 [==============================] - 29s 5ms/step - loss: 0.1048 - accuracy: 0.9703 - mae: 0.0176\n",
            "Epoch 10/10\n",
            "5968/5968 [==============================] - 29s 5ms/step - loss: 0.0997 - accuracy: 0.9722 - mae: 0.0166\n",
            "2984/2984 [==============================] - 4s 1ms/step - loss: 0.0409 - accuracy: 0.9862 - mae: 0.0058\n",
            "accuracy: 98.62%\n",
            "Epoch 1/10\n",
            "5968/5968 [==============================] - 30s 5ms/step - loss: 0.4390 - accuracy: 0.7794 - mae: 0.0901\n",
            "Epoch 2/10\n",
            "5968/5968 [==============================] - 30s 5ms/step - loss: 0.2948 - accuracy: 0.8277 - mae: 0.0636\n",
            "Epoch 3/10\n",
            "5968/5968 [==============================] - 28s 5ms/step - loss: 0.2648 - accuracy: 0.8694 - mae: 0.0567\n",
            "Epoch 4/10\n",
            "5968/5968 [==============================] - 29s 5ms/step - loss: 0.1704 - accuracy: 0.9473 - mae: 0.0316\n",
            "Epoch 5/10\n",
            "5968/5968 [==============================] - 28s 5ms/step - loss: 0.1284 - accuracy: 0.9651 - mae: 0.0220\n",
            "Epoch 6/10\n",
            "5968/5968 [==============================] - 29s 5ms/step - loss: 0.1030 - accuracy: 0.9738 - mae: 0.0170\n",
            "Epoch 7/10\n",
            "5968/5968 [==============================] - 29s 5ms/step - loss: 0.0893 - accuracy: 0.9780 - mae: 0.0144\n",
            "Epoch 8/10\n",
            "5968/5968 [==============================] - 28s 5ms/step - loss: 0.0825 - accuracy: 0.9800 - mae: 0.0130\n",
            "Epoch 9/10\n",
            "5968/5968 [==============================] - 29s 5ms/step - loss: 0.0770 - accuracy: 0.9813 - mae: 0.0120\n",
            "Epoch 10/10\n",
            "5968/5968 [==============================] - 29s 5ms/step - loss: 0.0732 - accuracy: 0.9824 - mae: 0.0113\n",
            "2984/2984 [==============================] - 4s 2ms/step - loss: 0.0271 - accuracy: 0.9935 - mae: 0.0029\n",
            "accuracy: 99.35%\n",
            "Epoch 1/10\n",
            "5968/5968 [==============================] - 29s 5ms/step - loss: 0.4041 - accuracy: 0.7992 - mae: 0.0831\n",
            "Epoch 2/10\n",
            "5968/5968 [==============================] - 33s 5ms/step - loss: 0.2377 - accuracy: 0.9099 - mae: 0.0477\n",
            "Epoch 3/10\n",
            "5968/5968 [==============================] - 29s 5ms/step - loss: 0.1604 - accuracy: 0.9539 - mae: 0.0287\n",
            "Epoch 4/10\n",
            "5968/5968 [==============================] - 29s 5ms/step - loss: 0.1184 - accuracy: 0.9681 - mae: 0.0199\n",
            "Epoch 5/10\n",
            "5968/5968 [==============================] - 29s 5ms/step - loss: 0.1008 - accuracy: 0.9738 - mae: 0.0164\n",
            "Epoch 6/10\n",
            "5968/5968 [==============================] - 29s 5ms/step - loss: 0.0897 - accuracy: 0.9777 - mae: 0.0143\n",
            "Epoch 7/10\n",
            "5968/5968 [==============================] - 29s 5ms/step - loss: 0.0839 - accuracy: 0.9794 - mae: 0.0133\n",
            "Epoch 8/10\n",
            "5968/5968 [==============================] - 29s 5ms/step - loss: 0.0772 - accuracy: 0.9815 - mae: 0.0121\n",
            "Epoch 9/10\n",
            "5968/5968 [==============================] - 29s 5ms/step - loss: 0.0738 - accuracy: 0.9822 - mae: 0.0116\n",
            "Epoch 10/10\n",
            "5968/5968 [==============================] - 31s 5ms/step - loss: 0.0705 - accuracy: 0.9832 - mae: 0.0109\n",
            "2984/2984 [==============================] - 5s 2ms/step - loss: 0.0196 - accuracy: 0.9970 - mae: 0.0013\n",
            "accuracy: 99.70%\n",
            "Epoch 1/10\n",
            "5968/5968 [==============================] - 30s 5ms/step - loss: 0.4255 - accuracy: 0.7803 - mae: 0.0886\n",
            "Epoch 2/10\n",
            "5968/5968 [==============================] - 32s 5ms/step - loss: 0.2938 - accuracy: 0.8234 - mae: 0.0636\n",
            "Epoch 3/10\n",
            "5968/5968 [==============================] - 30s 5ms/step - loss: 0.2783 - accuracy: 0.8399 - mae: 0.0611\n",
            "Epoch 4/10\n",
            "5968/5968 [==============================] - 29s 5ms/step - loss: 0.2168 - accuracy: 0.9170 - mae: 0.0432\n",
            "Epoch 5/10\n",
            "5968/5968 [==============================] - 31s 5ms/step - loss: 0.1704 - accuracy: 0.9461 - mae: 0.0310\n",
            "Epoch 6/10\n",
            "5968/5968 [==============================] - 30s 5ms/step - loss: 0.1484 - accuracy: 0.9558 - mae: 0.0267\n",
            "Epoch 7/10\n",
            "5968/5968 [==============================] - 29s 5ms/step - loss: 0.1289 - accuracy: 0.9626 - mae: 0.0225\n",
            "Epoch 8/10\n",
            "5968/5968 [==============================] - 30s 5ms/step - loss: 0.0966 - accuracy: 0.9744 - mae: 0.0161\n",
            "Epoch 9/10\n",
            "5968/5968 [==============================] - 29s 5ms/step - loss: 0.0834 - accuracy: 0.9790 - mae: 0.0134\n",
            "Epoch 10/10\n",
            "5968/5968 [==============================] - 30s 5ms/step - loss: 0.0763 - accuracy: 0.9817 - mae: 0.0120\n",
            "2984/2984 [==============================] - 5s 2ms/step - loss: 0.0260 - accuracy: 0.9958 - mae: 0.0017\n",
            "accuracy: 99.58%\n",
            "Epoch 1/10\n",
            "5968/5968 [==============================] - 29s 5ms/step - loss: 0.4254 - accuracy: 0.7880 - mae: 0.0883\n",
            "Epoch 2/10\n",
            "5968/5968 [==============================] - 29s 5ms/step - loss: 0.2735 - accuracy: 0.8708 - mae: 0.0573\n",
            "Epoch 3/10\n",
            "5968/5968 [==============================] - 31s 5ms/step - loss: 0.1744 - accuracy: 0.9450 - mae: 0.0320\n",
            "Epoch 4/10\n",
            "5968/5968 [==============================] - 29s 5ms/step - loss: 0.1288 - accuracy: 0.9653 - mae: 0.0217\n",
            "Epoch 5/10\n",
            "5968/5968 [==============================] - 30s 5ms/step - loss: 0.1084 - accuracy: 0.9733 - mae: 0.0173\n",
            "Epoch 6/10\n",
            "5968/5968 [==============================] - 29s 5ms/step - loss: 0.0993 - accuracy: 0.9758 - mae: 0.0157\n",
            "Epoch 7/10\n",
            "5968/5968 [==============================] - 29s 5ms/step - loss: 0.0939 - accuracy: 0.9775 - mae: 0.0146\n",
            "Epoch 8/10\n",
            "5968/5968 [==============================] - 28s 5ms/step - loss: 0.0886 - accuracy: 0.9789 - mae: 0.0138\n",
            "Epoch 9/10\n",
            "5968/5968 [==============================] - 28s 5ms/step - loss: 0.0840 - accuracy: 0.9799 - mae: 0.0130\n",
            "Epoch 10/10\n",
            "5968/5968 [==============================] - 29s 5ms/step - loss: 0.0788 - accuracy: 0.9811 - mae: 0.0122\n",
            "2984/2984 [==============================] - 4s 2ms/step - loss: 0.0283 - accuracy: 0.9948 - mae: 0.0027\n",
            "accuracy: 99.48%\n",
            "99.35% (+/- 0.38%)\n"
          ],
          "name": "stdout"
        }
      ]
    },
    {
      "cell_type": "code",
      "metadata": {
        "id": "E7SIdTKjsMps"
      },
      "source": [
        "target_names = ['Normal', 'WrongSetup', 'DDoS', 'Probing', 'Scan', 'MITM']"
      ],
      "execution_count": null,
      "outputs": []
    },
    {
      "cell_type": "code",
      "metadata": {
        "colab": {
          "base_uri": "https://localhost:8080/"
        },
        "id": "8UE99Q7JFQER",
        "outputId": "75e4bf85-f4a4-4e0c-826b-5ea97199a177"
      },
      "source": [
        "### train_accuracy\r\n",
        "from sklearn.metrics import classification_report, confusion_matrix, ConfusionMatrixDisplay\r\n",
        "from sklearn.metrics import (precision_score, recall_score,f1_score, accuracy_score,mean_squared_error,mean_absolute_error,roc_auc_score,cohen_kappa_score)\r\n",
        "import sklearn.metrics as metrics\r\n",
        "\r\n",
        "expected = y_train\r\n",
        "predicted = model.predict(X_train)\r\n",
        "data = classification_report(expected,np.round(predicted), target_names=target_names)\r\n",
        "print(data)\r\n",
        "\r\n",
        "print(\"Accuracy_Train:\",metrics.accuracy_score(expected, np.round(predicted)))\r\n",
        "print(\"Precision_Train:\",metrics.precision_score(expected, np.round(predicted), average='weighted'))\r\n",
        "print(\"Recall_Train:\",metrics.recall_score(expected, np.round(predicted), average='weighted'))\r\n",
        "print(\"f1-score_Train:\",metrics.f1_score(expected, np.round(predicted), average='weighted'))\r\n",
        "print(\"ROC_AUC_Train:\",metrics.roc_auc_score(expected, predicted,multi_class=\"ovr\",average='weighted'))"
      ],
      "execution_count": null,
      "outputs": [
        {
          "output_type": "stream",
          "text": [
            "/usr/local/lib/python3.6/dist-packages/sklearn/metrics/_classification.py:1272: UndefinedMetricWarning: Precision and F-score are ill-defined and being set to 0.0 in samples with no predicted labels. Use `zero_division` parameter to control this behavior.\n",
            "  _warn_prf(average, modifier, msg_start, len(result))\n"
          ],
          "name": "stderr"
        },
        {
          "output_type": "stream",
          "text": [
            "              precision    recall  f1-score   support\n",
            "\n",
            "      Normal       1.00      0.99      0.99     63266\n",
            "  WrongSetup       0.99      1.00      0.99     65753\n",
            "        DDoS       1.00      1.00      1.00     63212\n",
            "     Probing       1.00      0.99      1.00     63179\n",
            "        Scan       1.00      0.99      0.99     63278\n",
            "        MITM       0.98      1.00      0.99     63252\n",
            "\n",
            "   micro avg       0.99      0.99      0.99    381940\n",
            "   macro avg       0.99      0.99      0.99    381940\n",
            "weighted avg       0.99      0.99      0.99    381940\n",
            " samples avg       0.99      0.99      0.99    381940\n",
            "\n",
            "Accuracy_Train: 0.9946640833638791\n",
            "Precision_Train: 0.994741981546926\n",
            "Recall_Train: 0.9946640833638791\n",
            "f1-score_Train: 0.9946729467295278\n",
            "ROC_AUC_Train: 0.9996920736088225\n"
          ],
          "name": "stdout"
        }
      ]
    },
    {
      "cell_type": "code",
      "metadata": {
        "colab": {
          "base_uri": "https://localhost:8080/"
        },
        "id": "zOmt9QqenAZ6",
        "outputId": "75b57958-6429-4c74-b1d0-936bd0b3e3f9"
      },
      "source": [
        "### test_accuracy\n",
        "expected = y_test\n",
        "predicted = model.predict(X_test)\n",
        "data = classification_report(expected,np.round(predicted), target_names=target_names)\n",
        "print(data)\n",
        "print(\"Accuracy:\",metrics.accuracy_score(expected, np.round(predicted)))\n",
        "print(\"Precision:\",metrics.precision_score(expected, np.round(predicted), average='weighted'))\n",
        "print(\"Recall:\",metrics.recall_score(expected, np.round(predicted), average='weighted'))\n",
        "print(\"f1-score:\",metrics.f1_score(expected, np.round(predicted), average='weighted'))\n",
        "print(\"ROC_AUC:\",metrics.roc_auc_score(expected, predicted,multi_class=\"ovr\",average='weighted'))"
      ],
      "execution_count": null,
      "outputs": [
        {
          "output_type": "stream",
          "text": [
            "              precision    recall  f1-score   support\n",
            "\n",
            "      Normal       1.00      0.99      0.99     15769\n",
            "  WrongSetup       0.99      1.00      0.99     16532\n",
            "        DDoS       1.00      1.00      1.00     15808\n",
            "     Probing       1.00      0.99      1.00     15823\n",
            "        Scan       1.00      0.99      0.99     15774\n",
            "        MITM       0.98      1.00      0.99     15780\n",
            "\n",
            "   micro avg       0.99      0.99      0.99     95486\n",
            "   macro avg       0.99      0.99      0.99     95486\n",
            "weighted avg       0.99      0.99      0.99     95486\n",
            " samples avg       0.99      0.99      0.99     95486\n",
            "\n",
            "Accuracy: 0.994815993967702\n",
            "Precision: 0.9948757612199095\n",
            "Recall: 0.994815993967702\n",
            "f1-score: 0.9948180171435814\n",
            "ROC_AUC: 0.9996963838665549\n"
          ],
          "name": "stdout"
        }
      ]
    }
  ]
}