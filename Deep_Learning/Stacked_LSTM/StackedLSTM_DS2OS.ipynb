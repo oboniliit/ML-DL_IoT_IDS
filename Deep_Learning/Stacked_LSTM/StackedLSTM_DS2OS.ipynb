{
  "nbformat": 4,
  "nbformat_minor": 0,
  "metadata": {
    "kernelspec": {
      "display_name": "Python 3",
      "language": "python",
      "name": "python3"
    },
    "language_info": {
      "codemirror_mode": {
        "name": "ipython",
        "version": 3
      },
      "file_extension": ".py",
      "mimetype": "text/x-python",
      "name": "python",
      "nbconvert_exporter": "python",
      "pygments_lexer": "ipython3",
      "version": "3.6.4"
    },
    "colab": {
      "name": "StackedLSTM_DS2OS.ipynb",
      "provenance": [],
      "collapsed_sections": []
    }
  },
  "cells": [
    {
      "cell_type": "code",
      "metadata": {
        "id": "T2KX9a7e01Ya",
        "colab": {
          "base_uri": "https://localhost:8080/"
        },
        "outputId": "b0843872-1edf-4a42-9e52-3205f84c9ba4"
      },
      "source": [
        "from google.colab import drive\n",
        "drive.mount('/content/drive')"
      ],
      "execution_count": null,
      "outputs": [
        {
          "output_type": "stream",
          "text": [
            "Mounted at /content/drive\n"
          ],
          "name": "stdout"
        }
      ]
    },
    {
      "cell_type": "code",
      "metadata": {
        "colab": {
          "base_uri": "https://localhost:8080/"
        },
        "id": "Q_UvXExUqBQp",
        "outputId": "fcf7fe4c-81ff-4ef3-82cb-60109fba35a3"
      },
      "source": [
        "!pip install scikit-plot"
      ],
      "execution_count": null,
      "outputs": [
        {
          "output_type": "stream",
          "text": [
            "Requirement already satisfied: scikit-plot in /usr/local/lib/python3.6/dist-packages (0.3.7)\n",
            "Requirement already satisfied: matplotlib>=1.4.0 in /usr/local/lib/python3.6/dist-packages (from scikit-plot) (3.2.2)\n",
            "Requirement already satisfied: scipy>=0.9 in /usr/local/lib/python3.6/dist-packages (from scikit-plot) (1.4.1)\n",
            "Requirement already satisfied: joblib>=0.10 in /usr/local/lib/python3.6/dist-packages (from scikit-plot) (0.17.0)\n",
            "Requirement already satisfied: scikit-learn>=0.18 in /usr/local/lib/python3.6/dist-packages (from scikit-plot) (0.22.2.post1)\n",
            "Requirement already satisfied: cycler>=0.10 in /usr/local/lib/python3.6/dist-packages (from matplotlib>=1.4.0->scikit-plot) (0.10.0)\n",
            "Requirement already satisfied: pyparsing!=2.0.4,!=2.1.2,!=2.1.6,>=2.0.1 in /usr/local/lib/python3.6/dist-packages (from matplotlib>=1.4.0->scikit-plot) (2.4.7)\n",
            "Requirement already satisfied: kiwisolver>=1.0.1 in /usr/local/lib/python3.6/dist-packages (from matplotlib>=1.4.0->scikit-plot) (1.3.1)\n",
            "Requirement already satisfied: python-dateutil>=2.1 in /usr/local/lib/python3.6/dist-packages (from matplotlib>=1.4.0->scikit-plot) (2.8.1)\n",
            "Requirement already satisfied: numpy>=1.11 in /usr/local/lib/python3.6/dist-packages (from matplotlib>=1.4.0->scikit-plot) (1.18.5)\n",
            "Requirement already satisfied: six in /usr/local/lib/python3.6/dist-packages (from cycler>=0.10->matplotlib>=1.4.0->scikit-plot) (1.15.0)\n"
          ],
          "name": "stdout"
        }
      ]
    },
    {
      "cell_type": "code",
      "metadata": {
        "id": "hRyD1ThIqCRu"
      },
      "source": [
        "from sklearn.model_selection import train_test_split\n",
        "import pandas as pd\n",
        "from sklearn import preprocessing\n",
        "import numpy as np\n",
        "np.random.seed(1337)  # for reproducibility\n",
        "from keras.utils import np_utils\n",
        "from keras.models import Sequential\n",
        "from keras.layers import LSTM, Dense, Dropout, Activation, Embedding\n",
        "from keras.utils.np_utils import to_categorical\n",
        "from sklearn.metrics import (precision_score, recall_score,f1_score, accuracy_score,mean_squared_error,mean_absolute_error)\n",
        "from sklearn import metrics\n",
        "from sklearn.preprocessing import Normalizer, StandardScaler\n",
        "from sklearn.metrics import plot_confusion_matrix, classification_report\n",
        "import matplotlib.pyplot as plt\n",
        "import scikitplot as skplt\n",
        "import h5py\n",
        "from sklearn.model_selection import KFold,cross_val_score\n",
        "kfold=KFold(5,True,3)\n",
        "cvscores = []"
      ],
      "execution_count": null,
      "outputs": []
    },
    {
      "cell_type": "code",
      "metadata": {
        "id": "gwZqtDNh1uDP",
        "colab": {
          "base_uri": "https://localhost:8080/",
          "height": 204
        },
        "outputId": "24e65f15-97d4-4a69-9ff6-4793e6a6cff2"
      },
      "source": [
        "ds= pd.read_csv('/content/drive/MyDrive/code/dataset/df_spark.csv')\n",
        "ds.shape\n",
        "ds = ds.drop(columns=\"Unnamed: 0\")\n",
        "ds.head()"
      ],
      "execution_count": null,
      "outputs": [
        {
          "output_type": "execute_result",
          "data": {
            "text/html": [
              "<div>\n",
              "<style scoped>\n",
              "    .dataframe tbody tr th:only-of-type {\n",
              "        vertical-align: middle;\n",
              "    }\n",
              "\n",
              "    .dataframe tbody tr th {\n",
              "        vertical-align: top;\n",
              "    }\n",
              "\n",
              "    .dataframe thead th {\n",
              "        text-align: right;\n",
              "    }\n",
              "</style>\n",
              "<table border=\"1\" class=\"dataframe\">\n",
              "  <thead>\n",
              "    <tr style=\"text-align: right;\">\n",
              "      <th></th>\n",
              "      <th>0</th>\n",
              "      <th>1</th>\n",
              "      <th>2</th>\n",
              "      <th>3</th>\n",
              "      <th>4</th>\n",
              "      <th>5</th>\n",
              "      <th>6</th>\n",
              "      <th>7</th>\n",
              "      <th>8</th>\n",
              "      <th>9</th>\n",
              "      <th>10</th>\n",
              "      <th>11</th>\n",
              "    </tr>\n",
              "  </thead>\n",
              "  <tbody>\n",
              "    <tr>\n",
              "      <th>0</th>\n",
              "      <td>7.0</td>\n",
              "      <td>21.0</td>\n",
              "      <td>30.0</td>\n",
              "      <td>2.0</td>\n",
              "      <td>3.0</td>\n",
              "      <td>30.0</td>\n",
              "      <td>2.0</td>\n",
              "      <td>3.0</td>\n",
              "      <td>59.0</td>\n",
              "      <td>7.0</td>\n",
              "      <td>2.0</td>\n",
              "      <td>0.0</td>\n",
              "    </tr>\n",
              "    <tr>\n",
              "      <th>1</th>\n",
              "      <td>7.0</td>\n",
              "      <td>32.0</td>\n",
              "      <td>70.0</td>\n",
              "      <td>2.0</td>\n",
              "      <td>4.0</td>\n",
              "      <td>68.0</td>\n",
              "      <td>2.0</td>\n",
              "      <td>4.0</td>\n",
              "      <td>134.0</td>\n",
              "      <td>7.0</td>\n",
              "      <td>2.0</td>\n",
              "      <td>0.0</td>\n",
              "    </tr>\n",
              "    <tr>\n",
              "      <th>2</th>\n",
              "      <td>7.0</td>\n",
              "      <td>15.0</td>\n",
              "      <td>1.0</td>\n",
              "      <td>2.0</td>\n",
              "      <td>2.0</td>\n",
              "      <td>0.0</td>\n",
              "      <td>2.0</td>\n",
              "      <td>2.0</td>\n",
              "      <td>0.0</td>\n",
              "      <td>7.0</td>\n",
              "      <td>2.0</td>\n",
              "      <td>0.0</td>\n",
              "    </tr>\n",
              "    <tr>\n",
              "      <th>3</th>\n",
              "      <td>7.0</td>\n",
              "      <td>33.0</td>\n",
              "      <td>77.0</td>\n",
              "      <td>2.0</td>\n",
              "      <td>7.0</td>\n",
              "      <td>73.0</td>\n",
              "      <td>2.0</td>\n",
              "      <td>7.0</td>\n",
              "      <td>144.0</td>\n",
              "      <td>7.0</td>\n",
              "      <td>2.0</td>\n",
              "      <td>0.0</td>\n",
              "    </tr>\n",
              "    <tr>\n",
              "      <th>4</th>\n",
              "      <td>7.0</td>\n",
              "      <td>55.0</td>\n",
              "      <td>78.0</td>\n",
              "      <td>3.0</td>\n",
              "      <td>7.0</td>\n",
              "      <td>74.0</td>\n",
              "      <td>3.0</td>\n",
              "      <td>7.0</td>\n",
              "      <td>146.0</td>\n",
              "      <td>8.0</td>\n",
              "      <td>2.0</td>\n",
              "      <td>0.0</td>\n",
              "    </tr>\n",
              "  </tbody>\n",
              "</table>\n",
              "</div>"
            ],
            "text/plain": [
              "     0     1     2    3    4     5    6    7      8    9   10   11\n",
              "0  7.0  21.0  30.0  2.0  3.0  30.0  2.0  3.0   59.0  7.0  2.0  0.0\n",
              "1  7.0  32.0  70.0  2.0  4.0  68.0  2.0  4.0  134.0  7.0  2.0  0.0\n",
              "2  7.0  15.0   1.0  2.0  2.0   0.0  2.0  2.0    0.0  7.0  2.0  0.0\n",
              "3  7.0  33.0  77.0  2.0  7.0  73.0  2.0  7.0  144.0  7.0  2.0  0.0\n",
              "4  7.0  55.0  78.0  3.0  7.0  74.0  3.0  7.0  146.0  8.0  2.0  0.0"
            ]
          },
          "metadata": {
            "tags": []
          },
          "execution_count": 6
        }
      ]
    },
    {
      "cell_type": "code",
      "metadata": {
        "id": "4fCuMwKZ12Yt",
        "colab": {
          "base_uri": "https://localhost:8080/"
        },
        "outputId": "12101bc6-2066-4ed0-f2a2-236154176f06"
      },
      "source": [
        "y = ds.iloc[:,0].values\n",
        "X = ds.iloc[:,1:].values\n",
        "\n",
        "from sklearn.preprocessing import label_binarize\n",
        "\n",
        "y = label_binarize(y, classes=[0, 1, 2, 3, 4, 5, 6, 7])\n",
        "n_classes = y.shape[1]\n",
        "n_classes"
      ],
      "execution_count": null,
      "outputs": [
        {
          "output_type": "execute_result",
          "data": {
            "text/plain": [
              "8"
            ]
          },
          "metadata": {
            "tags": []
          },
          "execution_count": 7
        }
      ]
    },
    {
      "cell_type": "code",
      "metadata": {
        "colab": {
          "base_uri": "https://localhost:8080/"
        },
        "id": "6t9pSaJPqeDK",
        "outputId": "a341af35-9180-4efc-e03a-06b6fa28853b"
      },
      "source": [
        "sc = StandardScaler()\n",
        "for train, test in kfold.split(X,y):\n",
        "\n",
        "    X_train, X_test, y_train, y_test = train_test_split(X,y, test_size = 0.2, random_state = 0)\n",
        "    X_train = sc.fit_transform(X_train)\n",
        "    X_test = sc.transform(X_test)\n",
        "    X_train = np.reshape(X_train, (X_train.shape[0], 1, X_train.shape[1]))\n",
        "    X_test = np.reshape(X_test, (X_test.shape[0], 1, X_test.shape[1]))\n",
        "\n",
        "    model = Sequential()\n",
        "    model.add(LSTM(16,input_dim=11, return_sequences=True))  \n",
        "    model.add(Dropout(0.4))\n",
        "    model.add(LSTM(16, return_sequences=True))  \n",
        "    model.add(Dropout(0.4))\n",
        "    model.add(LSTM(16, return_sequences=False))  \n",
        "    model.add(Dropout(0.4))\n",
        "    model.add(Dense(8))\n",
        "    model.add(Activation('softmax'))\n",
        "    #model.summary()\n",
        "\n",
        "    model.compile(optimizer='adam', loss = 'categorical_crossentropy', metrics=['accuracy','mae'])\n",
        "    history = model.fit(X_train, y_train, epochs = 10, batch_size=64, verbose=1,shuffle=False)\n",
        "    scores = model.evaluate(X_test, y_test, verbose=1)\n",
        "    print(\"%s: %.2f%%\" % (model.metrics_names[1], scores[1]*100)) \n",
        "    cvscores.append(scores[1] * 100)\n",
        "print(\"%.2f%% (+/- %.2f%%)\" % (np.mean(cvscores), np.std(cvscores)))"
      ],
      "execution_count": null,
      "outputs": [
        {
          "output_type": "stream",
          "text": [
            "Epoch 1/10\n",
            "4475/4475 [==============================] - 21s 5ms/step - loss: 0.1553 - accuracy: 0.9770 - mae: 0.0163\n",
            "Epoch 2/10\n",
            "4475/4475 [==============================] - 21s 5ms/step - loss: 0.0745 - accuracy: 0.9809 - mae: 0.0075\n",
            "Epoch 3/10\n",
            "4475/4475 [==============================] - 21s 5ms/step - loss: 0.0601 - accuracy: 0.9842 - mae: 0.0063\n",
            "Epoch 4/10\n",
            "4475/4475 [==============================] - 25s 6ms/step - loss: 0.0542 - accuracy: 0.9853 - mae: 0.0057\n",
            "Epoch 5/10\n",
            "4475/4475 [==============================] - 23s 5ms/step - loss: 0.0507 - accuracy: 0.9858 - mae: 0.0055\n",
            "Epoch 6/10\n",
            "4475/4475 [==============================] - 21s 5ms/step - loss: 0.0487 - accuracy: 0.9863 - mae: 0.0053\n",
            "Epoch 7/10\n",
            "4475/4475 [==============================] - 21s 5ms/step - loss: 0.0471 - accuracy: 0.9867 - mae: 0.0052\n",
            "Epoch 8/10\n",
            "4475/4475 [==============================] - 21s 5ms/step - loss: 0.0456 - accuracy: 0.9871 - mae: 0.0050\n",
            "Epoch 9/10\n",
            "4475/4475 [==============================] - 21s 5ms/step - loss: 0.0442 - accuracy: 0.9872 - mae: 0.0049\n",
            "Epoch 10/10\n",
            "4475/4475 [==============================] - 21s 5ms/step - loss: 0.0429 - accuracy: 0.9877 - mae: 0.0048\n",
            "2238/2238 [==============================] - 3s 1ms/step - loss: 0.0363 - accuracy: 0.9884 - mae: 0.0038\n",
            "accuracy: 98.84%\n",
            "Epoch 1/10\n",
            "4475/4475 [==============================] - 22s 5ms/step - loss: 0.1552 - accuracy: 0.9775 - mae: 0.0161\n",
            "Epoch 2/10\n",
            "4475/4475 [==============================] - 21s 5ms/step - loss: 0.0729 - accuracy: 0.9815 - mae: 0.0073\n",
            "Epoch 3/10\n",
            "4475/4475 [==============================] - 21s 5ms/step - loss: 0.0600 - accuracy: 0.9842 - mae: 0.0063\n",
            "Epoch 4/10\n",
            "4475/4475 [==============================] - 22s 5ms/step - loss: 0.0547 - accuracy: 0.9851 - mae: 0.0058\n",
            "Epoch 5/10\n",
            "4475/4475 [==============================] - 21s 5ms/step - loss: 0.0516 - accuracy: 0.9857 - mae: 0.0056\n",
            "Epoch 6/10\n",
            "4475/4475 [==============================] - 21s 5ms/step - loss: 0.0492 - accuracy: 0.9863 - mae: 0.0054\n",
            "Epoch 7/10\n",
            "4475/4475 [==============================] - 22s 5ms/step - loss: 0.0470 - accuracy: 0.9866 - mae: 0.0052\n",
            "Epoch 8/10\n",
            "4475/4475 [==============================] - 22s 5ms/step - loss: 0.0448 - accuracy: 0.9870 - mae: 0.0050\n",
            "Epoch 9/10\n",
            "4475/4475 [==============================] - 22s 5ms/step - loss: 0.0440 - accuracy: 0.9872 - mae: 0.0050\n",
            "Epoch 10/10\n",
            "4475/4475 [==============================] - 22s 5ms/step - loss: 0.0424 - accuracy: 0.9873 - mae: 0.0049\n",
            "2238/2238 [==============================] - 3s 1ms/step - loss: 0.0348 - accuracy: 0.9891 - mae: 0.0038\n",
            "accuracy: 98.91%\n",
            "Epoch 1/10\n",
            "4475/4475 [==============================] - 21s 5ms/step - loss: 0.1540 - accuracy: 0.9776 - mae: 0.0161\n",
            "Epoch 2/10\n",
            "4475/4475 [==============================] - 21s 5ms/step - loss: 0.0727 - accuracy: 0.9810 - mae: 0.0073\n",
            "Epoch 3/10\n",
            "4475/4475 [==============================] - 21s 5ms/step - loss: 0.0594 - accuracy: 0.9833 - mae: 0.0062\n",
            "Epoch 4/10\n",
            "4475/4475 [==============================] - 21s 5ms/step - loss: 0.0533 - accuracy: 0.9853 - mae: 0.0057\n",
            "Epoch 5/10\n",
            "4475/4475 [==============================] - 22s 5ms/step - loss: 0.0501 - accuracy: 0.9859 - mae: 0.0055\n",
            "Epoch 6/10\n",
            "4475/4475 [==============================] - 21s 5ms/step - loss: 0.0482 - accuracy: 0.9863 - mae: 0.0053\n",
            "Epoch 7/10\n",
            "4475/4475 [==============================] - 21s 5ms/step - loss: 0.0465 - accuracy: 0.9869 - mae: 0.0051\n",
            "Epoch 8/10\n",
            "4475/4475 [==============================] - 21s 5ms/step - loss: 0.0457 - accuracy: 0.9870 - mae: 0.0050\n",
            "Epoch 9/10\n",
            "4475/4475 [==============================] - 21s 5ms/step - loss: 0.0444 - accuracy: 0.9874 - mae: 0.0049\n",
            "Epoch 10/10\n",
            "4475/4475 [==============================] - 21s 5ms/step - loss: 0.0430 - accuracy: 0.9875 - mae: 0.0048\n",
            "2238/2238 [==============================] - 3s 2ms/step - loss: 0.0357 - accuracy: 0.9894 - mae: 0.0037\n",
            "accuracy: 98.94%\n",
            "Epoch 1/10\n",
            "4475/4475 [==============================] - 21s 5ms/step - loss: 0.1568 - accuracy: 0.9765 - mae: 0.0164\n",
            "Epoch 2/10\n",
            "4475/4475 [==============================] - 22s 5ms/step - loss: 0.0739 - accuracy: 0.9818 - mae: 0.0074\n",
            "Epoch 3/10\n",
            "4475/4475 [==============================] - 23s 5ms/step - loss: 0.0613 - accuracy: 0.9844 - mae: 0.0063\n",
            "Epoch 4/10\n",
            "4475/4475 [==============================] - 23s 5ms/step - loss: 0.0550 - accuracy: 0.9856 - mae: 0.0058\n",
            "Epoch 5/10\n",
            "4475/4475 [==============================] - 22s 5ms/step - loss: 0.0497 - accuracy: 0.9862 - mae: 0.0055\n",
            "Epoch 6/10\n",
            "4475/4475 [==============================] - 21s 5ms/step - loss: 0.0475 - accuracy: 0.9865 - mae: 0.0053\n",
            "Epoch 7/10\n",
            "4475/4475 [==============================] - 22s 5ms/step - loss: 0.0454 - accuracy: 0.9866 - mae: 0.0052\n",
            "Epoch 8/10\n",
            "4475/4475 [==============================] - 22s 5ms/step - loss: 0.0421 - accuracy: 0.9870 - mae: 0.0049\n",
            "Epoch 9/10\n",
            "4475/4475 [==============================] - 22s 5ms/step - loss: 0.0402 - accuracy: 0.9873 - mae: 0.0048\n",
            "Epoch 10/10\n",
            "4475/4475 [==============================] - 22s 5ms/step - loss: 0.0397 - accuracy: 0.9875 - mae: 0.0047\n",
            "2238/2238 [==============================] - 3s 1ms/step - loss: 0.0291 - accuracy: 0.9897 - mae: 0.0037\n",
            "accuracy: 98.97%\n",
            "Epoch 1/10\n",
            "4475/4475 [==============================] - 21s 5ms/step - loss: 0.1575 - accuracy: 0.9770 - mae: 0.0164\n",
            "Epoch 2/10\n",
            "4475/4475 [==============================] - 22s 5ms/step - loss: 0.0748 - accuracy: 0.9806 - mae: 0.0076\n",
            "Epoch 3/10\n",
            "4475/4475 [==============================] - 22s 5ms/step - loss: 0.0595 - accuracy: 0.9839 - mae: 0.0063\n",
            "Epoch 4/10\n",
            "4475/4475 [==============================] - 21s 5ms/step - loss: 0.0536 - accuracy: 0.9855 - mae: 0.0057\n",
            "Epoch 5/10\n",
            "4475/4475 [==============================] - 21s 5ms/step - loss: 0.0509 - accuracy: 0.9862 - mae: 0.0055\n",
            "Epoch 6/10\n",
            "4475/4475 [==============================] - 22s 5ms/step - loss: 0.0488 - accuracy: 0.9865 - mae: 0.0053\n",
            "Epoch 7/10\n",
            "4475/4475 [==============================] - 21s 5ms/step - loss: 0.0469 - accuracy: 0.9870 - mae: 0.0051\n",
            "Epoch 8/10\n",
            "4475/4475 [==============================] - 24s 5ms/step - loss: 0.0460 - accuracy: 0.9871 - mae: 0.0050\n",
            "Epoch 9/10\n",
            "4475/4475 [==============================] - 22s 5ms/step - loss: 0.0458 - accuracy: 0.9872 - mae: 0.0050\n",
            "Epoch 10/10\n",
            "4475/4475 [==============================] - 22s 5ms/step - loss: 0.0442 - accuracy: 0.9875 - mae: 0.0049\n",
            "2238/2238 [==============================] - 3s 2ms/step - loss: 0.0363 - accuracy: 0.9887 - mae: 0.0038\n",
            "accuracy: 98.87%\n",
            "98.91% (+/- 0.05%)\n"
          ],
          "name": "stdout"
        }
      ]
    },
    {
      "cell_type": "code",
      "metadata": {
        "id": "F9zrXz4WsVjA"
      },
      "source": [
        "target_names = ['DoS', 'Probing',\t'MaliciousControl', 'MaliciousOperation', 'Scan', 'Spying', 'WrongSetup', 'Normal']"
      ],
      "execution_count": null,
      "outputs": []
    },
    {
      "cell_type": "code",
      "metadata": {
        "colab": {
          "base_uri": "https://localhost:8080/"
        },
        "id": "8UE99Q7JFQER",
        "outputId": "92961aac-c3c5-428d-d5f2-2d0f02d73a62"
      },
      "source": [
        "### train_accuracy\r\n",
        "from sklearn.metrics import classification_report, confusion_matrix, ConfusionMatrixDisplay\r\n",
        "from sklearn.metrics import (precision_score, recall_score,f1_score, accuracy_score,mean_squared_error,mean_absolute_error,roc_auc_score,cohen_kappa_score)\r\n",
        "import sklearn.metrics as metrics\r\n",
        "\r\n",
        "expected = y_train\r\n",
        "predicted = model.predict(X_train)\r\n",
        "data = classification_report(expected,np.round(predicted), target_names=target_names)\r\n",
        "print(data)\r\n",
        "\r\n",
        "print(\"Accuracy_Train:\",metrics.accuracy_score(expected, np.round(predicted)))\r\n",
        "print(\"Precision_Train:\",metrics.precision_score(expected, np.round(predicted), average='weighted'))\r\n",
        "print(\"Recall_Train:\",metrics.recall_score(expected, np.round(predicted), average='weighted'))\r\n",
        "print(\"f1-score_Train:\",metrics.f1_score(expected, np.round(predicted), average='weighted'))\r\n",
        "print(\"ROC_AUC_Train:\",metrics.roc_auc_score(expected, predicted,multi_class=\"ovr\",average='weighted'))"
      ],
      "execution_count": null,
      "outputs": [
        {
          "output_type": "stream",
          "text": [
            "/usr/local/lib/python3.6/dist-packages/sklearn/metrics/_classification.py:1272: UndefinedMetricWarning: Precision and F-score are ill-defined and being set to 0.0 in labels with no predicted samples. Use `zero_division` parameter to control this behavior.\n",
            "  _warn_prf(average, modifier, msg_start, len(result))\n",
            "/usr/local/lib/python3.6/dist-packages/sklearn/metrics/_classification.py:1272: UndefinedMetricWarning: Precision and F-score are ill-defined and being set to 0.0 in samples with no predicted labels. Use `zero_division` parameter to control this behavior.\n",
            "  _warn_prf(average, modifier, msg_start, len(result))\n"
          ],
          "name": "stderr"
        },
        {
          "output_type": "stream",
          "text": [
            "                    precision    recall  f1-score   support\n",
            "\n",
            "               DoS       0.98      0.66      0.79      4622\n",
            "           Probing       0.00      0.00      0.00       257\n",
            "  MaliciousControl       0.81      0.97      0.88       706\n",
            "MaliciousOperation       1.00      1.00      1.00       645\n",
            "              Scan       0.80      0.66      0.72      1249\n",
            "            Spying       0.00      0.00      0.00       409\n",
            "        WrongSetup       0.00      0.00      0.00       100\n",
            "            Normal       0.99      1.00      1.00    278364\n",
            "\n",
            "         micro avg       0.99      0.99      0.99    286352\n",
            "         macro avg       0.57      0.54      0.55    286352\n",
            "      weighted avg       0.99      0.99      0.99    286352\n",
            "       samples avg       0.99      0.99      0.99    286352\n",
            "\n",
            "Accuracy_Train: 0.9897049784880148\n"
          ],
          "name": "stdout"
        },
        {
          "output_type": "stream",
          "text": [
            "/usr/local/lib/python3.6/dist-packages/sklearn/metrics/_classification.py:1272: UndefinedMetricWarning: Precision is ill-defined and being set to 0.0 in labels with no predicted samples. Use `zero_division` parameter to control this behavior.\n",
            "  _warn_prf(average, modifier, msg_start, len(result))\n"
          ],
          "name": "stderr"
        },
        {
          "output_type": "stream",
          "text": [
            "Precision_Train: 0.988188655456589\n",
            "Recall_Train: 0.9897049784880148\n",
            "f1-score_Train: 0.9883823836771932\n",
            "ROC_AUC_Train: 0.9848647927120724\n"
          ],
          "name": "stdout"
        }
      ]
    },
    {
      "cell_type": "code",
      "metadata": {
        "colab": {
          "base_uri": "https://localhost:8080/"
        },
        "id": "T9qXLs8qq3LR",
        "outputId": "8d0d1cb5-c23a-4fb9-e97e-7b1fb452cf11"
      },
      "source": [
        "### test accuracy\n",
        "expected = y_test\n",
        "predicted = model.predict(X_test)\n",
        "data = classification_report(expected,np.round(predicted), target_names=target_names)\n",
        "print(data)\n",
        "print(\"Accuracy:\",metrics.accuracy_score(expected, np.round(predicted)))\n",
        "print(\"Precision:\",metrics.precision_score(expected, np.round(predicted), average='weighted'))\n",
        "print(\"Recall:\",metrics.recall_score(expected, np.round(predicted), average='weighted'))\n",
        "print(\"f1-score:\",metrics.f1_score(expected, np.round(predicted), average='weighted'))\n",
        "print(\"ROC_AUC:\",metrics.roc_auc_score(expected, predicted,multi_class=\"ovr\",average='weighted'))"
      ],
      "execution_count": null,
      "outputs": [
        {
          "output_type": "stream",
          "text": [
            "/usr/local/lib/python3.6/dist-packages/sklearn/metrics/_classification.py:1272: UndefinedMetricWarning: Precision and F-score are ill-defined and being set to 0.0 in labels with no predicted samples. Use `zero_division` parameter to control this behavior.\n",
            "  _warn_prf(average, modifier, msg_start, len(result))\n",
            "/usr/local/lib/python3.6/dist-packages/sklearn/metrics/_classification.py:1272: UndefinedMetricWarning: Precision and F-score are ill-defined and being set to 0.0 in samples with no predicted labels. Use `zero_division` parameter to control this behavior.\n",
            "  _warn_prf(average, modifier, msg_start, len(result))\n"
          ],
          "name": "stderr"
        },
        {
          "output_type": "stream",
          "text": [
            "                    precision    recall  f1-score   support\n",
            "\n",
            "               DoS       0.99      0.63      0.77      1158\n",
            "           Probing       0.00      0.00      0.00        85\n",
            "  MaliciousControl       0.79      0.95      0.86       183\n",
            "MaliciousOperation       1.00      1.00      1.00       160\n",
            "              Scan       0.76      0.64      0.69       298\n",
            "            Spying       0.00      0.00      0.00       123\n",
            "        WrongSetup       0.00      0.00      0.00        22\n",
            "            Normal       0.99      1.00      1.00     69560\n",
            "\n",
            "         micro avg       0.99      0.99      0.99     71589\n",
            "         macro avg       0.57      0.53      0.54     71589\n",
            "      weighted avg       0.99      0.99      0.99     71589\n",
            "       samples avg       0.99      0.99      0.99     71589\n",
            "\n",
            "Accuracy: 0.9886435066839878\n",
            "Precision: 0.9868842571954886\n"
          ],
          "name": "stdout"
        },
        {
          "output_type": "stream",
          "text": [
            "/usr/local/lib/python3.6/dist-packages/sklearn/metrics/_classification.py:1272: UndefinedMetricWarning: Precision is ill-defined and being set to 0.0 in labels with no predicted samples. Use `zero_division` parameter to control this behavior.\n",
            "  _warn_prf(average, modifier, msg_start, len(result))\n"
          ],
          "name": "stderr"
        },
        {
          "output_type": "stream",
          "text": [
            "Recall: 0.9886435066839878\n",
            "f1-score: 0.9870967038000839\n",
            "ROC_AUC: 0.982098719591154\n"
          ],
          "name": "stdout"
        }
      ]
    }
  ]
}