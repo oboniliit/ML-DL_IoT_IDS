{
  "nbformat": 4,
  "nbformat_minor": 0,
  "metadata": {
    "colab": {
      "name": "BLSTM_pre.ipynb",
      "provenance": [],
      "collapsed_sections": []
    },
    "kernelspec": {
      "display_name": "Python 3",
      "language": "python",
      "name": "python3"
    },
    "language_info": {
      "codemirror_mode": {
        "name": "ipython",
        "version": 3
      },
      "file_extension": ".py",
      "mimetype": "text/x-python",
      "name": "python",
      "nbconvert_exporter": "python",
      "pygments_lexer": "ipython3",
      "version": "3.6.4"
    }
  },
  "cells": [
    {
      "cell_type": "code",
      "metadata": {
        "colab": {
          "base_uri": "https://localhost:8080/"
        },
        "id": "tvTZdy9H6uQq",
        "outputId": "a23d60c3-2195-44ae-dfb8-500f6f264d42"
      },
      "source": [
        "from google.colab import drive\n",
        "drive.mount('/content/drive')"
      ],
      "execution_count": null,
      "outputs": [
        {
          "output_type": "stream",
          "text": [
            "Mounted at /content/drive\n"
          ],
          "name": "stdout"
        }
      ]
    },
    {
      "cell_type": "code",
      "metadata": {
        "id": "ATjQKNxcyQWM"
      },
      "source": [
        "from __future__ import print_function\n",
        "from sklearn.model_selection import train_test_split\n",
        "import pandas as pd\n",
        "import numpy as np\n",
        "np.random.seed(1337)  # for reproducibility\n",
        "#from keras.preprocessing import sequence\n",
        "from keras.utils import np_utils\n",
        "from keras.models import Sequential\n",
        "from keras.layers import Dense, Dropout, Activation, Embedding\n",
        "from keras.layers import LSTM, SimpleRNN, GRU, Bidirectional\n",
        "from keras.datasets import imdb\n",
        "from keras.utils.np_utils import to_categorical\n",
        "from sklearn.metrics import (precision_score, recall_score,f1_score, accuracy_score,mean_squared_error,mean_absolute_error)\n",
        "from sklearn.metrics import classification_report\n",
        "from sklearn import metrics\n",
        "from sklearn.preprocessing import Normalizer\n",
        "import h5py\n",
        "from keras import callbacks\n",
        "from scipy.io import arff\n",
        "from keras.callbacks import ModelCheckpoint, EarlyStopping, ReduceLROnPlateau, CSVLogger\n",
        "from keras.models import Sequential, Model\n",
        "from keras.layers import Dense, Flatten, TimeDistributed\n",
        "import h5py\n",
        "from sklearn.model_selection import KFold,cross_val_score\n",
        "kfold=KFold(5,True,3)\n",
        "cvscores = []"
      ],
      "execution_count": null,
      "outputs": []
    },
    {
      "cell_type": "code",
      "metadata": {
        "colab": {
          "base_uri": "https://localhost:8080/"
        },
        "id": "AVr0Q9_N6izd",
        "outputId": "12741ee1-bd1a-4a70-e8e8-9d96f0824b0e"
      },
      "source": [
        "#load training dataset\n",
        "# Name for the column  or Features Map\n",
        "columns_to_named = [\"frameNumber\", \"frameTime\", \"frameLen\", \"ethSrc\", \"ethDst\",\n",
        "       \"ipSrc\", \"ipDst\", \"ipProto\", \"ipLen\", \"tcpLen\", \"tcpSrcport\",\n",
        "       \"tcpDstport\", \"Value\", \"normality\"]\n",
        "    \n",
        "    # Read the Dataset and Rename the Column\n",
        "df = pd.read_csv(\"/content/drive/My Drive/Preprocessed_data.csv\", header=0,names=columns_to_named)\n",
        "\n",
        "col_norm = ['frameNumber', 'frameTime', 'frameLen', 'ethSrc', 'ethDst',\n",
        "       'ipSrc', 'ipDst', 'ipProto', 'ipLen', 'tcpLen', 'tcpSrcport',\n",
        "       'tcpDstport', 'Value']\n",
        "    \n",
        "    # Normalization using Custom Lambda Function or Min-max \n",
        "    \n",
        "#df1_norm = df[col_norm].apply(lambda x :( (x - x.min()) / (x.max()-x.min()) ) )\n",
        "X = df[col_norm]\n",
        "#X = preprocessing.normalize(X)\n",
        "Y = df['normality']\n",
        "\n",
        "from sklearn.preprocessing import label_binarize\n",
        "y = label_binarize(Y, classes=[0, 1, 2, 3, 4, 5])\n",
        "n_classes = y.shape[1]\n",
        "print(n_classes)"
      ],
      "execution_count": null,
      "outputs": [
        {
          "output_type": "stream",
          "text": [
            "6\n"
          ],
          "name": "stdout"
        }
      ]
    },
    {
      "cell_type": "code",
      "metadata": {
        "colab": {
          "base_uri": "https://localhost:8080/"
        },
        "id": "D-TnMg8sv5UY",
        "outputId": "52d7a9ed-c0b1-467a-a5b8-343a5009ad6b"
      },
      "source": [
        "from sklearn.preprocessing import StandardScaler\n",
        "sc = StandardScaler()\n",
        "\n",
        "for train, test in kfold.split(X,Y):\n",
        "    X_train, X_test, y_train, y_test = train_test_split(X,Y, test_size = 0.2, random_state = 0)\n",
        "    X_train = sc.fit_transform(X_train)\n",
        "    X_test = sc.transform(X_test)\n",
        "\n",
        "    X_train = np.reshape(X_train, (X_train.shape[0], 1, X_train.shape[1]))\n",
        "    X_test = np.reshape(X_test, (X_test.shape[0], 1, X_test.shape[1]))\n",
        "\n",
        "    x_train = np.array(X_train)\n",
        "    x_test = np.array(X_test)\n",
        "    y_train1 = np.array(y_train)\n",
        "    y_test1 = np.array(y_test)\n",
        "\n",
        "    y_train= to_categorical(y_train1)\n",
        "    y_test= to_categorical(y_test1)\n",
        "\n",
        "    model = Sequential()\n",
        "    model.add(Bidirectional(LSTM(80, input_dim=13, return_sequences=True)))\n",
        "    model.add(Dropout(0.1))\n",
        "    model.add(Bidirectional(LSTM(40)))\n",
        "    model.add(Dropout(0.1))\n",
        "    model.add(Dense(128, activation='relu'))\n",
        "    model.add(Dropout(0.1))\n",
        "    model.add(Dense(6, activation='softmax'))\n",
        "\n",
        "    model.compile(loss='categorical_crossentropy',optimizer='adam',metrics=['accuracy','mae'])\n",
        "    model.fit(X_train, y_train, epochs=15, batch_size=64, verbose=1)\n",
        "    scores = model.evaluate(X_test, y_test, verbose=1)\n",
        "    print(\"%s: %.2f%%\" % (model.metrics_names[1], scores[1]*100))\n",
        "    cvscores.append(scores[1] * 100)\n",
        "print(\"%.2f%% (+/- %.2f%%)\" % (np.mean(cvscores), np.std(cvscores)))"
      ],
      "execution_count": null,
      "outputs": [
        {
          "output_type": "stream",
          "text": [
            "Epoch 1/15\n",
            "5968/5968 [==============================] - 42s 7ms/step - loss: 0.0410 - accuracy: 0.9903 - mae: 0.0066\n",
            "Epoch 2/15\n",
            "5968/5968 [==============================] - 38s 6ms/step - loss: 0.0130 - accuracy: 0.9971 - mae: 0.0017\n",
            "Epoch 3/15\n",
            "5968/5968 [==============================] - 37s 6ms/step - loss: 0.0094 - accuracy: 0.9975 - mae: 0.0014\n",
            "Epoch 4/15\n",
            "5968/5968 [==============================] - 37s 6ms/step - loss: 0.0077 - accuracy: 0.9978 - mae: 0.0012\n",
            "Epoch 5/15\n",
            "5968/5968 [==============================] - 38s 6ms/step - loss: 0.0061 - accuracy: 0.9982 - mae: 9.6724e-04\n",
            "Epoch 6/15\n",
            "5968/5968 [==============================] - 37s 6ms/step - loss: 0.0054 - accuracy: 0.9984 - mae: 8.5835e-04\n",
            "Epoch 7/15\n",
            "5968/5968 [==============================] - 37s 6ms/step - loss: 0.0043 - accuracy: 0.9986 - mae: 7.0389e-04\n",
            "Epoch 8/15\n",
            "5968/5968 [==============================] - 37s 6ms/step - loss: 0.0041 - accuracy: 0.9988 - mae: 6.3619e-04\n",
            "Epoch 9/15\n",
            "5968/5968 [==============================] - 38s 6ms/step - loss: 0.0037 - accuracy: 0.9989 - mae: 5.9269e-04\n",
            "Epoch 10/15\n",
            "5968/5968 [==============================] - 39s 6ms/step - loss: 0.0034 - accuracy: 0.9990 - mae: 5.1702e-04\n",
            "Epoch 11/15\n",
            "5968/5968 [==============================] - 39s 7ms/step - loss: 0.0034 - accuracy: 0.9990 - mae: 5.1594e-04\n",
            "Epoch 12/15\n",
            "5968/5968 [==============================] - 39s 6ms/step - loss: 0.0031 - accuracy: 0.9991 - mae: 4.7441e-04\n",
            "Epoch 13/15\n",
            "5968/5968 [==============================] - 39s 7ms/step - loss: 0.0029 - accuracy: 0.9991 - mae: 4.5994e-04\n",
            "Epoch 14/15\n",
            "5968/5968 [==============================] - 38s 6ms/step - loss: 0.0028 - accuracy: 0.9991 - mae: 4.3952e-04\n",
            "Epoch 15/15\n",
            "5968/5968 [==============================] - 39s 6ms/step - loss: 0.0024 - accuracy: 0.9992 - mae: 3.9638e-04\n",
            "2984/2984 [==============================] - 4s 2ms/step - loss: 0.0016 - accuracy: 0.9994 - mae: 2.3446e-04\n",
            "accuracy: 99.94%\n",
            "Epoch 1/15\n",
            "5968/5968 [==============================] - 38s 6ms/step - loss: 0.0405 - accuracy: 0.9904 - mae: 0.0066\n",
            "Epoch 2/15\n",
            "5968/5968 [==============================] - 38s 6ms/step - loss: 0.0120 - accuracy: 0.9971 - mae: 0.0017\n",
            "Epoch 3/15\n",
            "5968/5968 [==============================] - 38s 6ms/step - loss: 0.0085 - accuracy: 0.9976 - mae: 0.0013\n",
            "Epoch 4/15\n",
            "5968/5968 [==============================] - 39s 7ms/step - loss: 0.0073 - accuracy: 0.9978 - mae: 0.0012\n",
            "Epoch 5/15\n",
            "5968/5968 [==============================] - 37s 6ms/step - loss: 0.0061 - accuracy: 0.9981 - mae: 9.6357e-04\n",
            "Epoch 6/15\n",
            "5968/5968 [==============================] - 37s 6ms/step - loss: 0.0052 - accuracy: 0.9984 - mae: 8.4173e-04\n",
            "Epoch 7/15\n",
            "5968/5968 [==============================] - 37s 6ms/step - loss: 0.0049 - accuracy: 0.9984 - mae: 7.8883e-04\n",
            "Epoch 8/15\n",
            "5968/5968 [==============================] - 39s 7ms/step - loss: 0.0043 - accuracy: 0.9987 - mae: 6.8543e-04\n",
            "Epoch 9/15\n",
            "5968/5968 [==============================] - 37s 6ms/step - loss: 0.0039 - accuracy: 0.9987 - mae: 6.3551e-04\n",
            "Epoch 10/15\n",
            "5968/5968 [==============================] - 37s 6ms/step - loss: 0.0036 - accuracy: 0.9989 - mae: 5.8050e-04\n",
            "Epoch 11/15\n",
            "5968/5968 [==============================] - 38s 6ms/step - loss: 0.0033 - accuracy: 0.9990 - mae: 5.1474e-04\n",
            "Epoch 12/15\n",
            "5968/5968 [==============================] - 37s 6ms/step - loss: 0.0029 - accuracy: 0.9991 - mae: 4.7174e-04\n",
            "Epoch 13/15\n",
            "5968/5968 [==============================] - 37s 6ms/step - loss: 0.0028 - accuracy: 0.9991 - mae: 4.5564e-04\n",
            "Epoch 14/15\n",
            "5968/5968 [==============================] - 37s 6ms/step - loss: 0.0027 - accuracy: 0.9991 - mae: 4.3101e-04\n",
            "Epoch 15/15\n",
            "5968/5968 [==============================] - 37s 6ms/step - loss: 0.0024 - accuracy: 0.9992 - mae: 3.8383e-04\n",
            "2984/2984 [==============================] - 5s 2ms/step - loss: 8.6786e-04 - accuracy: 0.9998 - mae: 2.1857e-04\n",
            "accuracy: 99.98%\n",
            "Epoch 1/15\n",
            "5968/5968 [==============================] - 38s 6ms/step - loss: 0.0421 - accuracy: 0.9897 - mae: 0.0068\n",
            "Epoch 2/15\n",
            "5968/5968 [==============================] - 38s 6ms/step - loss: 0.0125 - accuracy: 0.9972 - mae: 0.0017\n",
            "Epoch 3/15\n",
            "5968/5968 [==============================] - 37s 6ms/step - loss: 0.0091 - accuracy: 0.9975 - mae: 0.0014\n",
            "Epoch 4/15\n",
            "5968/5968 [==============================] - 39s 6ms/step - loss: 0.0073 - accuracy: 0.9979 - mae: 0.0011\n",
            "Epoch 5/15\n",
            "5968/5968 [==============================] - 39s 7ms/step - loss: 0.0061 - accuracy: 0.9981 - mae: 9.8099e-04\n",
            "Epoch 6/15\n",
            "5968/5968 [==============================] - 40s 7ms/step - loss: 0.0058 - accuracy: 0.9983 - mae: 9.1073e-04\n",
            "Epoch 7/15\n",
            "5968/5968 [==============================] - 40s 7ms/step - loss: 0.0050 - accuracy: 0.9984 - mae: 8.0081e-04\n",
            "Epoch 8/15\n",
            "5968/5968 [==============================] - 39s 7ms/step - loss: 0.0043 - accuracy: 0.9987 - mae: 7.0073e-04\n",
            "Epoch 9/15\n",
            "5968/5968 [==============================] - 40s 7ms/step - loss: 0.0040 - accuracy: 0.9987 - mae: 6.3005e-04\n",
            "Epoch 10/15\n",
            "5968/5968 [==============================] - 42s 7ms/step - loss: 0.0034 - accuracy: 0.9989 - mae: 5.6385e-04\n",
            "Epoch 11/15\n",
            "5968/5968 [==============================] - 43s 7ms/step - loss: 0.0033 - accuracy: 0.9990 - mae: 5.2006e-04\n",
            "Epoch 12/15\n",
            "5968/5968 [==============================] - 41s 7ms/step - loss: 0.0034 - accuracy: 0.9990 - mae: 5.2604e-04\n",
            "Epoch 13/15\n",
            "5968/5968 [==============================] - 42s 7ms/step - loss: 0.0028 - accuracy: 0.9992 - mae: 4.3555e-04\n",
            "Epoch 14/15\n",
            "5968/5968 [==============================] - 42s 7ms/step - loss: 0.0028 - accuracy: 0.9991 - mae: 4.3227e-04\n",
            "Epoch 15/15\n",
            "5968/5968 [==============================] - 43s 7ms/step - loss: 0.0029 - accuracy: 0.9991 - mae: 4.4200e-04\n",
            "2984/2984 [==============================] - 5s 2ms/step - loss: 8.5142e-04 - accuracy: 0.9999 - mae: 2.3258e-04\n",
            "accuracy: 99.99%\n",
            "Epoch 1/15\n",
            "5968/5968 [==============================] - 42s 7ms/step - loss: 0.0405 - accuracy: 0.9903 - mae: 0.0065\n",
            "Epoch 2/15\n",
            "5968/5968 [==============================] - 41s 7ms/step - loss: 0.0125 - accuracy: 0.9972 - mae: 0.0017\n",
            "Epoch 3/15\n",
            "5968/5968 [==============================] - 42s 7ms/step - loss: 0.0091 - accuracy: 0.9975 - mae: 0.0014\n",
            "Epoch 4/15\n",
            "5968/5968 [==============================] - 43s 7ms/step - loss: 0.0075 - accuracy: 0.9978 - mae: 0.0012\n",
            "Epoch 5/15\n",
            "5968/5968 [==============================] - 41s 7ms/step - loss: 0.0065 - accuracy: 0.9980 - mae: 0.0010\n",
            "Epoch 6/15\n",
            "5968/5968 [==============================] - 41s 7ms/step - loss: 0.0055 - accuracy: 0.9983 - mae: 8.7962e-04\n",
            "Epoch 7/15\n",
            "5968/5968 [==============================] - 41s 7ms/step - loss: 0.0048 - accuracy: 0.9985 - mae: 7.6040e-04\n",
            "Epoch 8/15\n",
            "5968/5968 [==============================] - 40s 7ms/step - loss: 0.0044 - accuracy: 0.9986 - mae: 6.9711e-04\n",
            "Epoch 9/15\n",
            "5968/5968 [==============================] - 41s 7ms/step - loss: 0.0038 - accuracy: 0.9988 - mae: 6.1339e-04\n",
            "Epoch 10/15\n",
            "5968/5968 [==============================] - 42s 7ms/step - loss: 0.0035 - accuracy: 0.9989 - mae: 5.6537e-04\n",
            "Epoch 11/15\n",
            "5968/5968 [==============================] - 41s 7ms/step - loss: 0.0034 - accuracy: 0.9990 - mae: 5.3727e-04\n",
            "Epoch 12/15\n",
            "5968/5968 [==============================] - 40s 7ms/step - loss: 0.0033 - accuracy: 0.9989 - mae: 5.2230e-04\n",
            "Epoch 13/15\n",
            "5968/5968 [==============================] - 38s 6ms/step - loss: 0.0031 - accuracy: 0.9990 - mae: 4.8700e-04\n",
            "Epoch 14/15\n",
            "5968/5968 [==============================] - 38s 6ms/step - loss: 0.0029 - accuracy: 0.9991 - mae: 4.3888e-04\n",
            "Epoch 15/15\n",
            "5968/5968 [==============================] - 38s 6ms/step - loss: 0.0025 - accuracy: 0.9992 - mae: 4.0254e-04\n",
            "2984/2984 [==============================] - 5s 2ms/step - loss: 0.0044 - accuracy: 0.9977 - mae: 6.9630e-04\n",
            "accuracy: 99.77%\n",
            "Epoch 1/15\n",
            "5968/5968 [==============================] - 37s 6ms/step - loss: 0.0418 - accuracy: 0.9890 - mae: 0.0068\n",
            "Epoch 2/15\n",
            "5968/5968 [==============================] - 37s 6ms/step - loss: 0.0126 - accuracy: 0.9972 - mae: 0.0017\n",
            "Epoch 3/15\n",
            "5968/5968 [==============================] - 36s 6ms/step - loss: 0.0088 - accuracy: 0.9976 - mae: 0.0013\n",
            "Epoch 4/15\n",
            "5968/5968 [==============================] - 38s 6ms/step - loss: 0.0076 - accuracy: 0.9978 - mae: 0.0012\n",
            "Epoch 5/15\n",
            "5968/5968 [==============================] - 40s 7ms/step - loss: 0.0062 - accuracy: 0.9981 - mae: 9.8935e-04\n",
            "Epoch 6/15\n",
            "5968/5968 [==============================] - 38s 6ms/step - loss: 0.0051 - accuracy: 0.9984 - mae: 8.1781e-04\n",
            "Epoch 7/15\n",
            "5968/5968 [==============================] - 39s 6ms/step - loss: 0.0044 - accuracy: 0.9986 - mae: 6.8787e-04\n",
            "Epoch 8/15\n",
            "5968/5968 [==============================] - 38s 6ms/step - loss: 0.0041 - accuracy: 0.9987 - mae: 6.3140e-04\n",
            "Epoch 9/15\n",
            "5968/5968 [==============================] - 38s 6ms/step - loss: 0.0035 - accuracy: 0.9989 - mae: 5.4328e-04\n",
            "Epoch 10/15\n",
            "5968/5968 [==============================] - 38s 6ms/step - loss: 0.0034 - accuracy: 0.9990 - mae: 5.1894e-04\n",
            "Epoch 11/15\n",
            "5968/5968 [==============================] - 38s 6ms/step - loss: 0.0031 - accuracy: 0.9990 - mae: 4.8909e-04\n",
            "Epoch 12/15\n",
            "5968/5968 [==============================] - 38s 6ms/step - loss: 0.0030 - accuracy: 0.9991 - mae: 4.7285e-04\n",
            "Epoch 13/15\n",
            "5968/5968 [==============================] - 37s 6ms/step - loss: 0.0028 - accuracy: 0.9991 - mae: 4.3234e-04\n",
            "Epoch 14/15\n",
            "5968/5968 [==============================] - 38s 6ms/step - loss: 0.0026 - accuracy: 0.9992 - mae: 4.0543e-04\n",
            "Epoch 15/15\n",
            "5968/5968 [==============================] - 37s 6ms/step - loss: 0.0025 - accuracy: 0.9992 - mae: 3.8492e-04\n",
            "2984/2984 [==============================] - 5s 2ms/step - loss: 9.9991e-04 - accuracy: 0.9997 - mae: 2.6634e-04\n",
            "accuracy: 99.97%\n",
            "99.92% (+/- 0.07%)\n"
          ],
          "name": "stdout"
        }
      ]
    },
    {
      "cell_type": "code",
      "metadata": {
        "id": "vtGSCf19iwD3"
      },
      "source": [
        "target_names = ['Normal', 'WrongSetup', 'DDoS', 'Probing', 'Scan', 'MITM']"
      ],
      "execution_count": null,
      "outputs": []
    },
    {
      "cell_type": "code",
      "metadata": {
        "id": "pZmi69ou8tOG",
        "colab": {
          "base_uri": "https://localhost:8080/"
        },
        "outputId": "9e26d929-516b-48d9-df8b-184a6e960b6b"
      },
      "source": [
        "### train_accuracy\r\n",
        "import sklearn.metrics as metrics\r\n",
        "expected = y_train\r\n",
        "predicted = model.predict(X_train)\r\n",
        "data = classification_report(expected,np.round(predicted), target_names=target_names)\r\n",
        "print(data)\r\n",
        "\r\n",
        "print(\"Accuracy_Train:\",metrics.accuracy_score(expected, np.round(predicted)))\r\n",
        "print(\"Precision_Train:\",metrics.precision_score(expected, np.round(predicted), average='weighted'))\r\n",
        "print(\"Recall_Train:\",metrics.recall_score(expected, np.round(predicted), average='weighted'))\r\n",
        "print(\"f1-score_Train:\",metrics.f1_score(expected, np.round(predicted), average='weighted'))\r\n",
        "print(\"ROC_AUC_Train:\",metrics.roc_auc_score(expected, predicted,multi_class=\"ovr\",average='weighted'))"
      ],
      "execution_count": null,
      "outputs": [
        {
          "output_type": "stream",
          "text": [
            "/usr/local/lib/python3.6/dist-packages/sklearn/metrics/_classification.py:1272: UndefinedMetricWarning: Precision and F-score are ill-defined and being set to 0.0 in samples with no predicted labels. Use `zero_division` parameter to control this behavior.\n",
            "  _warn_prf(average, modifier, msg_start, len(result))\n"
          ],
          "name": "stderr"
        },
        {
          "output_type": "stream",
          "text": [
            "              precision    recall  f1-score   support\n",
            "\n",
            "      Normal       1.00      1.00      1.00     63266\n",
            "  WrongSetup       1.00      1.00      1.00     65753\n",
            "        DDoS       1.00      1.00      1.00     63212\n",
            "     Probing       1.00      1.00      1.00     63179\n",
            "        Scan       1.00      1.00      1.00     63278\n",
            "        MITM       1.00      1.00      1.00     63252\n",
            "\n",
            "   micro avg       1.00      1.00      1.00    381940\n",
            "   macro avg       1.00      1.00      1.00    381940\n",
            "weighted avg       1.00      1.00      1.00    381940\n",
            " samples avg       1.00      1.00      1.00    381940\n",
            "\n",
            "Accuracy_Train: 0.9996858145258417\n",
            "Precision_Train: 0.9997985311298035\n",
            "Recall_Train: 0.9996858145258417\n",
            "f1-score_Train: 0.9997419903462866\n",
            "ROC_AUC_Train: 0.9999998849726602\n"
          ],
          "name": "stdout"
        }
      ]
    },
    {
      "cell_type": "code",
      "metadata": {
        "colab": {
          "base_uri": "https://localhost:8080/"
        },
        "id": "5zXPDNwd1xmG",
        "outputId": "80191567-ada3-40d7-a6c3-d3f3c33a0a2c"
      },
      "source": [
        "### test_accuracy\n",
        "from sklearn.metrics import classification_report, confusion_matrix, ConfusionMatrixDisplay\n",
        "from sklearn.metrics import (precision_score, recall_score,f1_score, accuracy_score,mean_squared_error,mean_absolute_error,roc_auc_score,cohen_kappa_score)\n",
        "import sklearn.metrics as metrics\n",
        "expected = y_test\n",
        "predicted = model.predict(X_test)\n",
        "data = classification_report(expected,np.round(predicted), target_names=target_names)\n",
        "print(data)\n",
        ")\n",
        "print(\"Accuracy:\",metrics.accuracy_score(expected, np.round(predicted)))\n",
        "print(\"Precision:\",metrics.precision_score(expected, np.round(predicted), average='weighted'))\n",
        "print(\"Recall:\",metrics.recall_score(expected, np.round(predicted), average='weighted'))\n",
        "print(\"f1-score:\",metrics.f1_score(expected, np.round(predicted), average='weighted'))\n",
        "print(\"ROC_AUC:\",metrics.roc_auc_score(expected, predicted,multi_class=\"ovr\",average='weighted'))"
      ],
      "execution_count": null,
      "outputs": [
        {
          "output_type": "stream",
          "text": [
            "/usr/local/lib/python3.6/dist-packages/sklearn/metrics/_classification.py:1272: UndefinedMetricWarning: Precision and F-score are ill-defined and being set to 0.0 in samples with no predicted labels. Use `zero_division` parameter to control this behavior.\n",
            "  _warn_prf(average, modifier, msg_start, len(result))\n"
          ],
          "name": "stderr"
        },
        {
          "output_type": "stream",
          "text": [
            "              precision    recall  f1-score   support\n",
            "\n",
            "      Normal       1.00      1.00      1.00     15769\n",
            "  WrongSetup       1.00      1.00      1.00     16532\n",
            "        DDoS       1.00      1.00      1.00     15808\n",
            "     Probing       1.00      1.00      1.00     15823\n",
            "        Scan       1.00      1.00      1.00     15774\n",
            "        MITM       1.00      1.00      1.00     15780\n",
            "\n",
            "   micro avg       1.00      1.00      1.00     95486\n",
            "   macro avg       1.00      1.00      1.00     95486\n",
            "weighted avg       1.00      1.00      1.00     95486\n",
            " samples avg       1.00      1.00      1.00     95486\n",
            "\n",
            "Accuracy: 0.9997172360346019\n",
            "Precision: 0.9997802289461473\n",
            "Recall: 0.9997172360346019\n",
            "f1-score: 0.999748572244343\n",
            "ROC_AUC: 0.9999999600469864\n"
          ],
          "name": "stdout"
        }
      ]
    }
  ]
}