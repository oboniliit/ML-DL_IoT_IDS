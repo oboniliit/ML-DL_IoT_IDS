{
  "nbformat": 4,
  "nbformat_minor": 0,
  "metadata": {
    "colab": {
      "name": "DBN_IoTID20.ipynb",
      "provenance": [],
      "collapsed_sections": []
    },
    "kernelspec": {
      "display_name": "Python 3",
      "language": "python",
      "name": "python3"
    },
    "language_info": {
      "codemirror_mode": {
        "name": "ipython",
        "version": 3
      },
      "file_extension": ".py",
      "mimetype": "text/x-python",
      "name": "python",
      "nbconvert_exporter": "python",
      "pygments_lexer": "ipython3",
      "version": "3.6.4"
    }
  },
  "cells": [
    {
      "cell_type": "code",
      "metadata": {
        "colab": {
          "base_uri": "https://localhost:8080/"
        },
        "id": "33AoH20TlZae",
        "outputId": "179c6b84-c7b2-448f-809c-674f49d00deb"
      },
      "source": [
        "from google.colab import drive\n",
        "drive.mount('/content/drive')"
      ],
      "execution_count": null,
      "outputs": [
        {
          "output_type": "stream",
          "text": [
            "Mounted at /content/drive\n"
          ],
          "name": "stdout"
        }
      ]
    },
    {
      "cell_type": "code",
      "metadata": {
        "colab": {
          "base_uri": "https://localhost:8080/"
        },
        "id": "01IL11__GRvR",
        "outputId": "de5ffd5e-d229-4b9a-898b-8545d430dcf6"
      },
      "source": [
        "!pip install git+git://github.com/albertbup/deep-belief-network.git"
      ],
      "execution_count": null,
      "outputs": [
        {
          "output_type": "stream",
          "text": [
            "Collecting git+git://github.com/albertbup/deep-belief-network.git\n",
            "  Cloning git://github.com/albertbup/deep-belief-network.git to /tmp/pip-req-build-ygjbsiod\n",
            "  Running command git clone -q git://github.com/albertbup/deep-belief-network.git /tmp/pip-req-build-ygjbsiod\n",
            "Requirement already satisfied: numpy>=1.12.0 in /usr/local/lib/python3.6/dist-packages (from deep-belief-network==1.0.3) (1.19.4)\n",
            "Requirement already satisfied: scipy>=0.18.1 in /usr/local/lib/python3.6/dist-packages (from deep-belief-network==1.0.3) (1.4.1)\n",
            "Requirement already satisfied: scikit-learn>=0.18.1 in /usr/local/lib/python3.6/dist-packages (from deep-belief-network==1.0.3) (0.22.2.post1)\n",
            "Requirement already satisfied: tensorflow>=1.5.0 in /usr/local/lib/python3.6/dist-packages (from deep-belief-network==1.0.3) (2.4.0)\n",
            "Requirement already satisfied: joblib>=0.11 in /usr/local/lib/python3.6/dist-packages (from scikit-learn>=0.18.1->deep-belief-network==1.0.3) (1.0.0)\n",
            "Requirement already satisfied: six~=1.15.0 in /usr/local/lib/python3.6/dist-packages (from tensorflow>=1.5.0->deep-belief-network==1.0.3) (1.15.0)\n",
            "Requirement already satisfied: gast==0.3.3 in /usr/local/lib/python3.6/dist-packages (from tensorflow>=1.5.0->deep-belief-network==1.0.3) (0.3.3)\n",
            "Requirement already satisfied: wheel~=0.35 in /usr/local/lib/python3.6/dist-packages (from tensorflow>=1.5.0->deep-belief-network==1.0.3) (0.36.2)\n",
            "Requirement already satisfied: astunparse~=1.6.3 in /usr/local/lib/python3.6/dist-packages (from tensorflow>=1.5.0->deep-belief-network==1.0.3) (1.6.3)\n",
            "Requirement already satisfied: tensorflow-estimator<2.5.0,>=2.4.0rc0 in /usr/local/lib/python3.6/dist-packages (from tensorflow>=1.5.0->deep-belief-network==1.0.3) (2.4.0)\n",
            "Requirement already satisfied: opt-einsum~=3.3.0 in /usr/local/lib/python3.6/dist-packages (from tensorflow>=1.5.0->deep-belief-network==1.0.3) (3.3.0)\n",
            "Requirement already satisfied: google-pasta~=0.2 in /usr/local/lib/python3.6/dist-packages (from tensorflow>=1.5.0->deep-belief-network==1.0.3) (0.2.0)\n",
            "Requirement already satisfied: h5py~=2.10.0 in /usr/local/lib/python3.6/dist-packages (from tensorflow>=1.5.0->deep-belief-network==1.0.3) (2.10.0)\n",
            "Requirement already satisfied: flatbuffers~=1.12.0 in /usr/local/lib/python3.6/dist-packages (from tensorflow>=1.5.0->deep-belief-network==1.0.3) (1.12)\n",
            "Requirement already satisfied: keras-preprocessing~=1.1.2 in /usr/local/lib/python3.6/dist-packages (from tensorflow>=1.5.0->deep-belief-network==1.0.3) (1.1.2)\n",
            "Requirement already satisfied: typing-extensions~=3.7.4 in /usr/local/lib/python3.6/dist-packages (from tensorflow>=1.5.0->deep-belief-network==1.0.3) (3.7.4.3)\n",
            "Requirement already satisfied: tensorboard~=2.4 in /usr/local/lib/python3.6/dist-packages (from tensorflow>=1.5.0->deep-belief-network==1.0.3) (2.4.0)\n",
            "Requirement already satisfied: termcolor~=1.1.0 in /usr/local/lib/python3.6/dist-packages (from tensorflow>=1.5.0->deep-belief-network==1.0.3) (1.1.0)\n",
            "Requirement already satisfied: wrapt~=1.12.1 in /usr/local/lib/python3.6/dist-packages (from tensorflow>=1.5.0->deep-belief-network==1.0.3) (1.12.1)\n",
            "Requirement already satisfied: grpcio~=1.32.0 in /usr/local/lib/python3.6/dist-packages (from tensorflow>=1.5.0->deep-belief-network==1.0.3) (1.32.0)\n",
            "Requirement already satisfied: protobuf>=3.9.2 in /usr/local/lib/python3.6/dist-packages (from tensorflow>=1.5.0->deep-belief-network==1.0.3) (3.12.4)\n",
            "Requirement already satisfied: absl-py~=0.10 in /usr/local/lib/python3.6/dist-packages (from tensorflow>=1.5.0->deep-belief-network==1.0.3) (0.10.0)\n",
            "Requirement already satisfied: requests<3,>=2.21.0 in /usr/local/lib/python3.6/dist-packages (from tensorboard~=2.4->tensorflow>=1.5.0->deep-belief-network==1.0.3) (2.23.0)\n",
            "Requirement already satisfied: google-auth-oauthlib<0.5,>=0.4.1 in /usr/local/lib/python3.6/dist-packages (from tensorboard~=2.4->tensorflow>=1.5.0->deep-belief-network==1.0.3) (0.4.2)\n",
            "Requirement already satisfied: setuptools>=41.0.0 in /usr/local/lib/python3.6/dist-packages (from tensorboard~=2.4->tensorflow>=1.5.0->deep-belief-network==1.0.3) (51.0.0)\n",
            "Requirement already satisfied: google-auth<2,>=1.6.3 in /usr/local/lib/python3.6/dist-packages (from tensorboard~=2.4->tensorflow>=1.5.0->deep-belief-network==1.0.3) (1.17.2)\n",
            "Requirement already satisfied: tensorboard-plugin-wit>=1.6.0 in /usr/local/lib/python3.6/dist-packages (from tensorboard~=2.4->tensorflow>=1.5.0->deep-belief-network==1.0.3) (1.7.0)\n",
            "Requirement already satisfied: markdown>=2.6.8 in /usr/local/lib/python3.6/dist-packages (from tensorboard~=2.4->tensorflow>=1.5.0->deep-belief-network==1.0.3) (3.3.3)\n",
            "Requirement already satisfied: werkzeug>=0.11.15 in /usr/local/lib/python3.6/dist-packages (from tensorboard~=2.4->tensorflow>=1.5.0->deep-belief-network==1.0.3) (1.0.1)\n",
            "Requirement already satisfied: certifi>=2017.4.17 in /usr/local/lib/python3.6/dist-packages (from requests<3,>=2.21.0->tensorboard~=2.4->tensorflow>=1.5.0->deep-belief-network==1.0.3) (2020.12.5)\n",
            "Requirement already satisfied: idna<3,>=2.5 in /usr/local/lib/python3.6/dist-packages (from requests<3,>=2.21.0->tensorboard~=2.4->tensorflow>=1.5.0->deep-belief-network==1.0.3) (2.10)\n",
            "Requirement already satisfied: urllib3!=1.25.0,!=1.25.1,<1.26,>=1.21.1 in /usr/local/lib/python3.6/dist-packages (from requests<3,>=2.21.0->tensorboard~=2.4->tensorflow>=1.5.0->deep-belief-network==1.0.3) (1.24.3)\n",
            "Requirement already satisfied: chardet<4,>=3.0.2 in /usr/local/lib/python3.6/dist-packages (from requests<3,>=2.21.0->tensorboard~=2.4->tensorflow>=1.5.0->deep-belief-network==1.0.3) (3.0.4)\n",
            "Requirement already satisfied: requests-oauthlib>=0.7.0 in /usr/local/lib/python3.6/dist-packages (from google-auth-oauthlib<0.5,>=0.4.1->tensorboard~=2.4->tensorflow>=1.5.0->deep-belief-network==1.0.3) (1.3.0)\n",
            "Requirement already satisfied: rsa<5,>=3.1.4; python_version >= \"3\" in /usr/local/lib/python3.6/dist-packages (from google-auth<2,>=1.6.3->tensorboard~=2.4->tensorflow>=1.5.0->deep-belief-network==1.0.3) (4.6)\n",
            "Requirement already satisfied: cachetools<5.0,>=2.0.0 in /usr/local/lib/python3.6/dist-packages (from google-auth<2,>=1.6.3->tensorboard~=2.4->tensorflow>=1.5.0->deep-belief-network==1.0.3) (4.2.0)\n",
            "Requirement already satisfied: pyasn1-modules>=0.2.1 in /usr/local/lib/python3.6/dist-packages (from google-auth<2,>=1.6.3->tensorboard~=2.4->tensorflow>=1.5.0->deep-belief-network==1.0.3) (0.2.8)\n",
            "Requirement already satisfied: importlib-metadata; python_version < \"3.8\" in /usr/local/lib/python3.6/dist-packages (from markdown>=2.6.8->tensorboard~=2.4->tensorflow>=1.5.0->deep-belief-network==1.0.3) (3.3.0)\n",
            "Requirement already satisfied: oauthlib>=3.0.0 in /usr/local/lib/python3.6/dist-packages (from requests-oauthlib>=0.7.0->google-auth-oauthlib<0.5,>=0.4.1->tensorboard~=2.4->tensorflow>=1.5.0->deep-belief-network==1.0.3) (3.1.0)\n",
            "Requirement already satisfied: pyasn1>=0.1.3 in /usr/local/lib/python3.6/dist-packages (from rsa<5,>=3.1.4; python_version >= \"3\"->google-auth<2,>=1.6.3->tensorboard~=2.4->tensorflow>=1.5.0->deep-belief-network==1.0.3) (0.4.8)\n",
            "Requirement already satisfied: zipp>=0.5 in /usr/local/lib/python3.6/dist-packages (from importlib-metadata; python_version < \"3.8\"->markdown>=2.6.8->tensorboard~=2.4->tensorflow>=1.5.0->deep-belief-network==1.0.3) (3.4.0)\n",
            "Building wheels for collected packages: deep-belief-network\n",
            "  Building wheel for deep-belief-network (setup.py) ... \u001b[?25l\u001b[?25hdone\n",
            "  Created wheel for deep-belief-network: filename=deep_belief_network-1.0.3-cp36-none-any.whl size=13464 sha256=6ae23d42365090150ec9e1a1754a6f61bfdb9d39d96462ca510bb4387d11078d\n",
            "  Stored in directory: /tmp/pip-ephem-wheel-cache-m8sb3q2z/wheels/29/6d/3b/6a50cf42a32bdfaa903b17832d60d8d3e5dc4b0fd02ae8acaf\n",
            "Successfully built deep-belief-network\n",
            "Installing collected packages: deep-belief-network\n",
            "Successfully installed deep-belief-network-1.0.3\n"
          ],
          "name": "stdout"
        }
      ]
    },
    {
      "cell_type": "code",
      "metadata": {
        "colab": {
          "base_uri": "https://localhost:8080/"
        },
        "id": "kn-sGcFHGVfu",
        "outputId": "6f53eb2d-a69f-410d-b91d-197b5e79045e"
      },
      "source": [
        "!pip install git+git://github.com/albertbup/deep-belief-network.git@master_gpu"
      ],
      "execution_count": null,
      "outputs": [
        {
          "output_type": "stream",
          "text": [
            "Collecting git+git://github.com/albertbup/deep-belief-network.git@master_gpu\n",
            "  Cloning git://github.com/albertbup/deep-belief-network.git (to revision master_gpu) to /tmp/pip-req-build-gg8icvlh\n",
            "  Running command git clone -q git://github.com/albertbup/deep-belief-network.git /tmp/pip-req-build-gg8icvlh\n",
            "  Running command git checkout -b master_gpu --track origin/master_gpu\n",
            "  Switched to a new branch 'master_gpu'\n",
            "  Branch 'master_gpu' set up to track remote branch 'master_gpu' from 'origin'.\n",
            "Requirement already satisfied (use --upgrade to upgrade): deep-belief-network==1.0.3 from git+git://github.com/albertbup/deep-belief-network.git@master_gpu in /usr/local/lib/python3.6/dist-packages\n",
            "Requirement already satisfied: numpy>=1.12.0 in /usr/local/lib/python3.6/dist-packages (from deep-belief-network==1.0.3) (1.19.4)\n",
            "Requirement already satisfied: scipy>=0.18.1 in /usr/local/lib/python3.6/dist-packages (from deep-belief-network==1.0.3) (1.4.1)\n",
            "Requirement already satisfied: scikit-learn>=0.18.1 in /usr/local/lib/python3.6/dist-packages (from deep-belief-network==1.0.3) (0.22.2.post1)\n",
            "Collecting tensorflow-gpu>=1.5.0\n",
            "\u001b[?25l  Downloading https://files.pythonhosted.org/packages/f1/aa/ae64be5acaac9055329289e6bfd54c1efa28bfe792f9021cea495fe2b89d/tensorflow_gpu-2.4.0-cp36-cp36m-manylinux2010_x86_64.whl (394.7MB)\n",
            "\u001b[K     |████████████████████████████████| 394.7MB 40kB/s \n",
            "\u001b[?25hRequirement already satisfied: joblib>=0.11 in /usr/local/lib/python3.6/dist-packages (from scikit-learn>=0.18.1->deep-belief-network==1.0.3) (1.0.0)\n",
            "Requirement already satisfied: wheel~=0.35 in /usr/local/lib/python3.6/dist-packages (from tensorflow-gpu>=1.5.0->deep-belief-network==1.0.3) (0.36.2)\n",
            "Requirement already satisfied: keras-preprocessing~=1.1.2 in /usr/local/lib/python3.6/dist-packages (from tensorflow-gpu>=1.5.0->deep-belief-network==1.0.3) (1.1.2)\n",
            "Requirement already satisfied: absl-py~=0.10 in /usr/local/lib/python3.6/dist-packages (from tensorflow-gpu>=1.5.0->deep-belief-network==1.0.3) (0.10.0)\n",
            "Requirement already satisfied: protobuf>=3.9.2 in /usr/local/lib/python3.6/dist-packages (from tensorflow-gpu>=1.5.0->deep-belief-network==1.0.3) (3.12.4)\n",
            "Requirement already satisfied: google-pasta~=0.2 in /usr/local/lib/python3.6/dist-packages (from tensorflow-gpu>=1.5.0->deep-belief-network==1.0.3) (0.2.0)\n",
            "Requirement already satisfied: typing-extensions~=3.7.4 in /usr/local/lib/python3.6/dist-packages (from tensorflow-gpu>=1.5.0->deep-belief-network==1.0.3) (3.7.4.3)\n",
            "Requirement already satisfied: wrapt~=1.12.1 in /usr/local/lib/python3.6/dist-packages (from tensorflow-gpu>=1.5.0->deep-belief-network==1.0.3) (1.12.1)\n",
            "Requirement already satisfied: gast==0.3.3 in /usr/local/lib/python3.6/dist-packages (from tensorflow-gpu>=1.5.0->deep-belief-network==1.0.3) (0.3.3)\n",
            "Requirement already satisfied: h5py~=2.10.0 in /usr/local/lib/python3.6/dist-packages (from tensorflow-gpu>=1.5.0->deep-belief-network==1.0.3) (2.10.0)\n",
            "Requirement already satisfied: tensorboard~=2.4 in /usr/local/lib/python3.6/dist-packages (from tensorflow-gpu>=1.5.0->deep-belief-network==1.0.3) (2.4.0)\n",
            "Requirement already satisfied: termcolor~=1.1.0 in /usr/local/lib/python3.6/dist-packages (from tensorflow-gpu>=1.5.0->deep-belief-network==1.0.3) (1.1.0)\n",
            "Requirement already satisfied: tensorflow-estimator<2.5.0,>=2.4.0rc0 in /usr/local/lib/python3.6/dist-packages (from tensorflow-gpu>=1.5.0->deep-belief-network==1.0.3) (2.4.0)\n",
            "Requirement already satisfied: six~=1.15.0 in /usr/local/lib/python3.6/dist-packages (from tensorflow-gpu>=1.5.0->deep-belief-network==1.0.3) (1.15.0)\n",
            "Requirement already satisfied: flatbuffers~=1.12.0 in /usr/local/lib/python3.6/dist-packages (from tensorflow-gpu>=1.5.0->deep-belief-network==1.0.3) (1.12)\n",
            "Requirement already satisfied: astunparse~=1.6.3 in /usr/local/lib/python3.6/dist-packages (from tensorflow-gpu>=1.5.0->deep-belief-network==1.0.3) (1.6.3)\n",
            "Requirement already satisfied: grpcio~=1.32.0 in /usr/local/lib/python3.6/dist-packages (from tensorflow-gpu>=1.5.0->deep-belief-network==1.0.3) (1.32.0)\n",
            "Requirement already satisfied: opt-einsum~=3.3.0 in /usr/local/lib/python3.6/dist-packages (from tensorflow-gpu>=1.5.0->deep-belief-network==1.0.3) (3.3.0)\n",
            "Requirement already satisfied: setuptools in /usr/local/lib/python3.6/dist-packages (from protobuf>=3.9.2->tensorflow-gpu>=1.5.0->deep-belief-network==1.0.3) (51.0.0)\n",
            "Requirement already satisfied: werkzeug>=0.11.15 in /usr/local/lib/python3.6/dist-packages (from tensorboard~=2.4->tensorflow-gpu>=1.5.0->deep-belief-network==1.0.3) (1.0.1)\n",
            "Requirement already satisfied: requests<3,>=2.21.0 in /usr/local/lib/python3.6/dist-packages (from tensorboard~=2.4->tensorflow-gpu>=1.5.0->deep-belief-network==1.0.3) (2.23.0)\n",
            "Requirement already satisfied: google-auth<2,>=1.6.3 in /usr/local/lib/python3.6/dist-packages (from tensorboard~=2.4->tensorflow-gpu>=1.5.0->deep-belief-network==1.0.3) (1.17.2)\n",
            "Requirement already satisfied: markdown>=2.6.8 in /usr/local/lib/python3.6/dist-packages (from tensorboard~=2.4->tensorflow-gpu>=1.5.0->deep-belief-network==1.0.3) (3.3.3)\n",
            "Requirement already satisfied: google-auth-oauthlib<0.5,>=0.4.1 in /usr/local/lib/python3.6/dist-packages (from tensorboard~=2.4->tensorflow-gpu>=1.5.0->deep-belief-network==1.0.3) (0.4.2)\n",
            "Requirement already satisfied: tensorboard-plugin-wit>=1.6.0 in /usr/local/lib/python3.6/dist-packages (from tensorboard~=2.4->tensorflow-gpu>=1.5.0->deep-belief-network==1.0.3) (1.7.0)\n",
            "Requirement already satisfied: idna<3,>=2.5 in /usr/local/lib/python3.6/dist-packages (from requests<3,>=2.21.0->tensorboard~=2.4->tensorflow-gpu>=1.5.0->deep-belief-network==1.0.3) (2.10)\n",
            "Requirement already satisfied: urllib3!=1.25.0,!=1.25.1,<1.26,>=1.21.1 in /usr/local/lib/python3.6/dist-packages (from requests<3,>=2.21.0->tensorboard~=2.4->tensorflow-gpu>=1.5.0->deep-belief-network==1.0.3) (1.24.3)\n",
            "Requirement already satisfied: chardet<4,>=3.0.2 in /usr/local/lib/python3.6/dist-packages (from requests<3,>=2.21.0->tensorboard~=2.4->tensorflow-gpu>=1.5.0->deep-belief-network==1.0.3) (3.0.4)\n",
            "Requirement already satisfied: certifi>=2017.4.17 in /usr/local/lib/python3.6/dist-packages (from requests<3,>=2.21.0->tensorboard~=2.4->tensorflow-gpu>=1.5.0->deep-belief-network==1.0.3) (2020.12.5)\n",
            "Requirement already satisfied: rsa<5,>=3.1.4; python_version >= \"3\" in /usr/local/lib/python3.6/dist-packages (from google-auth<2,>=1.6.3->tensorboard~=2.4->tensorflow-gpu>=1.5.0->deep-belief-network==1.0.3) (4.6)\n",
            "Requirement already satisfied: pyasn1-modules>=0.2.1 in /usr/local/lib/python3.6/dist-packages (from google-auth<2,>=1.6.3->tensorboard~=2.4->tensorflow-gpu>=1.5.0->deep-belief-network==1.0.3) (0.2.8)\n",
            "Requirement already satisfied: cachetools<5.0,>=2.0.0 in /usr/local/lib/python3.6/dist-packages (from google-auth<2,>=1.6.3->tensorboard~=2.4->tensorflow-gpu>=1.5.0->deep-belief-network==1.0.3) (4.2.0)\n",
            "Requirement already satisfied: importlib-metadata; python_version < \"3.8\" in /usr/local/lib/python3.6/dist-packages (from markdown>=2.6.8->tensorboard~=2.4->tensorflow-gpu>=1.5.0->deep-belief-network==1.0.3) (3.3.0)\n",
            "Requirement already satisfied: requests-oauthlib>=0.7.0 in /usr/local/lib/python3.6/dist-packages (from google-auth-oauthlib<0.5,>=0.4.1->tensorboard~=2.4->tensorflow-gpu>=1.5.0->deep-belief-network==1.0.3) (1.3.0)\n",
            "Requirement already satisfied: pyasn1>=0.1.3 in /usr/local/lib/python3.6/dist-packages (from rsa<5,>=3.1.4; python_version >= \"3\"->google-auth<2,>=1.6.3->tensorboard~=2.4->tensorflow-gpu>=1.5.0->deep-belief-network==1.0.3) (0.4.8)\n",
            "Requirement already satisfied: zipp>=0.5 in /usr/local/lib/python3.6/dist-packages (from importlib-metadata; python_version < \"3.8\"->markdown>=2.6.8->tensorboard~=2.4->tensorflow-gpu>=1.5.0->deep-belief-network==1.0.3) (3.4.0)\n",
            "Requirement already satisfied: oauthlib>=3.0.0 in /usr/local/lib/python3.6/dist-packages (from requests-oauthlib>=0.7.0->google-auth-oauthlib<0.5,>=0.4.1->tensorboard~=2.4->tensorflow-gpu>=1.5.0->deep-belief-network==1.0.3) (3.1.0)\n",
            "Building wheels for collected packages: deep-belief-network\n",
            "  Building wheel for deep-belief-network (setup.py) ... \u001b[?25l\u001b[?25hdone\n",
            "  Created wheel for deep-belief-network: filename=deep_belief_network-1.0.3-cp36-none-any.whl size=13465 sha256=a982e7de041e70005be20fc02e6d49a9301052fc2147a567f5a4d70a64c44fed\n",
            "  Stored in directory: /tmp/pip-ephem-wheel-cache-p74vndjm/wheels/fe/5a/c7/18fc337ca5590a8b7c74c17ddba7a63935ce7a5bafb6cdec02\n",
            "Successfully built deep-belief-network\n",
            "Installing collected packages: tensorflow-gpu\n",
            "Successfully installed tensorflow-gpu-2.4.0\n"
          ],
          "name": "stdout"
        }
      ]
    },
    {
      "cell_type": "code",
      "metadata": {
        "colab": {
          "base_uri": "https://localhost:8080/"
        },
        "id": "A6u-q8tEira3",
        "scrolled": true,
        "outputId": "ffaf0c5d-02da-4973-95b5-55e92002af3f"
      },
      "source": [
        "import numpy as np\n",
        "import tensorflow as tf\n",
        "import pandas as pd\n",
        "\n",
        "np.random.seed(1337)  # for reproducibility\n",
        "from sklearn.datasets import load_digits\n",
        "from sklearn.model_selection import train_test_split\n",
        "import sklearn.metrics as metrics\n",
        "from sklearn.metrics.classification import accuracy_score\n",
        "tf.compat.v1.Session()\n",
        "from dbn import SupervisedDBNClassification\n",
        "#from dbn.tensorflow import SupervisedDBNClassification\n",
        "from sklearn import preprocessing\n",
        "from sklearn.preprocessing import LabelEncoder, StandardScaler, Normalizer\n",
        "from keras.utils.np_utils import to_categorical\n",
        "from sklearn.metrics import classification_report, confusion_matrix, ConfusionMatrixDisplay\n",
        "from sklearn.metrics import (precision_score, recall_score,f1_score, accuracy_score,mean_squared_error,mean_absolute_error,roc_auc_score,cohen_kappa_score)"
      ],
      "execution_count": null,
      "outputs": [
        {
          "output_type": "stream",
          "text": [
            "/usr/local/lib/python3.6/dist-packages/sklearn/utils/deprecation.py:144: FutureWarning: The sklearn.metrics.classification module is  deprecated in version 0.22 and will be removed in version 0.24. The corresponding classes / functions should instead be imported from sklearn.metrics. Anything that cannot be imported from sklearn.metrics is now part of the private API.\n",
            "  warnings.warn(message, FutureWarning)\n"
          ],
          "name": "stderr"
        }
      ]
    },
    {
      "cell_type": "code",
      "metadata": {
        "colab": {
          "base_uri": "https://localhost:8080/"
        },
        "id": "MzsR1fG_ira9",
        "outputId": "184be8c3-4d23-4b8a-f130-3487b3fcff3a"
      },
      "source": [
        "##########  DBN  ###########\n",
        "\n",
        "# data is being refined, Here we fist get our data to be converted into pandas dataframae\n",
        "# then we drop empty spaces and eradicate useless indices and getting data in float type\n",
        "def cleaningdata(df):\n",
        "    assert isinstance(df, pd.DataFrame), \"df needs to be a pd.DataFrame\"\n",
        "    df.dropna(inplace=True)\n",
        "    indices_to_keep = ~df.isin([np.nan, np.inf, -np.inf]).any(1)\n",
        "    return df[indices_to_keep].astype(np.float64)\n",
        "# fetching dataset from path\n",
        "dataset = pd.read_csv('/content/drive/MyDrive/IoT Intrusion Dataset 2020.csv', encoding='utf-8')\n",
        "# for object type data we will label it and transform into apporopriate type fo data after using fit_transform on that colomn to avoid errors\n",
        "for column in dataset.columns:\n",
        "    if dataset[column].dtype == type(object):\n",
        "        le = LabelEncoder()\n",
        "        dataset[column] = le.fit_transform(dataset[column])\n",
        "data = cleaningdata(dataset)\n",
        "\n",
        "# collecting all required colomns in data to X\n",
        "X = data.iloc[:, 0:85].values\n",
        "\n",
        "# collecting our LABEL colomn in y\n",
        "y = data.iloc[:, -2].values\n",
        "# splitting the data on ratio of 20% test data and 80% data from our encoded X and Y and getting our test and train data parameter\n",
        "X_train, X_test, y_train, y_test = train_test_split(X, y, test_size=0.20, random_state=52)\n",
        "\n",
        "sc = Normalizer()\n",
        "X_train = sc.fit_transform(X_train)\n",
        "X_test = sc.transform(X_test)\n",
        "\n",
        "X_train.shape"
      ],
      "execution_count": null,
      "outputs": [
        {
          "output_type": "execute_result",
          "data": {
            "text/plain": [
              "(500332, 85)"
            ]
          },
          "metadata": {
            "tags": []
          },
          "execution_count": 5
        }
      ]
    },
    {
      "cell_type": "code",
      "metadata": {
        "colab": {
          "base_uri": "https://localhost:8080/"
        },
        "id": "SHlDuLy2irbB",
        "outputId": "89b7fb67-d720-4b19-bc83-a2572b5815c9"
      },
      "source": [
        "# Training\n",
        "classifier = SupervisedDBNClassification(hidden_layers_structure=[256, 256],\n",
        "                                         learning_rate_rbm=0.05,\n",
        "                                         learning_rate=0.1,\n",
        "                                         n_epochs_rbm=10,\n",
        "                                         n_iter_backprop=90,\n",
        "                                         batch_size=32,\n",
        "                                         activation_function='relu',\n",
        "                                         dropout_p=0.2)\n",
        "classifier.fit(X_train, y_train)\n",
        "\n",
        "# Save the model\n",
        "classifier.save('model.pkl')\n",
        "\n",
        "# Restore it\n",
        "classifier = SupervisedDBNClassification.load('model.pkl')\n"
      ],
      "execution_count": null,
      "outputs": [
        {
          "output_type": "stream",
          "text": [
            "[START] Pre-training step:\n",
            ">> Epoch 1 finished \tRBM Reconstruction error 0.013197\n",
            ">> Epoch 2 finished \tRBM Reconstruction error 0.011507\n",
            ">> Epoch 3 finished \tRBM Reconstruction error 0.011458\n",
            ">> Epoch 4 finished \tRBM Reconstruction error 0.010850\n",
            ">> Epoch 5 finished \tRBM Reconstruction error 0.010567\n",
            ">> Epoch 6 finished \tRBM Reconstruction error 0.010787\n",
            ">> Epoch 7 finished \tRBM Reconstruction error 0.010900\n",
            ">> Epoch 8 finished \tRBM Reconstruction error 0.010601\n",
            ">> Epoch 9 finished \tRBM Reconstruction error 0.010732\n",
            ">> Epoch 10 finished \tRBM Reconstruction error 0.010670\n",
            ">> Epoch 1 finished \tRBM Reconstruction error 0.011070\n",
            ">> Epoch 2 finished \tRBM Reconstruction error 0.008505\n",
            ">> Epoch 3 finished \tRBM Reconstruction error 0.007563\n",
            ">> Epoch 4 finished \tRBM Reconstruction error 0.006818\n",
            ">> Epoch 5 finished \tRBM Reconstruction error 0.006469\n",
            ">> Epoch 6 finished \tRBM Reconstruction error 0.006266\n",
            ">> Epoch 7 finished \tRBM Reconstruction error 0.006330\n",
            ">> Epoch 8 finished \tRBM Reconstruction error 0.006118\n",
            ">> Epoch 9 finished \tRBM Reconstruction error 0.005932\n",
            ">> Epoch 10 finished \tRBM Reconstruction error 0.006036\n",
            "[END] Pre-training step\n",
            "[START] Fine tuning step:\n",
            ">> Epoch 1 finished \tANN training loss 3.440446\n",
            ">> Epoch 2 finished \tANN training loss 3.210480\n",
            ">> Epoch 3 finished \tANN training loss 3.124158\n",
            ">> Epoch 4 finished \tANN training loss 3.071268\n",
            ">> Epoch 5 finished \tANN training loss 3.035460\n",
            ">> Epoch 6 finished \tANN training loss 3.004292\n",
            ">> Epoch 7 finished \tANN training loss 2.969156\n",
            ">> Epoch 8 finished \tANN training loss 2.940536\n",
            ">> Epoch 9 finished \tANN training loss 2.912602\n",
            ">> Epoch 10 finished \tANN training loss 2.886585\n",
            ">> Epoch 11 finished \tANN training loss 2.865375\n",
            ">> Epoch 12 finished \tANN training loss 2.838851\n",
            ">> Epoch 13 finished \tANN training loss 2.810323\n",
            ">> Epoch 14 finished \tANN training loss 2.780203\n",
            ">> Epoch 15 finished \tANN training loss 2.761929\n",
            ">> Epoch 16 finished \tANN training loss 2.744784\n",
            ">> Epoch 17 finished \tANN training loss 2.724283\n",
            ">> Epoch 18 finished \tANN training loss 2.723438\n",
            ">> Epoch 19 finished \tANN training loss 2.699010\n",
            ">> Epoch 20 finished \tANN training loss 2.692775\n",
            ">> Epoch 21 finished \tANN training loss 2.685073\n",
            ">> Epoch 22 finished \tANN training loss 2.677133\n",
            ">> Epoch 23 finished \tANN training loss 2.661108\n",
            ">> Epoch 24 finished \tANN training loss 2.648852\n",
            ">> Epoch 25 finished \tANN training loss 2.643314\n",
            ">> Epoch 26 finished \tANN training loss 2.635537\n",
            ">> Epoch 27 finished \tANN training loss 2.629202\n",
            ">> Epoch 28 finished \tANN training loss 2.621570\n",
            ">> Epoch 29 finished \tANN training loss 2.614719\n",
            ">> Epoch 30 finished \tANN training loss 2.610057\n",
            ">> Epoch 31 finished \tANN training loss 2.608695\n",
            ">> Epoch 32 finished \tANN training loss 2.596909\n",
            ">> Epoch 33 finished \tANN training loss 2.587692\n",
            ">> Epoch 34 finished \tANN training loss 2.596986\n",
            ">> Epoch 35 finished \tANN training loss 2.588047\n",
            ">> Epoch 36 finished \tANN training loss 2.586784\n",
            ">> Epoch 37 finished \tANN training loss 2.572378\n",
            ">> Epoch 38 finished \tANN training loss 2.573357\n",
            ">> Epoch 39 finished \tANN training loss 2.564308\n",
            ">> Epoch 40 finished \tANN training loss 2.570746\n",
            ">> Epoch 41 finished \tANN training loss 2.569053\n",
            ">> Epoch 42 finished \tANN training loss 2.552945\n",
            ">> Epoch 43 finished \tANN training loss 2.557245\n",
            ">> Epoch 44 finished \tANN training loss 2.553920\n",
            ">> Epoch 45 finished \tANN training loss 2.562494\n",
            ">> Epoch 46 finished \tANN training loss 2.550414\n",
            ">> Epoch 47 finished \tANN training loss 2.552048\n",
            ">> Epoch 48 finished \tANN training loss 2.591472\n",
            ">> Epoch 49 finished \tANN training loss 2.552999\n",
            ">> Epoch 50 finished \tANN training loss 2.553046\n",
            ">> Epoch 51 finished \tANN training loss 2.545116\n",
            ">> Epoch 52 finished \tANN training loss 2.539042\n",
            ">> Epoch 53 finished \tANN training loss 2.534688\n",
            ">> Epoch 54 finished \tANN training loss 2.525191\n",
            ">> Epoch 55 finished \tANN training loss 2.518264\n",
            ">> Epoch 56 finished \tANN training loss 2.525936\n",
            ">> Epoch 57 finished \tANN training loss 2.513469\n",
            ">> Epoch 58 finished \tANN training loss 2.509098\n",
            ">> Epoch 59 finished \tANN training loss 2.516700\n",
            ">> Epoch 60 finished \tANN training loss 2.513347\n",
            ">> Epoch 61 finished \tANN training loss 2.517366\n",
            ">> Epoch 62 finished \tANN training loss 2.507653\n",
            ">> Epoch 63 finished \tANN training loss 2.516699\n",
            ">> Epoch 64 finished \tANN training loss 2.509063\n",
            ">> Epoch 65 finished \tANN training loss 2.501174\n",
            ">> Epoch 66 finished \tANN training loss 2.506710\n",
            ">> Epoch 67 finished \tANN training loss 2.495294\n",
            ">> Epoch 68 finished \tANN training loss 2.493443\n",
            ">> Epoch 69 finished \tANN training loss 2.486135\n",
            ">> Epoch 70 finished \tANN training loss 2.493849\n",
            ">> Epoch 71 finished \tANN training loss 2.492725\n",
            ">> Epoch 72 finished \tANN training loss 2.484113\n",
            ">> Epoch 73 finished \tANN training loss 2.483584\n",
            ">> Epoch 74 finished \tANN training loss 2.487387\n",
            ">> Epoch 75 finished \tANN training loss 2.476130\n",
            ">> Epoch 76 finished \tANN training loss 2.480283\n",
            ">> Epoch 77 finished \tANN training loss 2.482120\n",
            ">> Epoch 78 finished \tANN training loss 2.483587\n",
            ">> Epoch 79 finished \tANN training loss 2.476299\n",
            ">> Epoch 80 finished \tANN training loss 2.480380\n",
            ">> Epoch 81 finished \tANN training loss 2.471307\n",
            ">> Epoch 82 finished \tANN training loss 2.468674\n",
            ">> Epoch 83 finished \tANN training loss 2.471968\n",
            ">> Epoch 84 finished \tANN training loss 2.472482\n",
            ">> Epoch 85 finished \tANN training loss 2.461265\n",
            ">> Epoch 86 finished \tANN training loss 2.463324\n",
            ">> Epoch 87 finished \tANN training loss 2.455992\n",
            ">> Epoch 88 finished \tANN training loss 2.455589\n",
            ">> Epoch 89 finished \tANN training loss 2.454556\n",
            ">> Epoch 90 finished \tANN training loss 2.447416\n",
            "[END] Fine tuning step\n"
          ],
          "name": "stdout"
        }
      ]
    },
    {
      "cell_type": "code",
      "metadata": {
        "id": "uCWQ7priirbI",
        "colab": {
          "base_uri": "https://localhost:8080/"
        },
        "outputId": "a92fac7d-bce5-4c7c-d482-ea758b7424b3"
      },
      "source": [
        "### train_accuracy\r\n",
        "import sklearn.metrics as metrics\r\n",
        "target_names = ['Mirai', 'DoS', 'Scan', 'Normal', 'MITM_ARP_Spoofing']\r\n",
        "expected = y_train\r\n",
        "predicted = classifier.predict(X_train)\r\n",
        "data = classification_report(expected,np.round(predicted), target_names=target_names)\r\n",
        "print(data)\r\n",
        "conmat = confusion_matrix(expected,predicted)\r\n",
        "print(conmat)\r\n",
        "\r\n",
        "print(\"Accuracy_Train:\",metrics.accuracy_score(expected, np.round(predicted)))\r\n",
        "print(\"Precision_Train:\",metrics.precision_score(expected, np.round(predicted), average='weighted'))\r\n",
        "print(\"Recall_Train:\",metrics.recall_score(expected, np.round(predicted), average='weighted'))\r\n",
        "print(\"f1-score_Train:\",metrics.f1_score(expected, np.round(predicted), average='weighted'))\r\n"
      ],
      "execution_count": null,
      "outputs": [
        {
          "output_type": "stream",
          "text": [
            "                   precision    recall  f1-score   support\n",
            "\n",
            "            Mirai       1.00      1.00      1.00     47576\n",
            "              DoS       0.99      0.36      0.52     28268\n",
            "             Scan       0.82      1.00      0.90    332252\n",
            "           Normal       0.95      0.46      0.62     32013\n",
            "MITM_ARP_Spoofing       0.97      0.34      0.51     60223\n",
            "\n",
            "         accuracy                           0.85    500332\n",
            "        macro avg       0.94      0.63      0.71    500332\n",
            "     weighted avg       0.87      0.85      0.82    500332\n",
            "\n",
            "[[ 47424      3    134     14      1]\n",
            " [     0  10091  18153     23      1]\n",
            " [     0    102 331439    518    193]\n",
            " [     6      1  16892  14577    537]\n",
            " [     0      1  39252    197  20773]]\n",
            "Accuracy_Train: 0.8480448981876034\n",
            "Precision_Train: 0.8703791493209396\n",
            "Recall_Train: 0.8480448981876034\n",
            "f1-score_Train: 0.8215320506943216\n"
          ],
          "name": "stdout"
        }
      ]
    },
    {
      "cell_type": "code",
      "metadata": {
        "id": "Cqs0wElRirbE",
        "colab": {
          "base_uri": "https://localhost:8080/"
        },
        "outputId": "b54bad1d-8f27-42ad-a7f5-dedb144ab337"
      },
      "source": [
        "### test_accuracy\n",
        "target_names = ['Mirai', 'DoS', 'Scan', 'Normal', 'MITM_ARP_Spoofing']\n",
        "expected = y_test\n",
        "predicted = classifier.predict(X_test)\n",
        "\n",
        "print(\"Accuracy:\",metrics.accuracy_score(expected, np.round(predicted)))\n",
        "print(\"Precision:\",metrics.precision_score(expected, np.round(predicted), average='weighted'))\n",
        "print(\"Recall:\",metrics.recall_score(expected, np.round(predicted), average='weighted'))\n",
        "print(\"f1-score:\",metrics.f1_score(expected, np.round(predicted), average='weighted'))\n",
        "#dt classification report\n",
        "print(classification_report(expected, np.round(predicted), target_names=target_names))"
      ],
      "execution_count": null,
      "outputs": [
        {
          "output_type": "stream",
          "text": [
            "Accuracy: 0.8474053228656172\n",
            "Precision: 0.8690220158012448\n",
            "Recall: 0.8474053228656172\n",
            "f1-score: 0.8209428873149593\n",
            "                   precision    recall  f1-score   support\n",
            "\n",
            "            Mirai       1.00      1.00      1.00     11815\n",
            "              DoS       0.98      0.36      0.53      7109\n",
            "             Scan       0.82      1.00      0.90     83057\n",
            "           Normal       0.95      0.46      0.62      8060\n",
            "MITM_ARP_Spoofing       0.96      0.34      0.51     15042\n",
            "\n",
            "         accuracy                           0.85    125083\n",
            "        macro avg       0.94      0.63      0.71    125083\n",
            "     weighted avg       0.87      0.85      0.82    125083\n",
            "\n"
          ],
          "name": "stdout"
        }
      ]
    }
  ]
}