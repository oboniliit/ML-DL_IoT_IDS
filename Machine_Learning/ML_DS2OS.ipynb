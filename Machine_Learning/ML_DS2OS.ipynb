{
  "nbformat": 4,
  "nbformat_minor": 0,
  "metadata": {
    "colab": {
      "name": "ML_DS2OS.ipynb",
      "provenance": [],
      "collapsed_sections": []
    },
    "kernelspec": {
      "display_name": "Python 3",
      "name": "python3"
    }
  },
  "cells": [
    {
      "cell_type": "code",
      "metadata": {
        "colab": {
          "base_uri": "https://localhost:8080/"
        },
        "id": "s5dweCPEW5Ny",
        "outputId": "7f57ac6c-f95e-4b69-f2c7-dcb9dce2c907"
      },
      "source": [
        "!pip install scikit-plot"
      ],
      "execution_count": null,
      "outputs": [
        {
          "output_type": "stream",
          "text": [
            "Collecting scikit-plot\n",
            "  Downloading https://files.pythonhosted.org/packages/7c/47/32520e259340c140a4ad27c1b97050dd3254fdc517b1d59974d47037510e/scikit_plot-0.3.7-py3-none-any.whl\n",
            "Requirement already satisfied: scikit-learn>=0.18 in /usr/local/lib/python3.6/dist-packages (from scikit-plot) (0.22.2.post1)\n",
            "Requirement already satisfied: scipy>=0.9 in /usr/local/lib/python3.6/dist-packages (from scikit-plot) (1.4.1)\n",
            "Requirement already satisfied: joblib>=0.10 in /usr/local/lib/python3.6/dist-packages (from scikit-plot) (0.17.0)\n",
            "Requirement already satisfied: matplotlib>=1.4.0 in /usr/local/lib/python3.6/dist-packages (from scikit-plot) (3.2.2)\n",
            "Requirement already satisfied: numpy>=1.11.0 in /usr/local/lib/python3.6/dist-packages (from scikit-learn>=0.18->scikit-plot) (1.18.5)\n",
            "Requirement already satisfied: python-dateutil>=2.1 in /usr/local/lib/python3.6/dist-packages (from matplotlib>=1.4.0->scikit-plot) (2.8.1)\n",
            "Requirement already satisfied: kiwisolver>=1.0.1 in /usr/local/lib/python3.6/dist-packages (from matplotlib>=1.4.0->scikit-plot) (1.3.1)\n",
            "Requirement already satisfied: pyparsing!=2.0.4,!=2.1.2,!=2.1.6,>=2.0.1 in /usr/local/lib/python3.6/dist-packages (from matplotlib>=1.4.0->scikit-plot) (2.4.7)\n",
            "Requirement already satisfied: cycler>=0.10 in /usr/local/lib/python3.6/dist-packages (from matplotlib>=1.4.0->scikit-plot) (0.10.0)\n",
            "Requirement already satisfied: six>=1.5 in /usr/local/lib/python3.6/dist-packages (from python-dateutil>=2.1->matplotlib>=1.4.0->scikit-plot) (1.15.0)\n",
            "Installing collected packages: scikit-plot\n",
            "Successfully installed scikit-plot-0.3.7\n"
          ],
          "name": "stdout"
        }
      ]
    },
    {
      "cell_type": "code",
      "metadata": {
        "colab": {
          "base_uri": "https://localhost:8080/"
        },
        "id": "bYOSBlhhPfWp",
        "outputId": "e493c856-c118-4ea7-e192-7b6bb89338bf"
      },
      "source": [
        "from google.colab import drive\n",
        "drive.mount('/content/drive')"
      ],
      "execution_count": null,
      "outputs": [
        {
          "output_type": "stream",
          "text": [
            "Mounted at /content/drive\n"
          ],
          "name": "stdout"
        }
      ]
    },
    {
      "cell_type": "code",
      "metadata": {
        "id": "0GgvDjRgmJ-c"
      },
      "source": [
        "# Load libraries\n",
        "import pandas as pd\n",
        "import numpy as np\n",
        "from sklearn.tree import DecisionTreeClassifier # Import Decision Tree Classifier\n",
        "from sklearn.ensemble import RandomForestClassifier\n",
        "from sklearn import svm\n",
        "from sklearn.model_selection import train_test_split # Import train_test_split function\n",
        "from sklearn import metrics #Import scikit-learn metrics module for accuracy calculation\n",
        "from sklearn import preprocessing\n",
        "from sklearn.metrics import classification_report\n",
        "from sklearn.metrics import plot_confusion_matrix\n",
        "from sklearn.pipeline import Pipeline\n",
        "from sklearn.model_selection import learning_curve\n",
        "from sklearn.model_selection import cross_val_score\n",
        "import matplotlib.pyplot as plt\n",
        "import scikitplot as skplt\n",
        "from sklearn.preprocessing import StandardScaler\n",
        "from sklearn.preprocessing import label_binarize\n",
        "from sklearn.multiclass import OneVsRestClassifier\n",
        "from sklearn.metrics import roc_curve, auc, roc_auc_score\n",
        "from scipy import interp\n",
        "from itertools import cycle"
      ],
      "execution_count": null,
      "outputs": []
    },
    {
      "cell_type": "code",
      "metadata": {
        "colab": {
          "base_uri": "https://localhost:8080/"
        },
        "id": "hGt5HrxvmWK5",
        "outputId": "e75caa41-f300-428f-836d-c24a1fb37a97"
      },
      "source": [
        "ds= pd.read_csv('/content/drive/MyDrive/Code/dataset/df_spark.csv')\n",
        "ds = ds.drop(['Unnamed: 0'], axis=1)\n",
        "ds.head()\n",
        "ds.shape\n",
        "# drop unnamed column"
      ],
      "execution_count": null,
      "outputs": [
        {
          "output_type": "execute_result",
          "data": {
            "text/plain": [
              "(357941, 12)"
            ]
          },
          "metadata": {
            "tags": []
          },
          "execution_count": 46
        }
      ]
    },
    {
      "cell_type": "code",
      "metadata": {
        "id": "hEGvxrmOFkRE",
        "colab": {
          "base_uri": "https://localhost:8080/"
        },
        "outputId": "7301c16d-54c1-4a12-dbc3-40738f49b529"
      },
      "source": [
        "#normalize\n",
        "y = ds.iloc[:,0].values\n",
        "X = ds.iloc[:,1:].values\n",
        "\n",
        "sc = StandardScaler()\n",
        "X = sc.fit_transform(X)\n",
        "\n",
        "y = label_binarize(y, classes=[0, 1, 2, 3, 4, 5, 6, 7])\n",
        "n_classes = y.shape[1]\n",
        "print(n_classes)\n",
        "\n",
        "X_train, X_test, y_train, y_test = train_test_split(X, y, test_size=0.2)\n",
        "# split data"
      ],
      "execution_count": null,
      "outputs": [
        {
          "output_type": "stream",
          "text": [
            "8\n"
          ],
          "name": "stdout"
        }
      ]
    },
    {
      "cell_type": "code",
      "metadata": {
        "id": "4mJpk5IoBhAu"
      },
      "source": [
        "target_names = ['DoS', 'Probing',\t'MaliciousControl', 'MaliciousOperation', 'Scan', 'Spying', 'WrongSetup', 'Normal']"
      ],
      "execution_count": null,
      "outputs": []
    },
    {
      "cell_type": "code",
      "metadata": {
        "id": "ig48iti5CcxF"
      },
      "source": [
        "#decision tree with 5 fold cv\n",
        "from sklearn import tree\n",
        "pipe_tree = Pipeline([('clf', OneVsRestClassifier(tree.DecisionTreeClassifier(max_depth=3)))])\n",
        "train_sizes_tree, train_scores_tree, test_scores_tree = learning_curve(estimator=pipe_tree,X=X, y=y, train_sizes=np.linspace(0.2,1.0,5), cv=5, n_jobs=-1)\n",
        "train_mean_tree = np.mean(train_scores_tree, axis=1)\n",
        "train_std_tree = np.std(train_scores_tree, axis=1)\n",
        "test_mean_tree = np.mean(test_scores_tree, axis=1)\n",
        "test_std_tree = np.std(test_scores_tree, axis=1)"
      ],
      "execution_count": null,
      "outputs": []
    },
    {
      "cell_type": "code",
      "metadata": {
        "colab": {
          "base_uri": "https://localhost:8080/"
        },
        "id": "gZUyz4wumwP1",
        "outputId": "4ee51f84-0459-4754-aab8-f1ad1c560415"
      },
      "source": [
        "for i in train_mean_tree:\n",
        "    print(i)"
      ],
      "execution_count": null,
      "outputs": [
        {
          "output_type": "stream",
          "text": [
            "0.9812956172516152\n",
            "0.9817548454688317\n",
            "0.9852512353690974\n",
            "0.9789777414975489\n",
            "0.980469492093647\n"
          ],
          "name": "stdout"
        }
      ]
    },
    {
      "cell_type": "code",
      "metadata": {
        "colab": {
          "base_uri": "https://localhost:8080/"
        },
        "id": "u-rGsUsuCgpQ",
        "outputId": "b10922fc-5e13-43f4-9139-36cde8e0f9b8"
      },
      "source": [
        "for i in test_mean_tree:\n",
        "    print(i)"
      ],
      "execution_count": null,
      "outputs": [
        {
          "output_type": "stream",
          "text": [
            "0.9564565061019454\n",
            "0.9564565061019457\n",
            "0.9717691284071845\n",
            "0.9716769355895909\n",
            "0.9717244289195719\n"
          ],
          "name": "stdout"
        }
      ]
    },
    {
      "cell_type": "code",
      "metadata": {
        "colab": {
          "base_uri": "https://localhost:8080/"
        },
        "id": "wjhEt_x5m-db",
        "outputId": "777710b1-fd6d-4d94-956f-e6abaced97fb"
      },
      "source": [
        "#dt training\n",
        "pipe_tree = pipe_tree.fit(X_train, y_train)\n",
        "y_pred_test = pipe_tree.predict(X_test)\n",
        "y_pred_train=pipe_tree.predict(X_train)\n",
        "# print dt_test_scores of accuracy,precision,recall,f1-score\n",
        "print(\"Test_Accuracy:\",metrics.accuracy_score(y_test, y_pred_test))\n",
        "print(\"Test_Precision:\",metrics.precision_score(y_test, y_pred_test, average='weighted'))\n",
        "print(\"Test_Recall:\",metrics.recall_score(y_test, y_pred_test, average='weighted'))\n",
        "print(\"Test_f1-score:\",metrics.f1_score(y_test, y_pred_test, average='weighted'))\n",
        "print(classification_report(y_test, y_pred_test, target_names=target_names))\n",
        "\n",
        "\n",
        "# print dt_train_scores of accuracy,precision,recall,f1-score\n",
        "print(\"Train_Accuracy:\",metrics.accuracy_score(y_train, y_pred_train))\n",
        "print(\"Train_Precision:\",metrics.precision_score(y_train, y_pred_train, average='weighted'))\n",
        "print(\"Train_Recall:\",metrics.recall_score(y_train, y_pred_train, average='weighted'))\n",
        "print(\"Train_f1-score:\",metrics.f1_score(y_train, y_pred_train, average='weighted'))\n",
        "#dt classification report\n",
        "print(classification_report(y_train, y_pred_train, target_names=target_names))\n",
        "\n",
        "\n"
      ],
      "execution_count": null,
      "outputs": [
        {
          "output_type": "stream",
          "text": [
            "Test_Accuracy: 0.9775384486443448\n",
            "Test_Precision: 0.9780936925523914\n",
            "Test_Recall: 0.9824693737864756\n",
            "Test_f1-score: 0.9749142810076936\n",
            "                    precision    recall  f1-score   support\n",
            "\n",
            "               DoS       1.00      0.33      0.49      1168\n",
            "           Probing       0.95      0.87      0.91        61\n",
            "  MaliciousControl       1.00      0.98      0.99       179\n",
            "MaliciousOperation       1.00      0.51      0.68       181\n",
            "              Scan       1.00      0.02      0.05       299\n",
            "            Spying       1.00      0.26      0.41       107\n",
            "        WrongSetup       1.00      1.00      1.00        29\n",
            "            Normal       0.98      1.00      0.99     69565\n",
            "\n",
            "         micro avg       0.98      0.98      0.98     71589\n",
            "         macro avg       0.99      0.62      0.69     71589\n",
            "      weighted avg       0.98      0.98      0.97     71589\n",
            "       samples avg       0.98      0.98      0.98     71589\n",
            "\n"
          ],
          "name": "stdout"
        },
        {
          "output_type": "stream",
          "text": [
            "/usr/local/lib/python3.6/dist-packages/sklearn/metrics/_classification.py:1272: UndefinedMetricWarning: Precision and F-score are ill-defined and being set to 0.0 in samples with no predicted labels. Use `zero_division` parameter to control this behavior.\n",
            "  _warn_prf(average, modifier, msg_start, len(result))\n"
          ],
          "name": "stderr"
        },
        {
          "output_type": "stream",
          "text": [
            "Train_Accuracy: 0.9772797116835223\n",
            "Train_Precision: 0.9778688265825421\n",
            "Train_Recall: 0.9822735654020227\n",
            "Train_f1-score: 0.9744304413078988\n",
            "                    precision    recall  f1-score   support\n",
            "\n",
            "               DoS       1.00      0.30      0.46      4612\n",
            "           Probing       0.94      0.88      0.91       281\n",
            "  MaliciousControl       1.00      0.98      0.99       710\n",
            "MaliciousOperation       1.00      0.52      0.68       624\n",
            "              Scan       1.00      0.01      0.02      1248\n",
            "            Spying       1.00      0.34      0.51       425\n",
            "        WrongSetup       1.00      1.00      1.00        93\n",
            "            Normal       0.98      1.00      0.99    278359\n",
            "\n",
            "         micro avg       0.98      0.98      0.98    286352\n",
            "         macro avg       0.99      0.63      0.70    286352\n",
            "      weighted avg       0.98      0.98      0.97    286352\n",
            "       samples avg       0.98      0.98      0.98    286352\n",
            "\n"
          ],
          "name": "stdout"
        }
      ]
    },
    {
      "cell_type": "code",
      "metadata": {
        "id": "D4NOSoc3nESv"
      },
      "source": [
        "#random forest\n",
        "from sklearn.ensemble import RandomForestClassifier\n",
        "pipe_rnd = Pipeline([('clf', OneVsRestClassifier(RandomForestClassifier(max_depth=3, n_estimators=100)))])\n",
        "train_sizes_rnd, train_scores_rnd, test_scores_rnd = learning_curve(estimator=pipe_rnd,X=X, y=y, train_sizes=np.linspace(0.2,1.0,5), cv=5, n_jobs=-1)\n",
        "train_mean_rnd = np.mean(train_scores_rnd, axis=1)\n",
        "train_std_rnd = np.std(train_scores_rnd, axis=1)\n",
        "test_mean_rnd = np.mean(test_scores_rnd, axis=1)\n",
        "test_std_rnd = np.std(test_scores_rnd, axis=1)"
      ],
      "execution_count": null,
      "outputs": []
    },
    {
      "cell_type": "code",
      "metadata": {
        "colab": {
          "base_uri": "https://localhost:8080/"
        },
        "id": "Q8gXCTSG8Hq3",
        "outputId": "2c5ba88c-06a0-457b-e0f9-0bd3434baf42"
      },
      "source": [
        "for i in train_mean_rnd:\n",
        "    print(i)"
      ],
      "execution_count": null,
      "outputs": [
        {
          "output_type": "stream",
          "text": [
            "0.9793225074209884\n",
            "0.982332809498865\n",
            "0.9852477431596347\n",
            "0.9825109895626438\n",
            "0.9831955076269765\n"
          ],
          "name": "stdout"
        }
      ]
    },
    {
      "cell_type": "code",
      "metadata": {
        "colab": {
          "base_uri": "https://localhost:8080/"
        },
        "id": "8lfeGpZp8QNF",
        "outputId": "5e444e9d-5054-4fdf-90cb-733e95ed26de"
      },
      "source": [
        "for i in test_mean_rnd:\n",
        "    print(i)"
      ],
      "execution_count": null,
      "outputs": [
        {
          "output_type": "stream",
          "text": [
            "0.963116840236158\n",
            "0.963116840236158\n",
            "0.9720149795891222\n",
            "0.9718669107046667\n",
            "0.9718417669819045\n"
          ],
          "name": "stdout"
        }
      ]
    },
    {
      "cell_type": "code",
      "metadata": {
        "colab": {
          "base_uri": "https://localhost:8080/"
        },
        "id": "8XjZjgicn8Uf",
        "outputId": "58fe59af-c642-4183-94ce-655bf9cca8cd"
      },
      "source": [
        "#rf training\n",
        "pipe_rnd = pipe_rnd.fit(X_train, y_train)\n",
        "y_pred_test = pipe_rnd.predict(X_test)\n",
        "y_pred_train=pipe_rnd.predict(X_train)\n",
        "# print rf_test_scores of accuracy,precision,recall,f1-score\n",
        "print(\"Test_Accuracy:\",metrics.accuracy_score(y_test, y_pred_test))\n",
        "print(\"Test_Precision:\",metrics.precision_score(y_test, y_pred_test, average='weighted'))\n",
        "print(\"Test_Recall:\",metrics.recall_score(y_test, y_pred_test, average='weighted'))\n",
        "print(\"Test_f1-score:\",metrics.f1_score(y_test, y_pred_test, average='weighted'))\n",
        "print(classification_report(y_test, y_pred_test, target_names=target_names))\n",
        "\n",
        "# print rf_train_scores of accuracy,precision,recall,f1-score, cohens kappa\n",
        "print(\"Train_Accuracy:\",metrics.accuracy_score(y_train, y_pred_train))\n",
        "print(\"Train_Precision:\",metrics.precision_score(y_train, y_pred_train, average='weighted'))\n",
        "print(\"Train_Recall:\",metrics.recall_score(y_train, y_pred_train, average='weighted'))\n",
        "print(\"Train_f1-score:\",metrics.f1_score(y_train, y_pred_train, average='weighted'))\n",
        "print(classification_report(y_train, y_pred_train, target_names=target_names))\n",
        "\n",
        "\n"
      ],
      "execution_count": null,
      "outputs": [
        {
          "output_type": "stream",
          "text": [
            "Test_Accuracy: 0.9775803545237397\n",
            "Test_Precision: 0.9764072656966974\n",
            "Test_Recall: 0.9812121974046292\n"
          ],
          "name": "stdout"
        },
        {
          "output_type": "stream",
          "text": [
            "/usr/local/lib/python3.6/dist-packages/sklearn/metrics/_classification.py:1272: UndefinedMetricWarning: Precision is ill-defined and being set to 0.0 in labels with no predicted samples. Use `zero_division` parameter to control this behavior.\n",
            "  _warn_prf(average, modifier, msg_start, len(result))\n"
          ],
          "name": "stderr"
        },
        {
          "output_type": "stream",
          "text": [
            "Test_f1-score: 0.9735141896682264\n",
            "                    precision    recall  f1-score   support\n",
            "\n",
            "               DoS       1.00      0.34      0.51      1139\n",
            "           Probing       1.00      0.28      0.43        65\n",
            "  MaliciousControl       1.00      0.96      0.98       176\n",
            "MaliciousOperation       1.00      0.42      0.60       172\n",
            "              Scan       1.00      0.02      0.04       321\n",
            "            Spying       0.00      0.00      0.00       124\n",
            "        WrongSetup       1.00      1.00      1.00        32\n",
            "            Normal       0.98      1.00      0.99     69560\n",
            "\n",
            "         micro avg       0.98      0.98      0.98     71589\n",
            "         macro avg       0.87      0.50      0.57     71589\n",
            "      weighted avg       0.98      0.98      0.97     71589\n",
            "       samples avg       0.98      0.98      0.98     71589\n",
            "\n"
          ],
          "name": "stdout"
        },
        {
          "output_type": "stream",
          "text": [
            "/usr/local/lib/python3.6/dist-packages/sklearn/metrics/_classification.py:1272: UndefinedMetricWarning: Precision and F-score are ill-defined and being set to 0.0 in labels with no predicted samples. Use `zero_division` parameter to control this behavior.\n",
            "  _warn_prf(average, modifier, msg_start, len(result))\n",
            "/usr/local/lib/python3.6/dist-packages/sklearn/metrics/_classification.py:1272: UndefinedMetricWarning: Precision and F-score are ill-defined and being set to 0.0 in samples with no predicted labels. Use `zero_division` parameter to control this behavior.\n",
            "  _warn_prf(average, modifier, msg_start, len(result))\n"
          ],
          "name": "stderr"
        },
        {
          "output_type": "stream",
          "text": [
            "Train_Accuracy: 0.9773390791752807\n",
            "Train_Precision: 0.9765071881801157\n",
            "Train_Recall: 0.9812363803989496\n",
            "Train_f1-score: 0.9732948457426471\n",
            "                    precision    recall  f1-score   support\n",
            "\n",
            "               DoS       1.00      0.30      0.46      4641\n",
            "           Probing       1.00      0.30      0.46       277\n",
            "  MaliciousControl       1.00      0.97      0.98       713\n",
            "MaliciousOperation       1.00      0.55      0.71       633\n",
            "              Scan       1.00      0.01      0.02      1226\n",
            "            Spying       0.00      0.00      0.00       408\n",
            "        WrongSetup       1.00      1.00      1.00        90\n",
            "            Normal       0.98      1.00      0.99    278364\n",
            "\n",
            "         micro avg       0.98      0.98      0.98    286352\n",
            "         macro avg       0.87      0.51      0.58    286352\n",
            "      weighted avg       0.98      0.98      0.97    286352\n",
            "       samples avg       0.98      0.98      0.98    286352\n",
            "\n"
          ],
          "name": "stdout"
        }
      ]
    },
    {
      "cell_type": "code",
      "metadata": {
        "id": "YAd4OrYmGTT8",
        "colab": {
          "base_uri": "https://localhost:8080/"
        },
        "outputId": "fbdf556f-5ea0-445e-c68b-fe62b5871b36"
      },
      "source": [
        "# svm\n",
        "from sklearn.svm import SVC\n",
        "pipe_svc = Pipeline([('clf', OneVsRestClassifier(SVC(C=1000)))])\n",
        "train_sizes_svc, train_scores_svc, test_scores_svc = learning_curve(estimator=pipe_svc,X=X, y=y, train_sizes=np.linspace(0.2,1.0,5), cv=5, n_jobs=-1)\n",
        "train_mean_svc = np.mean(train_scores_svc, axis=1)\n",
        "train_std_svc = np.std(train_scores_svc, axis=1)\n",
        "test_mean_svc = np.mean(test_scores_svc, axis=1)\n",
        "test_std_svc = np.std(test_scores_svc, axis=1)\n"
      ],
      "execution_count": null,
      "outputs": [
        {
          "output_type": "stream",
          "text": [
            "/usr/local/lib/python3.6/dist-packages/joblib/externals/loky/process_executor.py:691: UserWarning: A worker stopped while some jobs were given to the executor. This can be caused by a too short worker timeout or by a memory leak.\n",
            "  \"timeout or by a memory leak.\", UserWarning\n"
          ],
          "name": "stderr"
        }
      ]
    },
    {
      "cell_type": "code",
      "metadata": {
        "colab": {
          "base_uri": "https://localhost:8080/"
        },
        "id": "IxJ4kNIY9HWy",
        "outputId": "0e4b7a46-14fe-497c-e0bf-b80cd0900f12"
      },
      "source": [
        "for i in test_mean_svc:\n",
        "    print(i)"
      ],
      "execution_count": null,
      "outputs": [
        {
          "output_type": "stream",
          "text": [
            "0.8919568692913069\n",
            "0.8979355249709421\n",
            "0.9729620589416047\n",
            "0.973970608718969\n",
            "0.9755295269449837\n"
          ],
          "name": "stdout"
        }
      ]
    },
    {
      "cell_type": "code",
      "metadata": {
        "colab": {
          "base_uri": "https://localhost:8080/"
        },
        "id": "0GFpf_1l9M_W",
        "outputId": "8ec7c425-ea67-4b87-e277-b332974adab5"
      },
      "source": [
        "for i in test_mean_svc:\n",
        "    print(i)"
      ],
      "execution_count": null,
      "outputs": [
        {
          "output_type": "stream",
          "text": [
            "0.8919568692913069\n",
            "0.8979355249709421\n",
            "0.9729620589416047\n",
            "0.973970608718969\n",
            "0.9755295269449837\n"
          ],
          "name": "stdout"
        }
      ]
    },
    {
      "cell_type": "code",
      "metadata": {
        "colab": {
          "base_uri": "https://localhost:8080/"
        },
        "id": "uq5f3IVtoMVb",
        "outputId": "d8e855b4-73fd-43a4-8da9-4be22c3594ae"
      },
      "source": [
        "#svm training\n",
        "pipe_svc = pipe_svc.fit(X_train, y_train)\n",
        "y_pred_test = pipe_svc.predict(X_test)\n",
        "y_pred_train=pipe_svc.predict(X_train)\n",
        "# print svc_test_scores of accuracy,precision,recall,f1-score\n",
        "print(\"Test_Accuracy:\",metrics.accuracy_score(y_test, y_pred_test))\n",
        "print(\"Test_Precision:\",metrics.precision_score(y_test, y_pred_test, average='weighted'))\n",
        "print(\"Test_Recall:\",metrics.recall_score(y_test, y_pred_test, average='weighted'))\n",
        "print(\"Test_f1-score:\",metrics.f1_score(y_test, y_pred_test, average='weighted'))\n",
        "print(classification_report(y_test, y_pred_test, target_names=target_names))\n",
        "\n",
        "# print svc_train_scores of accuracy,precision,recall,f1-score\n",
        "print(\"Train_Accuracy:\",metrics.accuracy_score(y_train, y_pred_train))\n",
        "print(\"Train_Precision:\",metrics.precision_score(y_train, y_pred_train, average='weighted'))\n",
        "print(\"Train_Recall:\",metrics.recall_score(y_train, y_pred_train, average='weighted'))\n",
        "print(\"Train_f1-score:\",metrics.f1_score(y_train, y_pred_train, average='weighted'))\n",
        "print(classification_report(y_train, y_pred_train, target_names=target_names))\n",
        "\n"
      ],
      "execution_count": null,
      "outputs": [
        {
          "output_type": "stream",
          "text": [
            "Test_Accuracy: 0.9944265180404811\n",
            "Test_Precision: 0.9943390833952498\n",
            "Test_Recall: 0.9944265180404811\n",
            "Test_f1-score: 0.9938895757770919\n",
            "                    precision    recall  f1-score   support\n",
            "\n",
            "               DoS       0.98      0.66      0.79      1117\n",
            "           Probing       1.00      1.00      1.00        68\n",
            "  MaliciousControl       1.00      1.00      1.00       156\n",
            "MaliciousOperation       1.00      1.00      1.00       169\n",
            "              Scan       1.00      1.00      1.00       303\n",
            "            Spying       1.00      1.00      1.00       112\n",
            "        WrongSetup       1.00      1.00      1.00        33\n",
            "            Normal       0.99      1.00      1.00     69631\n",
            "\n",
            "         micro avg       0.99      0.99      0.99     71589\n",
            "         macro avg       1.00      0.96      0.97     71589\n",
            "      weighted avg       0.99      0.99      0.99     71589\n",
            "       samples avg       0.99      0.99      0.99     71589\n",
            "\n",
            "Train_Accuracy: 0.9941645247806895\n",
            "Train_Precision: 0.9941026230931067\n",
            "Train_Recall: 0.9941645247806895\n",
            "Train_f1-score: 0.9935843461624453\n",
            "                    precision    recall  f1-score   support\n",
            "\n",
            "               DoS       0.98      0.65      0.78      4663\n",
            "           Probing       1.00      1.00      1.00       274\n",
            "  MaliciousControl       1.00      1.00      1.00       733\n",
            "MaliciousOperation       1.00      1.00      1.00       636\n",
            "              Scan       1.00      1.00      1.00      1244\n",
            "            Spying       1.00      1.00      1.00       420\n",
            "        WrongSetup       1.00      1.00      1.00        89\n",
            "            Normal       0.99      1.00      1.00    278293\n",
            "\n",
            "         micro avg       0.99      0.99      0.99    286352\n",
            "         macro avg       1.00      0.96      0.97    286352\n",
            "      weighted avg       0.99      0.99      0.99    286352\n",
            "       samples avg       0.99      0.99      0.99    286352\n",
            "\n"
          ],
          "name": "stdout"
        }
      ]
    }
  ]
}