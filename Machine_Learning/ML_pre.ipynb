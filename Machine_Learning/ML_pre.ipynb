{
  "nbformat": 4,
  "nbformat_minor": 0,
  "metadata": {
    "kernelspec": {
      "display_name": "Python 3",
      "language": "python",
      "name": "python3"
    },
    "language_info": {
      "codemirror_mode": {
        "name": "ipython",
        "version": 3
      },
      "file_extension": ".py",
      "mimetype": "text/x-python",
      "name": "python",
      "nbconvert_exporter": "python",
      "pygments_lexer": "ipython3",
      "version": "3.6.4"
    },
    "colab": {
      "name": "ML_pre.ipynb",
      "provenance": [],
      "collapsed_sections": []
    }
  },
  "cells": [
    {
      "cell_type": "code",
      "metadata": {
        "id": "4FDjw6UZK40D",
        "colab": {
          "base_uri": "https://localhost:8080/"
        },
        "outputId": "0aa08fad-ea4f-4a3d-b645-1a4b81992bdb"
      },
      "source": [
        "!pip install scikit-plot"
      ],
      "execution_count": null,
      "outputs": [
        {
          "output_type": "stream",
          "text": [
            "Collecting scikit-plot\n",
            "  Downloading https://files.pythonhosted.org/packages/7c/47/32520e259340c140a4ad27c1b97050dd3254fdc517b1d59974d47037510e/scikit_plot-0.3.7-py3-none-any.whl\n",
            "Requirement already satisfied: scipy>=0.9 in /usr/local/lib/python3.6/dist-packages (from scikit-plot) (1.4.1)\n",
            "Requirement already satisfied: joblib>=0.10 in /usr/local/lib/python3.6/dist-packages (from scikit-plot) (0.17.0)\n",
            "Requirement already satisfied: scikit-learn>=0.18 in /usr/local/lib/python3.6/dist-packages (from scikit-plot) (0.22.2.post1)\n",
            "Requirement already satisfied: matplotlib>=1.4.0 in /usr/local/lib/python3.6/dist-packages (from scikit-plot) (3.2.2)\n",
            "Requirement already satisfied: numpy>=1.13.3 in /usr/local/lib/python3.6/dist-packages (from scipy>=0.9->scikit-plot) (1.18.5)\n",
            "Requirement already satisfied: python-dateutil>=2.1 in /usr/local/lib/python3.6/dist-packages (from matplotlib>=1.4.0->scikit-plot) (2.8.1)\n",
            "Requirement already satisfied: kiwisolver>=1.0.1 in /usr/local/lib/python3.6/dist-packages (from matplotlib>=1.4.0->scikit-plot) (1.3.1)\n",
            "Requirement already satisfied: pyparsing!=2.0.4,!=2.1.2,!=2.1.6,>=2.0.1 in /usr/local/lib/python3.6/dist-packages (from matplotlib>=1.4.0->scikit-plot) (2.4.7)\n",
            "Requirement already satisfied: cycler>=0.10 in /usr/local/lib/python3.6/dist-packages (from matplotlib>=1.4.0->scikit-plot) (0.10.0)\n",
            "Requirement already satisfied: six>=1.5 in /usr/local/lib/python3.6/dist-packages (from python-dateutil>=2.1->matplotlib>=1.4.0->scikit-plot) (1.15.0)\n",
            "Installing collected packages: scikit-plot\n",
            "Successfully installed scikit-plot-0.3.7\n"
          ],
          "name": "stdout"
        }
      ]
    },
    {
      "cell_type": "code",
      "metadata": {
        "id": "vIrd8fe_iX0K"
      },
      "source": [
        "# Load libraries\n",
        "import pandas as pd\n",
        "import numpy as np\n",
        "from sklearn.tree import DecisionTreeClassifier # Import Decision Tree Classifier\n",
        "from sklearn.ensemble import RandomForestClassifier\n",
        "from sklearn import svm\n",
        "from sklearn.model_selection import train_test_split # Import train_test_split function\n",
        "from sklearn import metrics #Import scikit-learn metrics module for accuracy calculation\n",
        "from sklearn import preprocessing\n",
        "from sklearn.metrics import classification_report, roc_auc_score, roc_curve, auc\n",
        "from sklearn.metrics import plot_confusion_matrix\n",
        "from sklearn.pipeline import Pipeline\n",
        "from sklearn.model_selection import learning_curve\n",
        "from sklearn.model_selection import cross_val_score\n",
        "import matplotlib.pyplot as plt\n",
        "import scikitplot as skplt\n",
        "from sklearn.preprocessing import StandardScaler\n",
        "from sklearn.preprocessing import label_binarize\n",
        "from sklearn.multiclass import OneVsRestClassifier\n",
        "from sklearn.metrics import roc_curve, auc\n",
        "from scipy import interp\n",
        "from itertools import cycle"
      ],
      "execution_count": null,
      "outputs": []
    },
    {
      "cell_type": "code",
      "metadata": {
        "id": "jZiyemdtLsxe",
        "colab": {
          "base_uri": "https://localhost:8080/"
        },
        "outputId": "72ea21bd-2a81-48e4-93c6-678907376faf"
      },
      "source": [
        "from google.colab import drive\n",
        "drive.mount('/content/drive')"
      ],
      "execution_count": null,
      "outputs": [
        {
          "output_type": "stream",
          "text": [
            "Mounted at /content/drive\n"
          ],
          "name": "stdout"
        }
      ]
    },
    {
      "cell_type": "code",
      "metadata": {
        "id": "XveDLziHK40S",
        "colab": {
          "base_uri": "https://localhost:8080/"
        },
        "outputId": "e0fba407-35c2-4f63-8172-75a60ee12436"
      },
      "source": [
        " # Name for the column  or Features Map\n",
        "columns_to_named = [\"frameNumber\", \"frameTime\", \"frameLen\", \"ethSrc\", \"ethDst\",\n",
        "       \"ipSrc\", \"ipDst\", \"ipProto\", \"ipLen\", \"tcpLen\", \"tcpSrcport\",\n",
        "       \"tcpDstport\", \"Value\", \"normality\"]\n",
        "    \n",
        "    # Read the Dataset and Rename the Column\n",
        "df = pd.read_csv(\"/content/drive/My Drive/Code/dataset/Preprocessed_data.csv\",header=0,names=columns_to_named)\n",
        "\n",
        "col_norm = ['frameNumber', 'frameTime', 'frameLen', 'ethSrc', 'ethDst',\n",
        "       'ipSrc', 'ipDst', 'ipProto', 'ipLen', 'tcpLen', 'tcpSrcport',\n",
        "       'tcpDstport', 'Value']\n",
        "    \n",
        "X_Data = df[col_norm]\n",
        "y = df[\"normality\"]\n",
        "#normalize\n",
        "sc = StandardScaler()\n",
        "X = sc.fit_transform(X_Data)\n",
        "\n",
        "y = label_binarize(y, classes=[0, 1, 2, 3, 4, 5])\n",
        "n_classes = y.shape[1]\n",
        "print(n_classes)\n",
        "\n",
        "df.shape\n",
        "X_train, X_test, y_train, y_test = train_test_split(X,y, test_size=0.2,random_state=1)\n"
      ],
      "execution_count": null,
      "outputs": [
        {
          "output_type": "stream",
          "text": [
            "6\n"
          ],
          "name": "stdout"
        }
      ]
    },
    {
      "cell_type": "code",
      "metadata": {
        "id": "hgiiAioi_4_M"
      },
      "source": [
        "target_names = ['Normal', 'WrongSetup', 'DDoS', 'Probing', 'Scan', 'MITM']"
      ],
      "execution_count": null,
      "outputs": []
    },
    {
      "cell_type": "code",
      "metadata": {
        "id": "3t6ABz5tK40p"
      },
      "source": [
        "#decision tree with 5 fold cv\n",
        "from sklearn import tree\n",
        "pipe_tree = Pipeline([('clf', OneVsRestClassifier(tree.DecisionTreeClassifier(max_depth=3)))])\n",
        "train_sizes_tree, train_scores_tree, test_scores_tree = learning_curve(estimator=pipe_tree,X=X, y=y, train_sizes=np.linspace(0.2,1.0,5), cv=5, n_jobs=-1)\n",
        "train_mean_tree = np.mean(train_scores_tree, axis=1)\n",
        "train_std_tree = np.std(train_scores_tree, axis=1)\n",
        "test_mean_tree = np.mean(test_scores_tree, axis=1)\n",
        "test_std_tree = np.std(test_scores_tree, axis=1)"
      ],
      "execution_count": null,
      "outputs": []
    },
    {
      "cell_type": "code",
      "metadata": {
        "id": "3yzFMuNZSVh5",
        "colab": {
          "base_uri": "https://localhost:8080/"
        },
        "outputId": "d8e93a72-022a-4fdc-dc05-6ebce93607f7"
      },
      "source": [
        "for i in train_mean_tree:\n",
        "    print(i)"
      ],
      "execution_count": null,
      "outputs": [
        {
          "output_type": "stream",
          "text": [
            "0.9980101586636645\n",
            "0.9962978478295019\n",
            "0.9980520500602188\n",
            "0.9964994501754202\n",
            "0.99742577368173\n"
          ],
          "name": "stdout"
        }
      ]
    },
    {
      "cell_type": "code",
      "metadata": {
        "id": "NG6MrjJlSWWO",
        "colab": {
          "base_uri": "https://localhost:8080/"
        },
        "outputId": "814120ed-8ddb-4f64-f399-832bf829d8b3"
      },
      "source": [
        "for i in test_mean_tree:\n",
        "    print(i)"
      ],
      "execution_count": null,
      "outputs": [
        {
          "output_type": "stream",
          "text": [
            "0.8878253250727196\n",
            "0.7879918433740235\n",
            "0.8279918388113595\n",
            "0.7264787747272349\n",
            "0.8597874389799504\n"
          ],
          "name": "stdout"
        }
      ]
    },
    {
      "cell_type": "code",
      "metadata": {
        "id": "V80u0DcNA3Zb",
        "colab": {
          "base_uri": "https://localhost:8080/"
        },
        "outputId": "2108fc8a-6998-4d39-a0cd-a23964448d10"
      },
      "source": [
        "#dt training\n",
        "pipe_tree = pipe_tree.fit(X_train, y_train)\n",
        "y_pred_test = pipe_tree.predict(X_test)\n",
        "y_pred_train=pipe_tree.predict(X_train)\n",
        "# print dt_test_scores of accuracy,precision,recall,f1-score\n",
        "print(\"Test_Accuracy:\",metrics.accuracy_score(y_test, y_pred_test))\n",
        "print(\"Test_Precision:\",metrics.precision_score(y_test, y_pred_test, average='weighted'))\n",
        "print(\"Test_Recall:\",metrics.recall_score(y_test, y_pred_test, average='weighted'))\n",
        "print(\"Test_f1-score:\",metrics.f1_score(y_test, y_pred_test, average='weighted'))\n",
        "print(classification_report(y_test, y_pred_test, target_names=target_names))\n",
        "\n",
        "# print dt_train_scores of accuracy,precision,recall,f1-score\n",
        "print(\"Train_Accuracy:\",metrics.accuracy_score(y_train, y_pred_train))\n",
        "print(\"Train_Precision:\",metrics.precision_score(y_train, y_pred_train, average='weighted'))\n",
        "print(\"Train_Recall:\",metrics.recall_score(y_train, y_pred_train, average='weighted'))\n",
        "print(\"Train_f1-score:\",metrics.f1_score(y_train, y_pred_train, average='weighted'))\n",
        "#dt classification report\n",
        "print(classification_report(y_train, y_pred_train, target_names=target_names))\n",
        "\n"
      ],
      "execution_count": null,
      "outputs": [
        {
          "output_type": "stream",
          "text": [
            "Test_Accuracy: 0.9981882160735606\n",
            "Test_Precision: 1.0\n",
            "Test_Recall: 0.9981882160735606\n",
            "Test_f1-score: 0.9990914543139499\n",
            "              precision    recall  f1-score   support\n",
            "\n",
            "      Normal       1.00      1.00      1.00     15770\n",
            "  WrongSetup       1.00      1.00      1.00     16498\n",
            "        DDoS       1.00      1.00      1.00     15841\n",
            "     Probing       1.00      0.99      1.00     15947\n",
            "        Scan       1.00      1.00      1.00     15851\n",
            "        MITM       1.00      1.00      1.00     15579\n",
            "\n",
            "   micro avg       1.00      1.00      1.00     95486\n",
            "   macro avg       1.00      1.00      1.00     95486\n",
            "weighted avg       1.00      1.00      1.00     95486\n",
            " samples avg       1.00      1.00      1.00     95486\n",
            "\n"
          ],
          "name": "stdout"
        },
        {
          "output_type": "stream",
          "text": [
            "/usr/local/lib/python3.6/dist-packages/sklearn/metrics/_classification.py:1272: UndefinedMetricWarning: Precision and F-score are ill-defined and being set to 0.0 in samples with no predicted labels. Use `zero_division` parameter to control this behavior.\n",
            "  _warn_prf(average, modifier, msg_start, len(result))\n"
          ],
          "name": "stderr"
        },
        {
          "output_type": "stream",
          "text": [
            "Train_Accuracy: 0.9979447033565482\n",
            "Train_Precision: 1.0\n",
            "Train_Recall: 0.9979447033565482\n",
            "Train_f1-score: 0.9989688901481217\n",
            "              precision    recall  f1-score   support\n",
            "\n",
            "      Normal       1.00      1.00      1.00     63265\n",
            "  WrongSetup       1.00      1.00      1.00     65787\n",
            "        DDoS       1.00      1.00      1.00     63179\n",
            "     Probing       1.00      0.99      1.00     63055\n",
            "        Scan       1.00      1.00      1.00     63201\n",
            "        MITM       1.00      1.00      1.00     63453\n",
            "\n",
            "   micro avg       1.00      1.00      1.00    381940\n",
            "   macro avg       1.00      1.00      1.00    381940\n",
            "weighted avg       1.00      1.00      1.00    381940\n",
            " samples avg       1.00      1.00      1.00    381940\n",
            "\n"
          ],
          "name": "stdout"
        }
      ]
    },
    {
      "cell_type": "code",
      "metadata": {
        "id": "d8C3Bx9BK41S"
      },
      "source": [
        "#random forest\n",
        "from sklearn.ensemble import RandomForestClassifier\n",
        "pipe_rnd = Pipeline([('clf', OneVsRestClassifier(RandomForestClassifier(max_depth=3, n_estimators=100)))])\n",
        "train_sizes_rnd, train_scores_rnd, test_scores_rnd = learning_curve(estimator=pipe_rnd,X=X, y=y, train_sizes=np.linspace(0.2,1.0,5), cv=5, n_jobs=-1)\n",
        "train_mean_rnd = np.mean(train_scores_rnd, axis=1)\n",
        "train_std_rnd = np.std(train_scores_rnd, axis=1)\n",
        "test_mean_rnd = np.mean(test_scores_rnd, axis=1)\n",
        "test_std_rnd = np.std(test_scores_rnd, axis=1) "
      ],
      "execution_count": null,
      "outputs": []
    },
    {
      "cell_type": "code",
      "metadata": {
        "id": "FoBpfDDDgee0",
        "colab": {
          "base_uri": "https://localhost:8080/"
        },
        "outputId": "4291b9ca-1cba-44d4-e11e-fdd3d11a70ad"
      },
      "source": [
        "for i in train_mean_tree:\n",
        "    print(i)"
      ],
      "execution_count": null,
      "outputs": [
        {
          "output_type": "stream",
          "text": [
            "0.9980101586636645\n",
            "0.9962978478295019\n",
            "0.9980520500602188\n",
            "0.9964994501754202\n",
            "0.99742577368173\n"
          ],
          "name": "stdout"
        }
      ]
    },
    {
      "cell_type": "code",
      "metadata": {
        "id": "oW6gmTR7gfUD",
        "colab": {
          "base_uri": "https://localhost:8080/"
        },
        "outputId": "84ecf4ac-88df-4993-a1a2-79eb01b69b69"
      },
      "source": [
        "for i in test_mean_tree:\n",
        "    print(i)"
      ],
      "execution_count": null,
      "outputs": [
        {
          "output_type": "stream",
          "text": [
            "0.8878253250727196\n",
            "0.7879918433740235\n",
            "0.8279918388113595\n",
            "0.7264787747272349\n",
            "0.8597874389799504\n"
          ],
          "name": "stdout"
        }
      ]
    },
    {
      "cell_type": "code",
      "metadata": {
        "id": "Z1B82xenJIbR",
        "colab": {
          "base_uri": "https://localhost:8080/"
        },
        "outputId": "49440961-325d-4225-ae40-f4c894d6df0b"
      },
      "source": [
        "#rf training\n",
        "pipe_rnd = pipe_rnd.fit(X_train, y_train)\n",
        "y_pred_test = pipe_rnd.predict(X_test)\n",
        "y_pred_train=pipe_rnd.predict(X_train)\n",
        "# print rf_test_scores of accuracy,precision,recall,f1-score\n",
        "print(\"Test_Accuracy:\",metrics.accuracy_score(y_test, y_pred_test))\n",
        "print(\"Test_Precision:\",metrics.precision_score(y_test, y_pred_test, average='weighted'))\n",
        "print(\"Test_Recall:\",metrics.recall_score(y_test, y_pred_test, average='weighted'))\n",
        "print(\"Test_f1-score:\",metrics.f1_score(y_test, y_pred_test, average='weighted'))\n",
        "print(classification_report(y_test, y_pred_test, target_names=target_names))\n",
        "\n",
        "\n",
        "# print rf_train_scores of accuracy,precision,recall,f1-score\n",
        "print(\"Train_Accuracy:\",metrics.accuracy_score(y_train, y_pred_train))\n",
        "print(\"Train_Precision:\",metrics.precision_score(y_train, y_pred_train, average='weighted'))\n",
        "print(\"Train_Recall:\",metrics.recall_score(y_train, y_pred_train, average='weighted'))\n",
        "print(\"Train_f1-score:\",metrics.f1_score(y_train, y_pred_train, average='weighted'))\n",
        "print(classification_report(y_train, y_pred_train, target_names=target_names))\n",
        "\n",
        "\n"
      ],
      "execution_count": null,
      "outputs": [
        {
          "output_type": "stream",
          "text": [
            "Test_Accuracy: 0.9980625432000503\n",
            "Test_Precision: 0.999540439638634\n",
            "Test_Recall: 0.9985128709967953\n",
            "Test_f1-score: 0.9990246582421971\n",
            "              precision    recall  f1-score   support\n",
            "\n",
            "      Normal       1.00      1.00      1.00     15770\n",
            "  WrongSetup       1.00      1.00      1.00     16498\n",
            "        DDoS       1.00      1.00      1.00     15841\n",
            "     Probing       1.00      1.00      1.00     15947\n",
            "        Scan       1.00      1.00      1.00     15851\n",
            "        MITM       1.00      1.00      1.00     15579\n",
            "\n",
            "   micro avg       1.00      1.00      1.00     95486\n",
            "   macro avg       1.00      1.00      1.00     95486\n",
            "weighted avg       1.00      1.00      1.00     95486\n",
            " samples avg       1.00      1.00      1.00     95486\n",
            "\n"
          ],
          "name": "stdout"
        },
        {
          "output_type": "stream",
          "text": [
            "/usr/local/lib/python3.6/dist-packages/sklearn/metrics/_classification.py:1272: UndefinedMetricWarning: Precision and F-score are ill-defined and being set to 0.0 in samples with no predicted labels. Use `zero_division` parameter to control this behavior.\n",
            "  _warn_prf(average, modifier, msg_start, len(result))\n"
          ],
          "name": "stderr"
        },
        {
          "output_type": "stream",
          "text": [
            "Train_Accuracy: 0.9978216473791695\n",
            "Train_Precision: 0.9995247597393623\n",
            "Train_Recall: 0.9982850709535529\n",
            "Train_f1-score: 0.9989023352796718\n",
            "              precision    recall  f1-score   support\n",
            "\n",
            "      Normal       1.00      1.00      1.00     63265\n",
            "  WrongSetup       1.00      1.00      1.00     65787\n",
            "        DDoS       1.00      1.00      1.00     63179\n",
            "     Probing       1.00      0.99      1.00     63055\n",
            "        Scan       1.00      1.00      1.00     63201\n",
            "        MITM       1.00      1.00      1.00     63453\n",
            "\n",
            "   micro avg       1.00      1.00      1.00    381940\n",
            "   macro avg       1.00      1.00      1.00    381940\n",
            "weighted avg       1.00      1.00      1.00    381940\n",
            " samples avg       1.00      1.00      1.00    381940\n",
            "\n"
          ],
          "name": "stdout"
        }
      ]
    },
    {
      "cell_type": "code",
      "metadata": {
        "id": "kMzXWC5eCL7x",
        "colab": {
          "base_uri": "https://localhost:8080/"
        },
        "outputId": "5be4cc60-aab7-4ba4-b840-f0ddc9ea972d"
      },
      "source": [
        "# svm\n",
        "from sklearn.svm import SVC\n",
        "pipe_svc = Pipeline([('clf', OneVsRestClassifier(SVC(C=1000)))])\n",
        "train_sizes_svc, train_scores_svc, test_scores_svc = learning_curve(estimator=pipe_svc,X=X, y=y, train_sizes=np.linspace(0.2,1.0,5), cv=5, n_jobs=-1)\n",
        "train_mean_svc = np.mean(train_scores_svc, axis=1)\n",
        "train_std_svc = np.std(train_scores_svc, axis=1)\n",
        "test_mean_svc = np.mean(test_scores_svc, axis=1)\n",
        "test_std_svc = np.std(test_scores_svc, axis=1)\n"
      ],
      "execution_count": null,
      "outputs": [
        {
          "output_type": "stream",
          "text": [
            "/usr/local/lib/python3.6/dist-packages/joblib/externals/loky/process_executor.py:691: UserWarning: A worker stopped while some jobs were given to the executor. This can be caused by a too short worker timeout or by a memory leak.\n",
            "  \"timeout or by a memory leak.\", UserWarning\n"
          ],
          "name": "stderr"
        }
      ]
    },
    {
      "cell_type": "code",
      "metadata": {
        "id": "TAlFmQ3nhQky",
        "colab": {
          "base_uri": "https://localhost:8080/"
        },
        "outputId": "6e5b3396-7d46-466a-ceef-178287527227"
      },
      "source": [
        "for i in train_mean_svc:\n",
        "\n",
        "    print(i)"
      ],
      "execution_count": null,
      "outputs": [
        {
          "output_type": "stream",
          "text": [
            "0.9979813583285333\n",
            "0.9987196941928052\n",
            "0.9981358328533277\n",
            "0.9983308896685343\n",
            "0.9986102529193067\n"
          ],
          "name": "stdout"
        }
      ]
    },
    {
      "cell_type": "code",
      "metadata": {
        "id": "0uuSwqFyhRxc",
        "colab": {
          "base_uri": "https://localhost:8080/"
        },
        "outputId": "3384e268-234a-4177-ee6f-8cd24c185318"
      },
      "source": [
        "for i in test_mean_svc:\n",
        "    print(i)"
      ],
      "execution_count": null,
      "outputs": [
        {
          "output_type": "stream",
          "text": [
            "0.8594590621075193\n",
            "0.9104634836128982\n",
            "0.8479077108132428\n",
            "0.8817434017691494\n",
            "0.8273432344229221\n"
          ],
          "name": "stdout"
        }
      ]
    },
    {
      "cell_type": "code",
      "metadata": {
        "id": "epu1cGk0CPyM",
        "colab": {
          "base_uri": "https://localhost:8080/"
        },
        "outputId": "e8102b50-6270-46fd-8b42-6e14c71dcc68"
      },
      "source": [
        "#svm training\n",
        "pipe_svc = pipe_svc.fit(X_train, y_train)\n",
        "y_pred_test = pipe_svc.predict(X_test)\n",
        "y_pred_train=pipe_svc.predict(X_train)\n",
        "# print svc_test_scores of accuracy,precision,recall,f1-score\n",
        "print(\"Test_Accuracy:\",metrics.accuracy_score(y_test, y_pred_test))\n",
        "print(\"Test_Precision:\",metrics.precision_score(y_test, y_pred_test, average='weighted'))\n",
        "print(\"Test_Recall:\",metrics.recall_score(y_test, y_pred_test, average='weighted'))\n",
        "print(\"Test_f1-score:\",metrics.f1_score(y_test, y_pred_test, average='weighted'))\n",
        "print(classification_report(y_test, y_pred_test, target_names=target_names))\n",
        "\n",
        "\n",
        "# print svc_train_scores of accuracy,precision,recall,f1-score\n",
        "print(\"Train_Accuracy:\",metrics.accuracy_score(y_train, y_pred_train))\n",
        "print(\"Train_Precision:\",metrics.precision_score(y_train, y_pred_train, average='weighted'))\n",
        "print(\"Train_Recall:\",metrics.recall_score(y_train, y_pred_train, average='weighted'))\n",
        "print(\"Train_f1-score:\",metrics.f1_score(y_train, y_pred_train, average='weighted'))\n",
        "print(classification_report(y_train, y_pred_train, target_names=target_names))\n",
        "\n",
        "\n"
      ],
      "execution_count": null,
      "outputs": [
        {
          "output_type": "stream",
          "text": [
            "Test_Accuracy: 0.998439561820581\n",
            "Test_Precision: 0.9984629203138901\n",
            "Test_Recall: 0.999329744674612\n",
            "Test_f1-score: 0.9988924645107707\n",
            "              precision    recall  f1-score   support\n",
            "\n",
            "      Normal       1.00      1.00      1.00     15770\n",
            "  WrongSetup       0.99      1.00      1.00     16498\n",
            "        DDoS       1.00      1.00      1.00     15841\n",
            "     Probing       1.00      1.00      1.00     15947\n",
            "        Scan       1.00      1.00      1.00     15851\n",
            "        MITM       1.00      1.00      1.00     15579\n",
            "\n",
            "   micro avg       1.00      1.00      1.00     95486\n",
            "   macro avg       1.00      1.00      1.00     95486\n",
            "weighted avg       1.00      1.00      1.00     95486\n",
            " samples avg       1.00      1.00      1.00     95486\n",
            "\n"
          ],
          "name": "stdout"
        },
        {
          "output_type": "stream",
          "text": [
            "/usr/local/lib/python3.6/dist-packages/sklearn/metrics/_classification.py:1272: UndefinedMetricWarning: Precision and F-score are ill-defined and being set to 0.0 in samples with no predicted labels. Use `zero_division` parameter to control this behavior.\n",
            "  _warn_prf(average, modifier, msg_start, len(result))\n"
          ],
          "name": "stderr"
        },
        {
          "output_type": "stream",
          "text": [
            "Train_Accuracy: 0.9982484159815678\n",
            "Train_Precision: 0.9982707665089718\n",
            "Train_Recall: 0.9992354820128816\n",
            "Train_f1-score: 0.9987480127033858\n",
            "              precision    recall  f1-score   support\n",
            "\n",
            "      Normal       1.00      1.00      1.00     63265\n",
            "  WrongSetup       0.99      1.00      1.00     65787\n",
            "        DDoS       1.00      1.00      1.00     63179\n",
            "     Probing       1.00      1.00      1.00     63055\n",
            "        Scan       1.00      1.00      1.00     63201\n",
            "        MITM       1.00      1.00      1.00     63453\n",
            "\n",
            "   micro avg       1.00      1.00      1.00    381940\n",
            "   macro avg       1.00      1.00      1.00    381940\n",
            "weighted avg       1.00      1.00      1.00    381940\n",
            " samples avg       1.00      1.00      1.00    381940\n",
            "\n"
          ],
          "name": "stdout"
        }
      ]
    }
  ]
}