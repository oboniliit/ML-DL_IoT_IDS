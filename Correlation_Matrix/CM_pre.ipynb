{
  "nbformat": 4,
  "nbformat_minor": 0,
  "metadata": {
    "colab": {
      "name": "CM_pre.ipynb",
      "provenance": [],
      "collapsed_sections": []
    },
    "kernelspec": {
      "name": "python3",
      "display_name": "Python 3"
    }
  },
  "cells": [
    {
      "cell_type": "code",
      "metadata": {
        "id": "XPHQysOyN9u5"
      },
      "source": [
        "from mpl_toolkits.mplot3d import Axes3D\n",
        "from sklearn.preprocessing import StandardScaler\n",
        "import matplotlib.pyplot as plt # plotting\n",
        "import numpy as np # linear algebra\n",
        "import os # accessing directory structure\n",
        "import pandas as pd "
      ],
      "execution_count": null,
      "outputs": []
    },
    {
      "cell_type": "code",
      "metadata": {
        "id": "Zp45ihANOze5",
        "colab": {
          "base_uri": "https://localhost:8080/"
        },
        "outputId": "871f8378-c879-4ecf-f876-5c426a0eff90"
      },
      "source": [
        "nRowsRead = 1000 # specify 'None' if want to read whole file\n",
        "# Preprossed_data.csv may have more rows in reality, but we are only loading/previewing the first 1000 rows\n",
        "df1 = pd.read_csv('/content/drive/MyDrive/Preprocessed_data.csv', delimiter=',', nrows = nRowsRead)\n",
        "df1.dataframeName = 'Preprocessed_data.csv'\n",
        "nRow, nCol = df1.shape\n",
        "print(f'There are {nRow} rows and {nCol} columns')"
      ],
      "execution_count": null,
      "outputs": [
        {
          "output_type": "stream",
          "text": [
            "There are 1000 rows and 14 columns\n"
          ],
          "name": "stdout"
        }
      ]
    },
    {
      "cell_type": "code",
      "metadata": {
        "id": "KJxjDBxlO__1",
        "colab": {
          "base_uri": "https://localhost:8080/",
          "height": 224
        },
        "outputId": "3abdb28d-2546-4566-face-f02bba1576dd"
      },
      "source": [
        "df1.head()"
      ],
      "execution_count": null,
      "outputs": [
        {
          "output_type": "execute_result",
          "data": {
            "text/html": [
              "<div>\n",
              "<style scoped>\n",
              "    .dataframe tbody tr th:only-of-type {\n",
              "        vertical-align: middle;\n",
              "    }\n",
              "\n",
              "    .dataframe tbody tr th {\n",
              "        vertical-align: top;\n",
              "    }\n",
              "\n",
              "    .dataframe thead th {\n",
              "        text-align: right;\n",
              "    }\n",
              "</style>\n",
              "<table border=\"1\" class=\"dataframe\">\n",
              "  <thead>\n",
              "    <tr style=\"text-align: right;\">\n",
              "      <th></th>\n",
              "      <th>frame.number</th>\n",
              "      <th>frame.time</th>\n",
              "      <th>frame.len</th>\n",
              "      <th>eth.src</th>\n",
              "      <th>eth.dst</th>\n",
              "      <th>ip.src</th>\n",
              "      <th>ip.dst</th>\n",
              "      <th>ip.proto</th>\n",
              "      <th>ip.len</th>\n",
              "      <th>tcp.len</th>\n",
              "      <th>tcp.srcport</th>\n",
              "      <th>tcp.dstport</th>\n",
              "      <th>Value</th>\n",
              "      <th>normality</th>\n",
              "    </tr>\n",
              "  </thead>\n",
              "  <tbody>\n",
              "    <tr>\n",
              "      <th>0</th>\n",
              "      <td>1</td>\n",
              "      <td>1.237230e+14</td>\n",
              "      <td>54</td>\n",
              "      <td>8.797200e+13</td>\n",
              "      <td>1.672760e+14</td>\n",
              "      <td>192168035</td>\n",
              "      <td>1921680121</td>\n",
              "      <td>6</td>\n",
              "      <td>40</td>\n",
              "      <td>0</td>\n",
              "      <td>49279</td>\n",
              "      <td>80</td>\n",
              "      <td>-99</td>\n",
              "      <td>0</td>\n",
              "    </tr>\n",
              "    <tr>\n",
              "      <th>1</th>\n",
              "      <td>2</td>\n",
              "      <td>1.237230e+14</td>\n",
              "      <td>62</td>\n",
              "      <td>8.797200e+13</td>\n",
              "      <td>1.672760e+14</td>\n",
              "      <td>192168035</td>\n",
              "      <td>1921680121</td>\n",
              "      <td>6</td>\n",
              "      <td>48</td>\n",
              "      <td>0</td>\n",
              "      <td>56521</td>\n",
              "      <td>80</td>\n",
              "      <td>-99</td>\n",
              "      <td>0</td>\n",
              "    </tr>\n",
              "    <tr>\n",
              "      <th>2</th>\n",
              "      <td>3</td>\n",
              "      <td>1.237230e+14</td>\n",
              "      <td>62</td>\n",
              "      <td>1.672760e+14</td>\n",
              "      <td>8.797200e+13</td>\n",
              "      <td>1921680121</td>\n",
              "      <td>192168035</td>\n",
              "      <td>6</td>\n",
              "      <td>48</td>\n",
              "      <td>0</td>\n",
              "      <td>80</td>\n",
              "      <td>56521</td>\n",
              "      <td>-99</td>\n",
              "      <td>0</td>\n",
              "    </tr>\n",
              "    <tr>\n",
              "      <th>3</th>\n",
              "      <td>4</td>\n",
              "      <td>1.237230e+14</td>\n",
              "      <td>54</td>\n",
              "      <td>1.672760e+14</td>\n",
              "      <td>8.797200e+13</td>\n",
              "      <td>1921680121</td>\n",
              "      <td>192168035</td>\n",
              "      <td>6</td>\n",
              "      <td>40</td>\n",
              "      <td>0</td>\n",
              "      <td>80</td>\n",
              "      <td>49279</td>\n",
              "      <td>-99</td>\n",
              "      <td>0</td>\n",
              "    </tr>\n",
              "    <tr>\n",
              "      <th>4</th>\n",
              "      <td>5</td>\n",
              "      <td>1.237230e+14</td>\n",
              "      <td>54</td>\n",
              "      <td>8.797200e+13</td>\n",
              "      <td>1.672760e+14</td>\n",
              "      <td>192168035</td>\n",
              "      <td>1921680121</td>\n",
              "      <td>6</td>\n",
              "      <td>40</td>\n",
              "      <td>0</td>\n",
              "      <td>56521</td>\n",
              "      <td>80</td>\n",
              "      <td>-99</td>\n",
              "      <td>0</td>\n",
              "    </tr>\n",
              "  </tbody>\n",
              "</table>\n",
              "</div>"
            ],
            "text/plain": [
              "   frame.number    frame.time  frame.len  ...  tcp.dstport  Value  normality\n",
              "0             1  1.237230e+14         54  ...           80    -99          0\n",
              "1             2  1.237230e+14         62  ...           80    -99          0\n",
              "2             3  1.237230e+14         62  ...        56521    -99          0\n",
              "3             4  1.237230e+14         54  ...        49279    -99          0\n",
              "4             5  1.237230e+14         54  ...           80    -99          0\n",
              "\n",
              "[5 rows x 14 columns]"
            ]
          },
          "metadata": {
            "tags": []
          },
          "execution_count": 5
        }
      ]
    },
    {
      "cell_type": "code",
      "metadata": {
        "id": "UINmJecwR_DZ",
        "colab": {
          "base_uri": "https://localhost:8080/",
          "height": 657
        },
        "outputId": "f46a6875-72c6-4457-bae0-5ab11fe069d3"
      },
      "source": [
        "import seaborn as sns\n",
        "#get correlations of each features in dataset\n",
        "corrmat = df1.corr()\n",
        "top_corr_features = corrmat.index\n",
        "plt.figure(figsize=(15,10))\n",
        "#plot heat map\n",
        "g=sns.heatmap(corrmat, cmap =\"YlGnBu\", vmax=1.0, center=0, vmin= -1.0,\n",
        "            square=True, linewidths = 0.0) \n",
        "# g=sns.heatmap(df[top_corr_features].corr(),cmap=\"RdYlGn\")\n",
        "plt.savefig('CM_Pre.pdf')\n",
        "plt.savefig(\"CM_pre.svg\")\n",
        "plt.savefig(\"CM_pre.png\")"
      ],
      "execution_count": null,
      "outputs": [
        {
          "output_type": "display_data",
          "data": {
            "image/png": "[encoded data removed]",
            "text/plain": [
              "<Figure size 1080x720 with 2 Axes>"
            ]
          },
          "metadata": {
            "tags": [],
            "needs_background": "light"
          }
        }
      ]
    },
    {
      "cell_type": "code",
      "metadata": {
        "id": "BtMX4AJ9PYt4",
        "colab": {
          "base_uri": "https://localhost:8080/"
        },
        "outputId": "e4de6e47-9954-47fd-97df-7d67ffb176d2"
      },
      "source": [
        "from google.colab import drive\n",
        "drive.mount('/content/drive')"
      ],
      "execution_count": null,
      "outputs": [
        {
          "output_type": "stream",
          "text": [
            "Mounted at /content/drive\n"
          ],
          "name": "stdout"
        }
      ]
    }
  ]
}